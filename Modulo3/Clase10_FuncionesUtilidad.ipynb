{
 "cells": [
  {
   "cell_type": "markdown",
   "metadata": {},
   "source": [
    "# Funciones de utilidad y aversión al riesgo\n",
    "\n",
    "Antes de comenzar la clase, por favor entrar [este enlace](http://cursos.iteso.mx/course/view.php?id=1480)\n",
    "\n",
    "<img style=\"float: right; margin: 0px 0px 15px 15px;\" src=\"https://upload.wikimedia.org/wikipedia/commons/6/62/Risk_down_arrow.png\" width=\"400px\" height=\"400px\" />\n",
    "\n",
    "En el módulo anterior aprendimos \n",
    "- qué es un portafolio, cómo medir su rendimiento esperado y su volatilidad; \n",
    "- un portafolio de activos riesgosos tiene menos riesgo que la suma ponderada de los riesgos individuales,\n",
    "- y que esto se logra mediante el concepto de diversificación;\n",
    "- la diversificación elimina el riesgo idiosincrático, que es el que afecta a cada compañía en particular,\n",
    "- sin embargo, el riesgo de mercado no se puede eliminar porque afecta a todos por igual.\n",
    "- Finalmente, aprendimos conceptos importantes como frontera de mínima varianza, portafolios eficientes y el portafolio de mínima varianza, que son claves en el problema de selección óptima de portafolios.\n",
    "\n",
    "Muy bien, sin embargo, para plantear el problema de selección óptima de portafolios necesitamos definir la función que vamos a optimizar: función de utilidad.\n",
    "\n",
    "**Objetivos:**\n",
    "- ¿Cómo tomamos decisiones según los economistas?\n",
    "- ¿Cómo toman decisiones los inversionistas?\n",
    "- ¿Qué son las funciones de utilidad?\n",
    "\n",
    "*Referencia:*\n",
    "- Notas del curso \"Portfolio Selection and Risk Management\", Rice University, disponible en Coursera.\n",
    "___"
   ]
  },
  {
   "cell_type": "markdown",
   "metadata": {},
   "source": [
    "## 1. Introducción\n",
    "\n",
    "La teoría económica comienza con una suposición muy importante: \n",
    "- **cada individuo actúa para obtener el mayor beneficio posible con los recursos disponibles**.\n",
    "- En otras palabras, **maximizan su propia utilidad**"
   ]
  },
  {
   "cell_type": "markdown",
   "metadata": {},
   "source": [
    "¿Qué es utilidad?\n",
    "- Es un concepto relacionado con la felicidad, pero más amplio.\n",
    "- Por ejemplo, yo obtengo utilidad de lavar mis dientes o comer sano. Ninguna de las dos me brindan felicidad, pero lo primero mantendrá mis dientes sanos y en el largo plazo, lo segundo probablemente contribuirá a una buena vejez."
   ]
  },
  {
   "cell_type": "markdown",
   "metadata": {},
   "source": [
    "Los economistas no se preocupan en realidad por lo que nos da utilidad, sino simplemente que cada uno de nosotros tiene sus propias preferencias.\n",
    "- Por ejemplo, a mi me gusta el café, el fútbol, los perros, la academia, viajar, entre otros.\n",
    "- Ustedes tienen sus propias preferencias también."
   ]
  },
  {
   "cell_type": "markdown",
   "metadata": {},
   "source": [
    "La vida es compleja y con demasiada incertidumbre. Debemos tomar decisiones a cada momento, y estas decisiones involucran ciertos \"trade-off\".\n",
    "- Por ejemplo, normalmente tenemos una compensación entre utilidad hoy contra utilidad en el futuro.\n",
    "- Debemos balancear nuestro consumo hoy contra nuestro consumo luego.\n",
    "- Por ejemplo, ustedes gastan cerca de cuatro horas a la semana viniendo a clases de portafolios, porque esperan que esto contribuya a mejorar su nivel de vida en el futuro."
   ]
  },
  {
   "cell_type": "markdown",
   "metadata": {},
   "source": [
    "De manera que los economistas dicen que cada individuo se comporta como el siguiente optimizador:\n",
    "\n",
    "\\begin{align}\n",
    "\\max & \\quad\\text{Utilidad}\\\\\n",
    "\\text{s. a.} & \\quad\\text{Recursos disponibles}\n",
    "\\end{align}\n",
    "\n",
    "¿Qué tiene que ver todo esto con el curso?\n",
    "- En este módulo desarrollaremos herramientas para describir las preferencias de los inversionistas cuando se encuentran con decisiones de riesgo y rendimiento.\n",
    "- Veremos como podemos medir la actitud frente al riesgo, ¿cuánto te gusta o disgusta el riesgo?\n",
    "- Finalmente, veremos como podemos formular el problema de maximizar la utilidad de un inversionista para tomar la decisión de inversión óptima.\n",
    "___"
   ]
  },
  {
   "cell_type": "markdown",
   "metadata": {},
   "source": [
    "## 2. Funciones de utilidad.\n",
    "\n",
    "¿Cómo tomamos decisiones?\n",
    "Por ejemplo:\n",
    "- Ustedes tienen que decidir si venir a clase o quedarse en su casa viendo Netflix, o ir al gimnasio.\n",
    "- Tienen que decidir entre irse de fiesta cada fin, o ahorrar para salir de vacaciones."
   ]
  },
  {
   "cell_type": "markdown",
   "metadata": {},
   "source": [
    "En el caso de un portafolio, la decisión que se debe tomar es **¿cuáto riesgo estás dispuesto a tomar por qué cantidad de rendimiento?**\n",
    "\n",
    "**¿Cómo evaluarías el \"trade-off\" entre tener cetes contra una estrategia muy riesgosa con un posible altísimo rendimiento?**"
   ]
  },
  {
   "cell_type": "markdown",
   "metadata": {},
   "source": [
    "De manera que veremos como tomamos decisiones cuando tenemos distintas posibilidades. Específicamente, hablaremos acerca de las **preferencias**, como los economistas usan dichas preferencias para explicar las decisiones y los \"trade-offs\" en dichas decisiones.\n",
    "\n",
    "Usamos las **preferencias** para describir las decisiones que tomamos. Las preferencias nos dicen cómo un individuo evalúa los \"trade-offs\" entre distintas elecciones."
   ]
  },
  {
   "cell_type": "markdown",
   "metadata": {},
   "source": [
    "Por definición, las preferencias son únicas para cada individuo. En el problema de selección de portafolios:\n",
    "- las preferencias que dictan cuánto riesgo estás dispuesto a asumir por cuánto rendimiento, son específicas para cada uno de ustedes.\n",
    "- Sus respuestas a esa pregunta pueden ser muy distintas, porque tenemos distintas preferencias.\n",
    "\n",
    "Ahora, nosotros no podemos *cuantificar* dichas preferencias.\n",
    "- Por esto usamos el concepto de utilidad, para medir qué tan satisfecho está un individuo con sus elecciones.\n",
    "- Así que podemos pensar en la utilidad como un indicador numérico que describe las preferencias,\n",
    "- o un índice que nos ayuda a clasificar diferentes decisiones.\n",
    "- En términos simples, **la utilidad nos ayuda a transmitir a números la noción de cómo te sientes**;\n",
    "- mientras más utilidad, mejor te sientes."
   ]
  },
  {
   "cell_type": "markdown",
   "metadata": {},
   "source": [
    "**Función de utilidad**: manera sistemática de asignar una medida o indicador numérico para clasificar diferentes escogencias.\n",
    "\n",
    "El número que da una función de utilidad no tiene significado alguno. Simplemente es una manera de clasificar diferentes decisiones."
   ]
  },
  {
   "cell_type": "markdown",
   "metadata": {},
   "source": [
    "**Ejemplo.**\n",
    "\n",
    "Podemos escribir la utilidad de un inversionista como función de la riqueza,\n",
    "\n",
    "$$U(W).$$\n",
    "\n",
    "- $U(W)$ nos da una medida de qué tan satisfechos estamos con el nivel de riqueza que tenemos. \n",
    "- $U(W)$ no es la riqueza como tal, sino que la función de utilidad traduce la cantidad de riqueza en un índice numérico subjetivo."
   ]
  },
  {
   "cell_type": "markdown",
   "metadata": {},
   "source": [
    "¿Cómo luciría gráficamente una función de utilidad de riqueza $U(W)$?\n",
    "\n",
    "<font color=blue> Ver en el tablero </font>\n",
    "- ¿Qué caracteristicas debe tener?\n",
    "- ¿Cómo es su primera derivada?\n",
    "- ¿Cómo es su segunda derivada?\n",
    "- Tiempos buenos: riqueza alta (¿cómo es la primera derivada acá?)\n",
    "- Tiempos malos: poca riqueza (¿cómo es la primera derivada acá?)"
   ]
  },
  {
   "cell_type": "code",
<<<<<<< Updated upstream
   "execution_count": 1,
=======
   "execution_count": 3,
>>>>>>> Stashed changes
   "metadata": {},
   "outputs": [],
   "source": [
    "from matplotlib import pyplot as plt\n",
    "%matplotlib inline\n",
    "import numpy as np"
   ]
  },
  {
   "cell_type": "code",
<<<<<<< Updated upstream
   "execution_count": 2,
   "metadata": {},
   "outputs": [],
   "source": [
    "W = np.linspace(0, 1.5, 100)\n",
    "U1 = W\n",
    "U2 = W**2\n",
    "U3 = W**0.5"
=======
   "execution_count": 4,
   "metadata": {},
   "outputs": [],
   "source": [
    "W= np.linspace (0,1.5,100)\n",
    "U1= W \n",
    "U2=W**2\n",
    "U3=W**0.5"
>>>>>>> Stashed changes
   ]
  },
  {
   "cell_type": "code",
<<<<<<< Updated upstream
   "execution_count": 13,
=======
   "execution_count": 11,
>>>>>>> Stashed changes
   "metadata": {},
   "outputs": [
    {
     "data": {
      "text/plain": [
<<<<<<< Updated upstream
       "Text(0, 0.5, 'Utility ($U$)')"
      ]
     },
     "execution_count": 13,
=======
       "Text(0, 0.5, 'Wealth ($U$)')"
      ]
     },
     "execution_count": 11,
>>>>>>> Stashed changes
     "metadata": {},
     "output_type": "execute_result"
    },
    {
     "data": {
<<<<<<< Updated upstream
      "image/png": "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\n",
=======
      "image/png": "iVBORw0KGgoAAAANSUhEUgAAAYUAAAEJCAYAAAB7UTvrAAAABHNCSVQICAgIfAhkiAAAAAlwSFlzAAALEgAACxIB0t1+/AAAADh0RVh0U29mdHdhcmUAbWF0cGxvdGxpYiB2ZXJzaW9uMy4xLjEsIGh0dHA6Ly9tYXRwbG90bGliLm9yZy8QZhcZAAAgAElEQVR4nOzdd3hUVf7H8fdND+mNdEiAEFLovQlIERAhIAgKKuDafrjurq6rrru6q66ra1tdXVF3CUWaCCiCjRaF0AOhJoSSSe+9T2bm/P64kKWEkIRMSTiv55kHZubO3E8SmG/uOfd+jyKEQJIkSZIArMwdQJIkSbIcsihIkiRJDWRRkCRJkhrIoiBJkiQ1kEVBkiRJamBj7gC3wtvbW4SEhLTqtVVVVTg5ObVtoDYmM946S88Hlp/R0vOB5We0tHwJCQmFQgifRp8UQrTb28CBA0Vr7d69u9WvNRWZ8dZZej4hLD+jpecTwvIzWlo+4Ii4weeqHD6SJEmSGsiiIEmSJDWQRUGSJElq0K4nmhtTX19PZmYmtbW1TW7n5uZGUlKSiVK1TnvO6ODgQFBQELa2tmZIJUlSa3W4opCZmYmLiwshISEoinLD7SoqKnBxcTFhspZrrxmFEBQVFZGZmUloaKiZkkmS1BodbviotrYWLy+vJguCZFyKouDl5XXTozVJkixPhysKgCwIFkD+DCSpfeqQRUGSJKlDi3sLck4Y5a073JyCJElSh5a4BuLeAH0d+Pdp87eXRwqSJEntRe5J2Po7CBkNY/9olF3IomAkzz33HO+8807DfSEE7u7uVFdXN7p9TU0NY8aMQa/X4+7u3vB4YmIiiqKQkpICQGVlJYGBgZSXl3PHHXeg0+landFgMDRrX5WVla3ehyRJbaS2DL58CBw9YPYysDbOQI8sCkZy6tQp+vT536FdamoqPj4+dOrUqdHtly1bxqxZs7C2tm7oQQLw6aefEhAQQHl5OQBr1qxh+vTpuLq6Mn78eNavX9/qjFZWVs3al7Ozc6v3IUlSGxACvv4/KE2HOcvBubPRdiWLgpGcPHnyqqJw4sSJq+5fa/Xq1cyYMQMAJycnqqurqaysZM+ePcycOZOKigoAPv/8c5544gkAYmJiWL169S3lbO6+JEkyo/h/QvJWmPgadBlm1F116Inmv357mjPZ5Y0+p9frsba2bvF7Rga48so9UU1uU1JSglarxc/Pr+GxpoqCVqvl4sWLXG4D7urqSkVFBRs2bGDu3LlotVrKy8s5duwYtra29O3bF4Do6GgOHz583fuNHj264YP9Su+88w4TJky46rHL+9qyZUuT+5IkyUwuxsHOVyFqFgx70ui769BFwVyuPUoAtSjMnz+fixcv8re//Y2ysjK++uorAAoLC68a27/8Qb1q1Sq2bNnCqlWrqKio4NNPP+Xxxx9v2M7a2ho7O7vrrires2dPs7Ne3teyZcvYvHnzDfclSZIZlGbAV4vBOxym/wtMcP1Phy4KTf1Gb8wWEmfPnqV79+4N9w0GA/Hx8SxduhRvb2/++9//Mnv27IbnHR0dr7r619XVlV27dhEYGIi/vz8uLi7k5OTwww8/8P7771+1r7q6OhwcHK56rKVHCrt27SIoKOim+5IkyYR0derEsk4Lc78Ae9PM7XXoomAuXbt25ZNPPqG2thYHBwfeeOMN7rjjDry9vRvd3sPDA71e37C9q6sr7733Hm+//TYALi4uvP/++8ycORNHR8eG1xUVFeHj43Nd07mWHim89957fPzxx03uS5IkE/vuOcg+qhYE7x4m262caDaCSZMmMW7cOHr16kV4eDjnzp1j6dKlN33N3r17AbXzqMFgYOzYsYD6QX3u3LnrhnN2797N1KlTbynr5X2NHz++yX1JkmRCCcvh6AoY/SxE3GPafd9oSbb2cGtsOc4zZ840azm68vLyZm3X1goLC8Xjjz8uunXrJt54442Gx48ePSoWLFhw1bY3yzhz5kyRnJxslJzN1VTG5v4sjMnSlkFsjKVntPR8Qlh+xhblyzgixKveQqyMEUKvM0oemliOUw4fmZiXl1ejRw39+/dn3LhxzT4rSqvVEhMTQ3h4uDFiSpJkDpUF8OWD4OIH9/4XrFp+huStkkXBgixevLjZ29rZ2fHQQw8ZMY0kSSalr4cND0N1MTzyI3TyNEsMWRQkSZIswU9/grR4mPUf8Dff9UFyolmSJMncEtfCwaUwbAn0mWPWKLIoSJIkmVP2Mdj6W7Xz6cRXzZ1GFgVJkiSzqcyHdfPByUdtdGekzqctYf4EkiRJtyOdFr68YmLZqfGLW01NFgVJkiRz+PFFSN+nnnpqxonla5lk+EhRlGBFUXYripKkKMppRVF+08g2iqIoHyqKcl5RlBOKogwwRTZJkiSTS1gBh/8DI56G3rNvvr0JmWpOQQc8K4SIAIYBSxRFibxmmylA2KXbY8AnJsom3cTXX3/No48+yowZM/jpp5/MHUeS2re0/bDtWeg+Hib8xdxprmOSoiCEyBFCHL309wogCQi8ZrMZwMpLV2EfANwVRfE3RT5j6EjLcU6YMIHPP/+c5cuX39JKb5J02yvNUK9Ydu8Cs81zxfLNmHxOQVGUEKA/cPCapwKBjCvuZ156LOea1z+GeiSBr68vcXFxV72Jm5tbo22jr6XX65u1XWslJiayZMmShn2kpqbi5eV1w/1+9tlnTJ06lerqaoQQlJeXYzAY+Oijj/D39ycnJwd/f39iY2OZMmUKiqIwatQoli9fzty5c1ud8/K+FEW54b6EEFRUVPDyyy+zcOHCq/I39X2sra297udjapWVlWbPcDOWntHS84HlZ6ysrOSXnT/S/9gLONZWcTTyL1QfPG7uWI27UVMkY9wAZyABmNXIc9uAUVfc3wkMbOr9LLkhXmBgoMjJyWm4v3nzZjFr1qwbbj98+HCRmpoqhBDC399fVFZWiuzsbBEVFSWWLFkidu3aJYQQYtCgQSIxMVEIIURiYqKYMmXKLeW8vK+Kioob7stgMIg//OEPYvv27de9XjbEu3WWntHS8wlh+Rl379olxJcLhXjFTYjk780dxzIa4imKYgtsBFYLITY1skkmEHzF/SAg2xTZ2lpHW47zww8/ZMeOHZSVlXH+/Hm5brMktVDXtA2g2aTOIYRPNnecJpmkKCiKogD/BZKEEO/dYLMtwFOKoqwDhgJlQoicG2zbPN+/ALknG33KUa9r3YUifr1hyptNbtLUcpyNsfTlOJ9++mmefvrpZr+nJElXSPqWUM1q6DMXRv7W3GluylRHCiOBB4GTiqIkXnrsj0AXACHEUuA7YCpwHqgGFpkoW5trajnOr7/+mm3btpGfn8+SJUuYNGmSXI5Tkjqq3FOw6XHKXcJwvedDk6yxfKtMUhSEEHuBJr8bl8a5lrTpjpv4jb7GiGs0N7UcZ0xMDDExMZSUlPD73/+eSZMmyeU4JakjqiyAtfPAwZVT0S8ywtbh5q+xALL3kRE0ZznO119/nSVLllz1GrkcpyR1ELo6WL8Aqgph3hq09l7mTtRsss2Fkbz77ru8++671z0uhOCFF15gypQpDBjwv4u2n3rqKd577z0mTJhAbGwsQMMQ0IwZMy6fkXWVNWvW8Pe///2Wcl7e12U32pckSc0kBHz7W8g4ALNjIXAAnIszd6pmk0XBxP71r381eiaPXI5TkjqI+A/g+BoY+yJEzzJ3mhaTRcHEmjqTRy7HKUntXNJW2PEXiJoJY543d5pWkXMKkiRJbSHnOGx6VB0uivmkXZxp1BhZFCRJkm5VeQ6smQeOnjBvLdi23zP35PCRJEnSrdBWwbr7obZMXSzHxdfciW6JLAqSJEmtZTDApsfUoaN5a9SOB+2cLAqSJEmttfMvkLwV7vo7hE8xd5o2IecUJEmSWiNhhXr66aBHYNiT5k7TZmRRkCRJaqkLu2Dr76D7nTDlH+32TKPGyKIgSZLUEnln4MuHwacXzFnRum7LFqxjfTVSm1Ba+VuPbI8hdXgVebDmPvWU0wfWg4OruRO1OXmkIF3lwoULJCYmNns1vfLy8itXz5OkjktbBWvnQnWRWhDcg2/+mnZIFgXpKomJiQ0ru0mSdIlBD189op56OnsZBPQ3dyKjkcNH0lXkb/ySdA0h4PvnIeV7mPpOhzn19EbkkYKRPPfcc7zzzjsN94UQuLu7U11d3ej2NTU1jBkzBr1ef9XSnImJiSiKQkpKCgCVlZUEBgZSXl7OHXfcgU6na7PMJSUleHmpfd8NBkOzclRWVrbZ/iXJIu3/CA5/DsOfgiGPmjuN0cmiYCSnTp26ap3m1NRUfHx86NSpU6PbL1u2jFmzZmFtbX3VGP2nn35KQEAA5eXlgLqGwvTp03F1dWX8+PGsX7++zTLv2bOHkSNHAmBlZdWsHM7Ozm22f0myOKc2wU9/gsgZMPE1c6cxCVkUjOTkyZNXFYUTJ05cdf9aq1evZsaMGQA4OTlRXV1NZWUle/bsYebMmQ0L7nz++ecNazDExMSwevXqVmesrKzk5ZdfbrhfX1+PnZ1dw/3m5pCkDkkTD5sfhy7DYeZnYHV7fFzKOQUjKCkpQavV4ufn1/BYU0VBq9Vy8eJFQkJCAHXd5IqKCjZs2MDcuXPRarWUl5dz7NgxbG1tGyaCo6OjOXz48HXvN3r06IYP7yu98847TJgwoeG+o6Mjjo6OpKSkEBoaelVBuDLHli1bbpijsf1IUrtXcFZtcufeVe1p1E7WV24LHboovHXoLZKLkxt9rrkrnF2rl2cvnh/S9OIZ1x4lgFoU5s+f3+j2hYWFV43fX/4wXrVqFVu2bGHVqlVUVFTw6aefXrV2srW1NXZ2dlRUVODi4tLw+J49e5r1tVhbWxMTE8M333zDoEGDGoaOrs2xbNkyNm/efMMcktShVOTCF7PB2h4WfAWdPM2dyKRuj+MhEzt79izdu3dvuG8wGIiPj2f06NEkJSXxxBNPMHv2bD755BNA/Y29tra2YXtXV1d27dpFYGAg/v7+uLi4kJOTww8//MB999131b7q6upwcLj6t5jRo0fTr1+/6247duy4LmtERARJSUkUFxfj6Xn1P/7LOYKCgm6aQ5I6hNpyWD1bvRZh/pfgEWLuRCbXoY8UmvqN/trfrttS165d+eSTT6itrcXBwYE33niDO+64A29vb7y9vVm6dCkGg4FHH1XPZPDw8ECv1zds7+rqynvvvcfbb78NgIuLC++//z4zZ87E0fF/i3cUFRXh4+ODra3tVftv7pHCZT4+PtTV1V33+OUcH3/8cZM5JKlD0GnhywchPwnuX9+hr0VoijxSMIJJkyYxbtw4evXqRXh4OOfOnWPp0qUNz2/ZsoVRo0Yxfvz4q16zd+9eANzc3DAYDIwdOxZQP4zPnTt33ZDN7t27mTp16i3nnTNnDsOGDbvu8cs5Lue8UQ5JavcMBtjyFFyMg+n/grAJN31Jh9XcdgaWeBs4cKC41pkzZ657rDHl5eXN2s6Ypk6d2vD3o0ePigULFlz1/M0yzpw5UyQnJxslW3M1lbG5Pwtj2r17t7kj3JSlZ7T0fEK0QcYfXxLiFVchfv5Hm+S5lqV9D4Ej4gafqx16+MgSxcXFsWnTJurq6q76Lb9///6MGzeu2RPgWq2WmJgYwsPDjRlXkjq+ff9Sb4MfhdG/N3cas5NFwcTGjh3bMCx0rcWLFzf7fezs7HjooYfaKJUk3aaOr//fxWlT3upQ6yK0lpxTkCTp9nRuB3zzfxAy+tLFaS0/Rb0jkkVBkqTbT+YR9UyjzhEwb/VtdXHazciiIEnS7aXgrHotgnNnmL8RHNzMnciiyKIgSdLtoywTVs0CK1t4cDO4+Jo7kcXpkBPNQohWLykptQ0h12WQLE1VEayaCXXlsHAbeHYzdyKL1OGOFBwcHCgqKpIfSmYkhKCoqOi69huSZDZ1FbD6XihNV5fS9L9xx+LbXYc7UggKCiIzM5OCgoImt7vcUsKSteeMDg4OBAUFmSGRJF1DVwfrHoCcE2rH064jzJ3IonW4omBra0toaOhNt4uLi6N/f8vubSIzStIt0uvgq8WQ+gvM/BTCJ5s7kcUzyfCRoijLFEXJVxTl1A2eH6soSpmiKImXbi83tp0kSVKzXe5nlLwVpvwD+s4zd6J2wVRHCsuBj4CVTWyzRwgxzTRxJEnq0ISAH16A42th3EswVDZxbC6THCkIIX4Bik2xL0mSJHa/AYc+hWFL4I7nzJ2mTWkKq/jrt6fZmZRnlPdXTHWWjqIoIcBWIUR0I8+NBTYCmUA28HshxOkbvM9jwGMAvr6+A9etW9eqPJWVlRa/6LzMeOssPR9YfkZLzwdXZwxO30T3iyvI8ZvA2fCnLKKf0a1+D4UQnCky8FNaPScK9FgpMDPMlmnd7G7+4kaMGzcuQQgx6IY7M8UNCAFO3eA5V8D50t+nAuea856Ntc5uLktrZdsYmfHWWXo+ISw/o6XnE+KKjIf+o7bA/nKhEHqdWTNdqbXfw+o6nVh9IE1MfC9OdH1+qxj42k/i3Z/OiryymlvKg6W3zhZClF/x9+8URfm3oijeQohCc+aSJKkdOb4etj0LPSfDrPbd4C6rtIZV+9NYdzid0up6ogJceWdOX6b18cfB1rhfl0UUBUVR/IA8IYRQFGUI6lxHkZljSZLUTvjkx8PP70DoaJizHKxtb/oaSyOE4EhaCbHxqfx4Og8hBHdF+bFoZCiDQzxM1qXBJEVBUZS1wFjAW1GUTOAVwBZACLEUmA08qSiKDqgB5l06xJEkSWpayo9EJL0LQYNh3lqwbV/rh9fp9Hx7PIfl+1I5lVWOq4MNvxoVyoPDuxLk0cnkeUxSFIQQ99/k+Y9QT1mVJElqvotxsP5BqpxCcJm/Aewte0L8SvkVtXxxIJ01B9MorNQS1tmZv82MZmb/QDrZmW8QxyKGjyRJklpMEw9r5oFXd46HvciodtIC+0RmKbHxGraeyKZeL7izV2cWjQxhVA9vi2jkKYuCJEntT8YhWHMfuAfDQ1vQHWn0DHaLoTMItp7IJjZeQ0JaCc72Nswf2pWHR4QQ6u1k7nhXaXFRUBTFCagVQuiNkEeSJKlp2cfgi3vVRXIe2gLOPuZOdEMlVVrWHk7nP7/UUFx7jK5enXh5WiRzBgXh4mCZk+E3LQqKolgB84D5wGCgDrBXFKUA+A74TAhxzqgpJUmSAHKOw8oYcHSHh78FV39zJ2pUcm45y+M1bD6WRZ3OQJSXFW/PHci48M5YWZl/iKgpzTlS2A3sAF5EvfjMAKAoiicwDnhTUZTNQogvjBdTkqTbXu5JWDkD7F3g4a3gZlmt2fUGwc6kPGLjNey/WISDrRWzBgSxaGQI2UkJjI1oH6u8Naco3C2EqLz2QSFEMWprio2KoljmcZAkSR1D3hm1INh2goe3gEdXcydqUF5bz5eHM1i5P4304moC3Bx4fnIv5g0OxsNJbUORnWTmkC3QnKKQoShKPnDiitueS0UBACFEvZHySZJ0u8tPghX3gLWdOmRkIctoXiyoZMU+DV8lZFKl1TOoqwfPT+7FXVG+2Fi330Utb1oUhBAeiqKEAn0u3RYAnyiK8jPwhBCizMgZJUm6XeUnqwXBykYdMvLqbtY4Qgh+OVdIbHwqcWcLsLO2YlpffxaNCKV3UPs4JfZmmnX2kRAiFUgFvgFQ1JNpXwL+CSwyWjpJkm5f+cmwYhoo1rBwK3j3MFuUqjodm45lsTw+lQsFVXg72/PbCWHMH9oVHxd7s+UyhlZdp3CpBcXriqK0o5EySZLajctDRorVpYIQZpYYGcXVrNyvYd3hDCpqdfQJcuO9+/oyrU8Adjbtd4ioKc05JfUZLs0lCCHyr3jcHrDsVeUlSWp/8k7DiunqkJEZCoIQgoOpxcTGp7L9TB6KojA52o/FI0MY0MV0jenMpTlHCn7ABKD3pbOMTgAXUK9Z2GjEbJIk3W5yT8HK6ZcmlU07ZFRbr2fLcfWq46Scctw72fL4mO48OKwrAe7tq8nerWjORPMfLv9dURR3oDcQDmwSQmw3YjZJkm4n2YmwKgZsHNUjBBNNKueV1/LFgTTWHEynqEpLT19n/j6rNzH9AnG0a79rMrRWc4aPlMttrIUQpcCeS7dGt5EkSWqxrARYNRPsXdXrEExw2umx9BJi4zV8dzIHvRCM7+XLopEhjOju1eGHiJrSrCuaFUXZCHwjhEi//KCiKHbAKOBh1KuelxsloSRJHVvGIbWXkaO7OmRkxAvT6vUGvjuZQ2y8hsSMUlzsbXhoeAgPj+hKVy/LakxnLs0pCpOBxcDaS9crlAKOqKuj/QS8L4RINF5ESZI6LM1eWDMXnHzUISMjta4oqqxjzcF0vjiYRl55HaHeTvx1ehT3DgzC2V42i75Sc+YUaoF/A/++NNHsDdRcGkqSJElqnfM7Yd38hvbXxmhudya7nNj4VL45no1WZ2B0mDdvzurDmJ4+Ft+YzlxaVCIvtbPIMVIWSZJuF2d/gC8fBO+e8ODXbdr+Wm8QbD+TS2y8hoOpxTjaWjNnoNqYrkdnlzbbjzlU11dzrvQc50rO0d29O/0792/zfcjjJkmSTOvUJtj0KPhGw4OboZNnm7xtWXU964+ks2JfGlmlNQS6O/LHqb2YO6gLbp3aV89OvUFPekU6KSUpnCs51/BnZmVmwzYLIhbIoiBJUjt37AvY8msIHgoPrIc2WELzfH4lK0/X8eTOndTU6xka6smfp0UyMdIX63YwRFRaW0pKScpVtwulF6jV1wJgpVjR1bUrkV6RxPSIoadHT8I8wghwDjBKHlkUJEkyjYOfwffPQbdxMG812LX+bB+DQfDzuQJi4zX8klKAjRXM7B/EwpEhRAVYZmM6nUGHpkxDSkkKZ0vOqgWgOIX8moZGEXg6eBLmEcZ94fcR5hFGmEcY3d2642BjuuYRzS4Kl9pa3AuEXPk6IcSrbR9LkqQOQwjY8y7seg3C74bZy8C2dR9ylXU6NiZksmKfhouFVXR2sefZiT3pqstk+l192zh465XVlakf/sVnSS5O5mjOUZ5d/SxagxYAGysburl1Y6j/UHp69FRvnj3xdvQ2c/KWHSl8A5QBCahLckqSJDVNCNjxCsR/AL3vg5h/g3XLx/fTi6pZvk/DhiMZVNTp6Bvszgfz+jEl2h87Gyvi4rKMEP7mDMJAZkUmycXJJBcnNxwF5FblNmzj6eBJZ6vOPBDxQEMB6ObWDdtWfB9MoSVFIUgIMdloSSRJ6lgMetj2LCTEwqBHYOo7YNX8zqJCCPZfKGJZvIadyXlYKwpTe/uzaGQI/bt4GDF442p1tZwvPX91ASg+S7WuGgBrxZpQt1AGdB5AuGc44R7hhHuG4+3oTVxcHGMHjTV55tZoSVHYpyhKbyHESaOlkSSpY9BpYfNjcHozjPodjH8Fmtk6orZez9fHsli+T0NybgWeTnYsGduDBcO64udmmrH10tpSkoqTOFt8tuHP1PJUDOoS9TjbOtPToyczesygl2cvwj3DTT72byzN6X10EhCXtl2kKMpF1OEjBXVphT7GjShJUruirYL1C+DCLpj4Gox8ulkvyymrYdX+NNYeSqekup4If1f+MbsP0/sG4GBrnMZ0Qgiyq7JJLkq+qgjkVec1bOPn5Ee4RzgTuk5oKABBzkEdtj9Sc44Uphk9hSRJHUN1May5T21wN+Nj6L+gyc2FEBxNL2FZvIYfTuUihGBipC+LRoYyNNSzTT949QY9aeVpJBUnkVSURHKxWgjKteWAeupniGsIA30HEuEZQS+vXoR7hOPhYPqhKnNqTpuLNABFUd4SQjx/5XOKorwFPN/oCyVJur2UZcEXs6A4Fe5bCRH33HBTrc7AtpPZLI/XcDyzDFcHGx4ZFcqDw7oS7NnplqPU6+u5UHaBpKIkzhSdIak4iZSSFGp0NQDYWdnR06Mnk0ImqQXAsxdhHmE42tw+6ybcSEvmFCZyfQGY0shjkiTdbgrOwqpZUFcOCzZC6OjGN6v4X2O6goo6uvs48VpMNLP6B+LUysZ0dfo60urS+PLslw0F4FzJOeoN9QA42ToR7hHOvWH30suzF708e9HNvRu2VpZ59o+5NWdO4Ung/4DuiqKcQJ1LAHAB4o2YTZKk9iDjsDpkZGUDC7eB//XTjKeyylgWn8rW4zlo9QbGhvuwcEQId4S1rDFdra6WlJIUzhSdabhdKL2ATuggF1ztXIn0imRB5AIiPCOI9Iok2CUYK6VjrqdsDM0pzauB74C/Ay9waYIZqBBClBgxmyRJli7lR/jyYXDxgwc3XbU4jk5v4KczecTGp3JYU0InO2vmDQnm4REhdPdxvulb1+nrOFt89qoCcL70PHqhB8Dd3p1Ir0hGB41G5AjmjJlDgFNAh50ANpXmFIUs1CKgcPWk8+UF11yNkkySJMt2dBV8+xvw6w3zN4BzZwBKq7WsO5zBqv1qY7pgT0f+dHcE9w0OxtWh8SGben09KaUpnC48zZmiM5wuOs35kvPqEQDgYe9BpFckdwTdQZRXFJFekfg5+TUUgLi4OAKdA03zdXdwzZlobt+9ZiVJaltCwC/vwO7Xofud6qSyvQspeRUs36dh09FMausNDO/mxSv3RDI+4urGdDqDjotlFzldeJrTRac5XXiasyVnG+YA3OzdiPKKYlH0IiK9IonyirqqAEjG1aKZHUVRPIAwoOEKDSHEL20dSpIkC6XXwXfPQsJy6DMXwz3/Yvf5UmLjz7D3fCH2NlbE9Atk4cgQIvxdEUKQUZHBqcJTnCo6xanCUyQXJzecBeRs66zOAUQsIMo7iiivKAKdA2UBMKOWNMT7FfAbIAhIBIYB+4E7jRNNkiSLoq2CrxZDyg/UDf8tqzs9zIp/7iOtqBo/VweeuyucSX06kVl1lu05cfzzlHokUFZXBoC9tT29PHsxK2wWUV5RRHtH09W1q5wEtjAtOVL4DTAYOCCEGKcoSi/gr815oaIoy1DnI/KFENGNPK8AHwBTgWpgoRDiaAuySZJkTBV5sHYuIuc424J/zwv7hlCpTaRX1zLm9CtHZ5PG10UnWbpVbQRnrVgT5hHGhC4TiPaOprd3b7q7d8fGSubo9+YAACAASURBVHbrt3Qt+QnVCiFqFUVBURR7IUSyoijhzXztcuAjYOUNnp+COiwVBgwFPrn0pyRJZuZYmU7V0iWk1pfwR8cZnKtKxb37fqxEFlkYyMqGQOdA+vv0Jzoimt4+venl2UteCNZOtaQoZCqK4g58DWxXFKUEyG7OC4UQvyiKEtLEJjOAlUIIARxQFMVdURR/IYRcD1qSzKCguoAjuYn8cGQjJcVxJHnbUGvlBSTgYetKn8696e19N729e9Pbu/dt1wqiI1PUz+EWvkhRxgBuwA9CCG0zXxMCbL3B8NFW4E0hxN5L93cCzwshjjSy7WPAYwC+vr4D161b1+L8AJWVlTg73/xcaXOSGW+dpecD82esF/VkajPR1GnQ1Gm4UKuhzFAMgI0QhGrBzm4gfb2i6O4Qgo+Nj8VNBJv7e3gzlpZv3LhxCUKIQY0916oBPiHEz7cW6TqN/QtrtFoJIT4DPgMYNGiQGDt2bKt2GBcXR2tfayoy462z9Hxg+oy5VbkcLzhOYn4iJwpPkFSU1HA6qD1eVJUHMrKuE0/VHyHAYyBnuy1h9KQb9zGyBJb+c7b0fFdqydlHCjAf6CaEeFVRlC6AnxDiUBvkyASCr7gfRDOHpiRJurF6fT1JxUkk5idyvOA4xwuON7SFtre2J8IzksGeM0hJ80CT7YODjQtfea0gqnIf9FsA097nzN59Zv4qJFNqyZHCvwED6imorwIVwEbUM5Ju1RbgKUVR1qFOMJfJ+QRJarni2mIS8xNJLEjkeP5xThedpk6vrp4b4BTAgM4D6Nu5L12cIjiQbM/6Q9kUVmoJ6+zM25NcmJnyPNaZh+DOP8PoZ5u9MI7UcbSkKAwVQgxQFOUYgBCiRFEUu+a8UFGUtcBYwFtRlEzgFcD20vssRe2tNBU4j3pK6qIW5JKk25JBGNCUaTiWf4xj+cdILEgkrTwNUBeGj/SMZG74XPr69KWvT198nXw5kVlKbLyGv5zIRmcQ3BnemUUjQxnpmo+ydi5UFsCcFRAVY+avTjKXlhSFekVRrLk01q8oig/qkcNNCSHuv8nzAljSgiySdNvR6rWcLjrN0byjDUXg8oVhHvYe9O3cl1lhs+jn048o7yjsre0BqNcb+OFULrHx8RxNL8XZ3ob5Q7uycEQIId5OkPIT/Hcx2HWCRdsgcKA5v0zJzFpSFD4ENgO+iqL8DZgN/MkoqSRJolxbTmJ+YkMROFV4Cq1BPdkvxDWEO4PvpH/n/vTr3I8Q15DrzggqrtKy9lA6q/ankVteS1evTrw8LZI5g4JwcbBVexjt+wi2/xl8o+H+deAmm8rd7pqznsJvUddNWA8kAONRzxaKEUIkGTeeJN0+8qvzOZp3lIS8BI7mH+VcyTkEAhvFhgivCO7vdT/9ffvTv3N/PB08b/g+ybnlxO7V8HViFnU6AyN7ePF6TDTjenX+X2M6XR1sewaOfQER02HmUrBzMtFXKlmy5hwpBKG2oOgFnAD2oRaJvKZeJEnSjQkhyKzMJCEvgW2F2/jHpn+QUZEBgKONI/18+jGx30QG+g4k2jv6plcH6w2CnUl5xMZr2H+xCAdbK2YNCGLRyBB6+l7T6LgyH9YvgIyDcMdzMPaPYCX7D0mq5rTO/j3ApUnlQcAIYDHwuaIopUKISONGlKT2TwhBankqR3KPcCTvCAl5CeRX5wPgZOXE0MChzA2fy0DfgfTy7NXsHkHltfV8eTiDFfs1ZBTXEODmwAtTejFvcDDunRo5DyQ7EdY9ANXFMDsWome14VcpdQQtmVNwBFxRr2R2Q72O4KQxQklSeyeE4ELpBY7kHeFw7mGO5B2huFa9Stjb0ZtBvoMY5DuIgb4DSU9M585xLWs2fLGgkhX7NHyVkEmVVs/gEA9enBLBpEhfbKxv8Fv/ya/gm6egkxc88iP4973VL1PqgJozp/AZEIV6XcJB1OGj9+RSnJL0P5eLwOG8wxzOPUxCXkJDEfBz8mNEwAi1EPgNootLl6smhTOVzGbv45dzhcTGpxJ3tgA7ayum9fVn0YhQege53fiFBj3s+Avs+xC6jID7VjSskiZJ12rOkUIXwB44h7o0ZyZQasxQkmTphBBoyjUczj3ModxDHM49fFURGBU4qqEIBDkH3VKvoKo6HZuOZrJ8n4YLBVV4O9vz2wlhzB/aFR8X+6ZfXF0MG38FF3bC4F/BXX8Hm2ZdXiTdppozpzD5UouLKNT5hGeBaEVRioH9QohXjJxRkixCTmUOB3MPcjDnIIdyDpFfo84JdO7UmREBIxjiN6RNisBlGcXVrNyvYd3hDCpqdfQJcuP9uX25u3cAdjbNmBjOPQnr5kNFDtzzAQxceMuZpI6vWXMKly4uO6UoSilQduk2DRiCenWyJHU4JbUlDUXgYM7BhrODPB08GeI3hMF+gxnqP/S64aBbIYTgYGoxsfGpbD+Th6IoTI72Y/HIEAZ08Wj+fk5sgC2/BkcPWPQ9BDXaEFOSrtOcOYWnUY8QRgL1qKej7geWISeapQ6kRlfD0byjHMg5wIGcAyQXJwPqOsKDfAfxQK8HGOI/hDD3sDZvHV1br2fL8Wxi4zUk5ZTj0cmWJ8Z058HhXfF3a8FiNTot/PQnOPSpnD+QWqU5RwohwFfA72STOqkj0Rv0JBUnsT97P/tz9pOYn0i9oR5bK1v6de7Hr/v/mqH+Q4nyijLaMpJ55bVsTNHyzJ5dFFdpCfd14c1ZvYnpH4iDrXXL3qw8BzYshIwDMGwJTPwrWNsaJbfUcTVnTuEZUwSRJFPIqcxhX/Y+9ufs50DOgYbeQeEe4cyPmM8w/2EM8B1g9KUkj6aXsDxew3cnc9AbBOMjfFk8MoTh3b1adxSSuge+WgzaKnn9gXRL5CraUoemNWj5JfMX9mXvY1/2PlLLUgF1cnhs0FhGBIxgqP9QvBy9jJ9FZ+D7Uzksi9dwPKMUF3sbHh4RQrhVLvdNbeWYv8EA8f+EXa+BVw94eAt0jmjb4NJtRRYFqUO5fL1AfHY8e7P2ciTnCLoMHfbW9gzyHcTssNmMDBxJN7duJltSsqiyjjUH01l1II38ijpCvZ346/Qo7h0YhLO9DXFx+a174+pi+Pr/IOV7iJoF0z8Ee5ebv06SmiCLgtTuVWorOZhzkD1Ze4jPjie3KheA7m7dGe0ymnlD5zHAdwAONg4mzXUmu5zY+FS+OZ6NVmdgdJg3b93bhzE9fbCyusWClHkENixSTzed8g8Y8phcEEdqE7IoSO2OEIKLZRfZk7mHPVl7OJp3FJ3Q4WTrxDD/YTze53FGBY7Cz8mPuLg4RgSOMFk2vUGw/UwusfEaDqYW42hrzX2Dglg4IoQendvgt3gh4MAnsP1lcPVX21XI9Q+kNiSLgtQu1OnrOJx7mJ8zfmZP1h6yKrMA6OHegwejHmR04Gj6de6HrZV5zrYpq65n/ZF0VuxLI6u0hiAPR16aGsF9g4Jx69RGmaqL1d5FZ7dB+N0Q87F6HYIktSFZFCSLVVBdwM+ZP/Nz5s8czDlIja4GRxtHhvoNZXH0Yu4IugM/Jz+zZjyfX0FsvIZNR7OoqdczNNSTP0+LZGKk7//WLmgL6QfVs4sq82DymzD0CTlcJBmFLAqSxRBCkFKSwu6M3cRlxHG66DSgLjg/o/sMxgSPYbDf4IZlJs3FYBD8nFLAsvhU9pwrxM7Gihl9A1g4MoSogCYa07VqZ/pLZxf9DdyD4ZGfIHBA2+5Dkq4gi4JkVvWGehLyEtidrhaC7KpsFBR6+/Tm6f5PMyZ4jFGuIG6NyjodGxMyWbFPw8XCKjq72PPsxJ48MLQLXs5GKFTlObD5MUj9RT276J5/gkMbFx1JuoYsCpLJVddXE58dz670Xfyc+TMV2grsre0ZHjCcx/o8xpjgMXg7eps7ZoP0omqW79Ow4UgGFXU6+gW788G8fkyJ9m9eY7rWOPs9fLME6mtg+kfQf4EcLpJMQhYFySRKa0uJy4xjZ/pO9mXtQ2vQ4m7vzvgu4xkXPI7hAcONfhVxSwgh2H+hiNh9GnYk5WGtKNzdx5+FI0Lo38WIk7vaarV30ZH/gm9vmP1f8Ak33v4k6RqyKEhGU1hTyM60nWxP386R3CPohR4/Jz/mhM9hfJfx9O/c32g9hVqrtl7P18eyWL5PQ3JuBZ5Odjw1rgcLhnXF19XI1znknlTXPihIhuFPwfiXwca88yfS7cey/kdK7V5eVR470nfwk+YnjuUfQyAIcQ1hUfQiJnSdQKRnpEXMD1wrp6yGVfvTWHsonZLqeiL8XfnH7D5M7xvQ8sZ0LSUMEP8B7HxNXSrzwc3QvWXLc0pSW5FFQbpl+dX5bE/bzo+aHzmWfwxQrx94su+TTOw6ke7u3S2yEAghOJpewrJ4DT+cykUIwcRIXxaNDGVoqKdpMpdm0Pf4n6H0FETcA/d8CJ08jb9fSboBWRSkVimqKWJ72nbW567nwoYLCARhHmEs6beESSGT6ObWzdwRb6hOp+e7kznExms4kVmGi4MNi0eG8NDwEII9O5kmhBBwfB18/wdcdFqY8TH0my8nkyWzk0VBarZybTk703byfer3HMw9iEEY8LP148l+T3JXyF0WXQgACirqWH0wjS8OpFNYWUd3Hydei4lmVv9AnOxN+F+hqhC+/Q0kb4UuIzjiv5Bh/eeabv+S1ARZFKQm1enr+CXzF7Zd3MYvmb9Qb6gn0DmQR6IfYXLoZLISsxjXd5y5YzbpVFYZy+JT2Xo8B63ewLhwHxaNDGV0mLfph7XOfANbn4G6cpj4GgxfQu0ve0ybQZKaIIuCdB2DMJCQl8DWi1vZrtlORX0FXg5e3Bd+H1NDp9Lbu3fDh2m2km3mtI3T6Q38eDqPDw7WkPLDXjrZWXP/kGAeHhFCNx9n0weqLobv/wAnN4B/X4j5FnwjTZ9Dkm5CFgWpgaZMw5YLW9h6cSs5VTk42jgyocsEpnWbxhD/IRZ3+mhjSqq0rDucwar9GrLLavFxVPjT3RHcNzgYVwczLU2ZtBW2/g5qimHsH2H0M3KZTMliWf7/csmoKrQV/KD5gW/Of8PxguNYKVYM9x/O0wOe5s7gO+lka6KJ11uUkldBbHwqm49lUVtvYHg3L/4yPQqb/CTuHG2muY6qIvXo4NRX4NcbFmwE/z7mySJJzSSLwm3IIAwcyj3E5nOb2Zm+kzp9HT3ce/DMwGe4u9vddO7U2dwRm8VgEOxKzid2Xyrx54uwt7FiZv9AHh4RQoS/KwBxBcmmDyYEnN4E3/0Bastg3Esw6nfy6EBqF2RRuI3kVuXyzflv2Hx+M1mVWbjYuRDTI4aZPWYS6WWZF5U1pqK2ng1HMlm5X4OmqBo/Vweeuyuc+4d0wdPJzrzhyrNh27Nw9jsIGAAzPgLfKPNmkqQWkEWhg9MZdOzN2svGlI38kvULBmFgqN9Qnu7/NOO7jjd7G+qW0BRWsXyfhq8SMqms0zGwqwfPTgpncrQfttZGakzXXAYDJCyDHX8FfT1Meh2G/R9YGflqaElqY7IodFD51flsPLeRjSkbyavOw9vRm8XRi5nVYxbBrsHmjtdsQgj2ni8kNl7D7rP52FgpTOsTwMIRIfQNdjd3PFXBWdjyNGQcgNAxMO198Opu7lSS1ComKwqKokwGPgCsgf8IId685vmFwNtA1qWHPhJC/MdU+ToCIQSHcw+z7uw6dqXvQi/0jAgYwQtDXmBM8BizLVXZGtVaHZuOqo3pzudX4u1sx6/vDGPB0C50NnZjuuaqr4E978Lef4K9M8z4N/R7QF6VLLVrJikKiqJYAx8DE4FM4LCiKFuEEGeu2XS9EOIpU2TqSKrrq9lyYQvrktdxoewCbvZuPBj5IHN6zqGLaxdzx2uRzJJqVu1PY93hDMpq6okKcOWdOX25p68/9jYWNBRzYTdsewaKL0KfeepwkbOPuVNJ0i0z1ZHCEOC8EOIigKIo64AZwLVFQWqBzIpM1iavZfO5zVTUVxDhGcFrI19jcshkHGws5LfpZhBCcFhTQmx8Kj+ezgVgcrQfC0eEMjjEw7ImwMtz4Mc/qmcXeXaDh76BbmPNnUqS2owihDD+ThRlNjBZCPGrS/cfBIZeeVRwafjo70ABkAL8TgiR0ch7PQY8BuDr6ztw3bp1rcpUWVmJs7MZrmxtgRtlTK1LZVf5Lo5XH0dBoV+nfoxxGUOofajJP0Bv5ftYbxAczNGxPU1HWrkBJ1sYE2TL+C42eDm2zcRxW/2cFYOegOzvCE1djZVBR1rX2WQEz8JgfetnO1n6v0VLzweWn9HS8o0bNy5BCDGo0SeFEEa/AXNQ5xEu338Q+Nc123gB9pf+/gSw62bvO3DgQNFau3fvbvVrTeXKjDq9TuzQ7BAPbHtARC+PFsPXDBfvHXlP5FTmmC+gaN33Ma+8Rrz701kx8LWfRNfnt4oJ78aJ1QfSRHWdziLyXSd1rxAfDxPiFVchVs4UovD8rb/nFSz936Kl5xPC8jNaWj7giLjB56qpho8ygStPeQkCrmqaI4QouuLu58BbJshl8bR6LVsubGHF6RVoyjUEOQfx4pAXiekR026uNr7seEYpsfGpbDuZg84guDO8M4tGhjKyh5dlDRFdVp4N219W+xW5BcPcL6DXNDmRLHVopioKh4EwRVFCUc8umgc8cOUGiqL4CyFyLt2dDiSZKJtFqq6vZlf5Ll7d+CoFNQVEekXy9pi3mdhlItbt6Nz3er2B70/lsjw+laPppTjb2zB/aFceHhFCqLeTueM1rr4W9n8Ee94Dgw7ueA5GPQN27asIS1JrmKQoCCF0iqI8BfyIekrqMiHEaUVRXkU9jNkCPK0oynRABxQDC02RzdJUaitZm7yWlWdWUlpXyhC/Ifxt1N8Y5j/MMn+bvoHiKi1rD6Wzan8aueW1dPXqxMvTIpkzKAgXczWmuxkh1DUOfvoTlGjUo4JJr4NnqLmTSZLJmOw6BSHEd8B31zz28hV/fxF40VR5LE2ltpI1yWtYcXoF5dpyRgeOZrB+MIvuWmTuaC2SnFtO7F4NXydmUaczMKqHN3+bGc248M5YWVlwUcs5oZ5VpNkDPhFynWTptiWvaDazGl0N65LXsezUMkrrShkTNIYn+j5BtHc0cXFx5o7XLHqDYGdSHrHxGvZfLMLB1op7BwaxaEQIYb4u5o7XtPIc2PU6JK4GRw+4+10YsBCs5X8N6fYk/+WbSb2hnk0pm1h6YimFNYWMDBjJU/2fIto72tzRmq2spp4fNfW8fCiO9OJqAtwceGFKL+YNDsa9k5kb091MXSXs+xfs+1CdNxi+RJ07cLSQ1hmSZCayKJiYEIId6Tv48OiHaMo1DOg8gLfveJtBfo2fMmyJLhRUsuJSY7pqrZ7BIU68MKUXkyJ9sTF3Y7qb0dfD0ZUQ9yZU5UNkDEz4i5w3kKRLZFEwoVOFp3jr0FskFiTS3a07/7rzX4wJGtMuJpANBsEv5wqIjdfwc0oBdtZW3NM3gN72hSycMcLc8W5OCEjaAjtfg6Jz0GUEzFsDwYPNnUySLIosCiaQX53PB0c/YMuFLXg6ePLK8FeI6RHTLpa3rKrTseloJrH7NFwsqMLHxZ7fTejJA0O74ONi3z7mPS7GwY6/QPYx8A6H+9dBz8nyegNJaoTlfyq1Y/WGetYkreHfif+m3lDP4ujFPNr7UZztLOdy9xvJKK5m5X4N6w5nUFGro0+QG+/P7cvdvQOws7HwIaLLMg7RN/HPEHcCXIPULqZ958k1DiSpCbIoGElCXgKvH3id86XnGR04mheHvGjx6xgIITiYWkxsfCrbz+ShKApTov1YNDKUAV3c28UwFwDZibD7DTj3I062bnDX32HQYrBtP00CJclcZFFoYxXaCt5PeJ8NKRsIcArgw3EfMjZ4rEV/oNbW69mSmE3sPg1JOeV4dLLliTHdeXB4V/zdHM0dr/lyTqgTyGe3gYM7jH+Fg3URjB4+xdzJJKndkEWhDcVlxPHa/tcorC3kociHWNJviUX3J8orr2XV/jTWHEqnuEpLuK8Lb87qTUz/QBxs29EQS85x+Pkf6tXI9m4w9o8w7AlwcEPfHuY8JMmCyKLQBiq1lbx1+C2+Pv81PT168sGdH1j09QbH0kuIjdfw3ckc9EIwIcKXRSNCGN7dQhvT3UhmAvzyNqR8rxaDMc+r6yLLaw0kqdVkUbhFR3KP8NLel8itzuXR3o/yZN8nsbW2vN4+Wp2B70/lsCxew/GMUlzsbXh4RAgPDw+hi5flHs1cRwjQ7IU976hnFTm4w7g/wdDHwMHN3Okkqd2TRaGV9AY9n538jKXHlxLkHMSKySvo17mfuWNdp6iyjjUH01l1II38ijpCvZ346/Qo7h0YhLN9O/rxGwzqEcHef0LmIXDqDBNfVSeQ7S28lYYktSPt6FPBchTWFPLCnhc4mHOQad2m8edhf7a4uYPT2WUsj9fwzfFstDoDd/T04a3ZIYwJ87HsxnTX0tXBiS/VdhSFKeDeBaa+A/0XgG07mgSXpHZCFoUWOllwkt/s/g3l2nL+OuKvzOwx02LG4XV6AzuS8lgWr+FQajGOttbMHRTMwyNC6NHZ8q+NuEp1MSTEwsFPoTIPfHvDvf9V21LIZnWSZDTyf1cLfHfxO17e9zLejt6snrqacM9wc0cCoKy6nnWH01m5P42s0hqCPBx5aWoE9w0Oxs3R8uY3mlR4Dg58AsfXQn01dB8PMz+FbmPlFciSZAKyKDSDEIKPEz/m0xOfMqDzAN4f9z6eDp7mjsX5/Api4zVsOppFTb2eoaGe/HlaJBMjfbFuT0NEBgNc2AWHPoVzP4G1PfSZA0OfBD/LPYtLkjoiWRRuQm/Q8/rB1/kq5StiesTw8rCXzXp2kcEg+DmlgGXxqew5V4idjRUz+gawcGQIUQHt7OybmlI4vg4OfQbFF9TJ47EvwqBHwNnH3Okk6bYki0IT6g31vLT3Jb5P/Z5f9f4VT/d/2mzzB5V1OjYmZLJin4aLhVV0drHn2YlqYzovZ3uzZGq1nBNw+D9wcoM6RBQ4CGb9ByJngI2Fr8MgSR2cLAo3UK+v55m4Z4jLjOO3A37LI70fMUuOtKIqVuxLY8ORDCrqdPQLdueDef2YEu3ffhrTgbqozelNkLAcshLAxhF636seFQQOMHc6SZIukUWhEQZh4E/xfyIuM46Xhr7EvF7zTLp/IQT7LhTxz4Rajv8Yh7WiMLW3P4tGhtC/i4dJs9wSISDrKBxbCSc3grYCfHrB5Leg71x1+UtJkiyKLAqNeD/hfb5L/Y7fDPiNSQtCjVbP14lZLI/XcDavAhdbeGpcDxYM64qvazvq8FmRBye/hMQ1kH9GPSqImgkDH4bgofIsIkmyYLIoXGPl6ZUsP72ceeHzeCTaNENG2aU1rDqQxtpD6ZRW1xPh78o/ZvfBvew8k8ZbxmmvN1VfA2e/hxPr4dx2EHoIHAjT3ofoe2ULCklqJ2RRuML+7P28feRtJnadyAtDXjDqpLIQgqPpJSyL1/DDqVyEEEyM9GXRyFCGhnqiKApxcReMtv82YdDjXnIcvtkAZ7ZAXTm4+MOIX0O/B8CnnRQ0SZIayKJwSbm2nD/H/5lQt1DeGPUG1kZanatOp2fbiRxi4zWczCrDxcGGxSNDeGh4CMGeltUqo1EGA2QeVieNT2+mX2Ue2DlDxHR1niBktFzZTJLaMVkULnnz4JsU1hSyetxqHGzafvw+v6KW1QfSWX0wncLKOrr7OPFaTDSz+gfiZOmN6QwGtQndmW/UW3mWeoFZz0mcViKImvmM7EMkSR2EhX8amcaOtB18e/Fbnuz7JFHeUW363iczy4iNT+XbE9nU6wXjwn1YNDKU0WHeFtMzqVE6LWj2qAvXJG9T+w9Z20GPCTDhL+rC9w6uFMTFyYIgSR3IbV8USmpLeHX/q0R6RfJon0fb5D11egM/ns4jNj6VI2kldLKz5oEhXXh4RAjdfCy4MV11MZzfCWe/g/M71DkC204QNlEdHgqbKCeMJamDu+2Lwva07ZTUlbB04lJsrW6tfUVptZa1hzJYtV9DdlktwZ6O/OlutTGdq4MFNqYTAnJPwvnt6hlDGQdBGMDJR726uNfdaiM6eSQgSbeN274o7M3aS4BTABGeEa1+j5S8CmLjU9l8LIvaegMjunvx1xnR3Nmrs+U1pqvIU1csu7hbbUJXmac+7tcHRv9eHRYK6A9W7ehqaUmS2sxtXRTq9fUNC+W0dHzfYBDsSs4ndl8q8eeLsLexYmb/QBaODKGXn6uRErdCdTGk7YPUX9Q5gvwz6uOOnupRQNhE6H4nuPiZM6UkSRbiti4KR/OPUq2rZlTgqGa/pqK2ng1HMlmxX0NaUTV+rg48d1c49w/pgqeTBTRzK8+BjANqIUjbB3mnAaFeVdxlGPS5D7qNU48M5NGAJEnXuK2Lwt6svdhY2TDUf+hNt00trGLFPg0bjmRQpdUzsKsHz90Vzl1Rftham+nDVadV5wSyjqjXDqQfhLJ09TnbThA8BMb9EUJGqVcX27SzbqqSJJncbV8UBnYeeMP1lYUQ7D1fSGy8ht1n87GxUpjWJ4BFI0PoE+Ru2rC6OihIhpzjkJ0I2ccg7xToterzzn5qERj2BAQPA/8+YMZ1HyRJap9u26JQoivhfOl5Zgyccd1zNVo9m45lsjxew7n8Sryd7Xj6zjDmD+tCZxcjN6YTAsqzoSCJ4PRvYfM6yD2lFgRDvbqNvSv494Whj6trEQQNBrdA4+aSJOm2cNsWhTM16oTrlfMJWaU1rNyvYd2hDMpq6okOdOXdOX2Z1tcfe5s2bt1QVwklqVB8UV2XuOi8+mfBWbXFNNAdwCUAfCMhbII6D+DXBzy7yfkASZKMwmRFQVGUycAHgDXwHyHEm9c8bw+sBAYCRcBcIYTGWHmSapPwc/Kjm1s3DqUWExufyo+nc1EUhbui42M5qAAACmlJREFU1MZ0g7p6tO6qY4MBaorV3/jLs9W2EGWZUJqu3ko0UJV/9Wtc/MGrB/S7X20k59OLvedKGDXxnjb5eiVJ+v/27j1GrrKM4/j3t7vt0tIbsEJJKS2XVgWU24K2KuwKNqUqDbFKBRoRtAQEIjVEiAYJ/KMSRA0YKNBQTbQoQl0MWEzpimkptKRQ2pom5aKsNUKhsL3CXh7/eN+Zns7Osqe7nTPH3eeTTPacmXdmfjM7M8855515X5dGJkVBUi1wD/AFoA1YI6nFzDYlml0JbDezEyXNBX4CXFyJPB3dHWzes5mTxjXz5btXsnFrO2NHDGP+OScwb9okJoyLP9bq6oSOXfBBPL3fDnvbw98928PXPfdsh91vw663YNe28L3/nf+F7s7977RmGIw9BsZNhKkzwtb+YceFv0ecCPU9f+nc+XprJR6+c871Kqs9hbOBLWb2KoCkJcBsIFkUZgO3xuVHgLslyczsYId5ZNkv2Gt7mfGPxzn3/ccZe3gth9YZNRs74eWO0KnbubfnB3s5tfVwaEM4jWwIW/mjx4eO39HjQyEYMwFGHemjhzrnck8V+MzteSfSHGCmmX0rrs8DPmVm1ybabIht2uL6K7HNtpLbmg/MBzjqqKPOXLJkyQHn2bx1OSvan+TmPQ2Mr68DhKmO7pra+HcY3TXD6a4ZRlftCLpqD6Grtp6u2pF01h1aPHUMG0N3zfCKzSS2c+dORo3K8VhJ5D9j3vNB/jPmPR/kP2Pe8jU3N79gZo3lLstqT6Hcp2ZpNUrTBjNbCCwEaGxstKampgMO00QTH209j1P7cd0stba20p/Hl6W8Z8x7Psh/xrzng/xnzHu+pKy+wtIGTEysHwNs7a2NpDpgLPBOJumcc84B2RWFNcAUScdJGg7MBVpK2rQA34jLc4CnK9Gf4JxzrneZHD4ys05J1wLLCF9JXWRmGyXdBqw1sxbgQeA3krYQ9hDmZpHNOefcPpn9TsHMngCeKDnvlsTyXuCrWeVxzjnXk/8s1jnnXJEXBeecc0VeFJxzzhV5UXDOOVeUyS+aK0XSW8A/+3n1BmBbn62qyzMOXN7zQf4z5j0f5D9j3vJNMrOPlLvg/7ooDISktb39zDsvPOPA5T0f5D9j3vNB/jPmPV+SHz5yzjlX5EXBOedc0VAuCgurHSAFzzhwec8H+c+Y93yQ/4x5z1c0ZPsUnHPO9TSU9xScc86V8KLgnHOuaNAXBUkzJW2WtEXSTWUur5f0cLz8OUmTc5hxgaRNktZLWi5pUp7yJdrNkWSSMv/qXZqMkr4Wn8eNkn6bp3ySjpW0QtK6+H+elWW+mGGRpDfjLIjlLpekX8bHsF7SGTnLd2nMtV7SKkmnZpkvTcZEu7MkdcVZKfPFzAbtiTBM9yvA8cBw4CXgpJI21wD3xuW5wMM5zNgMjIzLV2eZMU2+2G408AywGmjM4XM4BVgHHBbXj8xZvoXA1XH5JOD1LJ/DeL/nAGcAG3q5fBbwJGGWxE8Dz+Us3/TE//eCrPOlyZh4PTxNGDV6TtYZ+zoN9j2Fs4EtZvaqmX0ALAFml7SZDSyOy48A50kVmnS5nxnNbIWZ7Y6rqwkz1+UmX3Q78FNgb4bZCtJk/DZwj5ltBzCzN3OWz4AxcXksPWcmrDgze4YPn+1wNvBrC1YD4yQdnU26vvOZ2arC/5fs3yeFDH09hwDXAX8EsnwNpjbYi8IE4I3Eels8r2wbM+sE3gOOyCRdyf1H5TImXUnYWstKn/kknQ5MNLM/Z5grKc1zOBWYKmmlpNWSZmaWLl2+W4HLJLURtiCvyybaATnQ12o1Zf0+SUXSBOAi4N5qZ+lNZpPsVEm5Lf7S7+CmaVNJqe9f0mVAI3BuRROV3G2Z84r5JNUAdwGXZxWojDTPYR3hEFITYQvy75JOMbN3K5wN0uX7OvCQmd0paRphFsJTzKy78vFSq/Z7JRVJzYSi8NlqZynj58D3zawr2wMS6Q32otAGTEysH0PP3fJCmzZJdYRd9752/w6mNBmRdD7wA+BcM3s/o2zQd77RwClAa3yRjwdaJF1oZmtzkrHQZrWZdQCvSdpMKBJrcpLvSmAmgJk9K+kQwiBqeTrEkOq1Wk2SPgk8AFxgZm9XO08ZjcCS+F5pAGZJ6jSzpdWNlVDtTo1KnghF71XgOPZ18J1c0uY77N/R/PscZjyd0FE5JY/PYUn7VrLvaE7zHM4EFsflBsJhkCNylO9J4PK4/HHCh62q8P+eTO8duV9k/47m53OW71hgCzA961xpM5a0e4gcdjQP6j0FM+uUdC2wjNDjv8jMNkq6DVhrZi3Ag4Rd9S2EPYS5Ocx4BzAK+EPcwviXmV2Yo3xVlTLjMmCGpE1AF3CjZbQlmTLf94D7Jd1AOCRzucVPjqxI+h3h8FpD7Nv4ETAsPoZ7CX0dswgfvLuBb+Ys3y2E/sBfxfdJp2U8MmmKjLnnw1w455wrGuzfPnLOOXcAvCg455wr8qLgnHOuyIuCc865Ii8KzjnnirwoOOecK/Ki4JxzrsiLghsyJN0l6buJ9WWSHkis3ylpQT9ve6ekcZKuSZw3ua9x9RNtR0j6m6RaSTWS3k1cdlqcp2JqXB8l6d+Sxkh6Jg7P4txB4UXBDSWrCGPuFwbyawBOTlw+HVg5gNsfR5ifoz+uAB41sy4Lg+ApMYT7VYRhLwpDa18CtJhZO7AcuHgAmZ3bjxcFN5SsJBYFQjHYAOyQdJikesKYQ+skXSbpeUkvSrpPUm3hBiQtlfRCnL1tfsnt/xg4IV7vjnheraT7Y/unJI3oJdulwJ8S67uAkZJGAZ8DHiMMPghhbojCkAlL43WdOyi8KLghw8y2Ap2SjiUUh2eB54BphNEr1wMnELa8P2NmpxHGSUp+6F5hZmfG9tdLSs69cRPwipmdZmY3xvOmECb3ORl4F/hKaS5Jw4Hjzez1xNnthCJwCfAwsB0YE+eu6DCzl2K7DcBZ/Xk+nCvHj0W6oaawtzAd+BlhkpjphMmVVgHnAWcCa+LRmxHsP3z19ZIuissTCR/6Hzaw3mtm9mJcfoEwgmapBkLBSCoUhSsIk7LMi+tXAfcVGlkYl/8DSaPNbMeH5HAuFS8Kbqgp9Ct8grCV/QZhhNJ2YBHhQ3uxmd1cekVJTcD5wDQz2y2pFTikj/tLzn3RRSgypfaUuZ124PNAm5n9R9IO4GjCEOA3lLStpzrToLpByA8fuaFmJfAl4J3YqfsOoYN4GuFw0nJgjqQjASQdLmlSvO5YYHssCB8jzCmQtIN9x/1TszCvcG2cWKegHVjAvr6DHYS+hMfMbE+hUTx89ZaFyYOcGzAvCm6oeZlwuGZ1yXnvmdk2M9sE/BB4StJ64K+ELXSAvwB18fzbS26DOD/DSkkbEh3NaT3F/tNHvkd4fy6P6zsIh6ruK7leM2GeA+cOCp9PwbkciB3IC8xs3gFe71HgZjPbXJlkbqjxPQXncsDM1gErkl9/7Uv81tJSLwjuYPI9Beecc0W+p+Ccc67Ii4JzzrkiLwrOOeeKvCg455wr8qLgnHOuyIuCc865ov8BU98hC8zylRMAAAAASUVORK5CYII=\n",
>>>>>>> Stashed changes
      "text/plain": [
       "<Figure size 432x288 with 1 Axes>"
      ]
     },
     "metadata": {
      "needs_background": "light"
     },
     "output_type": "display_data"
    }
   ],
   "source": [
<<<<<<< Updated upstream
    "plt.figure(figsize=(6, 4))\n",
    "plt.plot(W, U1, label=r'$U_1(W)=W$')\n",
    "plt.plot(W, U2, label=r'$U_2(W)=W^2$')\n",
    "plt.plot(W, U3, label=r'$U_3(W)=\\sqrt{W}$')\n",
    "plt.grid()\n",
    "plt.legend(loc='best')\n",
    "plt.xlabel('Wealth ($W$)')\n",
    "plt.ylabel('Utility ($U$)')\n",
    "#plt.axis([0, 0.4, 0, 0.8])\n",
    "#plt.axis([1, 1.2, 1, 1.2])"
=======
    "plt.figure(figsize=(6,4))\n",
    "plt.plot(W,U1,label=r'$U_1(W)=W$')\n",
    "plt.plot(W,U2,label=r'$U_2(W)=W^2$')\n",
    "plt.plot(W,U3,label=r'$U_3(W)=\\sqrt{W}$')\n",
    "plt.grid()\n",
    "plt.legend(loc='best')\n",
    "plt.xlabel('Wealth ($W$)')\n",
    "plt.ylabel('Wealth ($U$)')\n",
    "#plt.axis ([0,0.4,0,0.8])\n",
    "#plt.axis ([1,1.2,1,1.2])"
>>>>>>> Stashed changes
   ]
  },
  {
   "cell_type": "markdown",
   "metadata": {},
   "source": [
    "## 3. Aversión al riesgo\n",
    "\n",
    "Una dimensión importante en la toma de decisiones en finanzas y economía es la **incertidumbre**. Probablemente no hay ninguna decisión en economía que no involucre riesgo.\n",
    "\n",
    "- A la mayoría de las personas no les gusta mucho el riesgo.\n",
    "- De hecho, estudios del comportamiento humano de cara al riesgo, sugieren fuertemente que los seres humanos somos aversos al riesgo.\n",
    "- Por ejemplo, la mayoría de hogares poseen seguros para sus activos.\n",
    "- Así, cuando planteamos el problema de selección óptima de portafolios, suponemos que el inversionista es averso al riesgo."
   ]
  },
  {
   "cell_type": "markdown",
   "metadata": {},
   "source": [
    "¿Qué significa esto en términos de preferencias? ¿Cómo lo medimos?\n",
    " \n",
    "- Como seres humanos, todos tenemos diferentes genes y preferencias, y esto aplica también a la actitud frente al riesgo.\n",
    "- Por tanto, la aversión al riesgo es clave en cómo describimos las preferencias de un inversinista.\n",
    "- Individuos con un alto grado de aversión al riesgo valorarán la seguridad a un alto precio, mientras otros no tanto.\n",
    "- De manera que alguien con alta aversión al riesgo, no querrá enfrentarse a una situación con resultado incierto y querrá pagar una gran prima de seguro para eliminar dicho riesgo.\n",
    "- O equivalentemente, una persona con alta aversión al riesgo requerirá una compensación alta si se decide a asumir ese riesgo.\n",
    "\n",
    "El **grado de aversión al riesgo** mide qué tanto un inversionista prefiere un resultado seguro a un resultado incierto.\n",
    "\n",
    "Lo opuesto a aversión al riesgo es **tolerancia al riesgo**.\n",
    " \n",
    "<font color=blue> Ver en el tablero gráficamente, cómo se explica la aversión al riesgo desde las funciones de utilidad. </font>\n",
    "\n",
    "**Conclusión:** la concavidad en la función de utilidad dicta qué tan averso al riesgo es el individuo."
   ]
  },
  {
   "cell_type": "code",
<<<<<<< Updated upstream
   "execution_count": 14,
=======
   "execution_count": 12,
>>>>>>> Stashed changes
   "metadata": {},
   "outputs": [],
   "source": [
    "def straight (x1, y1, x2, y2, x):\n",
    "    m=(y2-y1)/(x2-x1)\n",
    "    return m *(x-x1)+y1"
   ]
  },
  {
   "cell_type": "code",
   "execution_count": 26,
   "metadata": {},
   "outputs": [
    {
     "data": {
      "text/plain": [
       "Text(0, 0.5, 'Wealth ($U$)')"
      ]
     },
     "execution_count": 26,
     "metadata": {},
     "output_type": "execute_result"
    },
    {
     "data": {
      "image/png": "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\n",
      "text/plain": [
       "<Figure size 432x288 with 1 Axes>"
      ]
     },
     "metadata": {
      "needs_background": "light"
     },
     "output_type": "display_data"
    }
   ],
   "source": [
    "plt.figure(figsize=(6,4))\n",
    "plt.plot(W,U3,label=r'$U_3(W)=\\sqrt{W}$')\n",
    "x1,x2,= 0.1,1.0\n",
    "y1,y2= x1**0.5,x2**0.5\n",
    "plt.axvline(x=0.1, ls='--',color ='grey')\n",
    "plt.axvline(x=1.0, ls='--',color ='grey')\n",
    "plt.axhline(y=y1, ls='--',color ='grey')\n",
    "plt.axhline(y=y2, ls='--',color ='grey')\n",
    "plt.plot(x1,y1,'*r',ms=5)\n",
    "plt.plot(x2,y2,'*g',ms=5)\n",
    "plt.plot(0.5 * x1 + 0.5 * x2 , 0.5 * y1+ 0.5 * y2,'or',ms=5)\n",
    "plt.plot(0.5 * x1 + 0.5 * x2 , (0.5 * x1+ 0.5 * x2)**0.5,'om',ms=5)\n",
    "plt.plot(W,straight(x1,y1,x2,y2,W))\n",
    "plt.grid()\n",
    "plt.legend(loc='best')\n",
    "plt.xlabel('Wealth ($W$)')\n",
    "plt.ylabel('Wealth ($U$)')"
   ]
  },
  {
   "cell_type": "code",
   "execution_count": 19,
   "metadata": {},
   "outputs": [
    {
     "data": {
      "text/plain": [
       "0.55"
      ]
     },
     "execution_count": 19,
     "metadata": {},
     "output_type": "execute_result"
    }
   ],
   "source": [
    "0.5 * 0.1 + 0.5 * 1.0"
   ]
  },
  {
   "cell_type": "code",
   "execution_count": 20,
   "metadata": {},
   "outputs": [
    {
     "data": {
      "text/plain": [
       "0.658113883008419"
      ]
     },
     "execution_count": 20,
     "metadata": {},
     "output_type": "execute_result"
    }
   ],
   "source": [
    "0.5 * y1+ 0.5 * y2"
   ]
  },
  {
   "cell_type": "code",
   "execution_count": 32,
   "metadata": {},
   "outputs": [
    {
     "data": {
      "text/plain": [
       "Text(0, 0.5, 'Utility ($U$)')"
      ]
     },
     "execution_count": 32,
     "metadata": {},
     "output_type": "execute_result"
    },
    {
     "data": {
      "image/png": "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\n",
      "text/plain": [
       "<Figure size 432x288 with 1 Axes>"
      ]
     },
     "metadata": {
      "needs_background": "light"
     },
     "output_type": "display_data"
    }
   ],
   "source": [
    "plt.figure(figsize=(6, 4))\n",
    "plt.plot(W, U3, label=r'$U_3(W)=\\sqrt{W}$')\n",
    "x1, x2 = 0.1, 1.0\n",
    "y1, y2 = x1**0.5, x2**0.5\n",
    "plt.axvline(x=x1, ls='--', color='grey')\n",
    "plt.axvline(x=x2, ls='--', color='grey')\n",
    "plt.axhline(y=y1, ls='--', color='grey')\n",
    "plt.axhline(y=y2, ls='--', color='grey')\n",
    "plt.plot(x1, y1, '*b', ms=5)\n",
    "plt.plot(x2, y2, '*g', ms=5)\n",
    "plt.plot(0.5 * x1 + 0.5 * x2, 0.5 * y1 + 0.5 * y2, 'or', ms=5)\n",
    "plt.plot(0.5 * x1 + 0.5 * x2, (0.5 * x1 + 0.5 * x2)**0.5, 'om', ms=5)\n",
    "plt.plot(W, straight(x1, y1, x2, y2, W))\n",
    "plt.grid()\n",
    "plt.legend(loc='best')\n",
    "plt.xlabel('Wealth ($W$)')\n",
    "plt.ylabel('Utility ($U$)')"
   ]
  },
  {
   "cell_type": "code",
   "execution_count": 19,
   "metadata": {},
   "outputs": [
    {
     "data": {
      "text/plain": [
       "0.55"
      ]
     },
     "execution_count": 19,
     "metadata": {},
     "output_type": "execute_result"
    }
   ],
   "source": [
    "0.5 * 0.1 + 0.5 * 1.0"
   ]
  },
  {
   "cell_type": "code",
   "execution_count": 24,
   "metadata": {},
   "outputs": [
    {
     "data": {
      "text/plain": [
       "0.658113883008419"
      ]
     },
     "execution_count": 24,
     "metadata": {},
     "output_type": "execute_result"
    }
   ],
   "source": [
    "0.5 * y1 + 0.5 * y2"
   ]
  },
  {
   "cell_type": "markdown",
   "metadata": {},
   "source": [
    "### ¿Cómo medimos el grado de aversión al riesgo de un individuo?\n",
    "\n",
    "¿Saben cuál es su coeficiente de aversión al riesgo? Podemos estimarlo.\n",
    "\n",
    "Suponga que se puede participar en la siguiente lotería:\n",
    "- usted puede ganar $\\$1000$ con $50\\%$ de probabilidad, o\n",
    "- puede ganar $\\$500$ con $50\\%$ de probabilidad.\n",
    "\n",
    "Es decir, de entrada usted tendrá $\\$500$ seguros pero también tiene la posibilidad de ganar $\\$1000$.\n",
    "\n",
    "¿Cuánto estarías dispuesto a pagar por esta oportunidad?"
   ]
  },
  {
   "cell_type": "markdown",
   "metadata": {},
   "source": [
    "Bien, podemos relacionar tu respuesta con tu coeficiente de aversión al riesgo.\n",
    "\n",
    "| Coeficiente de aversión al riesgo | Cantidad que pagarías |\n",
    "| --------------------------------- | --------------------- |\n",
    "| 0                                 | 750                   |\n",
    "| 0.5                               | 729                   |\n",
    "| 1                                 | 707                   |\n",
    "| 2                                 | 667                   |\n",
    "| 3                                 | 632                   |\n",
    "| 4                                 | 606                   |\n",
    "| 5                                 | 586                   |\n",
    "| 10                                | 540                   |\n",
    "| 15                                | 525                   |\n",
    "| 20                                | 519                   |\n",
    "| 50                                | 507                   |"
   ]
  },
  {
   "cell_type": "markdown",
   "metadata": {},
   "source": [
    "La mayoría de la gente está dispuesta a pagar entre $\\$540$ (10) y $\\$707$ (1). Es muy raro encontrar coeficientes de aversión al riesgo menores a 1. Esto está soportado por una gran cantidad de encuestas.\n",
    "\n",
    "- En el mundo financiero, los consultores financieros utilizan cuestionarios para medir el coeficiente de aversión al riesgo."
   ]
  },
  {
   "cell_type": "markdown",
   "metadata": {},
   "source": [
    "**Ejemplo.** Describir en términos de aversión al riesgo las siguientes funciones de utilidad que dibujaré en el tablero.\n",
    "___"
   ]
  },
  {
   "cell_type": "markdown",
   "metadata": {},
   "source": [
    "# Anuncios\n",
    "\n",
    "## 1. Quiz la siguiente clase.\n",
    "## 2. Tarea 4 entrega 2 para hoy, viernes 13 de marzo.\n",
    "## 3. Tarea 5 entrega 2 para martes 17 de marzo."
   ]
  },
  {
   "cell_type": "markdown",
   "metadata": {},
   "source": [
    "<script>\n",
    "  $(document).ready(function(){\n",
    "    $('div.prompt').hide();\n",
    "    $('div.back-to-top').hide();\n",
    "    $('nav#menubar').hide();\n",
    "    $('.breadcrumb').hide();\n",
    "    $('.hidden-print').hide();\n",
    "  });\n",
    "</script>\n",
    "\n",
    "<footer id=\"attribution\" style=\"float:right; color:#808080; background:#fff;\">\n",
    "Created with Jupyter by Esteban Jiménez Rodríguez.\n",
    "</footer>"
   ]
  }
 ],
 "metadata": {
  "kernelspec": {
   "display_name": "Python 3",
   "language": "python",
   "name": "python3"
  },
  "language_info": {
   "codemirror_mode": {
    "name": "ipython",
    "version": 3
   },
   "file_extension": ".py",
   "mimetype": "text/x-python",
   "name": "python",
   "nbconvert_exporter": "python",
   "pygments_lexer": "ipython3",
   "version": "3.7.4"
  }
 },
 "nbformat": 4,
 "nbformat_minor": 2
}
