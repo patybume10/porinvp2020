{
 "cells": [
  {
   "cell_type": "markdown",
   "metadata": {},
   "source": [
    "# Funciones de utilidad y aversión al riesgo\n",
    "\n",
    "Antes de comenzar la clase, por favor entrar [este enlace](http://cursos.iteso.mx/course/view.php?id=1480)\n",
    "\n",
    "<img style=\"float: right; margin: 0px 0px 15px 15px;\" src=\"https://upload.wikimedia.org/wikipedia/commons/6/62/Risk_down_arrow.png\" width=\"400px\" height=\"400px\" />\n",
    "\n",
    "En el módulo anterior aprendimos \n",
    "- qué es un portafolio, cómo medir su rendimiento esperado y su volatilidad; \n",
    "- un portafolio de activos riesgosos tiene menos riesgo que la suma ponderada de los riesgos individuales,\n",
    "- y que esto se logra mediante el concepto de diversificación;\n",
    "- la diversificación elimina el riesgo idiosincrático, que es el que afecta a cada compañía en particular,\n",
    "- sin embargo, el riesgo de mercado no se puede eliminar porque afecta a todos por igual.\n",
    "- Finalmente, aprendimos conceptos importantes como frontera de mínima varianza, portafolios eficientes y el portafolio de mínima varianza, que son claves en el problema de selección óptima de portafolios.\n",
    "\n",
    "Muy bien, sin embargo, para plantear el problema de selección óptima de portafolios necesitamos definir la función que vamos a optimizar: función de utilidad.\n",
    "\n",
    "**Objetivos:**\n",
    "- ¿Cómo tomamos decisiones según los economistas?\n",
    "- ¿Cómo toman decisiones los inversionistas?\n",
    "- ¿Qué son las funciones de utilidad?\n",
    "\n",
    "*Referencia:*\n",
    "- Notas del curso \"Portfolio Selection and Risk Management\", Rice University, disponible en Coursera.\n",
    "___"
   ]
  },
  {
   "cell_type": "markdown",
   "metadata": {},
   "source": [
    "## 1. Introducción\n",
    "\n",
    "La teoría económica comienza con una suposición muy importante: \n",
    "- **cada individuo actúa para obtener el mayor beneficio posible con los recursos disponibles**.\n",
    "- En otras palabras, **maximizan su propia utilidad**"
   ]
  },
  {
   "cell_type": "markdown",
   "metadata": {},
   "source": [
    "¿Qué es utilidad?\n",
    "- Es un concepto relacionado con la felicidad, pero más amplio.\n",
    "- Por ejemplo, yo obtengo utilidad de lavar mis dientes o comer sano. Ninguna de las dos me brindan felicidad, pero lo primero mantendrá mis dientes sanos y en el largo plazo, lo segundo probablemente contribuirá a una buena vejez."
   ]
  },
  {
   "cell_type": "markdown",
   "metadata": {},
   "source": [
    "Los economistas no se preocupan en realidad por lo que nos da utilidad, sino simplemente que cada uno de nosotros tiene sus propias preferencias.\n",
    "- Por ejemplo, a mi me gusta el café, el fútbol, los perros, la academia, viajar, entre otros.\n",
    "- Ustedes tienen sus propias preferencias también."
   ]
  },
  {
   "cell_type": "markdown",
   "metadata": {},
   "source": [
    "La vida es compleja y con demasiada incertidumbre. Debemos tomar decisiones a cada momento, y estas decisiones involucran ciertos \"trade-off\".\n",
    "- Por ejemplo, normalmente tenemos una compensación entre utilidad hoy contra utilidad en el futuro.\n",
    "- Debemos balancear nuestro consumo hoy contra nuestro consumo luego.\n",
    "- Por ejemplo, ustedes gastan cerca de cuatro horas a la semana viniendo a clases de portafolios, porque esperan que esto contribuya a mejorar su nivel de vida en el futuro."
   ]
  },
  {
   "cell_type": "markdown",
   "metadata": {},
   "source": [
    "De manera que los economistas dicen que cada individuo se comporta como el siguiente optimizador:\n",
    "\n",
    "\\begin{align}\n",
    "\\max & \\quad\\text{Utilidad}\\\\\n",
    "\\text{s. a.} & \\quad\\text{Recursos disponibles}\n",
    "\\end{align}\n",
    "\n",
    "¿Qué tiene que ver todo esto con el curso?\n",
    "- En este módulo desarrollaremos herramientas para describir las preferencias de los inversionistas cuando se encuentran con decisiones de riesgo y rendimiento.\n",
    "- Veremos como podemos medir la actitud frente al riesgo, ¿cuánto te gusta o disgusta el riesgo?\n",
    "- Finalmente, veremos como podemos formular el problema de maximizar la utilidad de un inversionista para tomar la decisión de inversión óptima.\n",
    "___"
   ]
  },
  {
   "cell_type": "markdown",
   "metadata": {},
   "source": [
    "## 2. Funciones de utilidad.\n",
    "\n",
    "¿Cómo tomamos decisiones?\n",
    "Por ejemplo:\n",
    "- Ustedes tienen que decidir si venir a clase o quedarse en su casa viendo Netflix, o ir al gimnasio.\n",
    "- Tienen que decidir entre irse de fiesta cada fin, o ahorrar para salir de vacaciones."
   ]
  },
  {
   "cell_type": "markdown",
   "metadata": {},
   "source": [
    "En el caso de un portafolio, la decisión que se debe tomar es **¿cuáto riesgo estás dispuesto a tomar por qué cantidad de rendimiento?**\n",
    "\n",
    "**¿Cómo evaluarías el \"trade-off\" entre tener cetes contra una estrategia muy riesgosa con un posible altísimo rendimiento?**"
   ]
  },
  {
   "cell_type": "markdown",
   "metadata": {},
   "source": [
    "De manera que veremos como tomamos decisiones cuando tenemos distintas posibilidades. Específicamente, hablaremos acerca de las **preferencias**, como los economistas usan dichas preferencias para explicar las decisiones y los \"trade-offs\" en dichas decisiones.\n",
    "\n",
    "Usamos las **preferencias** para describir las decisiones que tomamos. Las preferencias nos dicen cómo un individuo evalúa los \"trade-offs\" entre distintas elecciones."
   ]
  },
  {
   "cell_type": "markdown",
   "metadata": {},
   "source": [
    "Por definición, las preferencias son únicas para cada individuo. En el problema de selección de portafolios:\n",
    "- las preferencias que dictan cuánto riesgo estás dispuesto a asumir por cuánto rendimiento, son específicas para cada uno de ustedes.\n",
    "- Sus respuestas a esa pregunta pueden ser muy distintas, porque tenemos distintas preferencias.\n",
    "\n",
    "Ahora, nosotros no podemos *cuantificar* dichas preferencias.\n",
    "- Por esto usamos el concepto de utilidad, para medir qué tan satisfecho está un individuo con sus elecciones.\n",
    "- Así que podemos pensar en la utilidad como un indicador numérico que describe las preferencias,\n",
    "- o un índice que nos ayuda a clasificar diferentes decisiones.\n",
    "- En términos simples, **la utilidad nos ayuda a transmitir a números la noción de cómo te sientes**;\n",
    "- mientras más utilidad, mejor te sientes."
   ]
  },
  {
   "cell_type": "markdown",
   "metadata": {},
   "source": [
    "**Función de utilidad**: manera sistemática de asignar una medida o indicador numérico para clasificar diferentes escogencias.\n",
    "\n",
    "El número que da una función de utilidad no tiene significado alguno. Simplemente es una manera de clasificar diferentes decisiones."
   ]
  },
  {
   "cell_type": "markdown",
   "metadata": {},
   "source": [
    "**Ejemplo.**\n",
    "\n",
    "Podemos escribir la utilidad de un inversionista como función de la riqueza,\n",
    "\n",
    "$$U(W).$$\n",
    "\n",
    "- $U(W)$ nos da una medida de qué tan satisfechos estamos con el nivel de riqueza que tenemos. \n",
    "- $U(W)$ no es la riqueza como tal, sino que la función de utilidad traduce la cantidad de riqueza en un índice numérico subjetivo."
   ]
  },
  {
   "cell_type": "markdown",
   "metadata": {},
   "source": [
    "¿Cómo luciría gráficamente una función de utilidad de riqueza $U(W)$?\n",
    "\n",
    "<font color=blue> Ver en el tablero </font>\n",
    "- ¿Qué caracteristicas debe tener?\n",
    "- ¿Cómo es su primera derivada?\n",
    "- ¿Cómo es su segunda derivada?\n",
    "- Tiempos buenos: riqueza alta (¿cómo es la primera derivada acá?)\n",
    "- Tiempos malos: poca riqueza (¿cómo es la primera derivada acá?)"
   ]
  },
  {
   "cell_type": "code",
   "execution_count": 1,
   "metadata": {},
   "outputs": [],
   "source": [
    "from matplotlib import pyplot as plt\n",
    "%matplotlib inline\n",
    "import numpy as np"
   ]
  },
  {
   "cell_type": "code",
   "execution_count": 2,
   "metadata": {},
   "outputs": [],
   "source": [
    "W = np.linspace(0, 1.5, 100)\n",
    "U1 = W\n",
    "U2 = W**2\n",
    "U3 = W**0.5"
   ]
  },
  {
   "cell_type": "code",
   "execution_count": 13,
   "metadata": {},
   "outputs": [
    {
     "data": {
      "text/plain": [
       "Text(0, 0.5, 'Utility ($U$)')"
      ]
     },
     "execution_count": 13,
     "metadata": {},
     "output_type": "execute_result"
    },
    {
     "data": {
      "image/png": "[encoded data removed]",
      "text/plain": [
       "<Figure size 432x288 with 1 Axes>"
      ]
     },
     "metadata": {
      "needs_background": "light"
     },
     "output_type": "display_data"
    }
   ],
   "source": [
    "plt.figure(figsize=(6, 4))\n",
    "plt.plot(W, U1, label=r'$U_1(W)=W$')\n",
    "plt.plot(W, U2, label=r'$U_2(W)=W^2$')\n",
    "plt.plot(W, U3, label=r'$U_3(W)=\\sqrt{W}$')\n",
    "plt.grid()\n",
    "plt.legend(loc='best')\n",
    "plt.xlabel('Wealth ($W$)')\n",
    "plt.ylabel('Utility ($U$)')\n",
    "#plt.axis([0, 0.4, 0, 0.8])\n",
    "#plt.axis([1, 1.2, 1, 1.2])"
   ]
  },
  {
   "cell_type": "markdown",
   "metadata": {},
   "source": [
    "## 3. Aversión al riesgo\n",
    "\n",
    "Una dimensión importante en la toma de decisiones en finanzas y economía es la **incertidumbre**. Probablemente no hay ninguna decisión en economía que no involucre riesgo.\n",
    "\n",
    "- A la mayoría de las personas no les gusta mucho el riesgo.\n",
    "- De hecho, estudios del comportamiento humano de cara al riesgo, sugieren fuertemente que los seres humanos somos aversos al riesgo.\n",
    "- Por ejemplo, la mayoría de hogares poseen seguros para sus activos.\n",
    "- Así, cuando planteamos el problema de selección óptima de portafolios, suponemos que el inversionista es averso al riesgo."
   ]
  },
  {
   "cell_type": "markdown",
   "metadata": {},
   "source": [
    "¿Qué significa esto en términos de preferencias? ¿Cómo lo medimos?\n",
    " \n",
    "- Como seres humanos, todos tenemos diferentes genes y preferencias, y esto aplica también a la actitud frente al riesgo.\n",
    "- Por tanto, la aversión al riesgo es clave en cómo describimos las preferencias de un inversinista.\n",
    "- Individuos con un alto grado de aversión al riesgo valorarán la seguridad a un alto precio, mientras otros no tanto.\n",
    "- De manera que alguien con alta aversión al riesgo, no querrá enfrentarse a una situación con resultado incierto y querrá pagar una gran prima de seguro para eliminar dicho riesgo.\n",
    "- O equivalentemente, una persona con alta aversión al riesgo requerirá una compensación alta si se decide a asumir ese riesgo.\n",
    "\n",
    "El **grado de aversión al riesgo** mide qué tanto un inversionista prefiere un resultado seguro a un resultado incierto.\n",
    "\n",
    "Lo opuesto a aversión al riesgo es **tolerancia al riesgo**.\n",
    " \n",
    "<font color=blue> Ver en el tablero gráficamente, cómo se explica la aversión al riesgo desde las funciones de utilidad. </font>\n",
    "\n",
    "**Conclusión:** la concavidad en la función de utilidad dicta qué tan averso al riesgo es el individuo."
   ]
  },
  {
   "cell_type": "code",
   "execution_count": 14,
   "metadata": {},
   "outputs": [],
   "source": [
    "def straight(x1, y1, x2, y2, x):\n",
    "    m = (y2 - y1) / (x2 - x1)\n",
    "    return m * (x - x1) + y1"
   ]
  },
  {
   "cell_type": "code",
   "execution_count": 32,
   "metadata": {},
   "outputs": [
    {
     "data": {
      "text/plain": [
       "Text(0, 0.5, 'Utility ($U$)')"
      ]
     },
     "execution_count": 32,
     "metadata": {},
     "output_type": "execute_result"
    },
    {
     "data": {
      "image/png": "[encoded data removed]",
      "text/plain": [
       "<Figure size 432x288 with 1 Axes>"
      ]
     },
     "metadata": {
      "needs_background": "light"
     },
     "output_type": "display_data"
    }
   ],
   "source": [
    "plt.figure(figsize=(6, 4))\n",
    "plt.plot(W, U3, label=r'$U_3(W)=\\sqrt{W}$')\n",
    "x1, x2 = 0.1, 1.0\n",
    "y1, y2 = x1**0.5, x2**0.5\n",
    "plt.axvline(x=x1, ls='--', color='grey')\n",
    "plt.axvline(x=x2, ls='--', color='grey')\n",
    "plt.axhline(y=y1, ls='--', color='grey')\n",
    "plt.axhline(y=y2, ls='--', color='grey')\n",
    "plt.plot(x1, y1, '*b', ms=5)\n",
    "plt.plot(x2, y2, '*g', ms=5)\n",
    "plt.plot(0.5 * x1 + 0.5 * x2, 0.5 * y1 + 0.5 * y2, 'or', ms=5)\n",
    "plt.plot(0.5 * x1 + 0.5 * x2, (0.5 * x1 + 0.5 * x2)**0.5, 'om', ms=5)\n",
    "plt.plot(W, straight(x1, y1, x2, y2, W))\n",
    "plt.grid()\n",
    "plt.legend(loc='best')\n",
    "plt.xlabel('Wealth ($W$)')\n",
    "plt.ylabel('Utility ($U$)')"
   ]
  },
  {
   "cell_type": "code",
   "execution_count": 19,
   "metadata": {},
   "outputs": [
    {
     "data": {
      "text/plain": [
       "0.55"
      ]
     },
     "execution_count": 19,
     "metadata": {},
     "output_type": "execute_result"
    }
   ],
   "source": [
    "0.5 * 0.1 + 0.5 * 1.0"
   ]
  },
  {
   "cell_type": "code",
   "execution_count": 24,
   "metadata": {},
   "outputs": [
    {
     "data": {
      "text/plain": [
       "0.658113883008419"
      ]
     },
     "execution_count": 24,
     "metadata": {},
     "output_type": "execute_result"
    }
   ],
   "source": [
    "0.5 * y1 + 0.5 * y2"
   ]
  },
  {
   "cell_type": "markdown",
   "metadata": {},
   "source": [
    "### ¿Cómo medimos el grado de aversión al riesgo de un individuo?\n",
    "\n",
    "¿Saben cuál es su coeficiente de aversión al riesgo? Podemos estimarlo.\n",
    "\n",
    "Suponga que se puede participar en la siguiente lotería:\n",
    "- usted puede ganar $\\$1000$ con $50\\%$ de probabilidad, o\n",
    "- puede ganar $\\$500$ con $50\\%$ de probabilidad.\n",
    "\n",
    "Es decir, de entrada usted tendrá $\\$500$ seguros pero también tiene la posibilidad de ganar $\\$1000$.\n",
    "\n",
    "¿Cuánto estarías dispuesto a pagar por esta oportunidad?"
   ]
  },
  {
   "cell_type": "markdown",
   "metadata": {},
   "source": [
    "Bien, podemos relacionar tu respuesta con tu coeficiente de aversión al riesgo.\n",
    "\n",
    "| Coeficiente de aversión al riesgo | Cantidad que pagarías |\n",
    "| --------------------------------- | --------------------- |\n",
    "| 0                                 | 750                   |\n",
    "| 0.5                               | 729                   |\n",
    "| 1                                 | 707                   |\n",
    "| 2                                 | 667                   |\n",
    "| 3                                 | 632                   |\n",
    "| 4                                 | 606                   |\n",
    "| 5                                 | 586                   |\n",
    "| 10                                | 540                   |\n",
    "| 15                                | 525                   |\n",
    "| 20                                | 519                   |\n",
    "| 50                                | 507                   |"
   ]
  },
  {
   "cell_type": "markdown",
   "metadata": {},
   "source": [
    "La mayoría de la gente está dispuesta a pagar entre $\\$540$ (10) y $\\$707$ (1). Es muy raro encontrar coeficientes de aversión al riesgo menores a 1. Esto está soportado por una gran cantidad de encuestas.\n",
    "\n",
    "- En el mundo financiero, los consultores financieros utilizan cuestionarios para medir el coeficiente de aversión al riesgo."
   ]
  },
  {
   "cell_type": "markdown",
   "metadata": {},
   "source": [
    "**Ejemplo.** Describir en términos de aversión al riesgo las siguientes funciones de utilidad que dibujaré en el tablero.\n",
    "___"
   ]
  },
  {
   "cell_type": "markdown",
   "metadata": {},
   "source": [
    "# Anuncios\n",
    "\n",
    "## 1. Quiz la siguiente clase (pendientes del chat).\n",
    "## 2. Tarea 4 entrega 2 para hoy, viernes 13 de marzo.\n",
    "## 3. Tarea 5 entrega 2 para martes 17 de marzo."
   ]
  },
  {
   "cell_type": "markdown",
   "metadata": {},
   "source": [
    "<script>\n",
    "  $(document).ready(function(){\n",
    "    $('div.prompt').hide();\n",
    "    $('div.back-to-top').hide();\n",
    "    $('nav#menubar').hide();\n",
    "    $('.breadcrumb').hide();\n",
    "    $('.hidden-print').hide();\n",
    "  });\n",
    "</script>\n",
    "\n",
    "<footer id=\"attribution\" style=\"float:right; color:#808080; background:#fff;\">\n",
    "Created with Jupyter by Esteban Jiménez Rodríguez.\n",
    "</footer>"
   ]
  }
 ],
 "metadata": {
  "kernelspec": {
   "display_name": "Python 3",
   "language": "python",
   "name": "python3"
  },
  "language_info": {
   "codemirror_mode": {
    "name": "ipython",
    "version": 3
   },
   "file_extension": ".py",
   "mimetype": "text/x-python",
   "name": "python",
   "nbconvert_exporter": "python",
   "pygments_lexer": "ipython3",
   "version": "3.7.3"
  }
 },
 "nbformat": 4,
 "nbformat_minor": 2
}
