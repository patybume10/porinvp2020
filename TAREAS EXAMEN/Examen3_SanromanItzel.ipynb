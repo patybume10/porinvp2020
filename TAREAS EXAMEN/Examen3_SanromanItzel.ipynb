{
 "cells": [
  {
   "cell_type": "markdown",
   "metadata": {},
   "source": [
    "# Examen 1 - Portafolios de inversión - O2018. Tipo 3.\n",
    "\n",
    "<img style=\"float: right; margin: 0px 0px 15px 15px;\" src=\"data:image/jpeg;base64,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\" width=\"600px\" height=\"400px\" />\n",
    "\n",
    "**Resumen.**\n",
    "> Este examen pretende evaluar los conocimientos que hemos adquirido a lo largo de los dos primeros módulos.\n",
    "\n",
    "> El examen consta de dos partes. \n",
    "1. La primera es meramente teórica, y los cálculos que puede llegar a involucrar son bastante sencillos. En esta parte, las preguntas son de selección múltiple con justificación, es decir, debes elegir la(s) respuesta(s) correcta(s) y decir porqué la seleccionaste.\n",
    "2. La segunda parte es práctica, como lo que se ha venido haciendo en las tareas. En esta parte deberás importar un archivo donde se encuentran reportados los precios ajustados en el cierre de dos compañías en una base diaria, deberás caracterizar los rendimientos y con base en ello construir fronteras media-varianza bajo ciertas condiciones. Finalmente deberás concluir de los resultados.\n",
    "\n",
    "**Criterio de revisión.**\n",
    "> Primera parte: tiene un valor del 50% del examen. Cada pregunta tiene un valor del 10%, de los cuales 4% corresponde a la selección y el otro 6% corresponde a la justificación. Si la pregunta corresponde a un cálculo numérico, la justificación es en sí las operaciones resueltas para obtener el resultado en el notebook.\n",
    "\n",
    "> Segunda parte: tiene un valor del 50% del examen. Se te calificará de acuerdo a los resultados finales que reportes, basados en tu análisis.\n",
    "\n",
    "**Antes de comenzar.**\n",
    "> Por favor, nombrar este archivo *Examen1_ApellidoNombre*, sin acentos y sin espacios; por ejemplo, en mi caso el archivo se llamaría *Examen1_JimenezEsteban*. Resolver todos los puntos en dicho archivo y subir a moodle.\n",
    "___"
   ]
  },
  {
   "cell_type": "code",
   "execution_count": 108,
   "metadata": {},
   "outputs": [],
   "source": [
    "import numpy as np\n",
    "import pandas as pd\n",
    "import matplotlib.pyplot as plt\n",
    "%matplotlib inline\n",
    "import pandas_datareader.data as web\n",
    "import scipy.optimize as opt"
   ]
  },
  {
   "cell_type": "markdown",
   "metadata": {},
   "source": [
    "## I. Primera parte (50%)"
   ]
  },
  {
   "cell_type": "markdown",
   "metadata": {},
   "source": [
    "**Pregunta 1.** Considere la siguiente distribución de rendimientos de los activos A, B y C:\n",
    "\n",
    "| Probabilidad     | Rendimiento A       | Rendimiento B         | Rendimiento C         |\n",
    "| ---------------- | ------------------  | -------------------   | ------------------    |\n",
    "| 50%              | 0.10                | 0.03                  | 0.08                  |\n",
    "| 30%              | 0.20                | 0.15                  | -0.13                 |\n",
    "| 20%              | -0.15               | -0.10                 | 0.02                  |\n",
    "\n",
    "¿Cuál es el rendimiento esperado del activo B?\n",
    "\n",
    "A. 4.00%\n",
    "\n",
    "B. 5.00%\n",
    "\n",
    "C. 8.00%\n",
    "\n",
    "D. 0.50%"
   ]
  },
  {
   "cell_type": "markdown",
   "metadata": {},
   "source": [
    "La respuesta correcta es (5%): A"
   ]
  },
  {
   "cell_type": "code",
   "execution_count": 2,
   "metadata": {},
   "outputs": [
    {
     "data": {
      "text/html": [
       "<div>\n",
       "<style scoped>\n",
       "    .dataframe tbody tr th:only-of-type {\n",
       "        vertical-align: middle;\n",
       "    }\n",
       "\n",
       "    .dataframe tbody tr th {\n",
       "        vertical-align: top;\n",
       "    }\n",
       "\n",
       "    .dataframe thead th {\n",
       "        text-align: right;\n",
       "    }\n",
       "</style>\n",
       "<table border=\"1\" class=\"dataframe\">\n",
       "  <thead>\n",
       "    <tr style=\"text-align: right;\">\n",
       "      <th></th>\n",
       "      <th>Prob</th>\n",
       "      <th>A</th>\n",
       "      <th>B</th>\n",
       "      <th>C</th>\n",
       "    </tr>\n",
       "  </thead>\n",
       "  <tbody>\n",
       "    <tr>\n",
       "      <th>0</th>\n",
       "      <td>0.5</td>\n",
       "      <td>0.10</td>\n",
       "      <td>0.03</td>\n",
       "      <td>0.08</td>\n",
       "    </tr>\n",
       "    <tr>\n",
       "      <th>1</th>\n",
       "      <td>0.3</td>\n",
       "      <td>0.20</td>\n",
       "      <td>0.15</td>\n",
       "      <td>-0.13</td>\n",
       "    </tr>\n",
       "    <tr>\n",
       "      <th>2</th>\n",
       "      <td>0.2</td>\n",
       "      <td>-0.15</td>\n",
       "      <td>-0.10</td>\n",
       "      <td>0.02</td>\n",
       "    </tr>\n",
       "  </tbody>\n",
       "</table>\n",
       "</div>"
      ],
      "text/plain": [
       "   Prob     A     B     C\n",
       "0   0.5  0.10  0.03  0.08\n",
       "1   0.3  0.20  0.15 -0.13\n",
       "2   0.2 -0.15 -0.10  0.02"
      ]
     },
     "execution_count": 2,
     "metadata": {},
     "output_type": "execute_result"
    }
   ],
   "source": [
    "# La justificación a esta pregunta son los cálculos necesarios para llegar al resultado (5%)\n",
    "tabla = pd.DataFrame({'Prob':[.50, .30, .20], 'A': [.10, .20, -.15], 'B': [.03, .15, -.10], 'C': [.08, -.13, .02]})\n",
    "tabla"
   ]
  },
  {
   "cell_type": "code",
   "execution_count": 3,
   "metadata": {},
   "outputs": [
    {
     "data": {
      "text/plain": [
       "0.039999999999999994"
      ]
     },
     "execution_count": 3,
     "metadata": {},
     "output_type": "execute_result"
    }
   ],
   "source": [
    "ErA = (tabla['Prob'] * tabla['A']).sum()\n",
    "ErB = (tabla['Prob'] * tabla['B']).sum()\n",
    "ErC = (tabla['Prob'] * tabla['C']).sum()\n",
    "ErB"
   ]
  },
  {
   "cell_type": "markdown",
   "metadata": {},
   "source": [
    "**Pregunta 2.** Considere la siguiente distribución de rendimientos de los activos A, B y C:\n",
    "\n",
    "| Probabilidad     | Rendimiento A       | Rendimiento B         | Rendimiento C         |\n",
    "| ---------------- | ------------------  | -------------------   | ------------------    |\n",
    "| 50%              | 0.10                | 0.03                  | 0.08                  |\n",
    "| 30%              | 0.20                | 0.15                  | -0.13                 |\n",
    "| 20%              | -0.15               | -0.10                 | 0.02                  |\n",
    "\n",
    "¿Cuál es la volatilidad del activo C?\n",
    "\n",
    "A. 9.12%\n",
    "\n",
    "B. 12.29%\n",
    "\n",
    "C. 6.63%\n",
    "\n",
    "D. 8.72%"
   ]
  },
  {
   "cell_type": "markdown",
   "metadata": {},
   "source": [
    "La respuesta correcta es (5%): A"
   ]
  },
  {
   "cell_type": "code",
   "execution_count": 4,
   "metadata": {},
   "outputs": [
    {
     "data": {
      "text/plain": [
       "0.09124143795447329"
      ]
     },
     "execution_count": 4,
     "metadata": {},
     "output_type": "execute_result"
    }
   ],
   "source": [
    "# La justificación a esta pregunta son los cálculos necesarios para llegar al resultado (5%)\n",
    "sA = (tabla['Prob'] * (tabla['A'] - ErA)**2).sum()**0.5\n",
    "sB = (tabla['Prob'] * (tabla['B'] - ErB)**2).sum()**0.5\n",
    "sC = (tabla['Prob'] * (tabla['C'] - ErC)**2).sum()**0.5\n",
    "sC"
   ]
  },
  {
   "cell_type": "markdown",
   "metadata": {},
   "source": [
    "**Pregunta 3.** Considere la siguiente distribución de rendimientos de los activos A, B y C:\n",
    "\n",
    "| Probabilidad     | Rendimiento A       | Rendimiento B         | Rendimiento C         |\n",
    "| ---------------- | ------------------  | -------------------   | ------------------    |\n",
    "| 50%              | 0.10                | 0.03                  | 0.08                  |\n",
    "| 30%              | 0.20                | 0.15                  | -0.13                 |\n",
    "| 20%              | -0.15               | -0.10                 | 0.02                  |\n",
    "\n",
    "\n",
    "¿Cuál es la el rendimiento esperado y la volatilidad de un portafolio compuesto 30% por el activo A, 40% por el activo B y 30% por el activo C?\n",
    "\n",
    "A. $E[r_P]$ = 5.41%, $\\sigma_P$ = 6.60%\n",
    "\n",
    "B. $E[r_P]$ = 4.15%, $\\sigma_P$ = 6.60%\n",
    "\n",
    "C. $E[r_P]$ = 4.51%, $\\sigma_P$ = 6.06%\n",
    "\n",
    "D. $E[r_P]$ = 4.15%, $\\sigma_P$ = 6.06%"
   ]
  },
  {
   "cell_type": "markdown",
   "metadata": {},
   "source": [
    "La respuesta correcta es (5%): D"
   ]
  },
  {
   "cell_type": "code",
   "execution_count": 5,
   "metadata": {},
   "outputs": [],
   "source": [
    "sAB = (tabla['Prob'] * (tabla['A'] - ErA) * (tabla['B'] - ErB)).sum()\n",
    "sAC = (tabla['Prob'] * (tabla['A'] - ErA) * (tabla['C'] - ErC)).sum()\n",
    "sBC = (tabla['Prob'] * (tabla['B'] - ErB) * (tabla['C'] - ErC)).sum()"
   ]
  },
  {
   "cell_type": "code",
   "execution_count": 6,
   "metadata": {},
   "outputs": [
    {
     "data": {
      "text/plain": [
       "(0.041499999999999995, 0.060599092402444446)"
      ]
     },
     "execution_count": 6,
     "metadata": {},
     "output_type": "execute_result"
    }
   ],
   "source": [
    "# La justificación a esta pregunta son los cálculos necesarios para llegar al resultado (5%)\n",
    "ErP = 0.3 * ErA + 0.4 * ErB + 0.3 * ErC\n",
    "cov = np.array([[sA**2, sAB, sAC],\n",
    "               [sAB, sB**2, sBC],\n",
    "               [sAC, sBC, sC**2]])\n",
    "w = np.array([0.3, 0.4, 0.3])\n",
    "sP = (w.T.dot(cov).dot(w))**0.5\n",
    "ErP, sP"
   ]
  },
  {
   "cell_type": "markdown",
   "metadata": {},
   "source": [
    "**Pregunta 4.** ¿Cuáles de los siguientes son ejemplos de riesgo de mercado (sistemático)?\n",
    "\n",
    "\n",
    "Seleccione todas las que apliquen.\n",
    "\n",
    "A. Recesión económica de EEUU.\n",
    "\n",
    "B. AMLO no logra vender el avión presidencial.\n",
    "\n",
    "C. Tercera guerra mundial.\n",
    "\n",
    "D. Cierta plaga ataca al aguacate Hass, disminuyendo su existencia a números muy bajos."
   ]
  },
  {
   "cell_type": "markdown",
   "metadata": {},
   "source": [
    "La respuesta correcta es (5%): A y C"
   ]
  },
  {
   "cell_type": "markdown",
   "metadata": {},
   "source": [
    "Justificación (5%): Estas dos opciones involucran al mundo, en caso de una tercer guerra mundial la economía en general entraría en riesgo, por otra parte, recesión económica en EEUU todos sabemos que muchos países tienen conexión con esta economía, hay países que dependen de esta."
   ]
  },
  {
   "cell_type": "markdown",
   "metadata": {},
   "source": [
    "**Pregunta 5.** Suponga que usted está considerando añadir bienes inmuebles a su portafolio bien diversificado que solo consta de activos, bonos y efectivo en una cuenta bancaria. ¿Cuál característica de los rendimientos de los bienes inmuebles afectaría el riesgo de su portafolio?\n",
    "\n",
    "A. Rendimientos esperados de los bienes inmuebles.\n",
    "\n",
    "B. Qué tan viejos son los bienes inmuebles.\n",
    "\n",
    "C. La correlación de los rendimientos de los bienes inmuebles con las otras clases de activos en su portafolio.\n",
    "\n",
    "D. La desviación estándar de los rendimientos de los bienes inmuebles."
   ]
  },
  {
   "cell_type": "markdown",
   "metadata": {},
   "source": [
    "La respuesta correcta es (5%): C"
   ]
  },
  {
   "cell_type": "markdown",
   "metadata": {},
   "source": [
    "Justificación (5%): La correlación es la medida que usamos para ver semejanza, el parecido que tengan los activos afectaría."
   ]
  },
  {
   "cell_type": "markdown",
   "metadata": {},
   "source": [
    "___\n",
    "## II. Segunda parte (50%)"
   ]
  },
  {
   "cell_type": "markdown",
   "metadata": {},
   "source": [
    "**Punto 1 (15%).** En los archivos `datamx.csv` y `dataus.csv` se encuentran reportados los **precios mensuales ajustados en el cierre** de los activos de Grupo Financiero Banorte, Grupo Financiero Inbursa, Grupo Aeroportuario del Pacífico y Herdez, y Microsoft, Apple, Coca-Cola y Nike, respectivamente, desde inicios del 2012 hasta el úlimo mes reportado.\n",
    "\n",
    "1. Importar los **precios de mensuales** de las compañías <font color=red>americanas</font> en un **DataFrame indizado por fecha** (5%): \n",
    " - Mostrar la gráfica de estos precios.\n",
    " - Obtener un DataFrame con los **rendimientos porcentuales mensuales** para estos activos. Mostrar la gráfica de rendimientos.\n",
    " \n",
    "2. Reportar en un **DataFrame el rendimiento esperado mensual y la volatilidad mensual** para cada uno de estos activos. Calcular las matrices de varianza-covarianza (**base mensual**) y de correlación (**base mensual**) para estos activos (5%).\n",
    "\n",
    "3. De acuerdo a lo obtenido en el punto anterior, elija el par de activos que le ofrezca **la mejor oportunidad para diversificar**. Con estos activos seguirá trabajando en el resto del examen. **Escriba claramente qué activos seleccionó en una celda tipo markdown** (5%)."
   ]
  },
  {
   "cell_type": "code",
   "execution_count": 86,
   "metadata": {},
   "outputs": [
    {
     "data": {
      "text/html": [
       "<div>\n",
       "<style scoped>\n",
       "    .dataframe tbody tr th:only-of-type {\n",
       "        vertical-align: middle;\n",
       "    }\n",
       "\n",
       "    .dataframe tbody tr th {\n",
       "        vertical-align: top;\n",
       "    }\n",
       "\n",
       "    .dataframe thead th {\n",
       "        text-align: right;\n",
       "    }\n",
       "</style>\n",
       "<table border=\"1\" class=\"dataframe\">\n",
       "  <thead>\n",
       "    <tr style=\"text-align: right;\">\n",
       "      <th></th>\n",
       "      <th>AAPL</th>\n",
       "      <th>MSFT</th>\n",
       "      <th>KO</th>\n",
       "      <th>NKE</th>\n",
       "    </tr>\n",
       "    <tr>\n",
       "      <th>Date</th>\n",
       "      <th></th>\n",
       "      <th></th>\n",
       "      <th></th>\n",
       "      <th></th>\n",
       "    </tr>\n",
       "  </thead>\n",
       "  <tbody>\n",
       "    <tr>\n",
       "      <th>2012-01-01</th>\n",
       "      <td>56.910862</td>\n",
       "      <td>24.440378</td>\n",
       "      <td>26.530993</td>\n",
       "      <td>23.635225</td>\n",
       "    </tr>\n",
       "    <tr>\n",
       "      <th>2012-02-01</th>\n",
       "      <td>67.627808</td>\n",
       "      <td>26.269470</td>\n",
       "      <td>27.446392</td>\n",
       "      <td>24.528452</td>\n",
       "    </tr>\n",
       "    <tr>\n",
       "      <th>2012-03-01</th>\n",
       "      <td>74.747902</td>\n",
       "      <td>26.875616</td>\n",
       "      <td>29.076834</td>\n",
       "      <td>24.646637</td>\n",
       "    </tr>\n",
       "    <tr>\n",
       "      <th>2012-04-01</th>\n",
       "      <td>72.806702</td>\n",
       "      <td>26.675678</td>\n",
       "      <td>30.203966</td>\n",
       "      <td>25.511318</td>\n",
       "    </tr>\n",
       "    <tr>\n",
       "      <th>2012-05-01</th>\n",
       "      <td>72.027489</td>\n",
       "      <td>24.318024</td>\n",
       "      <td>29.574728</td>\n",
       "      <td>24.669842</td>\n",
       "    </tr>\n",
       "  </tbody>\n",
       "</table>\n",
       "</div>"
      ],
      "text/plain": [
       "                 AAPL       MSFT         KO        NKE\n",
       "Date                                                  \n",
       "2012-01-01  56.910862  24.440378  26.530993  23.635225\n",
       "2012-02-01  67.627808  26.269470  27.446392  24.528452\n",
       "2012-03-01  74.747902  26.875616  29.076834  24.646637\n",
       "2012-04-01  72.806702  26.675678  30.203966  25.511318\n",
       "2012-05-01  72.027489  24.318024  29.574728  24.669842"
      ]
     },
     "execution_count": 86,
     "metadata": {},
     "output_type": "execute_result"
    }
   ],
   "source": [
    "datos = pd.read_csv('dataus.csv', index_col = 'Date')\n",
    "datos.head()"
   ]
  },
  {
   "cell_type": "code",
   "execution_count": 87,
   "metadata": {},
   "outputs": [
    {
     "data": {
      "text/plain": [
       "<matplotlib.axes._subplots.AxesSubplot at 0x118b4cac8>"
      ]
     },
     "execution_count": 87,
     "metadata": {},
     "output_type": "execute_result"
    },
    {
     "data": {
      "image/png": "[encoded data removed]",
      "text/plain": [
       "<Figure size 432x288 with 1 Axes>"
      ]
     },
     "metadata": {},
     "output_type": "display_data"
    }
   ],
   "source": [
    "datos.plot(grid=True)"
   ]
  },
  {
   "cell_type": "code",
   "execution_count": 88,
   "metadata": {},
   "outputs": [
    {
     "data": {
      "text/html": [
       "<div>\n",
       "<style scoped>\n",
       "    .dataframe tbody tr th:only-of-type {\n",
       "        vertical-align: middle;\n",
       "    }\n",
       "\n",
       "    .dataframe tbody tr th {\n",
       "        vertical-align: top;\n",
       "    }\n",
       "\n",
       "    .dataframe thead th {\n",
       "        text-align: right;\n",
       "    }\n",
       "</style>\n",
       "<table border=\"1\" class=\"dataframe\">\n",
       "  <thead>\n",
       "    <tr style=\"text-align: right;\">\n",
       "      <th></th>\n",
       "      <th>AAPL</th>\n",
       "      <th>MSFT</th>\n",
       "      <th>KO</th>\n",
       "      <th>NKE</th>\n",
       "    </tr>\n",
       "    <tr>\n",
       "      <th>Date</th>\n",
       "      <th></th>\n",
       "      <th></th>\n",
       "      <th></th>\n",
       "      <th></th>\n",
       "    </tr>\n",
       "  </thead>\n",
       "  <tbody>\n",
       "    <tr>\n",
       "      <th>2012-01-01</th>\n",
       "      <td>NaN</td>\n",
       "      <td>NaN</td>\n",
       "      <td>NaN</td>\n",
       "      <td>NaN</td>\n",
       "    </tr>\n",
       "    <tr>\n",
       "      <th>2012-02-01</th>\n",
       "      <td>56.910862</td>\n",
       "      <td>24.440378</td>\n",
       "      <td>26.530993</td>\n",
       "      <td>23.635225</td>\n",
       "    </tr>\n",
       "    <tr>\n",
       "      <th>2012-03-01</th>\n",
       "      <td>67.627808</td>\n",
       "      <td>26.269470</td>\n",
       "      <td>27.446392</td>\n",
       "      <td>24.528452</td>\n",
       "    </tr>\n",
       "    <tr>\n",
       "      <th>2012-04-01</th>\n",
       "      <td>74.747902</td>\n",
       "      <td>26.875616</td>\n",
       "      <td>29.076834</td>\n",
       "      <td>24.646637</td>\n",
       "    </tr>\n",
       "    <tr>\n",
       "      <th>2012-05-01</th>\n",
       "      <td>72.806702</td>\n",
       "      <td>26.675678</td>\n",
       "      <td>30.203966</td>\n",
       "      <td>25.511318</td>\n",
       "    </tr>\n",
       "  </tbody>\n",
       "</table>\n",
       "</div>"
      ],
      "text/plain": [
       "                 AAPL       MSFT         KO        NKE\n",
       "Date                                                  \n",
       "2012-01-01        NaN        NaN        NaN        NaN\n",
       "2012-02-01  56.910862  24.440378  26.530993  23.635225\n",
       "2012-03-01  67.627808  26.269470  27.446392  24.528452\n",
       "2012-04-01  74.747902  26.875616  29.076834  24.646637\n",
       "2012-05-01  72.806702  26.675678  30.203966  25.511318"
      ]
     },
     "execution_count": 88,
     "metadata": {},
     "output_type": "execute_result"
    }
   ],
   "source": [
    "datos.shift().head()"
   ]
  },
  {
   "cell_type": "code",
   "execution_count": 89,
   "metadata": {},
   "outputs": [
    {
     "data": {
      "text/html": [
       "<div>\n",
       "<style scoped>\n",
       "    .dataframe tbody tr th:only-of-type {\n",
       "        vertical-align: middle;\n",
       "    }\n",
       "\n",
       "    .dataframe tbody tr th {\n",
       "        vertical-align: top;\n",
       "    }\n",
       "\n",
       "    .dataframe thead th {\n",
       "        text-align: right;\n",
       "    }\n",
       "</style>\n",
       "<table border=\"1\" class=\"dataframe\">\n",
       "  <thead>\n",
       "    <tr style=\"text-align: right;\">\n",
       "      <th></th>\n",
       "      <th>AAPL</th>\n",
       "      <th>MSFT</th>\n",
       "      <th>KO</th>\n",
       "      <th>NKE</th>\n",
       "    </tr>\n",
       "    <tr>\n",
       "      <th>Date</th>\n",
       "      <th></th>\n",
       "      <th></th>\n",
       "      <th></th>\n",
       "      <th></th>\n",
       "    </tr>\n",
       "  </thead>\n",
       "  <tbody>\n",
       "    <tr>\n",
       "      <th>2012-02-01</th>\n",
       "      <td>0.188311</td>\n",
       "      <td>0.074839</td>\n",
       "      <td>0.034503</td>\n",
       "      <td>0.037792</td>\n",
       "    </tr>\n",
       "    <tr>\n",
       "      <th>2012-03-01</th>\n",
       "      <td>0.105284</td>\n",
       "      <td>0.023074</td>\n",
       "      <td>0.059405</td>\n",
       "      <td>0.004818</td>\n",
       "    </tr>\n",
       "    <tr>\n",
       "      <th>2012-04-01</th>\n",
       "      <td>-0.025970</td>\n",
       "      <td>-0.007439</td>\n",
       "      <td>0.038764</td>\n",
       "      <td>0.035083</td>\n",
       "    </tr>\n",
       "    <tr>\n",
       "      <th>2012-05-01</th>\n",
       "      <td>-0.010702</td>\n",
       "      <td>-0.088382</td>\n",
       "      <td>-0.020833</td>\n",
       "      <td>-0.032984</td>\n",
       "    </tr>\n",
       "    <tr>\n",
       "      <th>2012-06-01</th>\n",
       "      <td>0.010853</td>\n",
       "      <td>0.054838</td>\n",
       "      <td>0.046300</td>\n",
       "      <td>-0.185876</td>\n",
       "    </tr>\n",
       "  </tbody>\n",
       "</table>\n",
       "</div>"
      ],
      "text/plain": [
       "                AAPL      MSFT        KO       NKE\n",
       "Date                                              \n",
       "2012-02-01  0.188311  0.074839  0.034503  0.037792\n",
       "2012-03-01  0.105284  0.023074  0.059405  0.004818\n",
       "2012-04-01 -0.025970 -0.007439  0.038764  0.035083\n",
       "2012-05-01 -0.010702 -0.088382 -0.020833 -0.032984\n",
       "2012-06-01  0.010853  0.054838  0.046300 -0.185876"
      ]
     },
     "execution_count": 89,
     "metadata": {},
     "output_type": "execute_result"
    }
   ],
   "source": [
    "ret = ((datos-datos.shift())/datos.shift()).dropna()\n",
    "ret.head()"
   ]
  },
  {
   "cell_type": "code",
   "execution_count": 90,
   "metadata": {},
   "outputs": [
    {
     "data": {
      "text/plain": [
       "<matplotlib.axes._subplots.AxesSubplot at 0x118b29e48>"
      ]
     },
     "execution_count": 90,
     "metadata": {},
     "output_type": "execute_result"
    },
    {
     "data": {
      "image/png": "[encoded data removed]",
      "text/plain": [
       "<Figure size 432x288 with 1 Axes>"
      ]
     },
     "metadata": {},
     "output_type": "display_data"
    }
   ],
   "source": [
    "ret.plot(grid=True)"
   ]
  },
  {
   "cell_type": "code",
   "execution_count": 91,
   "metadata": {},
   "outputs": [
    {
     "data": {
      "text/plain": [
       "AAPL    0.017811\n",
       "MSFT    0.020692\n",
       "KO      0.008505\n",
       "NKE     0.016839\n",
       "dtype: float64"
      ]
     },
     "execution_count": 91,
     "metadata": {},
     "output_type": "execute_result"
    }
   ],
   "source": [
    "ret.mean()"
   ]
  },
  {
   "cell_type": "code",
   "execution_count": 92,
   "metadata": {},
   "outputs": [
    {
     "data": {
      "text/plain": [
       "AAPL    0.075301\n",
       "MSFT    0.057852\n",
       "KO      0.038600\n",
       "NKE     0.058976\n",
       "dtype: float64"
      ]
     },
     "execution_count": 92,
     "metadata": {},
     "output_type": "execute_result"
    }
   ],
   "source": [
    "ret.std()"
   ]
  },
  {
   "cell_type": "code",
   "execution_count": 93,
   "metadata": {},
   "outputs": [
    {
     "data": {
      "text/html": [
       "<div>\n",
       "<style scoped>\n",
       "    .dataframe tbody tr th:only-of-type {\n",
       "        vertical-align: middle;\n",
       "    }\n",
       "\n",
       "    .dataframe tbody tr th {\n",
       "        vertical-align: top;\n",
       "    }\n",
       "\n",
       "    .dataframe thead th {\n",
       "        text-align: right;\n",
       "    }\n",
       "</style>\n",
       "<table border=\"1\" class=\"dataframe\">\n",
       "  <thead>\n",
       "    <tr style=\"text-align: right;\">\n",
       "      <th></th>\n",
       "      <th>AAPL</th>\n",
       "      <th>MSFT</th>\n",
       "      <th>KO</th>\n",
       "      <th>NKE</th>\n",
       "    </tr>\n",
       "  </thead>\n",
       "  <tbody>\n",
       "    <tr>\n",
       "      <th>AAPL</th>\n",
       "      <td>0.005670</td>\n",
       "      <td>0.001608</td>\n",
       "      <td>0.000560</td>\n",
       "      <td>0.000788</td>\n",
       "    </tr>\n",
       "    <tr>\n",
       "      <th>MSFT</th>\n",
       "      <td>0.001608</td>\n",
       "      <td>0.003347</td>\n",
       "      <td>0.000754</td>\n",
       "      <td>0.000686</td>\n",
       "    </tr>\n",
       "    <tr>\n",
       "      <th>KO</th>\n",
       "      <td>0.000560</td>\n",
       "      <td>0.000754</td>\n",
       "      <td>0.001490</td>\n",
       "      <td>0.000254</td>\n",
       "    </tr>\n",
       "    <tr>\n",
       "      <th>NKE</th>\n",
       "      <td>0.000788</td>\n",
       "      <td>0.000686</td>\n",
       "      <td>0.000254</td>\n",
       "      <td>0.003478</td>\n",
       "    </tr>\n",
       "  </tbody>\n",
       "</table>\n",
       "</div>"
      ],
      "text/plain": [
       "          AAPL      MSFT        KO       NKE\n",
       "AAPL  0.005670  0.001608  0.000560  0.000788\n",
       "MSFT  0.001608  0.003347  0.000754  0.000686\n",
       "KO    0.000560  0.000754  0.001490  0.000254\n",
       "NKE   0.000788  0.000686  0.000254  0.003478"
      ]
     },
     "execution_count": 93,
     "metadata": {},
     "output_type": "execute_result"
    }
   ],
   "source": [
    "# Matriz de covarianza\n",
    "cov = ret.cov()\n",
    "cov"
   ]
  },
  {
   "cell_type": "code",
   "execution_count": 94,
   "metadata": {},
   "outputs": [
    {
     "data": {
      "text/html": [
       "<div>\n",
       "<style scoped>\n",
       "    .dataframe tbody tr th:only-of-type {\n",
       "        vertical-align: middle;\n",
       "    }\n",
       "\n",
       "    .dataframe tbody tr th {\n",
       "        vertical-align: top;\n",
       "    }\n",
       "\n",
       "    .dataframe thead th {\n",
       "        text-align: right;\n",
       "    }\n",
       "</style>\n",
       "<table border=\"1\" class=\"dataframe\">\n",
       "  <thead>\n",
       "    <tr style=\"text-align: right;\">\n",
       "      <th></th>\n",
       "      <th>AAPL</th>\n",
       "      <th>MSFT</th>\n",
       "      <th>KO</th>\n",
       "      <th>NKE</th>\n",
       "    </tr>\n",
       "  </thead>\n",
       "  <tbody>\n",
       "    <tr>\n",
       "      <th>AAPL</th>\n",
       "      <td>1.000000</td>\n",
       "      <td>0.369214</td>\n",
       "      <td>0.192702</td>\n",
       "      <td>0.177371</td>\n",
       "    </tr>\n",
       "    <tr>\n",
       "      <th>MSFT</th>\n",
       "      <td>0.369214</td>\n",
       "      <td>1.000000</td>\n",
       "      <td>0.337857</td>\n",
       "      <td>0.201156</td>\n",
       "    </tr>\n",
       "    <tr>\n",
       "      <th>KO</th>\n",
       "      <td>0.192702</td>\n",
       "      <td>0.337857</td>\n",
       "      <td>1.000000</td>\n",
       "      <td>0.111760</td>\n",
       "    </tr>\n",
       "    <tr>\n",
       "      <th>NKE</th>\n",
       "      <td>0.177371</td>\n",
       "      <td>0.201156</td>\n",
       "      <td>0.111760</td>\n",
       "      <td>1.000000</td>\n",
       "    </tr>\n",
       "  </tbody>\n",
       "</table>\n",
       "</div>"
      ],
      "text/plain": [
       "          AAPL      MSFT        KO       NKE\n",
       "AAPL  1.000000  0.369214  0.192702  0.177371\n",
       "MSFT  0.369214  1.000000  0.337857  0.201156\n",
       "KO    0.192702  0.337857  1.000000  0.111760\n",
       "NKE   0.177371  0.201156  0.111760  1.000000"
      ]
     },
     "execution_count": 94,
     "metadata": {},
     "output_type": "execute_result"
    }
   ],
   "source": [
    "# Matriz de correlación\n",
    "corr = ret.corr()\n",
    "corr"
   ]
  },
  {
   "cell_type": "markdown",
   "metadata": {},
   "source": [
    "# Se utilizará KO y NIKE"
   ]
  },
  {
   "cell_type": "markdown",
   "metadata": {},
   "source": [
    "**Punto 2 (15%).** Usando los datos que obtuvo para los **activos que seleccionó** en el punto anterior:\n",
    "\n",
    "1. Construya la frontera de mínima varianza que representa las posibles combinaciones de portafolios que se pueden crear con los activos que **seleccionó en el primer punto**. Reportar los **rendimientos esperados y las volatilidades de estos portafolios (base mensual) en un DataFrame** (8%).\n",
    "\n",
    "2. Encontrar los pesos del portafolio de mínima varianza. Reportar el **rendimiento esperado mensual y la volatilidad mensual del portafolio de mínima varianza** (7%)."
   ]
  },
  {
   "cell_type": "code",
   "execution_count": 98,
   "metadata": {},
   "outputs": [
    {
     "data": {
      "text/html": [
       "<div>\n",
       "<style scoped>\n",
       "    .dataframe tbody tr th:only-of-type {\n",
       "        vertical-align: middle;\n",
       "    }\n",
       "\n",
       "    .dataframe tbody tr th {\n",
       "        vertical-align: top;\n",
       "    }\n",
       "\n",
       "    .dataframe thead th {\n",
       "        text-align: right;\n",
       "    }\n",
       "</style>\n",
       "<table border=\"1\" class=\"dataframe\">\n",
       "  <thead>\n",
       "    <tr style=\"text-align: right;\">\n",
       "      <th></th>\n",
       "      <th>KO</th>\n",
       "      <th>NKE</th>\n",
       "    </tr>\n",
       "    <tr>\n",
       "      <th>Date</th>\n",
       "      <th></th>\n",
       "      <th></th>\n",
       "    </tr>\n",
       "  </thead>\n",
       "  <tbody>\n",
       "    <tr>\n",
       "      <th>2012-02-01</th>\n",
       "      <td>0.034503</td>\n",
       "      <td>0.037792</td>\n",
       "    </tr>\n",
       "    <tr>\n",
       "      <th>2012-03-01</th>\n",
       "      <td>0.059405</td>\n",
       "      <td>0.004818</td>\n",
       "    </tr>\n",
       "    <tr>\n",
       "      <th>2012-04-01</th>\n",
       "      <td>0.038764</td>\n",
       "      <td>0.035083</td>\n",
       "    </tr>\n",
       "    <tr>\n",
       "      <th>2012-05-01</th>\n",
       "      <td>-0.020833</td>\n",
       "      <td>-0.032984</td>\n",
       "    </tr>\n",
       "    <tr>\n",
       "      <th>2012-06-01</th>\n",
       "      <td>0.046300</td>\n",
       "      <td>-0.185876</td>\n",
       "    </tr>\n",
       "  </tbody>\n",
       "</table>\n",
       "</div>"
      ],
      "text/plain": [
       "                  KO       NKE\n",
       "Date                          \n",
       "2012-02-01  0.034503  0.037792\n",
       "2012-03-01  0.059405  0.004818\n",
       "2012-04-01  0.038764  0.035083\n",
       "2012-05-01 -0.020833 -0.032984\n",
       "2012-06-01  0.046300 -0.185876"
      ]
     },
     "execution_count": 98,
     "metadata": {},
     "output_type": "execute_result"
    }
   ],
   "source": [
    "ret1 = ret1[['KO', 'NKE']]\n",
    "ret1.head()"
   ]
  },
  {
   "cell_type": "code",
   "execution_count": 99,
   "metadata": {},
   "outputs": [
    {
     "data": {
      "text/html": [
       "<div>\n",
       "<style scoped>\n",
       "    .dataframe tbody tr th:only-of-type {\n",
       "        vertical-align: middle;\n",
       "    }\n",
       "\n",
       "    .dataframe tbody tr th {\n",
       "        vertical-align: top;\n",
       "    }\n",
       "\n",
       "    .dataframe thead th {\n",
       "        text-align: right;\n",
       "    }\n",
       "</style>\n",
       "<table border=\"1\" class=\"dataframe\">\n",
       "  <thead>\n",
       "    <tr style=\"text-align: right;\">\n",
       "      <th></th>\n",
       "      <th>Mean</th>\n",
       "      <th>Volatility</th>\n",
       "    </tr>\n",
       "  </thead>\n",
       "  <tbody>\n",
       "    <tr>\n",
       "      <th>KO</th>\n",
       "      <td>0.008505</td>\n",
       "      <td>0.038600</td>\n",
       "    </tr>\n",
       "    <tr>\n",
       "      <th>NKE</th>\n",
       "      <td>0.016839</td>\n",
       "      <td>0.058976</td>\n",
       "    </tr>\n",
       "  </tbody>\n",
       "</table>\n",
       "</div>"
      ],
      "text/plain": [
       "         Mean  Volatility\n",
       "KO   0.008505    0.038600\n",
       "NKE  0.016839    0.058976"
      ]
     },
     "execution_count": 99,
     "metadata": {},
     "output_type": "execute_result"
    }
   ],
   "source": [
    "ret_summ = pd.DataFrame(data={'Mean':ret1.mean(),'Volatility':ret1.std()}, index=ret1.columns)\n",
    "ret_summ"
   ]
  },
  {
   "cell_type": "code",
   "execution_count": 100,
   "metadata": {},
   "outputs": [
    {
     "data": {
      "text/html": [
       "<div>\n",
       "<style scoped>\n",
       "    .dataframe tbody tr th:only-of-type {\n",
       "        vertical-align: middle;\n",
       "    }\n",
       "\n",
       "    .dataframe tbody tr th {\n",
       "        vertical-align: top;\n",
       "    }\n",
       "\n",
       "    .dataframe thead th {\n",
       "        text-align: right;\n",
       "    }\n",
       "</style>\n",
       "<table border=\"1\" class=\"dataframe\">\n",
       "  <thead>\n",
       "    <tr style=\"text-align: right;\">\n",
       "      <th></th>\n",
       "      <th>KO</th>\n",
       "      <th>NKE</th>\n",
       "    </tr>\n",
       "  </thead>\n",
       "  <tbody>\n",
       "    <tr>\n",
       "      <th>Media</th>\n",
       "      <td>0.008505</td>\n",
       "      <td>0.016839</td>\n",
       "    </tr>\n",
       "    <tr>\n",
       "      <th>Volatilidad</th>\n",
       "      <td>0.0386</td>\n",
       "      <td>0.058976</td>\n",
       "    </tr>\n",
       "  </tbody>\n",
       "</table>\n",
       "</div>"
      ],
      "text/plain": [
       "                   KO       NKE\n",
       "Media        0.008505  0.016839\n",
       "Volatilidad    0.0386  0.058976"
      ]
     },
     "execution_count": 100,
     "metadata": {},
     "output_type": "execute_result"
    }
   ],
   "source": [
    "ret_summ = pd.DataFrame(columns=['KO', 'NKE'], index=['Media', 'Volatilidad'])\n",
    "ret_summ.loc['Media'] = np.array([0.008505, 0.016839])\n",
    "ret_summ.loc['Volatilidad'] = np.array([0.038600, 0.058976])\n",
    "ret_summ.round(4)"
   ]
  },
  {
   "cell_type": "code",
   "execution_count": 101,
   "metadata": {},
   "outputs": [],
   "source": [
    "# Vector de w variando entre 0 y 1 con n pasos\n",
    "n = 100\n",
    "w = np.linspace(0, 1, n)\n",
    "# Rendimientos esperados individuales\n",
    "E1 = ret_summ.loc['Media', 'KO']\n",
    "E2 = ret_summ.loc['Media', 'NKE']\n",
    "# Volatilidades individuales\n",
    "s1 = ret_summ.loc['Volatilidad', 'KO']\n",
    "s2 = ret_summ.loc['Volatilidad', 'NKE']\n",
    "# Correlacion\n",
    "r12 = corr.loc['KO', 'NKE']"
   ]
  },
  {
   "cell_type": "code",
   "execution_count": 135,
   "metadata": {},
   "outputs": [
    {
     "data": {
      "text/html": [
       "<div>\n",
       "<style scoped>\n",
       "    .dataframe tbody tr th:only-of-type {\n",
       "        vertical-align: middle;\n",
       "    }\n",
       "\n",
       "    .dataframe tbody tr th {\n",
       "        vertical-align: top;\n",
       "    }\n",
       "\n",
       "    .dataframe thead th {\n",
       "        text-align: right;\n",
       "    }\n",
       "</style>\n",
       "<table border=\"1\" class=\"dataframe\">\n",
       "  <thead>\n",
       "    <tr style=\"text-align: right;\">\n",
       "      <th></th>\n",
       "      <th>w</th>\n",
       "      <th>Media</th>\n",
       "      <th>Volatilidad</th>\n",
       "    </tr>\n",
       "  </thead>\n",
       "  <tbody>\n",
       "    <tr>\n",
       "      <th>0</th>\n",
       "      <td>0.000000</td>\n",
       "      <td>0.016839</td>\n",
       "      <td>0.058976</td>\n",
       "    </tr>\n",
       "    <tr>\n",
       "      <th>1</th>\n",
       "      <td>0.010101</td>\n",
       "      <td>0.016755</td>\n",
       "      <td>0.058425</td>\n",
       "    </tr>\n",
       "    <tr>\n",
       "      <th>2</th>\n",
       "      <td>0.020202</td>\n",
       "      <td>0.016671</td>\n",
       "      <td>0.057877</td>\n",
       "    </tr>\n",
       "    <tr>\n",
       "      <th>3</th>\n",
       "      <td>0.030303</td>\n",
       "      <td>0.016586</td>\n",
       "      <td>0.057331</td>\n",
       "    </tr>\n",
       "    <tr>\n",
       "      <th>4</th>\n",
       "      <td>0.040404</td>\n",
       "      <td>0.016502</td>\n",
       "      <td>0.056789</td>\n",
       "    </tr>\n",
       "  </tbody>\n",
       "</table>\n",
       "</div>"
      ],
      "text/plain": [
       "          w     Media  Volatilidad\n",
       "0  0.000000  0.016839     0.058976\n",
       "1  0.010101  0.016755     0.058425\n",
       "2  0.020202  0.016671     0.057877\n",
       "3  0.030303  0.016586     0.057331\n",
       "4  0.040404  0.016502     0.056789"
      ]
     },
     "execution_count": 135,
     "metadata": {},
     "output_type": "execute_result"
    }
   ],
   "source": [
    "# Crear un DataFrame cuyas columnas sean rendimiento y volatilidad del portafolio para cada una de las w generadas\n",
    "portafolios = pd.DataFrame(data={'w':w, 'Media': w * E1 + (1 - w) * E2, \n",
    "                                'Volatilidad': ((w * s1)**2 + ((1 - w) * s2)**2 + 2 * w * (1 - w) * s1 * s2 * r12)**0.5})\n",
    "portafolios.head()"
   ]
  },
  {
   "cell_type": "code",
   "execution_count": 104,
   "metadata": {},
   "outputs": [
    {
     "data": {
      "text/plain": [
       "0.7229286699181546"
      ]
     },
     "execution_count": 104,
     "metadata": {},
     "output_type": "execute_result"
    }
   ],
   "source": [
    "w_minvar = (s2**2 - s1 * s2 * r12) / (s1**2 + s2**2 - 2 * s1 * s2 * r12)\n",
    "w_minvar"
   ]
  },
  {
   "cell_type": "code",
   "execution_count": 105,
   "metadata": {},
   "outputs": [],
   "source": [
    "# Función objetivo\n",
    "def varianza2(w, s1, s2, r12):\n",
    "    return (w * s1)**2 + ((1 - w) * s2)**2 + 2 * w * (1 - w) * s1 * s2 * r12"
   ]
  },
  {
   "cell_type": "code",
   "execution_count": 106,
   "metadata": {},
   "outputs": [],
   "source": [
    "# Punto inicial\n",
    "w0 = 0.5\n",
    "bounds_w = (0, 1)"
   ]
  },
  {
   "cell_type": "code",
   "execution_count": 109,
   "metadata": {},
   "outputs": [
    {
     "data": {
      "text/plain": [
       "      fun: array([0.00114763])\n",
       " hess_inv: <1x1 LbfgsInvHessProduct with dtype=float64>\n",
       "      jac: array([1.36609474e-09])\n",
       "  message: b'CONVERGENCE: NORM_OF_PROJECTED_GRADIENT_<=_PGTOL'\n",
       "     nfev: 6\n",
       "      nit: 2\n",
       "   status: 0\n",
       "  success: True\n",
       "        x: array([0.72292882])"
      ]
     },
     "execution_count": 109,
     "metadata": {},
     "output_type": "execute_result"
    }
   ],
   "source": [
    "minvar = opt.minimize(fun=varianza2, x0=w0, args=(s1, s2, r12), bounds=(bounds_w,))\n",
    "minvar"
   ]
  },
  {
   "cell_type": "code",
   "execution_count": 111,
   "metadata": {},
   "outputs": [
    {
     "data": {
      "text/plain": [
       "(array([0.72292882]), 0.7229286699181546)"
      ]
     },
     "execution_count": 111,
     "metadata": {},
     "output_type": "execute_result"
    }
   ],
   "source": [
    "# Peso del portafolio de minima varianza\n",
    "w_minvar2 = minvar.x\n",
    "w_minvar2, w_minvar"
   ]
  },
  {
   "cell_type": "code",
   "execution_count": 112,
   "metadata": {},
   "outputs": [
    {
     "data": {
      "text/plain": [
       "(0.0108141124649021, array([0.03387664]))"
      ]
     },
     "execution_count": 112,
     "metadata": {},
     "output_type": "execute_result"
    }
   ],
   "source": [
    "# Rendimiento esperado y volatilidad del portafolio de mínima varianza\n",
    "E_minvar = w_minvar * E1 + (1 - w_minvar) * E2\n",
    "s_minvar = (minvar.fun)**0.5\n",
    "E_minvar, s_minvar"
   ]
  },
  {
   "cell_type": "markdown",
   "metadata": {},
   "source": [
    "**Punto 3 (10%).** En este punto se usarán los mismos **activos que seleccionó** en el punto 1 con sus rendimientos esperados y volatilidades, solo que **el coeficiente de correlación entre sus rendimientos se supondrá de 0.5**.\n",
    "\n",
    "1. Nuevamente, construya la frontera de mínima varianza para estos dos activos **con el nuevo supuesto de correlación**. Reportar **los rendimientos esperados y las volatilidades de estos portafolios en un DataFrame** (5%).\n",
    "2. Encontrar los pesos del portafolio de mínima varianza. Reportar el **rendimiento esperado mensual y la volatilidad mensual del portafolio de mínima varianza** (5%)."
   ]
  },
  {
   "cell_type": "code",
   "execution_count": 113,
   "metadata": {},
   "outputs": [],
   "source": [
    "n1 = 100\n",
    "w1 = np.linspace(0, 1, n)\n",
    "# Rendimientos esperados individuales\n",
    "E_1 = ret_summ.loc['Media', 'KO']\n",
    "E_2 = ret_summ.loc['Media', 'NKE']\n",
    "# Volatilidades individuales\n",
    "s_1 = ret_summ.loc['Volatilidad', 'KO']\n",
    "s_2 = ret_summ.loc['Volatilidad', 'NKE']\n",
    "# Correlacion\n",
    "r_12 = .5"
   ]
  },
  {
   "cell_type": "code",
   "execution_count": 133,
   "metadata": {},
   "outputs": [
    {
     "data": {
      "text/html": [
       "<div>\n",
       "<style scoped>\n",
       "    .dataframe tbody tr th:only-of-type {\n",
       "        vertical-align: middle;\n",
       "    }\n",
       "\n",
       "    .dataframe tbody tr th {\n",
       "        vertical-align: top;\n",
       "    }\n",
       "\n",
       "    .dataframe thead th {\n",
       "        text-align: right;\n",
       "    }\n",
       "</style>\n",
       "<table border=\"1\" class=\"dataframe\">\n",
       "  <thead>\n",
       "    <tr style=\"text-align: right;\">\n",
       "      <th></th>\n",
       "      <th>w</th>\n",
       "      <th>Media</th>\n",
       "      <th>Volatilidad</th>\n",
       "    </tr>\n",
       "  </thead>\n",
       "  <tbody>\n",
       "    <tr>\n",
       "      <th>0</th>\n",
       "      <td>0.000000</td>\n",
       "      <td>0.016839</td>\n",
       "      <td>0.058976</td>\n",
       "    </tr>\n",
       "    <tr>\n",
       "      <th>1</th>\n",
       "      <td>0.010101</td>\n",
       "      <td>0.016755</td>\n",
       "      <td>0.058576</td>\n",
       "    </tr>\n",
       "    <tr>\n",
       "      <th>2</th>\n",
       "      <td>0.020202</td>\n",
       "      <td>0.016671</td>\n",
       "      <td>0.058178</td>\n",
       "    </tr>\n",
       "    <tr>\n",
       "      <th>3</th>\n",
       "      <td>0.030303</td>\n",
       "      <td>0.016586</td>\n",
       "      <td>0.057783</td>\n",
       "    </tr>\n",
       "    <tr>\n",
       "      <th>4</th>\n",
       "      <td>0.040404</td>\n",
       "      <td>0.016502</td>\n",
       "      <td>0.057389</td>\n",
       "    </tr>\n",
       "  </tbody>\n",
       "</table>\n",
       "</div>"
      ],
      "text/plain": [
       "          w     Media  Volatilidad\n",
       "0  0.000000  0.016839     0.058976\n",
       "1  0.010101  0.016755     0.058576\n",
       "2  0.020202  0.016671     0.058178\n",
       "3  0.030303  0.016586     0.057783\n",
       "4  0.040404  0.016502     0.057389"
      ]
     },
     "execution_count": 133,
     "metadata": {},
     "output_type": "execute_result"
    }
   ],
   "source": [
    "portafolios1 = pd.DataFrame(data={'w':w1, 'Media': w1 * E_1 + (1 - w1) * E_2, \n",
    "                                'Volatilidad': ((w1 * s_1)**2 + ((1 - w1) * s_2)**2 + 2 * w1 * (1 - w1) * s_1 * s_2 * r_12)**0.5})\n",
    "portafolios1.head()"
   ]
  },
  {
   "cell_type": "code",
   "execution_count": 115,
   "metadata": {},
   "outputs": [
    {
     "data": {
      "text/plain": [
       "0.8693282745611451"
      ]
     },
     "execution_count": 115,
     "metadata": {},
     "output_type": "execute_result"
    }
   ],
   "source": [
    "w_minvar1 = (s_2**2 - s_1 * s_2 * r_12) / (s_1**2 + s_2**2 - 2 * s_1 * s_2 * r_12)\n",
    "w_minvar1"
   ]
  },
  {
   "cell_type": "code",
   "execution_count": 116,
   "metadata": {},
   "outputs": [],
   "source": [
    "def varianza_2(w1, s_1, s_2, r_12):\n",
    "    return (w1 * s_1)**2 + ((1 - w1) * s_2)**2 + 2 * w1 * (1 - w1) * s_1 * s_2 * r_12"
   ]
  },
  {
   "cell_type": "code",
   "execution_count": 117,
   "metadata": {},
   "outputs": [],
   "source": [
    "w_0 = 0.5\n",
    "bounds_w1 = (0, 1)"
   ]
  },
  {
   "cell_type": "code",
   "execution_count": 118,
   "metadata": {},
   "outputs": [
    {
     "data": {
      "text/plain": [
       "      fun: array([0.001444])\n",
       " hess_inv: <1x1 LbfgsInvHessProduct with dtype=float64>\n",
       "      jac: array([5.39932682e-09])\n",
       "  message: b'CONVERGENCE: NORM_OF_PROJECTED_GRADIENT_<=_PGTOL'\n",
       "     nfev: 6\n",
       "      nit: 2\n",
       "   status: 0\n",
       "  success: True\n",
       "        x: array([0.86932927])"
      ]
     },
     "execution_count": 118,
     "metadata": {},
     "output_type": "execute_result"
    }
   ],
   "source": [
    "minvar1 = opt.minimize(fun=varianza_2, x0=w_0, args=(s_1, s_2, r_12), bounds=(bounds_w1,))\n",
    "minvar1"
   ]
  },
  {
   "cell_type": "code",
   "execution_count": 119,
   "metadata": {},
   "outputs": [
    {
     "data": {
      "text/plain": [
       "(array([0.72292882]), 0.8693282745611451)"
      ]
     },
     "execution_count": 119,
     "metadata": {},
     "output_type": "execute_result"
    }
   ],
   "source": [
    "# Peso del portafolio de minima varianza\n",
    "w_minvar3 = minvar.x\n",
    "w_minvar3, w_minvar1"
   ]
  },
  {
   "cell_type": "code",
   "execution_count": 120,
   "metadata": {},
   "outputs": [
    {
     "data": {
      "text/plain": [
       "(0.009594018159807417, array([0.038]))"
      ]
     },
     "execution_count": 120,
     "metadata": {},
     "output_type": "execute_result"
    }
   ],
   "source": [
    "# Rendimiento esperado y volatilidad del portafolio de mínima varianza\n",
    "E_minvar1 = w_minvar1 * E_1 + (1 - w_minvar1) * E_2\n",
    "s_minvar1 = (minvar1.fun)**0.5\n",
    "E_minvar1, s_minvar1"
   ]
  },
  {
   "cell_type": "markdown",
   "metadata": {},
   "source": [
    "**Punto 4 (10%).** \n",
    "\n",
    "1. Usando sus respuestas para los puntos 2 y 3, **grafique las dos fronteras encontradas en una sola gráfica**, además de los puntos correspondientes a los activos individuales, y de **los portafolios de mínima varianza para cada caso**, donde el eje $x$ es la volatilidad y el eje $y$ el rendimiento esperado. Asegúrese de etiquetar todo y poner distintos colores para diferenciar los distintos elementos en su gráfico (5%).\n",
    "2. Concluya acerca de la gráfica de las dos fronteras de mínima varianza. ¿Cuál provee más diversificación?, ¿cómo se diferencian?, **¿son diferentes los pesos de los dos portafolios de varianza mínima en cada caso?**, **¿cómo puede explicar esta diferencia/similitud?** (5%)."
   ]
  },
  {
   "cell_type": "code",
   "execution_count": 130,
   "metadata": {},
   "outputs": [
    {
     "data": {
      "text/plain": [
       "<matplotlib.legend.Legend at 0x101b2ac828>"
      ]
     },
     "execution_count": 130,
     "metadata": {},
     "output_type": "execute_result"
    },
    {
     "data": {
      "image/png": "[encoded data removed]",
      "text/plain": [
       "<Figure size 576x432 with 1 Axes>"
      ]
     },
     "metadata": {},
     "output_type": "display_data"
    }
   ],
   "source": [
    "plt.figure(figsize=(8,6))\n",
    "\n",
    "plt.plot(s_1, E_1, 'oc', ms=10, label='KO')\n",
    "plt.plot(s_2, E_2, 'om', ms=10, label='NKE')\n",
    "plt.plot(portafolios1['Volatilidad'], portafolios1['Media'], label='Portafolio3')\n",
    "plt.plot(s_minvar1, E_minvar1, 'k*', ms=10, label='Portafolio_minvar3')\n",
    "\n",
    "plt.plot(s1, E1, 'ob', ms=10, label='KO')\n",
    "plt.plot(s2, E2, 'or', ms=10, label='NKE')\n",
    "plt.plot(portafolios['Volatilidad'], portafolios['Media'], label='Portafolio2')\n",
    "plt.plot(s_minvar, E_minvar, 'g*', ms=10, label='Portafolio_minvar2')\n",
    "\n",
    "plt.grid()\n",
    "plt.xlabel('Volatilidad ($\\sigma$)')\n",
    "plt.ylabel('Rendimiento esperado ($E[rP]$)')\n",
    "plt.legend(loc='best')"
   ]
  },
  {
   "cell_type": "markdown",
   "metadata": {},
   "source": [
    "Como podemos ver, es muy notoria la diferencia que se tiene en las dos fronteras, teniendo una correlación de 0.5 la frontera de mínima varianza esta más a la derecha, por otra parte, teniendo una correlación de 0.1117 la frontera de mínima varianza esta más a la izquierda. \n",
    "\n",
    "Esto lo podemos explicar con que teniendo correlaciones bajas, significa mayor oportunidad para diversificar."
   ]
  },
  {
   "cell_type": "markdown",
   "metadata": {},
   "source": [
    "En este caso el portafolio con mayor diversificación es el primero, vemos que por un menor riesgo podemos adquirir el mismo rendimiento, esto gracias a que la correlación que hay entre los dos activos es menor en este caso.\n",
    "\n",
    "Al tener mayor correlación entre dos activos el portafolio de mínima varianza se recorre a la derecha ya que la volatilidad aumenta, entonces, el rendimiento no varia pero el riesgo aumenta.\n",
    "\n",
    "Entonces, se obtiene más diversificación de el portafolio 2 que es el que tiene menor correlación."
   ]
  },
  {
   "cell_type": "markdown",
   "metadata": {},
   "source": [
    "El primer portafolio tiene una w de 0.707071, una media de\t0.010946 y una volatilidad de 0.033893, con respecto al segundo portafolio con una w de \t0.707071, una media de\t0.010946 y una volatilidad de\t0.038921.\n",
    "\n",
    "El cambio que hay es notorio al comparar los dos portafolios.\n",
    "\n",
    "Se diferencian por el cambio en la volatilidad y en el rendimiento."
   ]
  },
  {
   "cell_type": "markdown",
   "metadata": {},
   "source": [
    "Esta diferencia es causada por la distinta correlación entre los dos portafolios."
   ]
  },
  {
   "cell_type": "markdown",
   "metadata": {},
   "source": [
    "<script>\n",
    "  $(document).ready(function(){\n",
    "    $('div.prompt').hide();\n",
    "    $('div.back-to-top').hide();\n",
    "    $('nav#menubar').hide();\n",
    "    $('.breadcrumb').hide();\n",
    "    $('.hidden-print').hide();\n",
    "  });\n",
    "</script>\n",
    "\n",
    "<footer id=\"attribution\" style=\"float:right; color:#808080; background:#fff;\">\n",
    "Created with Jupyter by Esteban Jiménez Rodríguez.\n",
    "</footer>"
   ]
  }
 ],
 "metadata": {
  "kernelspec": {
   "display_name": "Python 3",
   "language": "python",
   "name": "python3"
  },
  "language_info": {
   "codemirror_mode": {
    "name": "ipython",
    "version": 3
   },
   "file_extension": ".py",
   "mimetype": "text/x-python",
   "name": "python",
   "nbconvert_exporter": "python",
   "pygments_lexer": "ipython3",
   "version": "3.7.4"
  }
 },
 "nbformat": 4,
 "nbformat_minor": 2
}
