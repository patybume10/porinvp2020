{
 "cells": [
  {
   "cell_type": "markdown",
   "metadata": {},
   "source": [
    "# Repaso Examen de portafolios\n",
    "## Modulo 1\n",
    "### Quiz 1\n",
    "- Medida de riesgo en los rendimientos: Desviación estándar\n",
    "- Cuando una distribución es asimétrica hacia la izquierda: Los valores negativos extremos (lejos de la media de la izquierda) dominan y la media es negativa \n",
    "- Medir el comportamiento pasado de una inversion: se revisa el rendmiento medio goemetrico en el periodo de interés. \n",
    "- Rendimiento esperado de una inversion: se revisa el rendimiento medio aritmetivo sobre el periodo de interés \n",
    "-  **Rendimiento esperado** como el promedio ponderado (valor esperado) por probabilidad de los posibles resultados. Esto es $$E[r]=\\sum_{j=1}^{m}p_jr_j,$$\n",
    "\n",
    "donde $r_j$ para $j=1,2,\\dots,m$ son los posibles rendimientos y $p_j$ es la probabilidad asociada a que ocurra el rendimiento $r_j$.\n"
   ]
  },
  {
   "cell_type": "markdown",
   "metadata": {},
   "source": [
    "**Rendimiento medio geometrico**  $\\bar{r}_g$ satisface\n",
    "\n",
    "$$(1+\\bar{r}_g)^T=\\prod_{i=1}^{T}(1+r_i),$$\n",
    "\n",
    "o equivalentemente\n",
    "\n",
    "$$\\bar{r}_g=\\left[\\prod_{i=1}^{T}(1+r_i)\\right]^{1/T}-1.$$"
   ]
  },
  {
   "cell_type": "markdown",
   "metadata": {},
   "source": [
    "Calular rendimineto esperado de una serie de activos con su rendimeinto \n",
    "\n",
    "**DataFrame.mean()**\n",
    "\n",
    "\n",
    "Calcular la volatidad con los renditmientos \n",
    "\n",
    "**DataFrame.std()**"
   ]
  },
  {
   "cell_type": "markdown",
   "metadata": {},
   "source": [
    "### Quiz 2"
   ]
  },
  {
   "cell_type": "code",
   "execution_count": 13,
   "metadata": {},
   "outputs": [
    {
     "data": {
      "text/plain": [
       "(ret    0.02395\n",
       " dtype: float64, ret    0.028\n",
       " dtype: float64, ret    0.101833\n",
       " dtype: float64)"
      ]
     },
     "execution_count": 13,
     "metadata": {},
     "output_type": "execute_result"
    }
   ],
   "source": [
    "# Calcular el rendimiento medio geométrico con solo rendimientos de un activo \n",
    "import pandas as pd\n",
    "tabla=pd.DataFrame({'ret':[-0.07,0.04,0.10,-0.08,0.15]})\n",
    "#Rendimiento medio geométrico  (la divición es entre el número de datos)\n",
    "ret=(1+tabla).prod()**(1/5)-1\n",
    "#Rendimiento medio aritmetico\n",
    "ret_art=tabla.mean()\n",
    "#Desviación estandar\n",
    "std=tabla.std()\n",
    "ret,ret_art,std"
   ]
  },
  {
   "cell_type": "markdown",
   "metadata": {},
   "source": [
    "**Rendimientos porcentuales**\n",
    "\n",
    "Para una sucesión de precios $\\{S_t\\}_{t=0}^{n}$, el rendimiento simple $R_t$ se define como el el cambio porcentual\n",
    "$$\n",
    "R_t=\\frac{S_t-S_{t-1}}{S_{t-1}}\n",
    "$$\n",
    "para $t=1,\\ldots,n$.\n",
    "\n",
    "*¡Cuidado!* los rendimientos son de acuerdo a la base de tiempo en que se reportan los precios\n",
    "\n",
    "Se utiliza la el DataFrame.pct_change().dropna()"
   ]
  },
  {
   "cell_type": "markdown",
   "metadata": {},
   "source": [
    "Para mayor información de como extraer los datos y hacerlo Clase 5"
   ]
  },
  {
   "cell_type": "markdown",
   "metadata": {},
   "source": [
    "**Ajuste de mínimos cuadrados**\n",
    "\n",
    "Consideramos que tenemos un conjunto de n pares ordenados de datos $(\\sigma_{r_i},E[r_i])$, para $i=1,2,3,\\dots,n$... **en este caso corresponden a volatilidad y rendimiento esperado**\n",
    "\n",
    "¿Cuál es la recta que mejor se ajusta a estos datos?\n",
    "Consideramos entonces ajustes de la forma $\\hat{f}(\\sigma) = \\beta_0+\\beta_1 \\sigma = \\left[1 \\quad \\sigma\\right]\\left[\\begin{array}{c} \\beta_0 \\\\ \\beta_1 \\end{array}\\right]=\\left[1 \\quad \\sigma\\right]\\boldsymbol{\\beta}$ (lineas rectas).\n",
    "\n",
    "Para decir '*mejor*', tenemos que definir algún sentido en que una recta se ajuste *mejor* que otra.\n",
    "\n",
    "**Mínimos cuadrados**: el objetivo es seleccionar los coeficientes $\\boldsymbol{\\beta}=\\left[\\beta_0 \\quad \\beta_1 \\right]^T$, de forma que la función evaluada en los puntos $\\sigma_{r_i}$ ($\\hat{f}(\\sigma_{r_i})$) aproxime los valores correspondientes $E[r_i]$.\n",
    "\n",
    "La formulación por mínimos cuadrados, encuentra los $\\boldsymbol{\\beta}=\\left[\\beta_0 \\quad \\beta_1 \\right]^T$ que minimiza\n",
    "$$\\sum_{i=1}^{n}(E[r_i]-\\hat{f}(\\sigma_{r_i}))^2$$\n",
    "\n",
    "La libreria para hacerlo es la scipy\n",
    "from scipy.optimize import minimize"
   ]
  },
  {
   "cell_type": "markdown",
   "metadata": {},
   "source": [
    "## Modulo 2\n",
    "\n",
    "**Rendimiento esperado de un portafolio**\n",
    "\n",
    "Un **portafolio** es una colección de diferentes activos junto con una ponderación relativa a cada activo. De esta manera, el rendimiento de un portafolio se trata como el rendimiento de un solo activo.\n",
    "\n",
    "Entonces, si $r_i$ y $w_i$ son el rendimiento y la ponderación del activo $i$ ($i=1,2,\\dots,n$), respectivamente, se tiene que el rendimiento del portafolio $r_p$ es:\n",
    "\n",
    "$$r_p=\\sum_{i=1}^{n}w_ir_i$$\n",
    "\n",
    "**Riesgo de un portafolio**\n",
    "> Recordamos para un solo activo:\n",
    "Para un solo activo usamos la dispersión, medida con la desviación estándar de la distribución de rendimientos.\n",
    "La varianza es el promedio ponderado por probabilidad de las desviaciones al cuadrado de la media. \n",
    "\n",
    "la varianza de los rendimientos de un portafolio está afectada por el movimiento relativo de un activo individual respecto a otro.\n",
    "\n",
    "\n",
    "Observacion clase 6 *Conclusión.* El riesgo de un portafolio no es el promedio ponderado de los riesgos individuales.\n",
    "\n",
    "**Covarianza**\n",
    "\n",
    "Es una medida el movimiento relativo entre dos instrumentos.\n",
    "\n",
    "Matemáticamente, si tenemos dos activos $A_1$ y $A_2$ cuyos rendimientos son $r_1$ y $r_2$, respectivamente, entonces la covarianza de los rendimientos de los activos es\n",
    "\n",
    "$$\\text{cov}(r_1,r_2)=\\sigma_{12}=\\sigma_{21}=\\sum_{j=1}^{m}p_j(r_{1j}-E[r_1])(r_{2j}-E[r_2]).$$\n",
    "\n",
    "- El signo nos dice las direcciones relativas entre los rendimientos de cada activo.\n",
    "- La magnitud de la covarianza no nos dice mucho acerca de la fuerza con que se relacionan o no estos rendimientos.\n",
    "\n",
    "**Correlación:**\n",
    "\n",
    "Un posible problema de la covarianza es que la magnitud de esta medida no nos dice mucho acerca de la fuerza de los movimientos relativos. La *correlación* es una medida normalizada del movimiento relativo entre los rendimientos de dos activos.\n",
    "\n",
    "Matemáticamente,\n",
    "$$\\text{corr}(r_1,r_1)=\\rho_{11}=\\frac{\\sigma_{11}}{\\sigma_1\\sigma_1}=\\frac{\\sigma_{1}^2}{\\sigma_1\\sigma_1}=1.$$\n",
    "- El signo de la correlación y la covarianza es el mismo.\n",
    "- La correlación satisface: $$-1\\leq\\rho_{12}\\leq 1.$$\n",
    "\n",
    "| Coeficiente de correlación | Efecto en la diversificación           |\n",
    "| -------------------------- | -------------------------------------- |\n",
    "| +1.0                       | No es posible reducir riesgo           |\n",
    "| +0.5                       | Reducción de riesgo moderada           |\n",
    "| 0                          | Reducción de riesgo considerable       |\n",
    "| -0.5                       | Casi todo el riesgo puede ser eliminado|\n",
    "| -1.0                       | Todo el riesgo puede ser eliminado     |\n",
    "\n",
    "*Conclusión.*\n",
    "- Es una medida normalizada de la fluctuación relativa de los rendimientos de dos activos.\n",
    "- Si su correlación es negativa, esto impactaría positivamente en la diversificación del riesgo.\n",
    "\n",
    "\n",
    "**Diversifiación: Riesgo sistemático y riesgo idiosincrático**\n",
    "1. Riesgo sistemático:\n",
    " - Es un hecho que todos los activos se ven afectados económicamente por factores comunes.\n",
    " - Ejemplo: si hay una recesión, la gente se encontraría desempleada, lo que afectaría a la mayoría de los negocios al mismo tiempo.\n",
    " - Esto es lo que llamamos **riesgo sistemático**, o **riesgo de mercado**.\n",
    "2. Riesgo idiosincrático\n",
    " - La otra fuente de riesgo en un portafolio es llamada **riesgo idiosincrático**, o **riesgo específico de firma**, o **riesgo único**, o **riesgo no sistemático**.\n",
    " - Esta fuente de riesgo afecta a cada activo en particular por razones específicas.\n",
    " - Por definición, este tipo de riesgo específico, no está relacionado con otros activos.\n",
    " - Entonces cuando combinamos activos en un portafolio, el riesgo idiosincrático tiende a eliminarse. \n",
    " \n",
    "\n",
    "**Frontera de mínima varianza**: es el lugar geométrico de los portafolios en el espacio de rendimiento esperado contra volatilidad, que para cada nivel de rendimiento esperado provee la menor varianza (volatilidad).\n",
    "\n",
    "\n",
    "**Portafolio de mínima varianza**: es el portafolio que posee la menor varianza. No podemos encontrar ningún portafolio más a la izquierda de este en el espacio de rendimiento esperado contra volatilidad.\n",
    "\n",
    "- En particular, para un portafolio con dos activos el problema anterior se reduce a:\n",
    "\\begin{align*}\n",
    "&\\min_{w_1,w_2}\\sigma_p^2=w_1^2\\sigma_1^2+w_2^2\\sigma_2^2+2w_1w_2\\rho_{12}\\sigma_1\\sigma_2\\\\\n",
    "&\\text{s.t.} \\qquad w_1,w_2\\geq0, \\qquad w_1 + w_2 = 1\n",
    "\\end{align*}\n",
    "donde $\\sigma_1,\\sigma_2$ son las volatilidades de los activos individuales y $\\rho_{12}$ es la correlación entre los activos. Equivalentemente, haciendo $w_1=w$ y $w_2=1-w$, el problema anterior se puede reescribir de la siguiente manera:\n",
    "\\begin{align*}\n",
    "&\\min_{w}\\sigma_p^2=w^2\\sigma_1^2+(1-w)^2\\sigma_2^2+2w(1-w)\\rho_{12}\\sigma_1\\sigma_2\\\\\n",
    "&\\text{s.t.} \\qquad 0\\leq w\\leq1,\n",
    "\\end{align*}\n",
    "\n",
    "- La solución al anterior problema de optimización es\n",
    "$$w^{\\ast}=\\frac{\\sigma_2^2 - \\sigma_{12}}{\\sigma_1^2+\\sigma_2^2-2\\sigma_{12}}$$\n",
    "\n",
    "**Portafolios eficientes**: son los portafolios que están en la parte superior de la frontera de mínima varianza, partiendo desde el portafolio de mínima varianza.\n",
    "\n",
    "Clase 9 y tarea 5 para ver algoritmos\n"
   ]
  }
 ],
 "metadata": {
  "kernelspec": {
   "display_name": "Python 3",
   "language": "python",
   "name": "python3"
  },
  "language_info": {
   "codemirror_mode": {
    "name": "ipython",
    "version": 3
   },
   "file_extension": ".py",
   "mimetype": "text/x-python",
   "name": "python",
   "nbconvert_exporter": "python",
   "pygments_lexer": "ipython3",
   "version": "3.7.4"
  }
 },
 "nbformat": 4,
 "nbformat_minor": 2
}
