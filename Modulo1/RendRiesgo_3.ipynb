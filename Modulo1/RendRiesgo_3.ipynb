{
 "cells": [
  {
   "cell_type": "code",
   "execution_count": 11,
   "metadata": {},
   "outputs": [],
   "source": [
    "import pandas as pd"
   ]
  },
  {
   "cell_type": "code",
   "execution_count": 20,
   "metadata": {},
   "outputs": [],
   "source": [
    "# Creamos tabla\n",
    "tabla = pd.DataFrame(columns=['ret', '1+ret', 'cumm'], index=range(1,6))\n",
    "tabla.index.name = 'year'\n",
    "tabla['ret']=[-0.1189,-0.2210,0.2869,0.1088,0.0491]\n",
    "# Llenar celdas faltantes\n",
    "tabla['1+ret'] = tabla['ret'] + 1\n",
    "tabla['cumm'] = tabla['1+ret'].cumprod()"
   ]
  },
  {
   "cell_type": "code",
   "execution_count": 21,
   "metadata": {},
   "outputs": [
    {
     "data": {
      "text/html": [
       "<div>\n",
       "<style scoped>\n",
       "    .dataframe tbody tr th:only-of-type {\n",
       "        vertical-align: middle;\n",
       "    }\n",
       "\n",
       "    .dataframe tbody tr th {\n",
       "        vertical-align: top;\n",
       "    }\n",
       "\n",
       "    .dataframe thead th {\n",
       "        text-align: right;\n",
       "    }\n",
       "</style>\n",
       "<table border=\"1\" class=\"dataframe\">\n",
       "  <thead>\n",
       "    <tr style=\"text-align: right;\">\n",
       "      <th></th>\n",
       "      <th>ret</th>\n",
       "      <th>1+ret</th>\n",
       "      <th>cumm</th>\n",
       "    </tr>\n",
       "    <tr>\n",
       "      <th>year</th>\n",
       "      <th></th>\n",
       "      <th></th>\n",
       "      <th></th>\n",
       "    </tr>\n",
       "  </thead>\n",
       "  <tbody>\n",
       "    <tr>\n",
       "      <td>1</td>\n",
       "      <td>-0.1189</td>\n",
       "      <td>0.8811</td>\n",
       "      <td>0.881100</td>\n",
       "    </tr>\n",
       "    <tr>\n",
       "      <td>2</td>\n",
       "      <td>-0.2210</td>\n",
       "      <td>0.7790</td>\n",
       "      <td>0.686377</td>\n",
       "    </tr>\n",
       "    <tr>\n",
       "      <td>3</td>\n",
       "      <td>0.2869</td>\n",
       "      <td>1.2869</td>\n",
       "      <td>0.883298</td>\n",
       "    </tr>\n",
       "    <tr>\n",
       "      <td>4</td>\n",
       "      <td>0.1088</td>\n",
       "      <td>1.1088</td>\n",
       "      <td>0.979401</td>\n",
       "    </tr>\n",
       "    <tr>\n",
       "      <td>5</td>\n",
       "      <td>0.0491</td>\n",
       "      <td>1.0491</td>\n",
       "      <td>1.027490</td>\n",
       "    </tr>\n",
       "  </tbody>\n",
       "</table>\n",
       "</div>"
      ],
      "text/plain": [
       "         ret   1+ret      cumm\n",
       "year                          \n",
       "1    -0.1189  0.8811  0.881100\n",
       "2    -0.2210  0.7790  0.686377\n",
       "3     0.2869  1.2869  0.883298\n",
       "4     0.1088  1.1088  0.979401\n",
       "5     0.0491  1.0491  1.027490"
      ]
     },
     "execution_count": 21,
     "metadata": {},
     "output_type": "execute_result"
    }
   ],
   "source": [
    "tabla"
   ]
  },
  {
   "cell_type": "markdown",
   "metadata": {},
   "source": [
    "1. ¿Cuál es el rendimiento en el periodo de tenencia de los cinco años?\n",
    "2. ¿Cuál es el rendimiento promedio anual a través de los cinco años?"
   ]
  },
  {
   "cell_type": "code",
   "execution_count": 22,
   "metadata": {},
   "outputs": [
    {
     "data": {
      "text/plain": [
       "0.027489906009996234"
      ]
     },
     "execution_count": 22,
     "metadata": {},
     "output_type": "execute_result"
    }
   ],
   "source": [
    "# Respuesta a la pregunta 1\n",
    "tabla.iloc[-1,-1] - 1"
   ]
  },
  {
   "cell_type": "code",
   "execution_count": 23,
   "metadata": {},
   "outputs": [
    {
     "data": {
      "text/plain": [
       "0.005438503962722274"
      ]
     },
     "execution_count": 23,
     "metadata": {},
     "output_type": "execute_result"
    }
   ],
   "source": [
    "# Respuesta a la pregunta 2\n",
    "tabla.iloc[-1,-1]**(1/5) - 1"
   ]
  },
  {
   "cell_type": "markdown",
   "metadata": {},
   "source": [
    "En general, el rendimiento medio geométrico $\\bar{r}_g$ satisface\n",
    "$$(1+\\bar{r}_g)^T=\\prod_{i=1}^{T}(1+r_i),$$\n",
    "o equivalentemente\n",
    "$$\\bar{r}_g=\\left[\\prod_{i=1}^{T}(1+r_i)\\right]^{1/T}-1.$$\n",
    "2.2. Rendimiento medio aritmético\n",
    "Si pudiéramos obtener escenarios probables para la economía, asociados con ciertas probabilidades, podríamos calcular el rendimiento esperado como el promedio ponderado (valor esperado) por probabilidad de los posibles resultados.\n",
    "Esto es\n",
    "$$E[r]=\\sum_{j=1}^{m}p_jr_j,$$\n",
    "donde $r_j$ para $j=1,2,\\dots,m$ son los posibles rendimientos y $p_j$ es la probabilidad asociada a que ocurra el rendimiento $r_j$.\n",
    "Ejemplo:\n",
    "Suponga que usted invierte en un fondo de acciones. Cada acción se vende actualmente en \\$100.\n",
    "Suponga que hay cuatro posibles estados futuros de la economía, los cuales se resumen en la siguiente tabla"
   ]
  },
  {
   "cell_type": "markdown",
   "metadata": {},
   "source": [
    "Ejemplo:\n",
    "1. Suponga que usted invierte en un fondo de acciones. Cada acción se vende actualmente en \\$100.\n",
    "2. Suponga que hay cuatro posibles estados futuros de la economía, los cuales se resumen en la siguiente tabla"
   ]
  },
  {
   "cell_type": "code",
   "execution_count": 27,
   "metadata": {},
   "outputs": [
    {
     "data": {
      "text/html": [
       "<div>\n",
       "<style scoped>\n",
       "    .dataframe tbody tr th:only-of-type {\n",
       "        vertical-align: middle;\n",
       "    }\n",
       "\n",
       "    .dataframe tbody tr th {\n",
       "        vertical-align: top;\n",
       "    }\n",
       "\n",
       "    .dataframe thead th {\n",
       "        text-align: right;\n",
       "    }\n",
       "</style>\n",
       "<table border=\"1\" class=\"dataframe\">\n",
       "  <thead>\n",
       "    <tr style=\"text-align: right;\">\n",
       "      <th></th>\n",
       "      <th>prob</th>\n",
       "      <th>price</th>\n",
       "      <th>div</th>\n",
       "      <th>ret</th>\n",
       "    </tr>\n",
       "    <tr>\n",
       "      <th>state</th>\n",
       "      <th></th>\n",
       "      <th></th>\n",
       "      <th></th>\n",
       "      <th></th>\n",
       "    </tr>\n",
       "  </thead>\n",
       "  <tbody>\n",
       "    <tr>\n",
       "      <td>excellent</td>\n",
       "      <td>0.25</td>\n",
       "      <td>126.50</td>\n",
       "      <td>4.5</td>\n",
       "      <td>0.3100</td>\n",
       "    </tr>\n",
       "    <tr>\n",
       "      <td>good</td>\n",
       "      <td>0.45</td>\n",
       "      <td>110.00</td>\n",
       "      <td>4.0</td>\n",
       "      <td>0.1400</td>\n",
       "    </tr>\n",
       "    <tr>\n",
       "      <td>poor</td>\n",
       "      <td>0.25</td>\n",
       "      <td>89.75</td>\n",
       "      <td>3.5</td>\n",
       "      <td>-0.0675</td>\n",
       "    </tr>\n",
       "    <tr>\n",
       "      <td>crash</td>\n",
       "      <td>0.05</td>\n",
       "      <td>46.00</td>\n",
       "      <td>2.0</td>\n",
       "      <td>-0.5200</td>\n",
       "    </tr>\n",
       "  </tbody>\n",
       "</table>\n",
       "</div>"
      ],
      "text/plain": [
       "           prob   price  div     ret\n",
       "state                               \n",
       "excellent  0.25  126.50  4.5  0.3100\n",
       "good       0.45  110.00  4.0  0.1400\n",
       "poor       0.25   89.75  3.5 -0.0675\n",
       "crash      0.05   46.00  2.0 -0.5200"
      ]
     },
     "execution_count": 27,
     "metadata": {},
     "output_type": "execute_result"
    }
   ],
   "source": [
    "# Creamos tabla\n",
    "tabla2 = pd.DataFrame(columns=['prob', 'price', 'div', 'ret'], index=['excellent', 'good', 'poor', 'crash'])\n",
    "tabla2.index.name = 'state'\n",
    "tabla2['prob']=[0.25,0.45,0.25,0.05]\n",
    "tabla2['price']=[126.50,110.00,89.75,46.00]\n",
    "tabla2['div']=[4.50,4.00,3.50,2.00]\n",
    "# Llenar celdas faltantes\n",
    "tabla2['ret']=(tabla2['price']+tabla2['div']-100)/100\n",
    "tabla2"
   ]
  },
  {
   "cell_type": "markdown",
   "metadata": {},
   "source": [
    "**Calcular el rendimiento esperado**"
   ]
  },
  {
   "cell_type": "code",
   "execution_count": 29,
   "metadata": {},
   "outputs": [
    {
     "data": {
      "text/plain": [
       "0.09762500000000002"
      ]
     },
     "execution_count": 29,
     "metadata": {},
     "output_type": "execute_result"
    }
   ],
   "source": [
    "(tabla2['prob']*tabla2['ret']).sum()"
   ]
  },
  {
   "cell_type": "markdown",
   "metadata": {},
   "source": [
    "Ejemplo: para la serie de rendimientos anuales para el índice S&P500, podríamos considerar cada uno de los rendimientos observados como posibles resultados igualmente probables...\n",
    "\n",
    "**Entonces el rendimiento esperado se obtiene simplemente como el promedio aritmético de los rendimientos**"
   ]
  },
  {
   "cell_type": "code",
   "execution_count": 30,
   "metadata": {},
   "outputs": [
    {
     "data": {
      "text/plain": [
       "0.02098"
      ]
     },
     "execution_count": 30,
     "metadata": {},
     "output_type": "execute_result"
    }
   ],
   "source": [
    "tabla['ret'].mean()"
   ]
  },
  {
   "cell_type": "markdown",
   "metadata": {},
   "source": [
    "\n",
    "Primer momento alrededor del cero es la media o valor esperado de la variable aleatoria. \n",
    "La media de una variable aleatoria se considera como una cantidad numérica alrededor de la cual los valores de la variable aleatoria tienden a agruparse. Por lo tanto, la media es una medida de tendencia central.\n",
    "\n",
    "**Conclusión: los rendimientos esperados están relacionados con la media (valor esperado) o primer momento alrededor del cero.**\n",
    "\n",
    "**2.3. Ejercicios**\n",
    "\n",
    "En esta sección se dejarán algunos ejercicios para ustedes. Si alcanza el tiempo, se harán en clase.\n",
    "Ejercicio. Considere el siguiente reporte de rendimientos de cierta acción en los últimos tres años\n",
    "Año\tRendimiento\n",
    "\n",
    "1. \t-0.10\n",
    "2. \t0.20\n",
    "3. \t0.30\n",
    "\n",
    "10. Calcular el rendimiento medio geométrico. ¿Cuál es su significado?\n",
    "11. Calcular el rendimiento medio aritmético. ¿Cuál es su significado?"
   ]
  },
  {
   "cell_type": "code",
   "execution_count": null,
   "metadata": {},
   "outputs": [],
   "source": []
  }
 ],
 "metadata": {
  "kernelspec": {
   "display_name": "Python 3",
   "language": "python",
   "name": "python3"
  },
  "language_info": {
   "codemirror_mode": {
    "name": "ipython",
    "version": 3
   },
   "file_extension": ".py",
   "mimetype": "text/x-python",
   "name": "python",
   "nbconvert_exporter": "python",
   "pygments_lexer": "ipython3",
   "version": "3.7.4"
  }
 },
 "nbformat": 4,
 "nbformat_minor": 2
}
