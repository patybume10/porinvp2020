{
 "cells": [
  {
   "cell_type": "markdown",
   "metadata": {},
   "source": [
    "# Midiendo rendimiento y riesgo con datos históricos\n",
    "\n",
    "<img style=\"float: right; margin: 0px 0px 15px 15px;\" src=\"https://upload.wikimedia.org/wikipedia/commons/7/7d/Copper_Price_History_USD.png\" width=\"600px\" height=\"400px\" />\n",
    "\n",
    "> Ya sabemos que podemos caracterizar la distribución de rendimientos de un activo mediante una medida de tendencia central (media: rendimiento esperado) y una medida de dispersión (desviación estándar: volatilidad). \n",
    "\n",
    "> En la clase pasada vimos como obtener reportes históricos de precios de activos. ¿Cómo usamos estos históricos para medir el rendimiento esperado y la volatilidad de los rendimientos?"
   ]
  },
  {
   "cell_type": "markdown",
   "metadata": {},
   "source": [
    "*Objetivos:*\n",
    "- Calcular los rendimientos a partir de históricos de precios.\n",
    "- Estimar rendimiento esperado y riesgo a partir de históricos de rendimientos.\n",
    "- Anualizar rendimiento y volatilidad cuando los datos están en una base de tiempo menor.\n",
    "- Verificar la relación entre rendimiento y riesgo a través de datos reales.\n",
    "\n",
    "**Referencias:**\n",
    "- http://pandas.pydata.org/\n",
    "- https://pandas-datareader.readthedocs.io/en/latest/\n",
    "- Notas del curso \"Portfolio Selection and Risk Management\", Rice University, disponible en Coursera.\n",
    "___"
   ]
  },
  {
   "cell_type": "markdown",
   "metadata": {},
   "source": [
    "## 1. Cálculo de los rendimientos\n",
    "\n",
    "Muy bien, ya entonces sabemos descargar históricos de precios..."
   ]
  },
  {
   "cell_type": "markdown",
   "metadata": {},
   "source": [
    "**Ejemplo:** trabajaremos esta clase con activos que se encuentran en el top-10 del índice S&P500. Descargar precios ajustados en el cierre de Microsoft (MSFT), Apple (AAPL), Amazon (AMZN), Facebook (FB) y Alphabet Inc. (GOOGL) desde el primero de enero del 2015 hasta hoy."
   ]
  },
  {
   "cell_type": "code",
   "execution_count": 1,
   "metadata": {},
   "outputs": [],
   "source": [
    "# Importar paquetes\n",
    "import pandas_datareader.data as web\n",
    "import pandas as pd\n",
    "import numpy as np\n",
    "%matplotlib inline"
   ]
  },
  {
   "cell_type": "code",
   "execution_count": 2,
   "metadata": {},
   "outputs": [],
   "source": [
    "# Función para descargar precios de cierre ajustados:\n",
    "def get_adj_closes(tickers, start_date=None, end_date=None):\n",
    "    # Fecha inicio por defecto (start_date='2010-01-01') y fecha fin por defecto (end_date=today)\n",
    "    # Descargamos DataFrame con todos los datos\n",
    "    closes = web.DataReader(name=tickers, data_source='yahoo', start=start_date, end=end_date)\n",
    "    # Solo necesitamos los precios ajustados en el cierre\n",
    "    closes = closes['Adj Close']\n",
    "    # Se ordenan los índices de manera ascendente\n",
    "    closes.sort_index(inplace=True)\n",
    "    return closes"
   ]
  },
  {
   "cell_type": "code",
   "execution_count": 3,
   "metadata": {},
   "outputs": [],
   "source": [
    "# Información\n",
<<<<<<< Updated upstream
    "names = ['MSFT', 'AAPL', 'AMZN', 'FB', 'GOOGL', '^GSPC']\n",
    "start_date = '2015-01-01'"
=======
    "names = ['MSFT',\"AAPL\",\"AMZN\",\"FB\",\"GOOGL\",\"GSPC\"]\n",
    "start = \"2015-01-01\"\n"
>>>>>>> Stashed changes
   ]
  },
  {
   "cell_type": "code",
   "execution_count": 11,
   "metadata": {},
   "outputs": [
    {
     "data": {
      "text/html": [
       "<div>\n",
       "<style scoped>\n",
       "    .dataframe tbody tr th:only-of-type {\n",
       "        vertical-align: middle;\n",
       "    }\n",
       "\n",
       "    .dataframe tbody tr th {\n",
       "        vertical-align: top;\n",
       "    }\n",
       "\n",
       "    .dataframe thead th {\n",
       "        text-align: right;\n",
       "    }\n",
       "</style>\n",
       "<table border=\"1\" class=\"dataframe\">\n",
       "  <thead>\n",
       "    <tr style=\"text-align: right;\">\n",
       "      <th>Symbols</th>\n",
       "      <th>MSFT</th>\n",
       "      <th>AAPL</th>\n",
       "      <th>AMZN</th>\n",
       "      <th>FB</th>\n",
       "      <th>GOOGL</th>\n",
<<<<<<< Updated upstream
       "      <th>^GSPC</th>\n",
=======
       "      <th>GSPC</th>\n",
>>>>>>> Stashed changes
       "    </tr>\n",
       "    <tr>\n",
       "      <th>Date</th>\n",
       "      <th></th>\n",
       "      <th></th>\n",
       "      <th></th>\n",
       "      <th></th>\n",
       "      <th></th>\n",
       "      <th></th>\n",
       "    </tr>\n",
       "  </thead>\n",
       "  <tbody>\n",
       "    <tr>\n",
<<<<<<< Updated upstream
       "      <th>2020-01-29</th>\n",
       "      <td>168.039993</td>\n",
       "      <td>323.572052</td>\n",
       "      <td>1858.000000</td>\n",
       "      <td>223.229996</td>\n",
       "      <td>1456.699951</td>\n",
       "      <td>3273.399902</td>\n",
       "    </tr>\n",
       "    <tr>\n",
       "      <th>2020-01-30</th>\n",
       "      <td>172.779999</td>\n",
       "      <td>323.103180</td>\n",
       "      <td>1870.680054</td>\n",
       "      <td>209.529999</td>\n",
       "      <td>1454.250000</td>\n",
       "      <td>3283.659912</td>\n",
       "    </tr>\n",
       "    <tr>\n",
       "      <th>2020-01-31</th>\n",
       "      <td>170.229996</td>\n",
       "      <td>308.777191</td>\n",
       "      <td>2008.719971</td>\n",
       "      <td>201.910004</td>\n",
       "      <td>1432.780029</td>\n",
       "      <td>3225.520020</td>\n",
       "    </tr>\n",
       "    <tr>\n",
       "      <th>2020-02-03</th>\n",
       "      <td>174.380005</td>\n",
       "      <td>307.929199</td>\n",
       "      <td>2004.199951</td>\n",
       "      <td>204.190002</td>\n",
       "      <td>1482.599976</td>\n",
       "      <td>3248.919922</td>\n",
       "    </tr>\n",
       "    <tr>\n",
       "      <th>2020-02-04</th>\n",
       "      <td>180.119995</td>\n",
       "      <td>318.095062</td>\n",
       "      <td>2049.669922</td>\n",
       "      <td>209.830002</td>\n",
       "      <td>1445.410034</td>\n",
       "      <td>3297.590088</td>\n",
       "    </tr>\n",
       "    <tr>\n",
       "      <th>2020-02-05</th>\n",
       "      <td>179.899994</td>\n",
       "      <td>320.688934</td>\n",
       "      <td>2039.869995</td>\n",
       "      <td>210.110001</td>\n",
       "      <td>1446.050049</td>\n",
       "      <td>3334.689941</td>\n",
       "    </tr>\n",
       "    <tr>\n",
       "      <th>2020-02-06</th>\n",
       "      <td>183.630005</td>\n",
       "      <td>324.440002</td>\n",
       "      <td>2050.229980</td>\n",
       "      <td>210.850006</td>\n",
       "      <td>1475.969971</td>\n",
       "      <td>3345.780029</td>\n",
       "    </tr>\n",
       "    <tr>\n",
       "      <th>2020-02-07</th>\n",
       "      <td>183.889999</td>\n",
       "      <td>320.029999</td>\n",
       "      <td>2079.280029</td>\n",
       "      <td>212.330002</td>\n",
       "      <td>1479.109985</td>\n",
       "      <td>3327.709961</td>\n",
       "    </tr>\n",
       "    <tr>\n",
       "      <th>2020-02-10</th>\n",
       "      <td>188.699997</td>\n",
       "      <td>321.549988</td>\n",
       "      <td>2133.909912</td>\n",
       "      <td>213.059998</td>\n",
       "      <td>1508.660034</td>\n",
       "      <td>3352.090088</td>\n",
       "    </tr>\n",
       "    <tr>\n",
       "      <th>2020-02-11</th>\n",
       "      <td>184.440002</td>\n",
       "      <td>319.609985</td>\n",
       "      <td>2150.800049</td>\n",
       "      <td>207.190002</td>\n",
       "      <td>1510.060059</td>\n",
       "      <td>3357.750000</td>\n",
=======
       "      <td>2017-09-05</td>\n",
       "      <td>70.946815</td>\n",
       "      <td>156.384277</td>\n",
       "      <td>965.270020</td>\n",
       "      <td>170.720001</td>\n",
       "      <td>941.479980</td>\n",
       "      <td>NaN</td>\n",
       "    </tr>\n",
       "    <tr>\n",
       "      <td>2017-01-19</td>\n",
       "      <td>59.029503</td>\n",
       "      <td>114.150558</td>\n",
       "      <td>809.039978</td>\n",
       "      <td>127.550003</td>\n",
       "      <td>824.369995</td>\n",
       "      <td>NaN</td>\n",
       "    </tr>\n",
       "    <tr>\n",
       "      <td>2018-08-16</td>\n",
       "      <td>105.615364</td>\n",
       "      <td>208.935715</td>\n",
       "      <td>1886.520020</td>\n",
       "      <td>174.699997</td>\n",
       "      <td>1224.060059</td>\n",
       "      <td>NaN</td>\n",
       "    </tr>\n",
       "    <tr>\n",
       "      <td>2019-03-21</td>\n",
       "      <td>118.974266</td>\n",
       "      <td>192.569427</td>\n",
       "      <td>1819.260010</td>\n",
       "      <td>166.080002</td>\n",
       "      <td>1236.130005</td>\n",
       "      <td>NaN</td>\n",
       "    </tr>\n",
       "    <tr>\n",
       "      <td>2015-12-15</td>\n",
       "      <td>50.905373</td>\n",
       "      <td>103.005409</td>\n",
       "      <td>658.640015</td>\n",
       "      <td>104.550003</td>\n",
       "      <td>760.090027</td>\n",
       "      <td>NaN</td>\n",
       "    </tr>\n",
       "    <tr>\n",
       "      <td>2017-12-07</td>\n",
       "      <td>79.904816</td>\n",
       "      <td>163.957169</td>\n",
       "      <td>1159.790039</td>\n",
       "      <td>180.139999</td>\n",
       "      <td>1044.569946</td>\n",
       "      <td>NaN</td>\n",
       "    </tr>\n",
       "    <tr>\n",
       "      <td>2019-03-26</td>\n",
       "      <td>116.688202</td>\n",
       "      <td>184.376678</td>\n",
       "      <td>1783.760010</td>\n",
       "      <td>167.679993</td>\n",
       "      <td>1189.839966</td>\n",
       "      <td>NaN</td>\n",
       "    </tr>\n",
       "    <tr>\n",
       "      <td>2018-04-25</td>\n",
       "      <td>89.837105</td>\n",
       "      <td>159.112808</td>\n",
       "      <td>1460.170044</td>\n",
       "      <td>159.690002</td>\n",
       "      <td>1022.989990</td>\n",
       "      <td>NaN</td>\n",
       "    </tr>\n",
       "    <tr>\n",
       "      <td>2018-11-13</td>\n",
       "      <td>104.928528</td>\n",
       "      <td>188.936081</td>\n",
       "      <td>1631.170044</td>\n",
       "      <td>142.160004</td>\n",
       "      <td>1047.969971</td>\n",
       "      <td>NaN</td>\n",
       "    </tr>\n",
       "    <tr>\n",
       "      <td>2016-12-23</td>\n",
       "      <td>59.920162</td>\n",
       "      <td>111.043777</td>\n",
       "      <td>760.590027</td>\n",
       "      <td>117.269997</td>\n",
       "      <td>807.799988</td>\n",
       "      <td>NaN</td>\n",
>>>>>>> Stashed changes
       "    </tr>\n",
       "  </tbody>\n",
       "</table>\n",
       "</div>"
      ],
      "text/plain": [
<<<<<<< Updated upstream
       "Symbols           MSFT        AAPL         AMZN          FB        GOOGL  \\\n",
       "Date                                                                       \n",
       "2020-01-29  168.039993  323.572052  1858.000000  223.229996  1456.699951   \n",
       "2020-01-30  172.779999  323.103180  1870.680054  209.529999  1454.250000   \n",
       "2020-01-31  170.229996  308.777191  2008.719971  201.910004  1432.780029   \n",
       "2020-02-03  174.380005  307.929199  2004.199951  204.190002  1482.599976   \n",
       "2020-02-04  180.119995  318.095062  2049.669922  209.830002  1445.410034   \n",
       "2020-02-05  179.899994  320.688934  2039.869995  210.110001  1446.050049   \n",
       "2020-02-06  183.630005  324.440002  2050.229980  210.850006  1475.969971   \n",
       "2020-02-07  183.889999  320.029999  2079.280029  212.330002  1479.109985   \n",
       "2020-02-10  188.699997  321.549988  2133.909912  213.059998  1508.660034   \n",
       "2020-02-11  184.440002  319.609985  2150.800049  207.190002  1510.060059   \n",
       "\n",
       "Symbols           ^GSPC  \n",
       "Date                     \n",
       "2020-01-29  3273.399902  \n",
       "2020-01-30  3283.659912  \n",
       "2020-01-31  3225.520020  \n",
       "2020-02-03  3248.919922  \n",
       "2020-02-04  3297.590088  \n",
       "2020-02-05  3334.689941  \n",
       "2020-02-06  3345.780029  \n",
       "2020-02-07  3327.709961  \n",
       "2020-02-10  3352.090088  \n",
       "2020-02-11  3357.750000  "
      ]
     },
     "execution_count": 9,
=======
       "Symbols           MSFT        AAPL         AMZN          FB        GOOGL  GSPC\n",
       "Date                                                                          \n",
       "2017-09-05   70.946815  156.384277   965.270020  170.720001   941.479980   NaN\n",
       "2017-01-19   59.029503  114.150558   809.039978  127.550003   824.369995   NaN\n",
       "2018-08-16  105.615364  208.935715  1886.520020  174.699997  1224.060059   NaN\n",
       "2019-03-21  118.974266  192.569427  1819.260010  166.080002  1236.130005   NaN\n",
       "2015-12-15   50.905373  103.005409   658.640015  104.550003   760.090027   NaN\n",
       "2017-12-07   79.904816  163.957169  1159.790039  180.139999  1044.569946   NaN\n",
       "2019-03-26  116.688202  184.376678  1783.760010  167.679993  1189.839966   NaN\n",
       "2018-04-25   89.837105  159.112808  1460.170044  159.690002  1022.989990   NaN\n",
       "2018-11-13  104.928528  188.936081  1631.170044  142.160004  1047.969971   NaN\n",
       "2016-12-23   59.920162  111.043777   760.590027  117.269997   807.799988   NaN"
      ]
     },
     "execution_count": 11,
>>>>>>> Stashed changes
     "metadata": {},
     "output_type": "execute_result"
    }
   ],
   "source": [
    "# Precios diarios\n",
<<<<<<< Updated upstream
    "closes = get_adj_closes(tickers=names,\n",
    "                        start_date=start_date\n",
    "                       )\n",
    "closes.tail(10)"
=======
    "closes = get_adj_closes(tickers=names,start_date=start)\n",
    "closes.sample(10)"
>>>>>>> Stashed changes
   ]
  },
  {
   "cell_type": "code",
<<<<<<< Updated upstream
   "execution_count": 7,
=======
   "execution_count": 13,
>>>>>>> Stashed changes
   "metadata": {},
   "outputs": [
    {
     "data": {
      "text/plain": [
<<<<<<< Updated upstream
       "<matplotlib.axes._subplots.AxesSubplot at 0x7f5de57e2198>"
      ]
     },
     "execution_count": 7,
=======
       "<matplotlib.axes._subplots.AxesSubplot at 0x109f32a90>"
      ]
     },
     "execution_count": 13,
>>>>>>> Stashed changes
     "metadata": {},
     "output_type": "execute_result"
    },
    {
     "data": {
<<<<<<< Updated upstream
      "image/png": "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\n",
=======
      "image/png": "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\n",
>>>>>>> Stashed changes
      "text/plain": [
       "<Figure size 432x288 with 1 Axes>"
      ]
     },
     "metadata": {
      "needs_background": "light"
     },
     "output_type": "display_data"
    }
   ],
   "source": [
    "# Gráfico de histórico de precios diarios\n",
<<<<<<< Updated upstream
    "closes.plot(figsize=(6,4), grid=True)"
=======
    "closes.plot(figsize=(6,4),grid=True)"
>>>>>>> Stashed changes
   ]
  },
  {
   "cell_type": "markdown",
   "metadata": {},
   "source": [
    "### 1.1. Rendimientos porcentuales"
   ]
  },
  {
   "cell_type": "markdown",
   "metadata": {},
   "source": [
    "Muy bien, pero para el análisis no trabajamos con los precios sino con los rendimientos... **¿porqué?**"
   ]
  },
  {
   "cell_type": "markdown",
   "metadata": {},
   "source": [
    "Para una sucesión de precios $\\{S_t\\}_{t=0}^{n}$, el rendimiento simple $R_t$ se define como el el cambio porcentual\n",
    "$$\n",
    "R_t=\\frac{S_t-S_{t-1}}{S_{t-1}}\n",
    "$$\n",
    "para $t=1,\\ldots,n$."
   ]
  },
  {
   "cell_type": "markdown",
   "metadata": {},
   "source": [
    "*¡Cuidado!* los rendimientos son de acuerdo a la base de tiempo en que se reportan los precios. Por ejemplo: \n",
    "- si los precios se reportan en una base diaria, los rendimientos también son diarios;\n",
    "- si los precios se reportan en una base mensual, los rendimientos también son mensuales."
   ]
  },
  {
   "cell_type": "code",
<<<<<<< Updated upstream
   "execution_count": 11,
   "metadata": {
    "scrolled": true
   },
   "outputs": [
    {
     "name": "stdout",
     "output_type": "stream",
     "text": [
      "Help on method shift in module pandas.core.frame:\n",
      "\n",
      "shift(periods=1, freq=None, axis=0, fill_value=None) method of pandas.core.frame.DataFrame instance\n",
      "    Shift index by desired number of periods with an optional time `freq`.\n",
      "    \n",
      "    When `freq` is not passed, shift the index without realigning the data.\n",
      "    If `freq` is passed (in this case, the index must be date or datetime,\n",
      "    or it will raise a `NotImplementedError`), the index will be\n",
      "    increased using the periods and the `freq`.\n",
      "    \n",
      "    Parameters\n",
      "    ----------\n",
      "    periods : int\n",
      "        Number of periods to shift. Can be positive or negative.\n",
      "    freq : DateOffset, tseries.offsets, timedelta, or str, optional\n",
      "        Offset to use from the tseries module or time rule (e.g. 'EOM').\n",
      "        If `freq` is specified then the index values are shifted but the\n",
      "        data is not realigned. That is, use `freq` if you would like to\n",
      "        extend the index when shifting and preserve the original data.\n",
      "    axis : {0 or 'index', 1 or 'columns', None}, default None\n",
      "        Shift direction.\n",
      "    fill_value : object, optional\n",
      "        The scalar value to use for newly introduced missing values.\n",
      "        the default depends on the dtype of `self`.\n",
      "        For numeric data, ``np.nan`` is used.\n",
      "        For datetime, timedelta, or period data, etc. :attr:`NaT` is used.\n",
      "        For extension dtypes, ``self.dtype.na_value`` is used.\n",
      "    \n",
      "        .. versionchanged:: 0.24.0\n",
      "    \n",
      "    Returns\n",
      "    -------\n",
      "    DataFrame\n",
      "        Copy of input object, shifted.\n",
      "    \n",
      "    See Also\n",
      "    --------\n",
      "    Index.shift : Shift values of Index.\n",
      "    DatetimeIndex.shift : Shift values of DatetimeIndex.\n",
      "    PeriodIndex.shift : Shift values of PeriodIndex.\n",
      "    tshift : Shift the time index, using the index's frequency if\n",
      "        available.\n",
      "    \n",
      "    Examples\n",
      "    --------\n",
      "    >>> df = pd.DataFrame({'Col1': [10, 20, 15, 30, 45],\n",
      "    ...                    'Col2': [13, 23, 18, 33, 48],\n",
      "    ...                    'Col3': [17, 27, 22, 37, 52]})\n",
      "    \n",
      "    >>> df.shift(periods=3)\n",
      "       Col1  Col2  Col3\n",
      "    0   NaN   NaN   NaN\n",
      "    1   NaN   NaN   NaN\n",
      "    2   NaN   NaN   NaN\n",
      "    3  10.0  13.0  17.0\n",
      "    4  20.0  23.0  27.0\n",
      "    \n",
      "    >>> df.shift(periods=1, axis='columns')\n",
      "       Col1  Col2  Col3\n",
      "    0   NaN  10.0  13.0\n",
      "    1   NaN  20.0  23.0\n",
      "    2   NaN  15.0  18.0\n",
      "    3   NaN  30.0  33.0\n",
      "    4   NaN  45.0  48.0\n",
      "    \n",
      "    >>> df.shift(periods=3, fill_value=0)\n",
      "       Col1  Col2  Col3\n",
      "    0     0     0     0\n",
      "    1     0     0     0\n",
      "    2     0     0     0\n",
      "    3    10    13    17\n",
      "    4    20    23    27\n",
      "\n"
     ]
=======
   "execution_count": 14,
   "metadata": {},
   "outputs": [
    {
     "data": {
      "text/html": [
       "<div>\n",
       "<style scoped>\n",
       "    .dataframe tbody tr th:only-of-type {\n",
       "        vertical-align: middle;\n",
       "    }\n",
       "\n",
       "    .dataframe tbody tr th {\n",
       "        vertical-align: top;\n",
       "    }\n",
       "\n",
       "    .dataframe thead th {\n",
       "        text-align: right;\n",
       "    }\n",
       "</style>\n",
       "<table border=\"1\" class=\"dataframe\">\n",
       "  <thead>\n",
       "    <tr style=\"text-align: right;\">\n",
       "      <th>Symbols</th>\n",
       "      <th>MSFT</th>\n",
       "      <th>AAPL</th>\n",
       "      <th>AMZN</th>\n",
       "      <th>FB</th>\n",
       "      <th>GOOGL</th>\n",
       "      <th>GSPC</th>\n",
       "    </tr>\n",
       "    <tr>\n",
       "      <th>Date</th>\n",
       "      <th></th>\n",
       "      <th></th>\n",
       "      <th></th>\n",
       "      <th></th>\n",
       "      <th></th>\n",
       "      <th></th>\n",
       "    </tr>\n",
       "  </thead>\n",
       "  <tbody>\n",
       "    <tr>\n",
       "      <td>2015-01-02</td>\n",
       "      <td>NaN</td>\n",
       "      <td>NaN</td>\n",
       "      <td>NaN</td>\n",
       "      <td>NaN</td>\n",
       "      <td>NaN</td>\n",
       "      <td>NaN</td>\n",
       "    </tr>\n",
       "    <tr>\n",
       "      <td>2015-01-05</td>\n",
       "      <td>41.979183</td>\n",
       "      <td>100.216454</td>\n",
       "      <td>308.519989</td>\n",
       "      <td>78.449997</td>\n",
       "      <td>529.549988</td>\n",
       "      <td>NaN</td>\n",
       "    </tr>\n",
       "    <tr>\n",
       "      <td>2015-01-06</td>\n",
       "      <td>41.593143</td>\n",
       "      <td>97.393181</td>\n",
       "      <td>302.190002</td>\n",
       "      <td>77.190002</td>\n",
       "      <td>519.460022</td>\n",
       "      <td>NaN</td>\n",
       "    </tr>\n",
       "    <tr>\n",
       "      <td>2015-01-07</td>\n",
       "      <td>40.982681</td>\n",
       "      <td>97.402374</td>\n",
       "      <td>295.290009</td>\n",
       "      <td>76.150002</td>\n",
       "      <td>506.640015</td>\n",
       "      <td>NaN</td>\n",
       "    </tr>\n",
       "    <tr>\n",
       "      <td>2015-01-08</td>\n",
       "      <td>41.503380</td>\n",
       "      <td>98.768150</td>\n",
       "      <td>298.420013</td>\n",
       "      <td>76.150002</td>\n",
       "      <td>505.149994</td>\n",
       "      <td>NaN</td>\n",
       "    </tr>\n",
       "    <tr>\n",
       "      <td>...</td>\n",
       "      <td>...</td>\n",
       "      <td>...</td>\n",
       "      <td>...</td>\n",
       "      <td>...</td>\n",
       "      <td>...</td>\n",
       "      <td>...</td>\n",
       "    </tr>\n",
       "    <tr>\n",
       "      <td>2020-02-05</td>\n",
       "      <td>180.119995</td>\n",
       "      <td>318.095062</td>\n",
       "      <td>2049.669922</td>\n",
       "      <td>209.830002</td>\n",
       "      <td>1445.410034</td>\n",
       "      <td>NaN</td>\n",
       "    </tr>\n",
       "    <tr>\n",
       "      <td>2020-02-06</td>\n",
       "      <td>179.899994</td>\n",
       "      <td>320.688934</td>\n",
       "      <td>2039.869995</td>\n",
       "      <td>210.110001</td>\n",
       "      <td>1446.050049</td>\n",
       "      <td>NaN</td>\n",
       "    </tr>\n",
       "    <tr>\n",
       "      <td>2020-02-07</td>\n",
       "      <td>183.630005</td>\n",
       "      <td>324.440002</td>\n",
       "      <td>2050.229980</td>\n",
       "      <td>210.850006</td>\n",
       "      <td>1475.969971</td>\n",
       "      <td>NaN</td>\n",
       "    </tr>\n",
       "    <tr>\n",
       "      <td>2020-02-10</td>\n",
       "      <td>183.889999</td>\n",
       "      <td>320.029999</td>\n",
       "      <td>2079.280029</td>\n",
       "      <td>212.330002</td>\n",
       "      <td>1479.109985</td>\n",
       "      <td>NaN</td>\n",
       "    </tr>\n",
       "    <tr>\n",
       "      <td>2020-02-11</td>\n",
       "      <td>188.699997</td>\n",
       "      <td>321.549988</td>\n",
       "      <td>2133.909912</td>\n",
       "      <td>213.059998</td>\n",
       "      <td>1508.660034</td>\n",
       "      <td>NaN</td>\n",
       "    </tr>\n",
       "  </tbody>\n",
       "</table>\n",
       "<p>1286 rows × 6 columns</p>\n",
       "</div>"
      ],
      "text/plain": [
       "Symbols           MSFT        AAPL         AMZN          FB        GOOGL  GSPC\n",
       "Date                                                                          \n",
       "2015-01-02         NaN         NaN          NaN         NaN          NaN   NaN\n",
       "2015-01-05   41.979183  100.216454   308.519989   78.449997   529.549988   NaN\n",
       "2015-01-06   41.593143   97.393181   302.190002   77.190002   519.460022   NaN\n",
       "2015-01-07   40.982681   97.402374   295.290009   76.150002   506.640015   NaN\n",
       "2015-01-08   41.503380   98.768150   298.420013   76.150002   505.149994   NaN\n",
       "...                ...         ...          ...         ...          ...   ...\n",
       "2020-02-05  180.119995  318.095062  2049.669922  209.830002  1445.410034   NaN\n",
       "2020-02-06  179.899994  320.688934  2039.869995  210.110001  1446.050049   NaN\n",
       "2020-02-07  183.630005  324.440002  2050.229980  210.850006  1475.969971   NaN\n",
       "2020-02-10  183.889999  320.029999  2079.280029  212.330002  1479.109985   NaN\n",
       "2020-02-11  188.699997  321.549988  2133.909912  213.059998  1508.660034   NaN\n",
       "\n",
       "[1286 rows x 6 columns]"
      ]
     },
     "execution_count": 14,
     "metadata": {},
     "output_type": "execute_result"
>>>>>>> Stashed changes
    }
   ],
   "source": [
    "# Método shift() de un DataFrame...\n",
<<<<<<< Updated upstream
    "help(closes.shift)"
=======
    "closes.shift()"
>>>>>>> Stashed changes
   ]
  },
  {
   "cell_type": "code",
   "execution_count": 12,
   "metadata": {
    "scrolled": true
   },
   "outputs": [
    {
     "data": {
      "text/html": [
       "<div>\n",
       "<style scoped>\n",
       "    .dataframe tbody tr th:only-of-type {\n",
       "        vertical-align: middle;\n",
       "    }\n",
       "\n",
       "    .dataframe tbody tr th {\n",
       "        vertical-align: top;\n",
       "    }\n",
       "\n",
       "    .dataframe thead th {\n",
       "        text-align: right;\n",
       "    }\n",
       "</style>\n",
       "<table border=\"1\" class=\"dataframe\">\n",
       "  <thead>\n",
       "    <tr style=\"text-align: right;\">\n",
       "      <th>Symbols</th>\n",
       "      <th>MSFT</th>\n",
       "      <th>AAPL</th>\n",
       "      <th>AMZN</th>\n",
       "      <th>FB</th>\n",
       "      <th>GOOGL</th>\n",
       "      <th>^GSPC</th>\n",
       "    </tr>\n",
       "    <tr>\n",
       "      <th>Date</th>\n",
       "      <th></th>\n",
       "      <th></th>\n",
       "      <th></th>\n",
       "      <th></th>\n",
       "      <th></th>\n",
       "      <th></th>\n",
       "    </tr>\n",
       "  </thead>\n",
       "  <tbody>\n",
       "    <tr>\n",
       "      <th>2015-01-02</th>\n",
       "      <td>NaN</td>\n",
       "      <td>NaN</td>\n",
       "      <td>NaN</td>\n",
       "      <td>NaN</td>\n",
       "      <td>NaN</td>\n",
       "      <td>NaN</td>\n",
       "    </tr>\n",
       "    <tr>\n",
       "      <th>2015-01-05</th>\n",
       "      <td>41.979183</td>\n",
       "      <td>100.216454</td>\n",
       "      <td>308.519989</td>\n",
       "      <td>78.449997</td>\n",
       "      <td>529.549988</td>\n",
       "      <td>2058.199951</td>\n",
       "    </tr>\n",
       "    <tr>\n",
       "      <th>2015-01-06</th>\n",
       "      <td>41.593143</td>\n",
       "      <td>97.393181</td>\n",
       "      <td>302.190002</td>\n",
       "      <td>77.190002</td>\n",
       "      <td>519.460022</td>\n",
       "      <td>2020.579956</td>\n",
       "    </tr>\n",
       "    <tr>\n",
       "      <th>2015-01-07</th>\n",
       "      <td>40.982681</td>\n",
       "      <td>97.402374</td>\n",
       "      <td>295.290009</td>\n",
       "      <td>76.150002</td>\n",
       "      <td>506.640015</td>\n",
       "      <td>2002.609985</td>\n",
       "    </tr>\n",
       "    <tr>\n",
       "      <th>2015-01-08</th>\n",
       "      <td>41.503380</td>\n",
       "      <td>98.768150</td>\n",
       "      <td>298.420013</td>\n",
       "      <td>76.150002</td>\n",
       "      <td>505.149994</td>\n",
       "      <td>2025.900024</td>\n",
       "    </tr>\n",
       "    <tr>\n",
       "      <th>...</th>\n",
       "      <td>...</td>\n",
       "      <td>...</td>\n",
       "      <td>...</td>\n",
       "      <td>...</td>\n",
       "      <td>...</td>\n",
       "      <td>...</td>\n",
       "    </tr>\n",
       "    <tr>\n",
       "      <th>2020-02-05</th>\n",
       "      <td>180.119995</td>\n",
       "      <td>318.095062</td>\n",
       "      <td>2049.669922</td>\n",
       "      <td>209.830002</td>\n",
       "      <td>1445.410034</td>\n",
       "      <td>3297.590088</td>\n",
       "    </tr>\n",
       "    <tr>\n",
       "      <th>2020-02-06</th>\n",
       "      <td>179.899994</td>\n",
       "      <td>320.688934</td>\n",
       "      <td>2039.869995</td>\n",
       "      <td>210.110001</td>\n",
       "      <td>1446.050049</td>\n",
       "      <td>3334.689941</td>\n",
       "    </tr>\n",
       "    <tr>\n",
       "      <th>2020-02-07</th>\n",
       "      <td>183.630005</td>\n",
       "      <td>324.440002</td>\n",
       "      <td>2050.229980</td>\n",
       "      <td>210.850006</td>\n",
       "      <td>1475.969971</td>\n",
       "      <td>3345.780029</td>\n",
       "    </tr>\n",
       "    <tr>\n",
       "      <th>2020-02-10</th>\n",
       "      <td>183.889999</td>\n",
       "      <td>320.029999</td>\n",
       "      <td>2079.280029</td>\n",
       "      <td>212.330002</td>\n",
       "      <td>1479.109985</td>\n",
       "      <td>3327.709961</td>\n",
       "    </tr>\n",
       "    <tr>\n",
       "      <th>2020-02-11</th>\n",
       "      <td>188.699997</td>\n",
       "      <td>321.549988</td>\n",
       "      <td>2133.909912</td>\n",
       "      <td>213.059998</td>\n",
       "      <td>1508.660034</td>\n",
       "      <td>3352.090088</td>\n",
       "    </tr>\n",
       "  </tbody>\n",
       "</table>\n",
       "<p>1286 rows × 6 columns</p>\n",
       "</div>"
      ],
      "text/plain": [
       "Symbols           MSFT        AAPL         AMZN          FB        GOOGL  \\\n",
       "Date                                                                       \n",
       "2015-01-02         NaN         NaN          NaN         NaN          NaN   \n",
       "2015-01-05   41.979183  100.216454   308.519989   78.449997   529.549988   \n",
       "2015-01-06   41.593143   97.393181   302.190002   77.190002   519.460022   \n",
       "2015-01-07   40.982681   97.402374   295.290009   76.150002   506.640015   \n",
       "2015-01-08   41.503380   98.768150   298.420013   76.150002   505.149994   \n",
       "...                ...         ...          ...         ...          ...   \n",
       "2020-02-05  180.119995  318.095062  2049.669922  209.830002  1445.410034   \n",
       "2020-02-06  179.899994  320.688934  2039.869995  210.110001  1446.050049   \n",
       "2020-02-07  183.630005  324.440002  2050.229980  210.850006  1475.969971   \n",
       "2020-02-10  183.889999  320.029999  2079.280029  212.330002  1479.109985   \n",
       "2020-02-11  188.699997  321.549988  2133.909912  213.059998  1508.660034   \n",
       "\n",
       "Symbols           ^GSPC  \n",
       "Date                     \n",
       "2015-01-02          NaN  \n",
       "2015-01-05  2058.199951  \n",
       "2015-01-06  2020.579956  \n",
       "2015-01-07  2002.609985  \n",
       "2015-01-08  2025.900024  \n",
       "...                 ...  \n",
       "2020-02-05  3297.590088  \n",
       "2020-02-06  3334.689941  \n",
       "2020-02-07  3345.780029  \n",
       "2020-02-10  3327.709961  \n",
       "2020-02-11  3352.090088  \n",
       "\n",
       "[1286 rows x 6 columns]"
      ]
     },
     "execution_count": 12,
     "metadata": {},
     "output_type": "execute_result"
    }
   ],
   "source": [
    "closes.shift()"
   ]
  },
  {
   "cell_type": "code",
   "execution_count": null,
   "metadata": {},
   "outputs": [],
   "source": []
  },
  {
   "cell_type": "code",
<<<<<<< Updated upstream
   "execution_count": 14,
=======
   "execution_count": 19,
>>>>>>> Stashed changes
   "metadata": {},
   "outputs": [
    {
     "data": {
      "text/html": [
       "<div>\n",
       "<style scoped>\n",
       "    .dataframe tbody tr th:only-of-type {\n",
       "        vertical-align: middle;\n",
       "    }\n",
       "\n",
       "    .dataframe tbody tr th {\n",
       "        vertical-align: top;\n",
       "    }\n",
       "\n",
       "    .dataframe thead th {\n",
       "        text-align: right;\n",
       "    }\n",
       "</style>\n",
       "<table border=\"1\" class=\"dataframe\">\n",
       "  <thead>\n",
       "    <tr style=\"text-align: right;\">\n",
       "      <th>Symbols</th>\n",
       "      <th>MSFT</th>\n",
       "      <th>AAPL</th>\n",
       "      <th>AMZN</th>\n",
       "      <th>FB</th>\n",
       "      <th>GOOGL</th>\n",
<<<<<<< Updated upstream
       "      <th>^GSPC</th>\n",
=======
       "      <th>GSPC</th>\n",
>>>>>>> Stashed changes
       "    </tr>\n",
       "    <tr>\n",
       "      <th>Date</th>\n",
       "      <th></th>\n",
       "      <th></th>\n",
       "      <th></th>\n",
       "      <th></th>\n",
       "      <th></th>\n",
       "      <th></th>\n",
       "    </tr>\n",
       "  </thead>\n",
       "  <tbody>\n",
       "    <tr>\n",
<<<<<<< Updated upstream
       "      <th>2015-01-05</th>\n",
=======
       "      <td>2015-01-02</td>\n",
       "      <td>NaN</td>\n",
       "      <td>NaN</td>\n",
       "      <td>NaN</td>\n",
       "      <td>NaN</td>\n",
       "      <td>NaN</td>\n",
       "      <td>NaN</td>\n",
       "    </tr>\n",
       "    <tr>\n",
       "      <td>2015-01-05</td>\n",
>>>>>>> Stashed changes
       "      <td>-0.009196</td>\n",
       "      <td>-0.028172</td>\n",
       "      <td>-0.020517</td>\n",
       "      <td>-0.016061</td>\n",
       "      <td>-0.019054</td>\n",
<<<<<<< Updated upstream
       "      <td>-0.018278</td>\n",
       "    </tr>\n",
       "    <tr>\n",
       "      <th>2015-01-06</th>\n",
=======
       "      <td>NaN</td>\n",
       "    </tr>\n",
       "    <tr>\n",
       "      <td>2015-01-06</td>\n",
>>>>>>> Stashed changes
       "      <td>-0.014677</td>\n",
       "      <td>0.000094</td>\n",
       "      <td>-0.022833</td>\n",
       "      <td>-0.013473</td>\n",
       "      <td>-0.024679</td>\n",
<<<<<<< Updated upstream
       "      <td>-0.008893</td>\n",
       "    </tr>\n",
       "    <tr>\n",
       "      <th>2015-01-07</th>\n",
=======
       "      <td>NaN</td>\n",
       "    </tr>\n",
       "    <tr>\n",
       "      <td>2015-01-07</td>\n",
>>>>>>> Stashed changes
       "      <td>0.012705</td>\n",
       "      <td>0.014022</td>\n",
       "      <td>0.010600</td>\n",
       "      <td>0.000000</td>\n",
       "      <td>-0.002941</td>\n",
<<<<<<< Updated upstream
       "      <td>0.011630</td>\n",
       "    </tr>\n",
       "    <tr>\n",
       "      <th>2015-01-08</th>\n",
=======
       "      <td>NaN</td>\n",
       "    </tr>\n",
       "    <tr>\n",
       "      <td>2015-01-08</td>\n",
>>>>>>> Stashed changes
       "      <td>0.029418</td>\n",
       "      <td>0.038423</td>\n",
       "      <td>0.006836</td>\n",
       "      <td>0.026658</td>\n",
       "      <td>0.003484</td>\n",
<<<<<<< Updated upstream
       "      <td>0.017888</td>\n",
       "    </tr>\n",
       "    <tr>\n",
       "      <th>2015-01-09</th>\n",
       "      <td>-0.008405</td>\n",
       "      <td>0.001072</td>\n",
       "      <td>-0.011749</td>\n",
       "      <td>-0.005628</td>\n",
       "      <td>-0.012211</td>\n",
       "      <td>-0.008404</td>\n",
=======
       "      <td>NaN</td>\n",
>>>>>>> Stashed changes
       "    </tr>\n",
       "  </tbody>\n",
       "</table>\n",
       "</div>"
      ],
      "text/plain": [
<<<<<<< Updated upstream
       "Symbols         MSFT      AAPL      AMZN        FB     GOOGL     ^GSPC\n",
       "Date                                                                  \n",
       "2015-01-05 -0.009196 -0.028172 -0.020517 -0.016061 -0.019054 -0.018278\n",
       "2015-01-06 -0.014677  0.000094 -0.022833 -0.013473 -0.024679 -0.008893\n",
       "2015-01-07  0.012705  0.014022  0.010600  0.000000 -0.002941  0.011630\n",
       "2015-01-08  0.029418  0.038423  0.006836  0.026658  0.003484  0.017888\n",
       "2015-01-09 -0.008405  0.001072 -0.011749 -0.005628 -0.012211 -0.008404"
      ]
     },
     "execution_count": 14,
=======
       "Symbols         MSFT      AAPL      AMZN        FB     GOOGL  GSPC\n",
       "Date                                                              \n",
       "2015-01-02       NaN       NaN       NaN       NaN       NaN   NaN\n",
       "2015-01-05 -0.009196 -0.028172 -0.020517 -0.016061 -0.019054   NaN\n",
       "2015-01-06 -0.014677  0.000094 -0.022833 -0.013473 -0.024679   NaN\n",
       "2015-01-07  0.012705  0.014022  0.010600  0.000000 -0.002941   NaN\n",
       "2015-01-08  0.029418  0.038423  0.006836  0.026658  0.003484   NaN"
      ]
     },
     "execution_count": 19,
>>>>>>> Stashed changes
     "metadata": {},
     "output_type": "execute_result"
    }
   ],
   "source": [
    "# Calcular los rendimientos\n",
<<<<<<< Updated upstream
    "ret = ((closes - closes.shift()) / closes.shift()).dropna()\n",
=======
    "ret = ((closes - closes.shift())/closes.shift())\n",
>>>>>>> Stashed changes
    "ret.head()"
   ]
  },
  {
   "cell_type": "code",
<<<<<<< Updated upstream
   "execution_count": 17,
=======
   "execution_count": 26,
>>>>>>> Stashed changes
   "metadata": {},
   "outputs": [
    {
     "data": {
      "text/html": [
       "<div>\n",
       "<style scoped>\n",
       "    .dataframe tbody tr th:only-of-type {\n",
       "        vertical-align: middle;\n",
       "    }\n",
       "\n",
       "    .dataframe tbody tr th {\n",
       "        vertical-align: top;\n",
       "    }\n",
       "\n",
       "    .dataframe thead th {\n",
       "        text-align: right;\n",
       "    }\n",
       "</style>\n",
       "<table border=\"1\" class=\"dataframe\">\n",
       "  <thead>\n",
       "    <tr style=\"text-align: right;\">\n",
       "      <th>Symbols</th>\n",
       "      <th>MSFT</th>\n",
       "      <th>AAPL</th>\n",
       "      <th>AMZN</th>\n",
       "      <th>FB</th>\n",
       "      <th>GOOGL</th>\n",
       "      <th>GSPC</th>\n",
       "    </tr>\n",
       "    <tr>\n",
       "      <th>Date</th>\n",
       "      <th></th>\n",
       "      <th></th>\n",
       "      <th></th>\n",
       "      <th></th>\n",
       "      <th></th>\n",
       "      <th></th>\n",
       "    </tr>\n",
       "  </thead>\n",
       "  <tbody>\n",
       "    <tr>\n",
       "      <td>2015-01-02</td>\n",
       "      <td>NaN</td>\n",
       "      <td>NaN</td>\n",
       "      <td>NaN</td>\n",
       "      <td>NaN</td>\n",
       "      <td>NaN</td>\n",
       "      <td>NaN</td>\n",
       "    </tr>\n",
       "    <tr>\n",
       "      <td>2015-01-05</td>\n",
       "      <td>-0.009196</td>\n",
       "      <td>-0.028172</td>\n",
       "      <td>-0.020517</td>\n",
       "      <td>-0.016061</td>\n",
       "      <td>-0.019054</td>\n",
       "      <td>NaN</td>\n",
       "    </tr>\n",
       "    <tr>\n",
       "      <td>2015-01-06</td>\n",
       "      <td>-0.014677</td>\n",
       "      <td>0.000094</td>\n",
       "      <td>-0.022833</td>\n",
       "      <td>-0.013473</td>\n",
       "      <td>-0.024679</td>\n",
       "      <td>NaN</td>\n",
       "    </tr>\n",
       "    <tr>\n",
       "      <td>2015-01-07</td>\n",
       "      <td>0.012705</td>\n",
       "      <td>0.014022</td>\n",
       "      <td>0.010600</td>\n",
       "      <td>0.000000</td>\n",
       "      <td>-0.002941</td>\n",
       "      <td>NaN</td>\n",
       "    </tr>\n",
       "    <tr>\n",
       "      <td>2015-01-08</td>\n",
       "      <td>0.029418</td>\n",
       "      <td>0.038423</td>\n",
       "      <td>0.006836</td>\n",
       "      <td>0.026658</td>\n",
       "      <td>0.003484</td>\n",
       "      <td>NaN</td>\n",
       "    </tr>\n",
       "    <tr>\n",
       "      <td>...</td>\n",
       "      <td>...</td>\n",
       "      <td>...</td>\n",
       "      <td>...</td>\n",
       "      <td>...</td>\n",
       "      <td>...</td>\n",
       "      <td>...</td>\n",
       "    </tr>\n",
       "    <tr>\n",
       "      <td>2020-02-05</td>\n",
       "      <td>-0.001221</td>\n",
       "      <td>0.008154</td>\n",
       "      <td>-0.004781</td>\n",
       "      <td>0.001334</td>\n",
       "      <td>0.000443</td>\n",
       "      <td>NaN</td>\n",
       "    </tr>\n",
       "    <tr>\n",
       "      <td>2020-02-06</td>\n",
       "      <td>0.020734</td>\n",
       "      <td>0.011697</td>\n",
       "      <td>0.005079</td>\n",
       "      <td>0.003522</td>\n",
       "      <td>0.020691</td>\n",
       "      <td>NaN</td>\n",
       "    </tr>\n",
       "    <tr>\n",
       "      <td>2020-02-07</td>\n",
       "      <td>0.001416</td>\n",
       "      <td>-0.013593</td>\n",
       "      <td>0.014169</td>\n",
       "      <td>0.007019</td>\n",
       "      <td>0.002127</td>\n",
       "      <td>NaN</td>\n",
       "    </tr>\n",
       "    <tr>\n",
       "      <td>2020-02-10</td>\n",
       "      <td>0.026157</td>\n",
       "      <td>0.004750</td>\n",
       "      <td>0.026273</td>\n",
       "      <td>0.003438</td>\n",
       "      <td>0.019978</td>\n",
       "      <td>NaN</td>\n",
       "    </tr>\n",
       "    <tr>\n",
       "      <td>2020-02-11</td>\n",
       "      <td>-0.022575</td>\n",
       "      <td>-0.006033</td>\n",
       "      <td>0.007915</td>\n",
       "      <td>-0.027551</td>\n",
       "      <td>0.000928</td>\n",
       "      <td>NaN</td>\n",
       "    </tr>\n",
       "  </tbody>\n",
       "</table>\n",
       "<p>1286 rows × 6 columns</p>\n",
       "</div>"
      ],
      "text/plain": [
       "Symbols         MSFT      AAPL      AMZN        FB     GOOGL  GSPC\n",
       "Date                                                              \n",
       "2015-01-02       NaN       NaN       NaN       NaN       NaN   NaN\n",
       "2015-01-05 -0.009196 -0.028172 -0.020517 -0.016061 -0.019054   NaN\n",
       "2015-01-06 -0.014677  0.000094 -0.022833 -0.013473 -0.024679   NaN\n",
       "2015-01-07  0.012705  0.014022  0.010600  0.000000 -0.002941   NaN\n",
       "2015-01-08  0.029418  0.038423  0.006836  0.026658  0.003484   NaN\n",
       "...              ...       ...       ...       ...       ...   ...\n",
       "2020-02-05 -0.001221  0.008154 -0.004781  0.001334  0.000443   NaN\n",
       "2020-02-06  0.020734  0.011697  0.005079  0.003522  0.020691   NaN\n",
       "2020-02-07  0.001416 -0.013593  0.014169  0.007019  0.002127   NaN\n",
       "2020-02-10  0.026157  0.004750  0.026273  0.003438  0.019978   NaN\n",
       "2020-02-11 -0.022575 -0.006033  0.007915 -0.027551  0.000928   NaN\n",
       "\n",
       "[1286 rows x 6 columns]"
      ]
     },
     "execution_count": 26,
     "metadata": {},
     "output_type": "execute_result"
    }
   ],
   "source": [
    "# Otra forma (más fácil)\n",
<<<<<<< Updated upstream
    "ret = closes.pct_change().dropna()"
=======
    "retl = closes.pct_change()\n",
    "retl"
>>>>>>> Stashed changes
   ]
  },
  {
   "cell_type": "code",
<<<<<<< Updated upstream
   "execution_count": 18,
=======
   "execution_count": 28,
>>>>>>> Stashed changes
   "metadata": {},
   "outputs": [
    {
     "data": {
      "text/plain": [
<<<<<<< Updated upstream
       "<matplotlib.axes._subplots.AxesSubplot at 0x7f5de730c4e0>"
      ]
     },
     "execution_count": 18,
=======
       "<matplotlib.axes._subplots.AxesSubplot at 0x11cb19e50>"
      ]
     },
     "execution_count": 28,
>>>>>>> Stashed changes
     "metadata": {},
     "output_type": "execute_result"
    },
    {
     "data": {
<<<<<<< Updated upstream
      "image/png": "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\n",
=======
      "image/png": "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\n",
>>>>>>> Stashed changes
      "text/plain": [
       "<Figure size 432x288 with 1 Axes>"
      ]
     },
     "metadata": {
      "needs_background": "light"
     },
     "output_type": "display_data"
    }
   ],
   "source": [
    "# Graficar...\n",
<<<<<<< Updated upstream
    "ret.plot(figsize=(6, 4), grid=True)"
=======
    "\n",
    "retl.plot(figsize=(6,4),grid=True)"
>>>>>>> Stashed changes
   ]
  },
  {
   "cell_type": "markdown",
   "metadata": {},
   "source": [
    "**¿Qué se observa respecto a los precios?**\n",
    "\n",
    "Respuestas:\n",
    "- Los rendimientos parecen conservar tendecias estadísticas constantes (por ejemplo, oscilan al rededor de números cercanos a cero). "
   ]
  },
  {
   "cell_type": "markdown",
   "metadata": {},
   "source": [
    "### 1.2. Rendimientos logarítmicos (log-rendimientos)"
   ]
  },
  {
   "cell_type": "markdown",
   "metadata": {},
   "source": [
    "Otro rendimiento usado con frecuencia es el rendimiento continuamente compuesto o rendimiento logaritmico. Éste, está definido como\n",
    "\n",
    "$$\n",
    "r_t=\\ln\\left(\\frac{S_t}{S_{t-1}}\\right).\n",
    "$$\n",
    "\n",
    "Es fácil darse cuenta que $r_t=\\ln(1+R_t)$.\n",
    "\n",
    "<font color=blue>Ver en el tablero</font> que si $0\\leq|x|\\ll 1$, entonces $\\ln(1+x)\\approx x$."
   ]
  },
  {
   "cell_type": "code",
<<<<<<< Updated upstream
   "execution_count": 21,
=======
   "execution_count": 43,
>>>>>>> Stashed changes
   "metadata": {},
   "outputs": [
    {
     "data": {
      "text/html": [
       "<div>\n",
       "<style scoped>\n",
       "    .dataframe tbody tr th:only-of-type {\n",
       "        vertical-align: middle;\n",
       "    }\n",
       "\n",
       "    .dataframe tbody tr th {\n",
       "        vertical-align: top;\n",
       "    }\n",
       "\n",
       "    .dataframe thead th {\n",
       "        text-align: right;\n",
       "    }\n",
       "</style>\n",
       "<table border=\"1\" class=\"dataframe\">\n",
       "  <thead>\n",
       "    <tr style=\"text-align: right;\">\n",
       "      <th>Symbols</th>\n",
       "      <th>MSFT</th>\n",
       "      <th>AAPL</th>\n",
       "      <th>AMZN</th>\n",
       "      <th>FB</th>\n",
       "      <th>GOOGL</th>\n",
<<<<<<< Updated upstream
       "      <th>^GSPC</th>\n",
=======
       "      <th>GSPC</th>\n",
>>>>>>> Stashed changes
       "    </tr>\n",
       "    <tr>\n",
       "      <th>Date</th>\n",
       "      <th></th>\n",
       "      <th></th>\n",
       "      <th></th>\n",
       "      <th></th>\n",
       "      <th></th>\n",
       "      <th></th>\n",
       "    </tr>\n",
       "  </thead>\n",
       "  <tbody>\n",
       "    <tr>\n",
<<<<<<< Updated upstream
       "      <th>2015-01-05</th>\n",
=======
       "      <td>2015-01-02</td>\n",
       "      <td>NaN</td>\n",
       "      <td>NaN</td>\n",
       "      <td>NaN</td>\n",
       "      <td>NaN</td>\n",
       "      <td>NaN</td>\n",
       "      <td>NaN</td>\n",
       "    </tr>\n",
       "    <tr>\n",
       "      <td>2015-01-05</td>\n",
>>>>>>> Stashed changes
       "      <td>-0.009239</td>\n",
       "      <td>-0.028576</td>\n",
       "      <td>-0.020731</td>\n",
       "      <td>-0.016191</td>\n",
       "      <td>-0.019238</td>\n",
<<<<<<< Updated upstream
       "      <td>-0.018447</td>\n",
       "    </tr>\n",
       "    <tr>\n",
       "      <th>2015-01-06</th>\n",
=======
       "      <td>NaN</td>\n",
       "    </tr>\n",
       "    <tr>\n",
       "      <td>2015-01-06</td>\n",
>>>>>>> Stashed changes
       "      <td>-0.014786</td>\n",
       "      <td>0.000094</td>\n",
       "      <td>-0.023098</td>\n",
       "      <td>-0.013565</td>\n",
       "      <td>-0.024989</td>\n",
<<<<<<< Updated upstream
       "      <td>-0.008933</td>\n",
=======
       "      <td>NaN</td>\n",
       "    </tr>\n",
       "    <tr>\n",
       "      <td>2015-01-07</td>\n",
       "      <td>0.012625</td>\n",
       "      <td>0.013925</td>\n",
       "      <td>0.010544</td>\n",
       "      <td>0.000000</td>\n",
       "      <td>-0.002945</td>\n",
       "      <td>NaN</td>\n",
>>>>>>> Stashed changes
       "    </tr>\n",
       "  </tbody>\n",
       "</table>\n",
       "</div>"
      ],
      "text/plain": [
<<<<<<< Updated upstream
       "Symbols         MSFT      AAPL      AMZN        FB     GOOGL     ^GSPC\n",
       "Date                                                                  \n",
       "2015-01-05 -0.009239 -0.028576 -0.020731 -0.016191 -0.019238 -0.018447\n",
       "2015-01-06 -0.014786  0.000094 -0.023098 -0.013565 -0.024989 -0.008933"
      ]
     },
     "execution_count": 21,
=======
       "Symbols         MSFT      AAPL      AMZN        FB     GOOGL  GSPC\n",
       "Date                                                              \n",
       "2015-01-02       NaN       NaN       NaN       NaN       NaN   NaN\n",
       "2015-01-05 -0.009239 -0.028576 -0.020731 -0.016191 -0.019238   NaN\n",
       "2015-01-06 -0.014786  0.000094 -0.023098 -0.013565 -0.024989   NaN\n",
       "2015-01-07  0.012625  0.013925  0.010544  0.000000 -0.002945   NaN"
      ]
     },
     "execution_count": 43,
>>>>>>> Stashed changes
     "metadata": {},
     "output_type": "execute_result"
    }
   ],
   "source": [
    "# Calcular rendimientos continuamente compuestos\n",
<<<<<<< Updated upstream
    "log_ret = np.log(closes / closes.shift()).dropna()\n",
    "log_ret.head(2)"
=======
    "log_ret = np.log(closes/closes.shift())\n",
    "log_ret.head(4)"
>>>>>>> Stashed changes
   ]
  },
  {
   "cell_type": "code",
<<<<<<< Updated upstream
   "execution_count": 22,
=======
   "execution_count": 45,
>>>>>>> Stashed changes
   "metadata": {},
   "outputs": [
    {
     "data": {
      "text/html": [
       "<div>\n",
       "<style scoped>\n",
       "    .dataframe tbody tr th:only-of-type {\n",
       "        vertical-align: middle;\n",
       "    }\n",
       "\n",
       "    .dataframe tbody tr th {\n",
       "        vertical-align: top;\n",
       "    }\n",
       "\n",
       "    .dataframe thead th {\n",
       "        text-align: right;\n",
       "    }\n",
       "</style>\n",
       "<table border=\"1\" class=\"dataframe\">\n",
       "  <thead>\n",
       "    <tr style=\"text-align: right;\">\n",
       "      <th>Symbols</th>\n",
       "      <th>MSFT</th>\n",
       "      <th>AAPL</th>\n",
       "      <th>AMZN</th>\n",
       "      <th>FB</th>\n",
       "      <th>GOOGL</th>\n",
<<<<<<< Updated upstream
       "      <th>^GSPC</th>\n",
=======
       "      <th>GSPC</th>\n",
>>>>>>> Stashed changes
       "    </tr>\n",
       "    <tr>\n",
       "      <th>Date</th>\n",
       "      <th></th>\n",
       "      <th></th>\n",
       "      <th></th>\n",
       "      <th></th>\n",
       "      <th></th>\n",
       "      <th></th>\n",
       "    </tr>\n",
       "  </thead>\n",
       "  <tbody>\n",
<<<<<<< Updated upstream
       "    <tr>\n",
       "      <th>2015-01-05</th>\n",
       "      <td>-0.009196</td>\n",
       "      <td>-0.028172</td>\n",
       "      <td>-0.020517</td>\n",
       "      <td>-0.016061</td>\n",
       "      <td>-0.019054</td>\n",
       "      <td>-0.018278</td>\n",
       "    </tr>\n",
       "    <tr>\n",
       "      <th>2015-01-06</th>\n",
       "      <td>-0.014677</td>\n",
       "      <td>0.000094</td>\n",
       "      <td>-0.022833</td>\n",
       "      <td>-0.013473</td>\n",
       "      <td>-0.024679</td>\n",
       "      <td>-0.008893</td>\n",
       "    </tr>\n",
=======
>>>>>>> Stashed changes
       "  </tbody>\n",
       "</table>\n",
       "</div>"
      ],
      "text/plain": [
<<<<<<< Updated upstream
       "Symbols         MSFT      AAPL      AMZN        FB     GOOGL     ^GSPC\n",
       "Date                                                                  \n",
       "2015-01-05 -0.009196 -0.028172 -0.020517 -0.016061 -0.019054 -0.018278\n",
       "2015-01-06 -0.014677  0.000094 -0.022833 -0.013473 -0.024679 -0.008893"
      ]
     },
     "execution_count": 22,
=======
       "Empty DataFrame\n",
       "Columns: [MSFT, AAPL, AMZN, FB, GOOGL, GSPC]\n",
       "Index: []"
      ]
     },
     "execution_count": 45,
>>>>>>> Stashed changes
     "metadata": {},
     "output_type": "execute_result"
    }
   ],
   "source": [
    "# Recordar rendimientos porcentuales. Ver que son similares\n",
    "ret.head(2)"
   ]
  },
  {
   "cell_type": "code",
<<<<<<< Updated upstream
   "execution_count": 23,
=======
   "execution_count": 42,
>>>>>>> Stashed changes
   "metadata": {},
   "outputs": [
    {
     "data": {
      "text/html": [
       "<div>\n",
       "<style scoped>\n",
       "    .dataframe tbody tr th:only-of-type {\n",
       "        vertical-align: middle;\n",
       "    }\n",
       "\n",
       "    .dataframe tbody tr th {\n",
       "        vertical-align: top;\n",
       "    }\n",
       "\n",
       "    .dataframe thead th {\n",
       "        text-align: right;\n",
       "    }\n",
       "</style>\n",
       "<table border=\"1\" class=\"dataframe\">\n",
       "  <thead>\n",
       "    <tr style=\"text-align: right;\">\n",
       "      <th>Symbols</th>\n",
       "      <th>MSFT</th>\n",
       "      <th>AAPL</th>\n",
       "      <th>AMZN</th>\n",
       "      <th>FB</th>\n",
       "      <th>GOOGL</th>\n",
<<<<<<< Updated upstream
       "      <th>^GSPC</th>\n",
=======
       "      <th>GSPC</th>\n",
>>>>>>> Stashed changes
       "    </tr>\n",
       "    <tr>\n",
       "      <th>Date</th>\n",
       "      <th></th>\n",
       "      <th></th>\n",
       "      <th></th>\n",
       "      <th></th>\n",
       "      <th></th>\n",
       "      <th></th>\n",
       "    </tr>\n",
       "  </thead>\n",
       "  <tbody>\n",
       "    <tr>\n",
<<<<<<< Updated upstream
       "      <th>2015-01-05</th>\n",
       "      <td>0.000043</td>\n",
       "      <td>4.044376e-04</td>\n",
       "      <td>0.000213</td>\n",
       "      <td>0.000130</td>\n",
       "      <td>0.000184</td>\n",
       "      <td>0.000169</td>\n",
       "    </tr>\n",
       "    <tr>\n",
       "      <th>2015-01-06</th>\n",
       "      <td>0.000109</td>\n",
       "      <td>4.454919e-09</td>\n",
       "      <td>0.000265</td>\n",
       "      <td>0.000092</td>\n",
       "      <td>0.000310</td>\n",
       "      <td>0.000040</td>\n",
       "    </tr>\n",
       "    <tr>\n",
       "      <th>2015-01-07</th>\n",
       "      <td>0.000080</td>\n",
       "      <td>9.739881e-05</td>\n",
       "      <td>0.000056</td>\n",
       "      <td>0.000000</td>\n",
       "      <td>0.000004</td>\n",
       "      <td>0.000067</td>\n",
       "    </tr>\n",
       "  </tbody>\n",
       "</table>\n",
       "</div>"
      ],
      "text/plain": [
       "Symbols         MSFT          AAPL      AMZN        FB     GOOGL     ^GSPC\n",
       "Date                                                                      \n",
       "2015-01-05  0.000043  4.044376e-04  0.000213  0.000130  0.000184  0.000169\n",
       "2015-01-06  0.000109  4.454919e-09  0.000265  0.000092  0.000310  0.000040\n",
       "2015-01-07  0.000080  9.739881e-05  0.000056  0.000000  0.000004  0.000067"
      ]
     },
     "execution_count": 23,
=======
       "      <td>2015-01-02</td>\n",
       "      <td>NaN</td>\n",
       "      <td>NaN</td>\n",
       "      <td>NaN</td>\n",
       "      <td>NaN</td>\n",
       "      <td>NaN</td>\n",
       "      <td>NaN</td>\n",
       "    </tr>\n",
       "    <tr>\n",
       "      <td>2015-01-05</td>\n",
       "      <td>NaN</td>\n",
       "      <td>NaN</td>\n",
       "      <td>NaN</td>\n",
       "      <td>NaN</td>\n",
       "      <td>NaN</td>\n",
       "      <td>NaN</td>\n",
       "    </tr>\n",
       "    <tr>\n",
       "      <td>2015-01-06</td>\n",
       "      <td>NaN</td>\n",
       "      <td>NaN</td>\n",
       "      <td>NaN</td>\n",
       "      <td>NaN</td>\n",
       "      <td>NaN</td>\n",
       "      <td>NaN</td>\n",
       "    </tr>\n",
       "    <tr>\n",
       "      <td>2015-01-07</td>\n",
       "      <td>NaN</td>\n",
       "      <td>NaN</td>\n",
       "      <td>NaN</td>\n",
       "      <td>NaN</td>\n",
       "      <td>NaN</td>\n",
       "      <td>NaN</td>\n",
       "    </tr>\n",
       "    <tr>\n",
       "      <td>2015-01-08</td>\n",
       "      <td>NaN</td>\n",
       "      <td>NaN</td>\n",
       "      <td>NaN</td>\n",
       "      <td>NaN</td>\n",
       "      <td>NaN</td>\n",
       "      <td>NaN</td>\n",
       "    </tr>\n",
       "    <tr>\n",
       "      <td>...</td>\n",
       "      <td>...</td>\n",
       "      <td>...</td>\n",
       "      <td>...</td>\n",
       "      <td>...</td>\n",
       "      <td>...</td>\n",
       "      <td>...</td>\n",
       "    </tr>\n",
       "    <tr>\n",
       "      <td>2020-02-05</td>\n",
       "      <td>NaN</td>\n",
       "      <td>NaN</td>\n",
       "      <td>NaN</td>\n",
       "      <td>NaN</td>\n",
       "      <td>NaN</td>\n",
       "      <td>NaN</td>\n",
       "    </tr>\n",
       "    <tr>\n",
       "      <td>2020-02-06</td>\n",
       "      <td>NaN</td>\n",
       "      <td>NaN</td>\n",
       "      <td>NaN</td>\n",
       "      <td>NaN</td>\n",
       "      <td>NaN</td>\n",
       "      <td>NaN</td>\n",
       "    </tr>\n",
       "    <tr>\n",
       "      <td>2020-02-07</td>\n",
       "      <td>NaN</td>\n",
       "      <td>NaN</td>\n",
       "      <td>NaN</td>\n",
       "      <td>NaN</td>\n",
       "      <td>NaN</td>\n",
       "      <td>NaN</td>\n",
       "    </tr>\n",
       "    <tr>\n",
       "      <td>2020-02-10</td>\n",
       "      <td>NaN</td>\n",
       "      <td>NaN</td>\n",
       "      <td>NaN</td>\n",
       "      <td>NaN</td>\n",
       "      <td>NaN</td>\n",
       "      <td>NaN</td>\n",
       "    </tr>\n",
       "    <tr>\n",
       "      <td>2020-02-11</td>\n",
       "      <td>NaN</td>\n",
       "      <td>NaN</td>\n",
       "      <td>NaN</td>\n",
       "      <td>NaN</td>\n",
       "      <td>NaN</td>\n",
       "      <td>NaN</td>\n",
       "    </tr>\n",
       "  </tbody>\n",
       "</table>\n",
       "<p>1286 rows × 6 columns</p>\n",
       "</div>"
      ],
      "text/plain": [
       "Symbols     MSFT  AAPL  AMZN  FB  GOOGL  GSPC\n",
       "Date                                         \n",
       "2015-01-02   NaN   NaN   NaN NaN    NaN   NaN\n",
       "2015-01-05   NaN   NaN   NaN NaN    NaN   NaN\n",
       "2015-01-06   NaN   NaN   NaN NaN    NaN   NaN\n",
       "2015-01-07   NaN   NaN   NaN NaN    NaN   NaN\n",
       "2015-01-08   NaN   NaN   NaN NaN    NaN   NaN\n",
       "...          ...   ...   ...  ..    ...   ...\n",
       "2020-02-05   NaN   NaN   NaN NaN    NaN   NaN\n",
       "2020-02-06   NaN   NaN   NaN NaN    NaN   NaN\n",
       "2020-02-07   NaN   NaN   NaN NaN    NaN   NaN\n",
       "2020-02-10   NaN   NaN   NaN NaN    NaN   NaN\n",
       "2020-02-11   NaN   NaN   NaN NaN    NaN   NaN\n",
       "\n",
       "[1286 rows x 6 columns]"
      ]
     },
     "execution_count": 42,
>>>>>>> Stashed changes
     "metadata": {},
     "output_type": "execute_result"
    }
   ],
   "source": [
    "# Veamos el valor absoluto de la diferencia\n",
<<<<<<< Updated upstream
    "np.abs(ret - log_ret).head(3)"
=======
    "np.abs(ret - log_ret)"
>>>>>>> Stashed changes
   ]
  },
  {
   "cell_type": "markdown",
   "metadata": {},
   "source": [
    "Por lo anterior, muchas veces se usan para el análisis los rendimientos continuamente compuestos.\n",
    "___"
   ]
  },
  {
   "cell_type": "markdown",
   "metadata": {},
   "source": [
    "## 2. Caracterización de la distribución de los rendimientos\n",
    "\n",
    "Entonces:\n",
    "- partimos de que tenemos los rendimientos porcentuales diarios de Apple, Walmart, IBM y Nike desde inicios del 2011 a finales del 2015;\n",
    "- ¿cómo resumirían estos datos?"
   ]
  },
  {
   "cell_type": "code",
<<<<<<< Updated upstream
   "execution_count": 24,
=======
   "execution_count": 47,
>>>>>>> Stashed changes
   "metadata": {},
   "outputs": [
    {
     "data": {
      "text/plain": [
       "Symbols\n",
<<<<<<< Updated upstream
       "MSFT     0.001260\n",
       "AAPL     0.001026\n",
       "AMZN     0.001680\n",
       "FB       0.000915\n",
       "GOOGL    0.000927\n",
       "^GSPC    0.000417\n",
       "dtype: float64"
      ]
     },
     "execution_count": 24,
=======
       "MSFT    NaN\n",
       "AAPL    NaN\n",
       "AMZN    NaN\n",
       "FB      NaN\n",
       "GOOGL   NaN\n",
       "GSPC    NaN\n",
       "dtype: float64"
      ]
     },
     "execution_count": 47,
>>>>>>> Stashed changes
     "metadata": {},
     "output_type": "execute_result"
    }
   ],
   "source": [
    "# Rendimiento medio diario (media aritmética)\n",
    "mean_ret = ret.mean()\n",
    "mean_ret"
   ]
  },
  {
   "cell_type": "code",
<<<<<<< Updated upstream
   "execution_count": 25,
=======
   "execution_count": 49,
>>>>>>> Stashed changes
   "metadata": {},
   "outputs": [
    {
     "data": {
      "text/plain": [
       "Symbols\n",
       "MSFT     0.014703\n",
       "AAPL     0.015672\n",
       "AMZN     0.018416\n",
       "FB       0.017795\n",
       "GOOGL    0.014960\n",
       "^GSPC    0.008447\n",
       "dtype: float64"
      ]
     },
     "execution_count": 25,
     "metadata": {},
     "output_type": "execute_result"
    }
   ],
   "source": [
    "# Volatilidad diaria (desviación estándar)\n",
<<<<<<< Updated upstream
    "vol = ret.std()\n",
    "vol"
=======
    "vol = ret.std()"
>>>>>>> Stashed changes
   ]
  },
  {
   "cell_type": "code",
<<<<<<< Updated upstream
   "execution_count": 26,
=======
   "execution_count": 50,
>>>>>>> Stashed changes
   "metadata": {},
   "outputs": [
    {
     "data": {
      "text/html": [
       "<div>\n",
       "<style scoped>\n",
       "    .dataframe tbody tr th:only-of-type {\n",
       "        vertical-align: middle;\n",
       "    }\n",
       "\n",
       "    .dataframe tbody tr th {\n",
       "        vertical-align: top;\n",
       "    }\n",
       "\n",
       "    .dataframe thead th {\n",
       "        text-align: right;\n",
       "    }\n",
       "</style>\n",
       "<table border=\"1\" class=\"dataframe\">\n",
       "  <thead>\n",
       "    <tr style=\"text-align: right;\">\n",
       "      <th></th>\n",
       "      <th>Mean</th>\n",
       "      <th>Vol</th>\n",
       "    </tr>\n",
       "    <tr>\n",
       "      <th>Symbols</th>\n",
       "      <th></th>\n",
       "      <th></th>\n",
       "    </tr>\n",
       "  </thead>\n",
       "  <tbody>\n",
       "    <tr>\n",
<<<<<<< Updated upstream
       "      <th>MSFT</th>\n",
       "      <td>0.001260</td>\n",
       "      <td>0.014703</td>\n",
       "    </tr>\n",
       "    <tr>\n",
       "      <th>AAPL</th>\n",
       "      <td>0.001026</td>\n",
       "      <td>0.015672</td>\n",
       "    </tr>\n",
       "    <tr>\n",
       "      <th>AMZN</th>\n",
       "      <td>0.001680</td>\n",
       "      <td>0.018416</td>\n",
       "    </tr>\n",
       "    <tr>\n",
       "      <th>FB</th>\n",
       "      <td>0.000915</td>\n",
       "      <td>0.017795</td>\n",
       "    </tr>\n",
       "    <tr>\n",
       "      <th>GOOGL</th>\n",
       "      <td>0.000927</td>\n",
       "      <td>0.014960</td>\n",
       "    </tr>\n",
       "    <tr>\n",
       "      <th>^GSPC</th>\n",
       "      <td>0.000417</td>\n",
       "      <td>0.008447</td>\n",
=======
       "      <td>MSFT</td>\n",
       "      <td>NaN</td>\n",
       "      <td>NaN</td>\n",
       "    </tr>\n",
       "    <tr>\n",
       "      <td>AAPL</td>\n",
       "      <td>NaN</td>\n",
       "      <td>NaN</td>\n",
       "    </tr>\n",
       "    <tr>\n",
       "      <td>AMZN</td>\n",
       "      <td>NaN</td>\n",
       "      <td>NaN</td>\n",
       "    </tr>\n",
       "    <tr>\n",
       "      <td>FB</td>\n",
       "      <td>NaN</td>\n",
       "      <td>NaN</td>\n",
       "    </tr>\n",
       "    <tr>\n",
       "      <td>GOOGL</td>\n",
       "      <td>NaN</td>\n",
       "      <td>NaN</td>\n",
       "    </tr>\n",
       "    <tr>\n",
       "      <td>GSPC</td>\n",
       "      <td>NaN</td>\n",
       "      <td>NaN</td>\n",
>>>>>>> Stashed changes
       "    </tr>\n",
       "  </tbody>\n",
       "</table>\n",
       "</div>"
      ],
      "text/plain": [
<<<<<<< Updated upstream
       "             Mean       Vol\n",
       "Symbols                    \n",
       "MSFT     0.001260  0.014703\n",
       "AAPL     0.001026  0.015672\n",
       "AMZN     0.001680  0.018416\n",
       "FB       0.000915  0.017795\n",
       "GOOGL    0.000927  0.014960\n",
       "^GSPC    0.000417  0.008447"
      ]
     },
     "execution_count": 26,
=======
       "         Mean  Vol\n",
       "Symbols           \n",
       "MSFT      NaN  NaN\n",
       "AAPL      NaN  NaN\n",
       "AMZN      NaN  NaN\n",
       "FB        NaN  NaN\n",
       "GOOGL     NaN  NaN\n",
       "GSPC      NaN  NaN"
      ]
     },
     "execution_count": 50,
>>>>>>> Stashed changes
     "metadata": {},
     "output_type": "execute_result"
    }
   ],
   "source": [
    "# Podemos resumir en un DataFrame\n",
<<<<<<< Updated upstream
    "ret_summary = pd.DataFrame({'Mean': mean_ret, 'Vol': vol})\n",
=======
    "ret_summary = pd.DataFrame({\"Mean\":mean_ret,\"Vol\":vol})\n",
>>>>>>> Stashed changes
    "ret_summary"
   ]
  },
  {
   "cell_type": "markdown",
   "metadata": {},
   "source": [
    "Normalmente se reportan rendimientos esperados y volatilidades en una base anual. Para anualizar:\n",
    "\n",
    "$$E[r_a]=12E[r_m]=252E[r_d]=52E[r_w],\\text{ y}$$\n",
    "\n",
    "$$\\sigma_{r_a}=\\sqrt{12}\\sigma_{r_m}=\\sqrt{252}\\sigma_{r_d}=\\sqrt{52}\\sigma_{r_w}$$"
   ]
  },
  {
   "cell_type": "code",
<<<<<<< Updated upstream
   "execution_count": 27,
=======
   "execution_count": 56,
>>>>>>> Stashed changes
   "metadata": {},
   "outputs": [
    {
     "data": {
      "text/html": [
       "<div>\n",
       "<style scoped>\n",
       "    .dataframe tbody tr th:only-of-type {\n",
       "        vertical-align: middle;\n",
       "    }\n",
       "\n",
       "    .dataframe tbody tr th {\n",
       "        vertical-align: top;\n",
       "    }\n",
       "\n",
       "    .dataframe thead th {\n",
       "        text-align: right;\n",
       "    }\n",
       "</style>\n",
       "<table border=\"1\" class=\"dataframe\">\n",
       "  <thead>\n",
       "    <tr style=\"text-align: right;\">\n",
       "      <th></th>\n",
       "      <th>Mean</th>\n",
       "      <th>Vol</th>\n",
       "    </tr>\n",
       "    <tr>\n",
       "      <th>Symbols</th>\n",
       "      <th></th>\n",
       "      <th></th>\n",
       "    </tr>\n",
       "  </thead>\n",
       "  <tbody>\n",
       "    <tr>\n",
<<<<<<< Updated upstream
       "      <th>MSFT</th>\n",
       "      <td>0.317572</td>\n",
       "      <td>0.233398</td>\n",
       "    </tr>\n",
       "    <tr>\n",
       "      <th>AAPL</th>\n",
       "      <td>0.258540</td>\n",
       "      <td>0.248788</td>\n",
       "    </tr>\n",
       "    <tr>\n",
       "      <th>AMZN</th>\n",
       "      <td>0.423260</td>\n",
       "      <td>0.292342</td>\n",
       "    </tr>\n",
       "    <tr>\n",
       "      <th>FB</th>\n",
       "      <td>0.230704</td>\n",
       "      <td>0.282487</td>\n",
       "    </tr>\n",
       "    <tr>\n",
       "      <th>GOOGL</th>\n",
       "      <td>0.233518</td>\n",
       "      <td>0.237489</td>\n",
       "    </tr>\n",
       "    <tr>\n",
       "      <th>^GSPC</th>\n",
       "      <td>0.105006</td>\n",
       "      <td>0.134087</td>\n",
=======
       "      <td>MSFT</td>\n",
       "      <td>NaN</td>\n",
       "      <td>NaN</td>\n",
       "    </tr>\n",
       "    <tr>\n",
       "      <td>AAPL</td>\n",
       "      <td>NaN</td>\n",
       "      <td>NaN</td>\n",
       "    </tr>\n",
       "    <tr>\n",
       "      <td>AMZN</td>\n",
       "      <td>NaN</td>\n",
       "      <td>NaN</td>\n",
       "    </tr>\n",
       "    <tr>\n",
       "      <td>FB</td>\n",
       "      <td>NaN</td>\n",
       "      <td>NaN</td>\n",
       "    </tr>\n",
       "    <tr>\n",
       "      <td>GOOGL</td>\n",
       "      <td>NaN</td>\n",
       "      <td>NaN</td>\n",
       "    </tr>\n",
       "    <tr>\n",
       "      <td>GSPC</td>\n",
       "      <td>NaN</td>\n",
       "      <td>NaN</td>\n",
>>>>>>> Stashed changes
       "    </tr>\n",
       "  </tbody>\n",
       "</table>\n",
       "</div>"
      ],
      "text/plain": [
<<<<<<< Updated upstream
       "             Mean       Vol\n",
       "Symbols                    \n",
       "MSFT     0.317572  0.233398\n",
       "AAPL     0.258540  0.248788\n",
       "AMZN     0.423260  0.292342\n",
       "FB       0.230704  0.282487\n",
       "GOOGL    0.233518  0.237489\n",
       "^GSPC    0.105006  0.134087"
      ]
     },
     "execution_count": 27,
=======
       "         Mean  Vol\n",
       "Symbols           \n",
       "MSFT      NaN  NaN\n",
       "AAPL      NaN  NaN\n",
       "AMZN      NaN  NaN\n",
       "FB        NaN  NaN\n",
       "GOOGL     NaN  NaN\n",
       "GSPC      NaN  NaN"
      ]
     },
     "execution_count": 56,
>>>>>>> Stashed changes
     "metadata": {},
     "output_type": "execute_result"
    }
   ],
   "source": [
    "# Resumen en base anual\n",
<<<<<<< Updated upstream
    "annual_ret_summary = pd.DataFrame({'Mean': mean_ret * 252,\n",
    "                                   'Vol': vol * np.sqrt(252)\n",
    "                                  })\n",
=======
    "annual_ret_summary = pd.DataFrame(data={'Mean':252*mean_ret,\n",
    "                                        \"Vol\":vol*np.sqrt(252)\n",
    "                                       })\n",
>>>>>>> Stashed changes
    "annual_ret_summary"
   ]
  },
  {
   "cell_type": "code",
<<<<<<< Updated upstream
   "execution_count": 32,
=======
   "execution_count": 61,
>>>>>>> Stashed changes
   "metadata": {},
   "outputs": [
    {
     "data": {
<<<<<<< Updated upstream
      "image/png": "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\n",
=======
      "text/plain": [
       "Text(0, 0.5, 'Rend. esperado')"
      ]
     },
     "execution_count": 61,
     "metadata": {},
     "output_type": "execute_result"
    },
    {
     "data": {
      "image/png": "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\n",
>>>>>>> Stashed changes
      "text/plain": [
       "<Figure size 432x288 with 1 Axes>"
      ]
     },
     "metadata": {
      "needs_background": "light"
     },
     "output_type": "display_data"
    }
   ],
   "source": [
    "# Gráfico rendimiento esperado vs. volatilidad\n",
    "import matplotlib.pyplot as plt\n",
<<<<<<< Updated upstream
    "# Puntos a graficar\n",
    "x_points = annual_ret_summary.loc[:, 'Vol']\n",
    "y_points = annual_ret_summary.loc[:, 'Mean']\n",
    "# Ventana para graficar\n",
    "plt.figure(figsize=(6, 4))\n",
    "# Graficar puntos\n",
    "plt.plot(x_points, y_points, 'o', ms=10)\n",
    "plt.grid()\n",
    "# Etiquetas de los ejes\n",
    "plt.xlabel('Volatilidad ($\\sigma$)')\n",
    "plt.ylabel('Rendimiento esperado ($E[r]$)')\n",
    "# Etiqueta de cada instrumento\n",
    "plt.text(x_points[0], y_points[0], annual_ret_summary.index[0])\n",
    "plt.text(x_points[1], y_points[1], annual_ret_summary.index[1])\n",
    "plt.text(x_points[2], y_points[2], annual_ret_summary.index[2])\n",
    "plt.text(x_points[3], y_points[3], annual_ret_summary.index[3])\n",
    "plt.text(x_points[4], y_points[4], annual_ret_summary.index[4])\n",
    "plt.text(x_points[5], y_points[5], annual_ret_summary.index[5])\n",
=======
    "\n",
    "# Puntos a graficar\n",
    "x_points =  annual_ret_summary.loc[:,'Vol']\n",
    "y_points = annual_ret_summary.loc[:,'Mean']\n",
    "\n",
    "# Ventana para graficar\n",
    "plt.figure(figsize=(6,4))\n",
    "\n",
    "# Graficar puntos\n",
    "plt.plot(x_points,y_points, 'o', ms=10)\n",
    "plt.grid()\n",
    "\n",
    "# Etiquetas de los ejes\n",
    "plt.xlabel('Volatilidad')\n",
    "plt.ylabel('Rend. esperado')\n",
    "\n",
    "\n",
    "# Etiqueta de cada instrumento\n",
    "plt.text(x_points[0],y_points[0], 'MSFT')\n",
    "plt.text(x_points[1],y_points[1], 'AAPL')\n",
    "plt.text(x_points[2],y_points[2], 'AMZN')\n",
    "plt.text(x_points[3],y_points[3], 'FB')\n",
    "plt.text(x_points[4],y_points[4], 'GOOGL')\n",
    "plt.text(x_points[5],y_points[5], '^GSPC')\n",
>>>>>>> Stashed changes
    "plt.show()"
   ]
  },
  {
   "cell_type": "markdown",
   "metadata": {},
   "source": [
    "### 2.1 Ajuste de curvas con mínimos cuadrados\n",
    "Consideramos que tenemos un conjunto de n pares ordenados de datos $(\\sigma_{r_i},E[r_i])$, para $i=1,2,3,\\dots,n$... **en este caso corresponden a volatilidad y rendimiento esperado**\n",
    "\n",
    "#### ¿Cuál es la recta que mejor se ajusta a estos datos?\n",
    "Consideramos entonces ajustes de la forma $\\hat{f}(\\sigma) = \\beta_0+\\beta_1 \\sigma = \\left[1 \\quad \\sigma\\right]\\left[\\begin{array}{c} \\beta_0 \\\\ \\beta_1 \\end{array}\\right]=\\left[1 \\quad \\sigma\\right]\\boldsymbol{\\beta}$ (lineas rectas).\n",
    "\n",
    "Para decir '*mejor*', tenemos que definir algún sentido en que una recta se ajuste *mejor* que otra.\n",
    "\n",
    "**Mínimos cuadrados**: el objetivo es seleccionar los coeficientes $\\boldsymbol{\\beta}=\\left[\\beta_0 \\quad \\beta_1 \\right]^T$, de forma que la función evaluada en los puntos $\\sigma_{r_i}$ ($\\hat{f}(\\sigma_{r_i})$) aproxime los valores correspondientes $E[r_i]$.\n",
    "\n",
    "La formulación por mínimos cuadrados, encuentra los $\\boldsymbol{\\beta}=\\left[\\beta_0 \\quad \\beta_1 \\right]^T$ que minimiza\n",
    "$$\\sum_{i=1}^{n}(E[r_i]-\\hat{f}(\\sigma_{r_i}))^2$$"
   ]
  },
  {
   "cell_type": "code",
<<<<<<< Updated upstream
   "execution_count": 33,
=======
   "execution_count": 62,
>>>>>>> Stashed changes
   "metadata": {},
   "outputs": [],
   "source": [
    "# Importar el módulo optimize de la librería scipy\n",
    "from scipy.optimize import minimize"
   ]
  },
  {
   "cell_type": "code",
<<<<<<< Updated upstream
   "execution_count": 34,
=======
   "execution_count": 63,
>>>>>>> Stashed changes
   "metadata": {},
   "outputs": [
    {
     "name": "stdout",
     "output_type": "stream",
     "text": [
      "Help on function minimize in module scipy.optimize._minimize:\n",
      "\n",
      "minimize(fun, x0, args=(), method=None, jac=None, hess=None, hessp=None, bounds=None, constraints=(), tol=None, callback=None, options=None)\n",
      "    Minimization of scalar function of one or more variables.\n",
      "    \n",
      "    Parameters\n",
      "    ----------\n",
      "    fun : callable\n",
      "        The objective function to be minimized.\n",
      "    \n",
      "            ``fun(x, *args) -> float``\n",
      "    \n",
      "        where x is an 1-D array with shape (n,) and `args`\n",
      "        is a tuple of the fixed parameters needed to completely\n",
      "        specify the function.\n",
      "    x0 : ndarray, shape (n,)\n",
      "        Initial guess. Array of real elements of size (n,),\n",
      "        where 'n' is the number of independent variables.\n",
      "    args : tuple, optional\n",
      "        Extra arguments passed to the objective function and its\n",
      "        derivatives (`fun`, `jac` and `hess` functions).\n",
      "    method : str or callable, optional\n",
      "        Type of solver.  Should be one of\n",
      "    \n",
      "            - 'Nelder-Mead' :ref:`(see here) <optimize.minimize-neldermead>`\n",
      "            - 'Powell'      :ref:`(see here) <optimize.minimize-powell>`\n",
      "            - 'CG'          :ref:`(see here) <optimize.minimize-cg>`\n",
      "            - 'BFGS'        :ref:`(see here) <optimize.minimize-bfgs>`\n",
      "            - 'Newton-CG'   :ref:`(see here) <optimize.minimize-newtoncg>`\n",
      "            - 'L-BFGS-B'    :ref:`(see here) <optimize.minimize-lbfgsb>`\n",
      "            - 'TNC'         :ref:`(see here) <optimize.minimize-tnc>`\n",
      "            - 'COBYLA'      :ref:`(see here) <optimize.minimize-cobyla>`\n",
      "            - 'SLSQP'       :ref:`(see here) <optimize.minimize-slsqp>`\n",
      "            - 'trust-constr':ref:`(see here) <optimize.minimize-trustconstr>`\n",
      "            - 'dogleg'      :ref:`(see here) <optimize.minimize-dogleg>`\n",
      "            - 'trust-ncg'   :ref:`(see here) <optimize.minimize-trustncg>`\n",
      "            - 'trust-exact' :ref:`(see here) <optimize.minimize-trustexact>`\n",
      "            - 'trust-krylov' :ref:`(see here) <optimize.minimize-trustkrylov>`\n",
      "            - custom - a callable object (added in version 0.14.0),\n",
      "              see below for description.\n",
      "    \n",
      "        If not given, chosen to be one of ``BFGS``, ``L-BFGS-B``, ``SLSQP``,\n",
      "        depending if the problem has constraints or bounds.\n",
      "    jac : {callable,  '2-point', '3-point', 'cs', bool}, optional\n",
      "        Method for computing the gradient vector. Only for CG, BFGS,\n",
      "        Newton-CG, L-BFGS-B, TNC, SLSQP, dogleg, trust-ncg, trust-krylov,\n",
      "        trust-exact and trust-constr. If it is a callable, it should be a\n",
      "        function that returns the gradient vector:\n",
      "    \n",
      "            ``jac(x, *args) -> array_like, shape (n,)``\n",
      "    \n",
      "        where x is an array with shape (n,) and `args` is a tuple with\n",
      "        the fixed parameters. Alternatively, the keywords\n",
      "        {'2-point', '3-point', 'cs'} select a finite\n",
      "        difference scheme for numerical estimation of the gradient. Options\n",
      "        '3-point' and 'cs' are available only to 'trust-constr'.\n",
      "        If `jac` is a Boolean and is True, `fun` is assumed to return the\n",
      "        gradient along with the objective function. If False, the gradient\n",
      "        will be estimated using '2-point' finite difference estimation.\n",
      "    hess : {callable, '2-point', '3-point', 'cs', HessianUpdateStrategy},  optional\n",
      "        Method for computing the Hessian matrix. Only for Newton-CG, dogleg,\n",
      "        trust-ncg,  trust-krylov, trust-exact and trust-constr. If it is\n",
      "        callable, it should return the  Hessian matrix:\n",
      "    \n",
      "            ``hess(x, *args) -> {LinearOperator, spmatrix, array}, (n, n)``\n",
      "    \n",
      "        where x is a (n,) ndarray and `args` is a tuple with the fixed\n",
      "        parameters. LinearOperator and sparse matrix returns are\n",
      "        allowed only for 'trust-constr' method. Alternatively, the keywords\n",
      "        {'2-point', '3-point', 'cs'} select a finite difference scheme\n",
      "        for numerical estimation. Or, objects implementing\n",
      "        `HessianUpdateStrategy` interface can be used to approximate\n",
      "        the Hessian. Available quasi-Newton methods implementing\n",
      "        this interface are:\n",
      "    \n",
      "            - `BFGS`;\n",
      "            - `SR1`.\n",
      "    \n",
      "        Whenever the gradient is estimated via finite-differences,\n",
      "        the Hessian cannot be estimated with options\n",
      "        {'2-point', '3-point', 'cs'} and needs to be\n",
      "        estimated using one of the quasi-Newton strategies.\n",
      "        Finite-difference options {'2-point', '3-point', 'cs'} and\n",
      "        `HessianUpdateStrategy` are available only for 'trust-constr' method.\n",
      "    hessp : callable, optional\n",
      "        Hessian of objective function times an arbitrary vector p. Only for\n",
      "        Newton-CG, trust-ncg, trust-krylov, trust-constr.\n",
      "        Only one of `hessp` or `hess` needs to be given.  If `hess` is\n",
      "        provided, then `hessp` will be ignored.  `hessp` must compute the\n",
      "        Hessian times an arbitrary vector:\n",
      "    \n",
      "            ``hessp(x, p, *args) ->  ndarray shape (n,)``\n",
      "    \n",
      "        where x is a (n,) ndarray, p is an arbitrary vector with\n",
      "        dimension (n,) and `args` is a tuple with the fixed\n",
      "        parameters.\n",
      "    bounds : sequence or `Bounds`, optional\n",
      "        Bounds on variables for L-BFGS-B, TNC, SLSQP and\n",
      "        trust-constr methods. There are two ways to specify the bounds:\n",
      "    \n",
      "            1. Instance of `Bounds` class.\n",
      "            2. Sequence of ``(min, max)`` pairs for each element in `x`. None\n",
      "               is used to specify no bound.\n",
      "    \n",
      "    constraints : {Constraint, dict} or List of {Constraint, dict}, optional\n",
      "        Constraints definition (only for COBYLA, SLSQP and trust-constr).\n",
      "        Constraints for 'trust-constr' are defined as a single object or a\n",
      "        list of objects specifying constraints to the optimization problem.\n",
      "        Available constraints are:\n",
      "    \n",
      "            - `LinearConstraint`\n",
      "            - `NonlinearConstraint`\n",
      "    \n",
      "        Constraints for COBYLA, SLSQP are defined as a list of dictionaries.\n",
      "        Each dictionary with fields:\n",
      "    \n",
      "            type : str\n",
      "                Constraint type: 'eq' for equality, 'ineq' for inequality.\n",
      "            fun : callable\n",
      "                The function defining the constraint.\n",
      "            jac : callable, optional\n",
      "                The Jacobian of `fun` (only for SLSQP).\n",
      "            args : sequence, optional\n",
      "                Extra arguments to be passed to the function and Jacobian.\n",
      "    \n",
      "        Equality constraint means that the constraint function result is to\n",
      "        be zero whereas inequality means that it is to be non-negative.\n",
      "        Note that COBYLA only supports inequality constraints.\n",
      "    tol : float, optional\n",
      "        Tolerance for termination. For detailed control, use solver-specific\n",
      "        options.\n",
      "    options : dict, optional\n",
      "        A dictionary of solver options. All methods accept the following\n",
      "        generic options:\n",
      "    \n",
      "            maxiter : int\n",
      "                Maximum number of iterations to perform.\n",
      "            disp : bool\n",
      "                Set to True to print convergence messages.\n",
      "    \n",
      "        For method-specific options, see :func:`show_options()`.\n",
      "    callback : callable, optional\n",
      "        Called after each iteration. For 'trust-constr' it is a callable with\n",
      "        the signature:\n",
      "    \n",
      "            ``callback(xk, OptimizeResult state) -> bool``\n",
      "    \n",
      "        where ``xk`` is the current parameter vector. and ``state``\n",
      "        is an `OptimizeResult` object, with the same fields\n",
      "        as the ones from the return.  If callback returns True\n",
      "        the algorithm execution is terminated.\n",
      "        For all the other methods, the signature is:\n",
      "    \n",
      "            ``callback(xk)``\n",
      "    \n",
      "        where ``xk`` is the current parameter vector.\n",
      "    \n",
      "    Returns\n",
      "    -------\n",
      "    res : OptimizeResult\n",
      "        The optimization result represented as a ``OptimizeResult`` object.\n",
      "        Important attributes are: ``x`` the solution array, ``success`` a\n",
      "        Boolean flag indicating if the optimizer exited successfully and\n",
      "        ``message`` which describes the cause of the termination. See\n",
      "        `OptimizeResult` for a description of other attributes.\n",
      "    \n",
      "    See also\n",
      "    --------\n",
      "    minimize_scalar : Interface to minimization algorithms for scalar\n",
      "        univariate functions\n",
      "    show_options : Additional options accepted by the solvers\n",
      "    \n",
      "    Notes\n",
      "    -----\n",
      "    This section describes the available solvers that can be selected by the\n",
      "    'method' parameter. The default method is *BFGS*.\n",
      "    \n",
      "    **Unconstrained minimization**\n",
      "    \n",
      "    Method :ref:`Nelder-Mead <optimize.minimize-neldermead>` uses the\n",
      "    Simplex algorithm [1]_, [2]_. This algorithm is robust in many\n",
      "    applications. However, if numerical computation of derivative can be\n",
      "    trusted, other algorithms using the first and/or second derivatives\n",
      "    information might be preferred for their better performance in\n",
      "    general.\n",
      "    \n",
      "    Method :ref:`Powell <optimize.minimize-powell>` is a modification\n",
      "    of Powell's method [3]_, [4]_ which is a conjugate direction\n",
      "    method. It performs sequential one-dimensional minimizations along\n",
      "    each vector of the directions set (`direc` field in `options` and\n",
      "    `info`), which is updated at each iteration of the main\n",
      "    minimization loop. The function need not be differentiable, and no\n",
      "    derivatives are taken.\n",
      "    \n",
      "    Method :ref:`CG <optimize.minimize-cg>` uses a nonlinear conjugate\n",
      "    gradient algorithm by Polak and Ribiere, a variant of the\n",
      "    Fletcher-Reeves method described in [5]_ pp.  120-122. Only the\n",
      "    first derivatives are used.\n",
      "    \n",
      "    Method :ref:`BFGS <optimize.minimize-bfgs>` uses the quasi-Newton\n",
      "    method of Broyden, Fletcher, Goldfarb, and Shanno (BFGS) [5]_\n",
      "    pp. 136. It uses the first derivatives only. BFGS has proven good\n",
      "    performance even for non-smooth optimizations. This method also\n",
      "    returns an approximation of the Hessian inverse, stored as\n",
      "    `hess_inv` in the OptimizeResult object.\n",
      "    \n",
      "    Method :ref:`Newton-CG <optimize.minimize-newtoncg>` uses a\n",
      "    Newton-CG algorithm [5]_ pp. 168 (also known as the truncated\n",
      "    Newton method). It uses a CG method to the compute the search\n",
      "    direction. See also *TNC* method for a box-constrained\n",
      "    minimization with a similar algorithm. Suitable for large-scale\n",
      "    problems.\n",
      "    \n",
      "    Method :ref:`dogleg <optimize.minimize-dogleg>` uses the dog-leg\n",
      "    trust-region algorithm [5]_ for unconstrained minimization. This\n",
      "    algorithm requires the gradient and Hessian; furthermore the\n",
      "    Hessian is required to be positive definite.\n",
      "    \n",
      "    Method :ref:`trust-ncg <optimize.minimize-trustncg>` uses the\n",
      "    Newton conjugate gradient trust-region algorithm [5]_ for\n",
      "    unconstrained minimization. This algorithm requires the gradient\n",
      "    and either the Hessian or a function that computes the product of\n",
      "    the Hessian with a given vector. Suitable for large-scale problems.\n",
      "    \n",
      "    Method :ref:`trust-krylov <optimize.minimize-trustkrylov>` uses\n",
      "    the Newton GLTR trust-region algorithm [14]_, [15]_ for unconstrained\n",
      "    minimization. This algorithm requires the gradient\n",
      "    and either the Hessian or a function that computes the product of\n",
      "    the Hessian with a given vector. Suitable for large-scale problems.\n",
      "    On indefinite problems it requires usually less iterations than the\n",
      "    `trust-ncg` method and is recommended for medium and large-scale problems.\n",
      "    \n",
      "    Method :ref:`trust-exact <optimize.minimize-trustexact>`\n",
      "    is a trust-region method for unconstrained minimization in which\n",
      "    quadratic subproblems are solved almost exactly [13]_. This\n",
      "    algorithm requires the gradient and the Hessian (which is\n",
      "    *not* required to be positive definite). It is, in many\n",
      "    situations, the Newton method to converge in fewer iteraction\n",
      "    and the most recommended for small and medium-size problems.\n",
      "    \n",
      "    **Bound-Constrained minimization**\n",
      "    \n",
      "    Method :ref:`L-BFGS-B <optimize.minimize-lbfgsb>` uses the L-BFGS-B\n",
      "    algorithm [6]_, [7]_ for bound constrained minimization.\n",
      "    \n",
      "    Method :ref:`TNC <optimize.minimize-tnc>` uses a truncated Newton\n",
      "    algorithm [5]_, [8]_ to minimize a function with variables subject\n",
      "    to bounds. This algorithm uses gradient information; it is also\n",
      "    called Newton Conjugate-Gradient. It differs from the *Newton-CG*\n",
      "    method described above as it wraps a C implementation and allows\n",
      "    each variable to be given upper and lower bounds.\n",
      "    \n",
      "    **Constrained Minimization**\n",
      "    \n",
      "    Method :ref:`COBYLA <optimize.minimize-cobyla>` uses the\n",
      "    Constrained Optimization BY Linear Approximation (COBYLA) method\n",
      "    [9]_, [10]_, [11]_. The algorithm is based on linear\n",
      "    approximations to the objective function and each constraint. The\n",
      "    method wraps a FORTRAN implementation of the algorithm. The\n",
      "    constraints functions 'fun' may return either a single number\n",
      "    or an array or list of numbers.\n",
      "    \n",
      "    Method :ref:`SLSQP <optimize.minimize-slsqp>` uses Sequential\n",
      "    Least SQuares Programming to minimize a function of several\n",
      "    variables with any combination of bounds, equality and inequality\n",
      "    constraints. The method wraps the SLSQP Optimization subroutine\n",
      "    originally implemented by Dieter Kraft [12]_. Note that the\n",
      "    wrapper handles infinite values in bounds by converting them into\n",
      "    large floating values.\n",
      "    \n",
      "    Method :ref:`trust-constr <optimize.minimize-trustconstr>` is a\n",
      "    trust-region algorithm for constrained optimization. It swiches\n",
      "    between two implementations depending on the problem definition.\n",
      "    It is the most versatile constrained minimization algorithm\n",
      "    implemented in SciPy and the most appropriate for large-scale problems.\n",
      "    For equality constrained problems it is an implementation of Byrd-Omojokun\n",
      "    Trust-Region SQP method described in [17]_ and in [5]_, p. 549. When\n",
      "    inequality constraints  are imposed as well, it swiches to the trust-region\n",
      "    interior point  method described in [16]_. This interior point algorithm,\n",
      "    in turn, solves inequality constraints by introducing slack variables\n",
      "    and solving a sequence of equality-constrained barrier problems\n",
      "    for progressively smaller values of the barrier parameter.\n",
      "    The previously described equality constrained SQP method is\n",
      "    used to solve the subproblems with increasing levels of accuracy\n",
      "    as the iterate gets closer to a solution.\n",
      "    \n",
      "    **Finite-Difference Options**\n",
      "    \n",
      "    For Method :ref:`trust-constr <optimize.minimize-trustconstr>`\n",
      "    the gradient and the Hessian may be approximated using\n",
      "    three finite-difference schemes: {'2-point', '3-point', 'cs'}.\n",
      "    The scheme 'cs' is, potentially, the most accurate but it\n",
      "    requires the function to correctly handles complex inputs and to\n",
      "    be differentiable in the complex plane. The scheme '3-point' is more\n",
      "    accurate than '2-point' but requires twice as much operations.\n",
      "    \n",
      "    **Custom minimizers**\n",
      "    \n",
      "    It may be useful to pass a custom minimization method, for example\n",
      "    when using a frontend to this method such as `scipy.optimize.basinhopping`\n",
      "    or a different library.  You can simply pass a callable as the ``method``\n",
      "    parameter.\n",
      "    \n",
      "    The callable is called as ``method(fun, x0, args, **kwargs, **options)``\n",
      "    where ``kwargs`` corresponds to any other parameters passed to `minimize`\n",
      "    (such as `callback`, `hess`, etc.), except the `options` dict, which has\n",
      "    its contents also passed as `method` parameters pair by pair.  Also, if\n",
      "    `jac` has been passed as a bool type, `jac` and `fun` are mangled so that\n",
      "    `fun` returns just the function values and `jac` is converted to a function\n",
      "    returning the Jacobian.  The method shall return an `OptimizeResult`\n",
      "    object.\n",
      "    \n",
      "    The provided `method` callable must be able to accept (and possibly ignore)\n",
      "    arbitrary parameters; the set of parameters accepted by `minimize` may\n",
      "    expand in future versions and then these parameters will be passed to\n",
      "    the method.  You can find an example in the scipy.optimize tutorial.\n",
      "    \n",
      "    .. versionadded:: 0.11.0\n",
      "    \n",
      "    References\n",
      "    ----------\n",
      "    .. [1] Nelder, J A, and R Mead. 1965. A Simplex Method for Function\n",
      "        Minimization. The Computer Journal 7: 308-13.\n",
      "    .. [2] Wright M H. 1996. Direct search methods: Once scorned, now\n",
      "        respectable, in Numerical Analysis 1995: Proceedings of the 1995\n",
      "        Dundee Biennial Conference in Numerical Analysis (Eds. D F\n",
      "        Griffiths and G A Watson). Addison Wesley Longman, Harlow, UK.\n",
      "        191-208.\n",
      "    .. [3] Powell, M J D. 1964. An efficient method for finding the minimum of\n",
      "       a function of several variables without calculating derivatives. The\n",
      "       Computer Journal 7: 155-162.\n",
      "    .. [4] Press W, S A Teukolsky, W T Vetterling and B P Flannery.\n",
      "       Numerical Recipes (any edition), Cambridge University Press.\n",
      "    .. [5] Nocedal, J, and S J Wright. 2006. Numerical Optimization.\n",
      "       Springer New York.\n",
      "    .. [6] Byrd, R H and P Lu and J. Nocedal. 1995. A Limited Memory\n",
      "       Algorithm for Bound Constrained Optimization. SIAM Journal on\n",
      "       Scientific and Statistical Computing 16 (5): 1190-1208.\n",
      "    .. [7] Zhu, C and R H Byrd and J Nocedal. 1997. L-BFGS-B: Algorithm\n",
      "       778: L-BFGS-B, FORTRAN routines for large scale bound constrained\n",
      "       optimization. ACM Transactions on Mathematical Software 23 (4):\n",
      "       550-560.\n",
      "    .. [8] Nash, S G. Newton-Type Minimization Via the Lanczos Method.\n",
      "       1984. SIAM Journal of Numerical Analysis 21: 770-778.\n",
      "    .. [9] Powell, M J D. A direct search optimization method that models\n",
      "       the objective and constraint functions by linear interpolation.\n",
      "       1994. Advances in Optimization and Numerical Analysis, eds. S. Gomez\n",
      "       and J-P Hennart, Kluwer Academic (Dordrecht), 51-67.\n",
      "    .. [10] Powell M J D. Direct search algorithms for optimization\n",
      "       calculations. 1998. Acta Numerica 7: 287-336.\n",
      "    .. [11] Powell M J D. A view of algorithms for optimization without\n",
      "       derivatives. 2007.Cambridge University Technical Report DAMTP\n",
      "       2007/NA03\n",
      "    .. [12] Kraft, D. A software package for sequential quadratic\n",
      "       programming. 1988. Tech. Rep. DFVLR-FB 88-28, DLR German Aerospace\n",
      "       Center -- Institute for Flight Mechanics, Koln, Germany.\n",
      "    .. [13] Conn, A. R., Gould, N. I., and Toint, P. L.\n",
      "       Trust region methods. 2000. Siam. pp. 169-200.\n",
      "    .. [14] F. Lenders, C. Kirches, A. Potschka: \"trlib: A vector-free\n",
      "       implementation of the GLTR method for iterative solution of\n",
      "       the trust region problem\", https://arxiv.org/abs/1611.04718\n",
      "    .. [15] N. Gould, S. Lucidi, M. Roma, P. Toint: \"Solving the\n",
      "       Trust-Region Subproblem using the Lanczos Method\",\n",
      "       SIAM J. Optim., 9(2), 504--525, (1999).\n",
      "    .. [16] Byrd, Richard H., Mary E. Hribar, and Jorge Nocedal. 1999.\n",
      "        An interior point algorithm for large-scale nonlinear  programming.\n",
      "        SIAM Journal on Optimization 9.4: 877-900.\n",
      "    .. [17] Lalee, Marucha, Jorge Nocedal, and Todd Plantega. 1998. On the\n",
      "        implementation of an algorithm for large-scale equality constrained\n",
      "        optimization. SIAM Journal on Optimization 8.3: 682-706.\n",
      "    \n",
      "    Examples\n",
      "    --------\n",
      "    Let us consider the problem of minimizing the Rosenbrock function. This\n",
      "    function (and its respective derivatives) is implemented in `rosen`\n",
      "    (resp. `rosen_der`, `rosen_hess`) in the `scipy.optimize`.\n",
      "    \n",
      "    >>> from scipy.optimize import minimize, rosen, rosen_der\n",
      "    \n",
      "    A simple application of the *Nelder-Mead* method is:\n",
      "    \n",
      "    >>> x0 = [1.3, 0.7, 0.8, 1.9, 1.2]\n",
      "    >>> res = minimize(rosen, x0, method='Nelder-Mead', tol=1e-6)\n",
      "    >>> res.x\n",
      "    array([ 1.,  1.,  1.,  1.,  1.])\n",
      "    \n",
      "    Now using the *BFGS* algorithm, using the first derivative and a few\n",
      "    options:\n",
      "    \n",
      "    >>> res = minimize(rosen, x0, method='BFGS', jac=rosen_der,\n",
      "    ...                options={'gtol': 1e-6, 'disp': True})\n",
      "    Optimization terminated successfully.\n",
      "             Current function value: 0.000000\n",
      "             Iterations: 26\n",
      "             Function evaluations: 31\n",
      "             Gradient evaluations: 31\n",
      "    >>> res.x\n",
      "    array([ 1.,  1.,  1.,  1.,  1.])\n",
      "    >>> print(res.message)\n",
      "    Optimization terminated successfully.\n",
      "    >>> res.hess_inv\n",
      "    array([[ 0.00749589,  0.01255155,  0.02396251,  0.04750988,  0.09495377],  # may vary\n",
      "           [ 0.01255155,  0.02510441,  0.04794055,  0.09502834,  0.18996269],\n",
      "           [ 0.02396251,  0.04794055,  0.09631614,  0.19092151,  0.38165151],\n",
      "           [ 0.04750988,  0.09502834,  0.19092151,  0.38341252,  0.7664427 ],\n",
      "           [ 0.09495377,  0.18996269,  0.38165151,  0.7664427,   1.53713523]])\n",
      "    \n",
      "    \n",
      "    Next, consider a minimization problem with several constraints (namely\n",
      "    Example 16.4 from [5]_). The objective function is:\n",
      "    \n",
      "    >>> fun = lambda x: (x[0] - 1)**2 + (x[1] - 2.5)**2\n",
      "    \n",
      "    There are three constraints defined as:\n",
      "    \n",
      "    >>> cons = ({'type': 'ineq', 'fun': lambda x:  x[0] - 2 * x[1] + 2},\n",
      "    ...         {'type': 'ineq', 'fun': lambda x: -x[0] - 2 * x[1] + 6},\n",
      "    ...         {'type': 'ineq', 'fun': lambda x: -x[0] + 2 * x[1] + 2})\n",
      "    \n",
      "    And variables must be positive, hence the following bounds:\n",
      "    \n",
      "    >>> bnds = ((0, None), (0, None))\n",
      "    \n",
      "    The optimization problem is solved using the SLSQP method as:\n",
      "    \n",
      "    >>> res = minimize(fun, (2, 0), method='SLSQP', bounds=bnds,\n",
      "    ...                constraints=cons)\n",
      "    \n",
      "    It should converge to the theoretical solution (1.4 ,1.7).\n",
      "\n"
     ]
    }
   ],
   "source": [
    "# Funcion minimize\n",
    "help(minimize)"
   ]
  },
  {
   "cell_type": "code",
<<<<<<< Updated upstream
   "execution_count": 35,
=======
   "execution_count": 65,
>>>>>>> Stashed changes
   "metadata": {},
   "outputs": [
    {
     "ename": "IndentationError",
     "evalue": "unexpected indent (<ipython-input-65-3efd26873016>, line 2)",
     "output_type": "error",
     "traceback": [
      "\u001b[0;36m  File \u001b[0;32m\"<ipython-input-65-3efd26873016>\"\u001b[0;36m, line \u001b[0;32m2\u001b[0m\n\u001b[0;31m    def objetivo(beta, vol, mean_ret):\u001b[0m\n\u001b[0m    ^\u001b[0m\n\u001b[0;31mIndentationError\u001b[0m\u001b[0;31m:\u001b[0m unexpected indent\n"
     ]
    }
   ],
   "source": [
    "# Funcion objetivo y condicion inicial\n",
<<<<<<< Updated upstream
    "def objetivo(beta, vol, mean_ret):\n",
    "    recta = beta[0] + beta[1] * vol\n",
    "    return ((mean_ret - recta) ** 2).sum()"
=======
    " def objetivo(beta, vol, mean_ret):\n",
    "        recta =beta[0]+beta[1]*vol\n",
    "        return ((mean_ret-recta)**2).sum()"
>>>>>>> Stashed changes
   ]
  },
  {
   "cell_type": "code",
   "execution_count": 36,
   "metadata": {},
   "outputs": [
    {
     "data": {
      "text/plain": [
       "      fun: 0.021014126611568\n",
       " hess_inv: array([[ 1.86966742, -7.50249636],\n",
       "       [-7.50249636, 31.51003624]])\n",
       "      jac: array([-1.62981451e-09, -1.62981451e-09])\n",
       "  message: 'Optimization terminated successfully.'\n",
       "     nfev: 28\n",
       "      nit: 4\n",
       "     njev: 7\n",
       "   status: 0\n",
       "  success: True\n",
       "        x: array([-0.08978334,  1.47508912])"
      ]
     },
     "execution_count": 36,
     "metadata": {},
     "output_type": "execute_result"
    }
   ],
   "source": [
    "# Resolver problema de optimizacion\n",
<<<<<<< Updated upstream
    "beta_ini = [0, 0]\n",
    "solucion = minimize(fun=objetivo,\n",
    "                    x0=beta_ini,\n",
    "                    args=(annual_ret_summary['Vol'],\n",
    "                          annual_ret_summary['Mean']\n",
    "                         )\n",
    "                   )\n",
    "solucion"
=======
    "beta"
>>>>>>> Stashed changes
   ]
  },
  {
   "cell_type": "code",
   "execution_count": 37,
   "metadata": {},
   "outputs": [],
   "source": [
    "beta_opt = solucion.x"
   ]
  },
  {
   "cell_type": "code",
   "execution_count": 38,
   "metadata": {},
   "outputs": [
    {
     "data": {
      "text/plain": [
       "array([-0.08978334,  1.47508912])"
      ]
     },
     "execution_count": 38,
     "metadata": {},
     "output_type": "execute_result"
    }
   ],
   "source": [
    "beta_opt"
   ]
  },
  {
   "cell_type": "code",
   "execution_count": 40,
   "metadata": {},
   "outputs": [
    {
     "data": {
      "image/png": "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\n",
      "text/plain": [
       "<Figure size 432x288 with 1 Axes>"
      ]
     },
     "metadata": {
      "needs_background": "light"
     },
     "output_type": "display_data"
    }
   ],
   "source": [
    "# Puntos a graficar\n",
    "x_points = annual_ret_summary.loc[:, 'Vol']\n",
    "y_points = annual_ret_summary.loc[:, 'Mean']\n",
    "# Ventana para graficar\n",
    "plt.figure(figsize=(6, 4))\n",
    "# Graficar puntos\n",
    "plt.plot(x_points, y_points, 'o', ms=10)\n",
    "plt.grid()\n",
    "# Etiquetas de los ejes\n",
    "plt.xlabel('Volatilidad ($\\sigma$)')\n",
    "plt.ylabel('Rendimiento esperado ($E[r]$)')\n",
    "# Etiqueta de cada instrumento\n",
    "plt.text(x_points[0], y_points[0], annual_ret_summary.index[0])\n",
    "plt.text(x_points[1], y_points[1], annual_ret_summary.index[1])\n",
    "plt.text(x_points[2], y_points[2], annual_ret_summary.index[2])\n",
    "plt.text(x_points[3], y_points[3], annual_ret_summary.index[3])\n",
    "plt.text(x_points[4], y_points[4], annual_ret_summary.index[4])\n",
    "plt.text(x_points[5], y_points[5], annual_ret_summary.index[5])\n",
    "\n",
    "# Grafica de recta ajustada\n",
    "x_recta = np.linspace(0.1, 0.3, 100)\n",
    "y_recta = beta_opt[1] * x_recta + beta_opt[0]\n",
    "plt.plot(x_recta, y_recta, 'r', lw=3, label='Recta ajustada')\n",
    "plt.legend(loc='best')\n",
    "\n",
    "plt.show()"
   ]
  },
  {
   "cell_type": "markdown",
   "metadata": {},
   "source": [
    "**¿Qué se puede concluir acerca de la relación entre riesgo (medido con la volatilidad) y el rendimiento esperado (medido con la media)?**\n",
    "\n",
    "Respuestas:\n",
    "- Para un rendimiento esperado más alto, se necesita asumir más riesgo.\n",
    "- La relación entre rendimiento esperado y riesgo es positiva (de acuerdo a los datos)."
   ]
  },
  {
   "cell_type": "markdown",
   "metadata": {},
   "source": [
    "## 3. Comentarios finales acerca del uso de datos históricos.\n",
    "\n",
    "### ¡Cuidado!\n",
    "- Es cierto que los patrones que vemos sobre periodos largos de tiempo en diferentes tipos de intrumentos son muy robustos en términos de la relación rendimiento/riesgo (positiva).\n",
    "- Por tanto, esperamos rendimientos más altos en el futuro cuando asumimos cierto riesgo.\n",
    "- ¿Cómo encontramos ese 'rendimiento esperado' en el futuro'? Datos históricos (humanos: tendencia a generalizar)"
   ]
  },
  {
   "cell_type": "markdown",
   "metadata": {},
   "source": [
    "- Entonces, la idea es que si los rendimientos esperados son un p.e. estacionario, el promedio de muchos rendimientos pasados es una buena estimación del rendimiento esperado futuro (Teorema del límite central).\n",
    "- ¿Deberíamos pensarlo dos veces?\n",
    "\n",
    "## SI"
   ]
  },
  {
   "cell_type": "markdown",
   "metadata": {},
   "source": [
    "Problemas:\n",
    "- La muestra de datos en el periodo específico de tiempo puede estar sesgada.\n",
    "- Ventanas de tiempo más grandes reducen especificidad de la muestra y estimados más precisos.\n",
    " - Aún así, datos muy viejos pueden ser no representativos.\n",
    "- Nuevos fondos o estrategias de inversión están a menudo sesgados positivamente:\n",
    " - reporte de resultados en tiempos voluntarios;\n",
    " - las que mueren (no funcionan), no se reportan;"
   ]
  },
  {
   "cell_type": "markdown",
   "metadata": {},
   "source": [
    "# Anuncios parroquiales:\n",
    "## 1. Fin Módulo 1. Revisar que se hayan cumplido los objetivos del módulo (Clase0)\n",
    "## 2. Tarea: revisar archivo \"Tarea3_MidiendoRendimientoRiesgo\" en clase. Para el viernes 14 de Febrero.\n",
    "## 3. Recordar quiz la siguiente clase."
   ]
  },
  {
   "cell_type": "markdown",
   "metadata": {},
   "source": [
    "<script>\n",
    "  $(document).ready(function(){\n",
    "    $('div.prompt').hide();\n",
    "    $('div.back-to-top').hide();\n",
    "    $('nav#menubar').hide();\n",
    "    $('.breadcrumb').hide();\n",
    "    $('.hidden-print').hide();\n",
    "  });\n",
    "</script>\n",
    "\n",
    "<footer id=\"attribution\" style=\"float:right; color:#808080; background:#fff;\">\n",
    "Created with Jupyter by Esteban Jiménez Rodríguez.\n",
    "</footer>"
   ]
  }
 ],
 "metadata": {
  "kernelspec": {
   "display_name": "Python 3",
   "language": "python",
   "name": "python3"
  },
  "language_info": {
   "codemirror_mode": {
    "name": "ipython",
    "version": 3
   },
   "file_extension": ".py",
   "mimetype": "text/x-python",
   "name": "python",
   "nbconvert_exporter": "python",
   "pygments_lexer": "ipython3",
   "version": "3.7.4"
  }
 },
 "nbformat": 4,
 "nbformat_minor": 2
}
