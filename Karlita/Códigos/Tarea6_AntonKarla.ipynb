{
 "cells": [
  {
   "cell_type": "markdown",
   "metadata": {},
   "source": [
    "# Tarea 6. Distribución óptima de capital y selección de portafolios.\n",
    "\n",
    "<img style=\"float: right; margin: 0px 0px 15px 15px;\" src=\"https://upload.wikimedia.org/wikipedia/en/f/f3/SML-chart.png\" width=\"400px\" height=\"400px\" />\n",
    "\n",
    "**Resumen.**\n",
    "> En esta tarea, tendrás la oportunidad de aplicar los conceptos y las herramientas que aprendimos en el módulo 3. Específicamente, utilizarás técnicas de optimización media-varianza para construir la frontera de mínima varianza, encontrar el mejor portafolio sobre la frontera mínima varianza, y finalmente, identificar la asignación óptima de capital para un inversionista dado su nivel de averisón al riesgo.\n",
    "\n",
    "**Criterio de revisión.**\n",
    "> Se te calificará de acuerdo a los resultados finales que reportes, basados en tu análisis.\n",
    "\n",
    "**Antes de comenzar.**\n",
    "> Por favor, copiar y pegar este archivo en otra ubicación. Antes de comenzar, nombrarlo *Tarea6_ApellidoNombre*, sin acentos y sin espacios; por ejemplo, en mi caso el archivo se llamaría *Tarea6_JimenezEsteban*. Resolver todos los puntos en dicho archivo y subir en este espacio."
   ]
  },
  {
   "cell_type": "markdown",
   "metadata": {},
   "source": [
    "## 1. Datos (10 puntos)\n",
    "\n",
    "Considere los siguientes datos de bonos, índice de acciones, mercados desarrollados, mercados emergentes, fondos privados, activos reales y activos libres de riesgo:"
   ]
  },
  {
   "cell_type": "code",
   "execution_count": 1,
   "metadata": {},
   "outputs": [],
   "source": [
    "import pandas as pd\n",
    "import numpy as np\n",
    "import matplotlib.pyplot as plt\n",
    "%matplotlib inline"
   ]
  },
  {
   "cell_type": "code",
   "execution_count": 2,
   "metadata": {},
   "outputs": [
    {
     "data": {
      "text/html": [
       "<div>\n",
       "<style scoped>\n",
       "    .dataframe tbody tr th:only-of-type {\n",
       "        vertical-align: middle;\n",
       "    }\n",
       "\n",
       "    .dataframe tbody tr th {\n",
       "        vertical-align: top;\n",
       "    }\n",
       "\n",
       "    .dataframe thead th {\n",
       "        text-align: right;\n",
       "    }\n",
       "</style>\n",
       "<table border=\"1\" class=\"dataframe\">\n",
       "  <thead>\n",
       "    <tr style=\"text-align: right;\">\n",
       "      <th></th>\n",
       "      <th>Bonos</th>\n",
       "      <th>Acciones</th>\n",
       "      <th>Desarrollado</th>\n",
       "      <th>Emergente</th>\n",
       "      <th>Privados</th>\n",
       "      <th>Real</th>\n",
       "    </tr>\n",
       "  </thead>\n",
       "  <tbody>\n",
       "    <tr>\n",
       "      <th>Media</th>\n",
       "      <td>0.04</td>\n",
       "      <td>0.106</td>\n",
       "      <td>0.083</td>\n",
       "      <td>0.119</td>\n",
       "      <td>0.128</td>\n",
       "      <td>0.062</td>\n",
       "    </tr>\n",
       "    <tr>\n",
       "      <th>Volatilidad</th>\n",
       "      <td>0.068</td>\n",
       "      <td>0.224</td>\n",
       "      <td>0.221</td>\n",
       "      <td>0.3</td>\n",
       "      <td>0.231</td>\n",
       "      <td>0.068</td>\n",
       "    </tr>\n",
       "  </tbody>\n",
       "</table>\n",
       "</div>"
      ],
      "text/plain": [
       "             Bonos Acciones Desarrollado Emergente Privados   Real\n",
       "Media         0.04    0.106        0.083     0.119    0.128  0.062\n",
       "Volatilidad  0.068    0.224        0.221       0.3    0.231  0.068"
      ]
     },
     "execution_count": 2,
     "metadata": {},
     "output_type": "execute_result"
    }
   ],
   "source": [
    "# Resumen en base anual de rendimientos esperados y volatilidades\n",
    "annual_ret_summ = pd.DataFrame(columns=['Bonos', 'Acciones', 'Desarrollado', 'Emergente', 'Privados', 'Real'], index=['Media', 'Volatilidad'])\n",
    "annual_ret_summ.loc['Media'] = np.array([0.0400, 0.1060, 0.0830, 0.1190, 0.1280, 0.0620])\n",
    "annual_ret_summ.loc['Volatilidad'] = np.array([0.0680, 0.2240, 0.2210, 0.3000, 0.2310, 0.0680])\n",
    "\n",
    "annual_ret_summ.round(4)"
   ]
  },
  {
   "cell_type": "code",
   "execution_count": 3,
   "metadata": {},
   "outputs": [],
   "source": [
    "rf=0.03"
   ]
  },
  {
   "cell_type": "code",
   "execution_count": 4,
   "metadata": {},
   "outputs": [
    {
     "data": {
      "text/html": [
       "<div>\n",
       "<style scoped>\n",
       "    .dataframe tbody tr th:only-of-type {\n",
       "        vertical-align: middle;\n",
       "    }\n",
       "\n",
       "    .dataframe tbody tr th {\n",
       "        vertical-align: top;\n",
       "    }\n",
       "\n",
       "    .dataframe thead th {\n",
       "        text-align: right;\n",
       "    }\n",
       "</style>\n",
       "<table border=\"1\" class=\"dataframe\">\n",
       "  <thead>\n",
       "    <tr style=\"text-align: right;\">\n",
       "      <th></th>\n",
       "      <th>Bonos</th>\n",
       "      <th>Acciones</th>\n",
       "      <th>Desarrollado</th>\n",
       "      <th>Emergente</th>\n",
       "      <th>Privados</th>\n",
       "      <th>Real</th>\n",
       "    </tr>\n",
       "  </thead>\n",
       "  <tbody>\n",
       "    <tr>\n",
       "      <th>Bonos</th>\n",
       "      <td>1.00</td>\n",
       "      <td>0.4</td>\n",
       "      <td>0.25</td>\n",
       "      <td>0.20</td>\n",
       "      <td>0.15</td>\n",
       "      <td>0.20</td>\n",
       "    </tr>\n",
       "    <tr>\n",
       "      <th>Acciones</th>\n",
       "      <td>0.40</td>\n",
       "      <td>1.0</td>\n",
       "      <td>0.70</td>\n",
       "      <td>0.60</td>\n",
       "      <td>0.70</td>\n",
       "      <td>0.20</td>\n",
       "    </tr>\n",
       "    <tr>\n",
       "      <th>Desarrollado</th>\n",
       "      <td>0.25</td>\n",
       "      <td>0.7</td>\n",
       "      <td>1.00</td>\n",
       "      <td>0.75</td>\n",
       "      <td>0.60</td>\n",
       "      <td>0.10</td>\n",
       "    </tr>\n",
       "    <tr>\n",
       "      <th>Emergente</th>\n",
       "      <td>0.20</td>\n",
       "      <td>0.6</td>\n",
       "      <td>0.75</td>\n",
       "      <td>1.00</td>\n",
       "      <td>0.25</td>\n",
       "      <td>0.15</td>\n",
       "    </tr>\n",
       "    <tr>\n",
       "      <th>Privados</th>\n",
       "      <td>0.15</td>\n",
       "      <td>0.7</td>\n",
       "      <td>0.60</td>\n",
       "      <td>0.25</td>\n",
       "      <td>1.00</td>\n",
       "      <td>0.30</td>\n",
       "    </tr>\n",
       "    <tr>\n",
       "      <th>Real</th>\n",
       "      <td>0.20</td>\n",
       "      <td>0.2</td>\n",
       "      <td>0.10</td>\n",
       "      <td>0.15</td>\n",
       "      <td>0.30</td>\n",
       "      <td>1.00</td>\n",
       "    </tr>\n",
       "  </tbody>\n",
       "</table>\n",
       "</div>"
      ],
      "text/plain": [
       "              Bonos  Acciones  Desarrollado  Emergente  Privados  Real\n",
       "Bonos          1.00       0.4          0.25       0.20      0.15  0.20\n",
       "Acciones       0.40       1.0          0.70       0.60      0.70  0.20\n",
       "Desarrollado   0.25       0.7          1.00       0.75      0.60  0.10\n",
       "Emergente      0.20       0.6          0.75       1.00      0.25  0.15\n",
       "Privados       0.15       0.7          0.60       0.25      1.00  0.30\n",
       "Real           0.20       0.2          0.10       0.15      0.30  1.00"
      ]
     },
     "execution_count": 4,
     "metadata": {},
     "output_type": "execute_result"
    }
   ],
   "source": [
    "# Matriz de correlación\n",
    "corr = pd.DataFrame(data= np.array([[1.0000, 0.4000, 0.2500, 0.2000, 0.1500, 0.2000],\n",
    "                                    [0.4000, 1.0000, 0.7000, 0.6000, 0.7000, 0.2000],\n",
    "                                    [0.2500, 0.7000, 1.0000, 0.7500, 0.6000, 0.1000],\n",
    "                                    [0.2000, 0.6000, 0.7500, 1.0000, 0.2500, 0.1500],\n",
    "                                    [0.1500, 0.7000, 0.6000, 0.2500, 1.0000, 0.3000],\n",
    "                                    [0.2000, 0.2000, 0.1000, 0.1500, 0.3000, 1.0000]]),\n",
    "                    columns=annual_ret_summ.columns[:], index=annual_ret_summ.columns)\n",
    "corr.round(4)"
   ]
  },
  {
   "cell_type": "markdown",
   "metadata": {},
   "source": [
    "1. Graficar en el espacio de rendimiento esperado contra volatilidad cada uno de los activos (10 puntos)."
   ]
  },
  {
   "cell_type": "code",
   "execution_count": 5,
   "metadata": {},
   "outputs": [
    {
     "data": {
      "image/png": "[encoded data removed]",
      "text/plain": [
       "<Figure size 432x288 with 1 Axes>"
      ]
     },
     "metadata": {
      "needs_background": "light"
     },
     "output_type": "display_data"
    }
   ],
   "source": [
    "x_points =  annual_ret_summ.loc['Volatilidad']\n",
    "y_points = annual_ret_summ.loc['Media']\n",
    "plt.figure()\n",
    "plt.plot(x_points, y_points, '*')\n",
    "plt.xlabel('Volatilidad')\n",
    "plt.ylabel('Rendimiento_Esperado')\n",
    "plt.text(annual_ret_summ.loc['Volatilidad','Bonos'],\n",
    "         annual_ret_summ.loc['Media','Bonos'], 'Bonos')\n",
    "plt.text(annual_ret_summ.loc['Volatilidad','Acciones'],\n",
    "         annual_ret_summ.loc['Media','Acciones'], 'Acciones')\n",
    "plt.text(annual_ret_summ.loc['Volatilidad','Desarrollado'],\n",
    "         annual_ret_summ.loc['Media','Desarrollado'], 'Desarrollado')\n",
    "plt.text(annual_ret_summ.loc['Volatilidad','Emergente'],\n",
    "         annual_ret_summ.loc['Media','Emergente'], 'Emergente')\n",
    "plt.text(annual_ret_summ.loc['Volatilidad','Privados'],\n",
    "         annual_ret_summ.loc['Media','Privados'], 'Privados')\n",
    "plt.text(annual_ret_summ.loc['Volatilidad','Real'],\n",
    "         annual_ret_summ.loc['Media','Real'], 'Real')\n",
    "plt.grid()"
   ]
  },
  {
   "cell_type": "code",
   "execution_count": null,
   "metadata": {},
   "outputs": [],
   "source": []
  },
  {
   "cell_type": "markdown",
   "metadata": {},
   "source": [
    "## 2. Hallando portafolios sobre la frontera de mínima varianza (35 puntos)\n",
    "\n",
    "Usando los datos del punto anterior:\n",
    "\n",
    "1. Halle los pesos del portafolio de mínima varianza considerando todos los activos riesgosos. También reportar claramente el rendimiento esperado, volatilidad y cociente de Sharpe para dicho portafolio (15 puntos).\n",
    "2. Halle los pesos del portafolio EMV considerando todos los activos riesgosos. También reportar claramente el rendimiento esperado, volatilidad y cociente de Sharpe para dicho portafolio (15 puntos).\n",
    "3. Halle la covarianza y la correlación entre los dos portafolios hallados (5 puntos)"
   ]
  },
  {
   "cell_type": "code",
   "execution_count": 6,
   "metadata": {},
   "outputs": [],
   "source": [
    "from scipy.optimize import minimize"
   ]
  },
  {
   "cell_type": "code",
   "execution_count": 7,
   "metadata": {},
   "outputs": [],
   "source": [
    "## Construcción de parámetros\n",
    "S = np.diag(annual_ret_summ.loc['Volatilidad'])\n",
    "Sigma = S.dot(corr).dot(S)\n",
    "Eind = annual_ret_summ.loc['Media'].values"
   ]
  },
  {
   "cell_type": "code",
   "execution_count": 8,
   "metadata": {},
   "outputs": [],
   "source": [
    "# Función objetivo\n",
    "def var(w, Sigma):\n",
    "    return w.dot(Sigma).dot(w)"
   ]
  },
  {
   "cell_type": "code",
   "execution_count": 9,
   "metadata": {},
   "outputs": [],
   "source": [
    "# Dato inicial\n",
    "n = len(Eind)\n",
    "w0 = np.ones((n,))/n\n",
    "# Cotas de las variables\n",
    "bnds = ((0,1),)*n\n",
    "# Restricciones\n",
    "cons = {'type':'eq','fun':lambda w: w.sum()-1}"
   ]
  },
  {
   "cell_type": "code",
   "execution_count": 10,
   "metadata": {},
   "outputs": [
    {
     "data": {
      "text/plain": [
       "     fun: 0.0027745037325952863\n",
       "     jac: array([0.00551408, 0.00912289, 0.00525779, 0.00714968, 0.00710235,\n",
       "       0.0055834 ])\n",
       " message: 'Optimization terminated successfully.'\n",
       "    nfev: 64\n",
       "     nit: 8\n",
       "    njev: 8\n",
       "  status: 0\n",
       " success: True\n",
       "       x: array([4.95146500e-01, 0.00000000e+00, 2.09837058e-04, 4.33680869e-19,\n",
       "       0.00000000e+00, 5.04643663e-01])"
      ]
     },
     "execution_count": 10,
     "metadata": {},
     "output_type": "execute_result"
    }
   ],
   "source": [
    "# Portafolio de mínima varianza\n",
    "minvar = minimize(fun=var,\n",
    "                 x0=w0,\n",
    "                 args=(Sigma,),\n",
    "                 bounds=bnds,\n",
    "                 constraints=cons)\n",
    "minvar"
   ]
  },
  {
   "cell_type": "code",
   "execution_count": 11,
   "metadata": {},
   "outputs": [
    {
     "data": {
      "text/plain": [
       "(array([4.95146500e-01, 0.00000000e+00, 2.09837058e-04, 4.33680869e-19,\n",
       "        0.00000000e+00, 5.04643663e-01]),\n",
       " 0.0511111835712562,\n",
       " 0.0526735581918982,\n",
       " 0.4007928132431225)"
      ]
     },
     "execution_count": 11,
     "metadata": {},
     "output_type": "execute_result"
    }
   ],
   "source": [
    "# Pesos, rendimiento y riesgo del portafolio de mínima varianza\n",
    "w_minvar = minvar.x\n",
    "E_minvar = Eind.dot(w_minvar)\n",
    "s_minvar = np.sqrt(var(w_minvar, Sigma))\n",
    "RS_minvar = (E_minvar - rf)/ s_minvar\n",
    "w_minvar, E_minvar, s_minvar, RS_minvar"
   ]
  },
  {
   "cell_type": "markdown",
   "metadata": {},
   "source": [
    "**Pesos aproximados portafolio de mínima varianza:**\n",
    "Bonos= 49.515%\n",
    "Acciones= 0%\n",
    "Mercados desarrollados= 0.0209%\n",
    "Mercados emergentes= 0%\n",
    "Fondos privados= 0%\n",
    "Activos reales= 50.464%"
   ]
  },
  {
   "cell_type": "markdown",
   "metadata": {},
   "source": [
    "**Rendimiento esperado portafolio de mínima varianza=** 5.1111%"
   ]
  },
  {
   "cell_type": "markdown",
   "metadata": {},
   "source": [
    "**Volatilidad portafolio de mínima varianza=** 5.2674%"
   ]
  },
  {
   "cell_type": "markdown",
   "metadata": {},
   "source": [
    "**Cociente de Sharpe portafolio de mínima varianza=** 0.40079"
   ]
  },
  {
   "cell_type": "code",
   "execution_count": null,
   "metadata": {},
   "outputs": [],
   "source": []
  },
  {
   "cell_type": "code",
   "execution_count": 12,
   "metadata": {},
   "outputs": [],
   "source": [
    "# Función objetivo\n",
    "def menos_RS(w,Eind,Sigma,rf):\n",
    "    Ep = Eind.dot(w)\n",
    "    sp = np.sqrt(w.dot(Sigma.dot(w)))\n",
    "    RS = (Ep-rf)/sp\n",
    "    return -RS"
   ]
  },
  {
   "cell_type": "code",
   "execution_count": 13,
   "metadata": {},
   "outputs": [],
   "source": [
    "# Dato inicial\n",
    "n = len(Eind)\n",
    "w0 = np.ones((n,))/n\n",
    "# Cotas de las variables\n",
    "bnds = ((0,1),)*n\n",
    "# Restricciones\n",
    "cons = {'type':'eq','fun':lambda w: w.sum()-1}"
   ]
  },
  {
   "cell_type": "code",
   "execution_count": 14,
   "metadata": {},
   "outputs": [
    {
     "data": {
      "text/plain": [
       "     fun: -0.5811986201269803\n",
       "     jac: array([-0.36522094, -0.28920723, -0.12258475, -0.36597762, -0.36617207,\n",
       "       -0.36620118])\n",
       " message: 'Optimization terminated successfully.'\n",
       "    nfev: 50\n",
       "     nit: 6\n",
       "    njev: 6\n",
       "  status: 0\n",
       " success: True\n",
       "       x: array([5.94813386e-17, 6.13567686e-17, 1.09081620e-17, 8.19187949e-02,\n",
       "       1.65859031e-01, 7.52222174e-01])"
      ]
     },
     "execution_count": 14,
     "metadata": {},
     "output_type": "execute_result"
    }
   ],
   "source": [
    "# Portafolio EMV\n",
    "EMV = minimize(fun=menos_RS,\n",
    "               x0=w0,\n",
    "               args=(Eind,Sigma,rf),\n",
    "               bounds=bnds,\n",
    "               constraints=cons)\n",
    "EMV"
   ]
  },
  {
   "cell_type": "code",
   "execution_count": 15,
   "metadata": {},
   "outputs": [
    {
     "data": {
      "text/plain": [
       "(array([5.94813386e-17, 6.13567686e-17, 1.09081620e-17, 8.19187949e-02,\n",
       "        1.65859031e-01, 7.52222174e-01]),\n",
       " 0.07761606735091325,\n",
       " 0.08192735788070195,\n",
       " 0.5811986201269803)"
      ]
     },
     "execution_count": 15,
     "metadata": {},
     "output_type": "execute_result"
    }
   ],
   "source": [
    "# Pesos, rendimiento y riesgo del portafolio EMV\n",
    "w_EMV = EMV.x\n",
    "E_EMV = Eind.dot(w_EMV)\n",
    "s_EMV = np.sqrt(var(w_EMV, Sigma))\n",
    "RS_EMV = (E_EMV - rf)/ s_EMV\n",
    "w_EMV, E_EMV, s_EMV, RS_EMV"
   ]
  },
  {
   "cell_type": "markdown",
   "metadata": {},
   "source": [
    "**Pesos aproximados portafolio de mínima varianza:**\n",
    "Bonos= 0%\n",
    "Acciones= 0%\n",
    "Mercados desarrollados= 0%\n",
    "Mercados emergentes= 8.1919%\n",
    "Fondos privados= 16.5859%\n",
    "Activos reales= 75.2222%"
   ]
  },
  {
   "cell_type": "markdown",
   "metadata": {},
   "source": [
    "**Rendimiento esperado portafolio de mínima varianza=** 7.7616%"
   ]
  },
  {
   "cell_type": "markdown",
   "metadata": {},
   "source": [
    "**Volatilidad portafolio de mínima varianza=** 8.1927%"
   ]
  },
  {
   "cell_type": "markdown",
   "metadata": {},
   "source": [
    "**Cociente de Sharpe portafolio de mínima varianza=** 0.58119"
   ]
  },
  {
   "cell_type": "code",
   "execution_count": null,
   "metadata": {},
   "outputs": [],
   "source": []
  },
  {
   "cell_type": "code",
   "execution_count": 16,
   "metadata": {},
   "outputs": [
    {
     "data": {
      "text/plain": [
       "0.0029818190364597976"
      ]
     },
     "execution_count": 16,
     "metadata": {},
     "output_type": "execute_result"
    }
   ],
   "source": [
    "# Covarianza entre los portafolios\n",
    "s_MV_EMV = w_minvar.dot(Sigma).dot(w_EMV)\n",
    "s_MV_EMV"
   ]
  },
  {
   "cell_type": "code",
   "execution_count": 17,
   "metadata": {},
   "outputs": [
    {
     "data": {
      "text/plain": [
       "0.6909707718191538"
      ]
     },
     "execution_count": 17,
     "metadata": {},
     "output_type": "execute_result"
    }
   ],
   "source": [
    "# Correlación entre los portafolios\n",
    "r_MV_EMV = s_MV_EMV / (s_minvar*s_EMV)\n",
    "r_MV_EMV"
   ]
  },
  {
   "cell_type": "markdown",
   "metadata": {},
   "source": [
    "**Covarianza entre los portafolios=** 0.00298"
   ]
  },
  {
   "cell_type": "markdown",
   "metadata": {},
   "source": [
    "**Correlación entre los portafolios=** 0.69097"
   ]
  },
  {
   "cell_type": "code",
   "execution_count": null,
   "metadata": {},
   "outputs": [],
   "source": []
  },
  {
   "cell_type": "markdown",
   "metadata": {},
   "source": [
    "## 3. Frontera de mínima varianza y LAC (30 puntos)\n",
    "\n",
    "Con los portafolios que se encontraron en el punto anterior (de mínima varianza y EMV):\n",
    "\n",
    "1. Construya la frontera de mínima varianza calculando el rendimiento esperado y volatilidad para varias combinaciones de los anteriores portafolios. Reportar dichas combinaciones en un DataFrame incluyendo pesos, rendimiento, volatilidad y cociente de Sharpe (15 puntos).\n",
    "2. También construya la línea de asignación de capital entre el activo libre de riesgo y el portafolio EMV. Reportar las combinaciones de estos activos en un DataFrame incluyendo pesos, rendimiento, volatilidad y cociente de Sharpe (15 puntos)."
   ]
  },
  {
   "cell_type": "code",
   "execution_count": 18,
   "metadata": {},
   "outputs": [],
   "source": [
    "N = 101\n",
    "w = np.linspace(0,4,N)"
   ]
  },
  {
   "cell_type": "code",
   "execution_count": 19,
   "metadata": {},
   "outputs": [
    {
     "data": {
      "text/html": [
       "<div>\n",
       "<style scoped>\n",
       "    .dataframe tbody tr th:only-of-type {\n",
       "        vertical-align: middle;\n",
       "    }\n",
       "\n",
       "    .dataframe tbody tr th {\n",
       "        vertical-align: top;\n",
       "    }\n",
       "\n",
       "    .dataframe thead th {\n",
       "        text-align: right;\n",
       "    }\n",
       "</style>\n",
       "<table border=\"1\" class=\"dataframe\">\n",
       "  <thead>\n",
       "    <tr style=\"text-align: right;\">\n",
       "      <th></th>\n",
       "      <th>w_EMV</th>\n",
       "      <th>w_minvar</th>\n",
       "      <th>Media</th>\n",
       "      <th>Vol</th>\n",
       "      <th>RS</th>\n",
       "    </tr>\n",
       "  </thead>\n",
       "  <tbody>\n",
       "    <tr>\n",
       "      <th>1</th>\n",
       "      <td>0.00</td>\n",
       "      <td>1.00</td>\n",
       "      <td>0.051111</td>\n",
       "      <td>0.052674</td>\n",
       "      <td>0.400793</td>\n",
       "    </tr>\n",
       "    <tr>\n",
       "      <th>2</th>\n",
       "      <td>0.04</td>\n",
       "      <td>0.96</td>\n",
       "      <td>0.052171</td>\n",
       "      <td>0.052884</td>\n",
       "      <td>0.419245</td>\n",
       "    </tr>\n",
       "    <tr>\n",
       "      <th>3</th>\n",
       "      <td>0.08</td>\n",
       "      <td>0.92</td>\n",
       "      <td>0.053232</td>\n",
       "      <td>0.053200</td>\n",
       "      <td>0.436685</td>\n",
       "    </tr>\n",
       "    <tr>\n",
       "      <th>4</th>\n",
       "      <td>0.12</td>\n",
       "      <td>0.88</td>\n",
       "      <td>0.054292</td>\n",
       "      <td>0.053619</td>\n",
       "      <td>0.453045</td>\n",
       "    </tr>\n",
       "    <tr>\n",
       "      <th>5</th>\n",
       "      <td>0.16</td>\n",
       "      <td>0.84</td>\n",
       "      <td>0.055352</td>\n",
       "      <td>0.054139</td>\n",
       "      <td>0.468275</td>\n",
       "    </tr>\n",
       "    <tr>\n",
       "      <th>6</th>\n",
       "      <td>0.20</td>\n",
       "      <td>0.80</td>\n",
       "      <td>0.056412</td>\n",
       "      <td>0.054757</td>\n",
       "      <td>0.482351</td>\n",
       "    </tr>\n",
       "    <tr>\n",
       "      <th>7</th>\n",
       "      <td>0.24</td>\n",
       "      <td>0.76</td>\n",
       "      <td>0.057472</td>\n",
       "      <td>0.055470</td>\n",
       "      <td>0.495264</td>\n",
       "    </tr>\n",
       "    <tr>\n",
       "      <th>8</th>\n",
       "      <td>0.28</td>\n",
       "      <td>0.72</td>\n",
       "      <td>0.058533</td>\n",
       "      <td>0.056274</td>\n",
       "      <td>0.507026</td>\n",
       "    </tr>\n",
       "    <tr>\n",
       "      <th>9</th>\n",
       "      <td>0.32</td>\n",
       "      <td>0.68</td>\n",
       "      <td>0.059593</td>\n",
       "      <td>0.057166</td>\n",
       "      <td>0.517665</td>\n",
       "    </tr>\n",
       "    <tr>\n",
       "      <th>10</th>\n",
       "      <td>0.36</td>\n",
       "      <td>0.64</td>\n",
       "      <td>0.060653</td>\n",
       "      <td>0.058141</td>\n",
       "      <td>0.527220</td>\n",
       "    </tr>\n",
       "  </tbody>\n",
       "</table>\n",
       "</div>"
      ],
      "text/plain": [
       "    w_EMV  w_minvar     Media       Vol        RS\n",
       "1    0.00      1.00  0.051111  0.052674  0.400793\n",
       "2    0.04      0.96  0.052171  0.052884  0.419245\n",
       "3    0.08      0.92  0.053232  0.053200  0.436685\n",
       "4    0.12      0.88  0.054292  0.053619  0.453045\n",
       "5    0.16      0.84  0.055352  0.054139  0.468275\n",
       "6    0.20      0.80  0.056412  0.054757  0.482351\n",
       "7    0.24      0.76  0.057472  0.055470  0.495264\n",
       "8    0.28      0.72  0.058533  0.056274  0.507026\n",
       "9    0.32      0.68  0.059593  0.057166  0.517665\n",
       "10   0.36      0.64  0.060653  0.058141  0.527220"
      ]
     },
     "execution_count": 19,
     "metadata": {},
     "output_type": "execute_result"
    }
   ],
   "source": [
    "front_minvar = pd.DataFrame(index = range(1,N+1),\n",
    "                            data = {'w_EMV':w,\n",
    "                                    'w_minvar':1-w,\n",
    "                                    'Media':w*E_EMV+(1-w)*E_minvar,\n",
    "                                    'Vol':np.sqrt((w*s_EMV)**2+2*w*(1-w)*r_MV_EMV*s_EMV*s_minvar+((1-w)*s_minvar)**2)})\n",
    "front_minvar['RS'] = (front_minvar['Media']-rf)/front_minvar['Vol']\n",
    "front_minvar.head(10)"
   ]
  },
  {
   "cell_type": "code",
   "execution_count": 20,
   "metadata": {},
   "outputs": [],
   "source": [
    "import matplotlib.pyplot as plt\n",
    "%matplotlib inline"
   ]
  },
  {
   "cell_type": "code",
   "execution_count": 21,
   "metadata": {},
   "outputs": [
    {
     "data": {
      "image/png": "[encoded data removed]",
      "text/plain": [
       "<Figure size 432x288 with 1 Axes>"
      ]
     },
     "metadata": {
      "needs_background": "light"
     },
     "output_type": "display_data"
    }
   ],
   "source": [
    "plt.figure(figsize=(6,4))\n",
    "plt.plot(front_minvar['Vol'],front_minvar['Media'],lw=2,color='black',label='Frontera de minima varianza')\n",
    "plt.plot(s_EMV,E_EMV,'oy',ms=8,label='Port. EMV')\n",
    "plt.plot(s_minvar,E_minvar,'og',ms=8,label='Port. Min. Var.')\n",
    "plt.xlabel('Volatilidad $\\sigma$')\n",
    "plt.ylabel('Rendimiento Esperado $E[r]$')\n",
    "plt.legend()\n",
    "plt.grid()"
   ]
  },
  {
   "cell_type": "code",
   "execution_count": null,
   "metadata": {},
   "outputs": [],
   "source": []
  },
  {
   "cell_type": "code",
   "execution_count": 22,
   "metadata": {},
   "outputs": [],
   "source": [
    "# Vector de wp variando entre 0 y 1.5 con n pasos\n",
    "wp = np.linspace(0,1.5,50)"
   ]
  },
  {
   "cell_type": "code",
   "execution_count": 23,
   "metadata": {},
   "outputs": [
    {
     "data": {
      "text/html": [
       "<div>\n",
       "<style scoped>\n",
       "    .dataframe tbody tr th:only-of-type {\n",
       "        vertical-align: middle;\n",
       "    }\n",
       "\n",
       "    .dataframe tbody tr th {\n",
       "        vertical-align: top;\n",
       "    }\n",
       "\n",
       "    .dataframe thead th {\n",
       "        text-align: right;\n",
       "    }\n",
       "</style>\n",
       "<table border=\"1\" class=\"dataframe\">\n",
       "  <thead>\n",
       "    <tr style=\"text-align: right;\">\n",
       "      <th></th>\n",
       "      <th>w_EMV</th>\n",
       "      <th>w_minvar</th>\n",
       "      <th>Media</th>\n",
       "      <th>Vol</th>\n",
       "      <th>RS</th>\n",
       "    </tr>\n",
       "  </thead>\n",
       "  <tbody>\n",
       "    <tr>\n",
       "      <th>0</th>\n",
       "      <td>0.000000</td>\n",
       "      <td>1.000000</td>\n",
       "      <td>0.051111</td>\n",
       "      <td>0.052674</td>\n",
       "      <td>0.400793</td>\n",
       "    </tr>\n",
       "    <tr>\n",
       "      <th>1</th>\n",
       "      <td>0.030612</td>\n",
       "      <td>0.969388</td>\n",
       "      <td>0.051923</td>\n",
       "      <td>0.052825</td>\n",
       "      <td>0.415002</td>\n",
       "    </tr>\n",
       "    <tr>\n",
       "      <th>2</th>\n",
       "      <td>0.061224</td>\n",
       "      <td>0.938776</td>\n",
       "      <td>0.052734</td>\n",
       "      <td>0.053039</td>\n",
       "      <td>0.428630</td>\n",
       "    </tr>\n",
       "    <tr>\n",
       "      <th>3</th>\n",
       "      <td>0.091837</td>\n",
       "      <td>0.908163</td>\n",
       "      <td>0.053545</td>\n",
       "      <td>0.053313</td>\n",
       "      <td>0.441641</td>\n",
       "    </tr>\n",
       "    <tr>\n",
       "      <th>4</th>\n",
       "      <td>0.122449</td>\n",
       "      <td>0.877551</td>\n",
       "      <td>0.054357</td>\n",
       "      <td>0.053648</td>\n",
       "      <td>0.454010</td>\n",
       "    </tr>\n",
       "    <tr>\n",
       "      <th>5</th>\n",
       "      <td>0.153061</td>\n",
       "      <td>0.846939</td>\n",
       "      <td>0.055168</td>\n",
       "      <td>0.054042</td>\n",
       "      <td>0.465716</td>\n",
       "    </tr>\n",
       "    <tr>\n",
       "      <th>6</th>\n",
       "      <td>0.183673</td>\n",
       "      <td>0.816327</td>\n",
       "      <td>0.055979</td>\n",
       "      <td>0.054493</td>\n",
       "      <td>0.476746</td>\n",
       "    </tr>\n",
       "    <tr>\n",
       "      <th>7</th>\n",
       "      <td>0.214286</td>\n",
       "      <td>0.785714</td>\n",
       "      <td>0.056791</td>\n",
       "      <td>0.055001</td>\n",
       "      <td>0.487096</td>\n",
       "    </tr>\n",
       "    <tr>\n",
       "      <th>8</th>\n",
       "      <td>0.244898</td>\n",
       "      <td>0.755102</td>\n",
       "      <td>0.057602</td>\n",
       "      <td>0.055564</td>\n",
       "      <td>0.496765</td>\n",
       "    </tr>\n",
       "    <tr>\n",
       "      <th>9</th>\n",
       "      <td>0.275510</td>\n",
       "      <td>0.724490</td>\n",
       "      <td>0.058414</td>\n",
       "      <td>0.056180</td>\n",
       "      <td>0.505762</td>\n",
       "    </tr>\n",
       "    <tr>\n",
       "      <th>10</th>\n",
       "      <td>0.306122</td>\n",
       "      <td>0.693878</td>\n",
       "      <td>0.059225</td>\n",
       "      <td>0.056847</td>\n",
       "      <td>0.514099</td>\n",
       "    </tr>\n",
       "    <tr>\n",
       "      <th>11</th>\n",
       "      <td>0.336735</td>\n",
       "      <td>0.663265</td>\n",
       "      <td>0.060036</td>\n",
       "      <td>0.057564</td>\n",
       "      <td>0.521791</td>\n",
       "    </tr>\n",
       "    <tr>\n",
       "      <th>12</th>\n",
       "      <td>0.367347</td>\n",
       "      <td>0.632653</td>\n",
       "      <td>0.060848</td>\n",
       "      <td>0.058329</td>\n",
       "      <td>0.528861</td>\n",
       "    </tr>\n",
       "    <tr>\n",
       "      <th>13</th>\n",
       "      <td>0.397959</td>\n",
       "      <td>0.602041</td>\n",
       "      <td>0.061659</td>\n",
       "      <td>0.059139</td>\n",
       "      <td>0.535331</td>\n",
       "    </tr>\n",
       "    <tr>\n",
       "      <th>14</th>\n",
       "      <td>0.428571</td>\n",
       "      <td>0.571429</td>\n",
       "      <td>0.062470</td>\n",
       "      <td>0.059994</td>\n",
       "      <td>0.541228</td>\n",
       "    </tr>\n",
       "    <tr>\n",
       "      <th>15</th>\n",
       "      <td>0.459184</td>\n",
       "      <td>0.540816</td>\n",
       "      <td>0.063282</td>\n",
       "      <td>0.060891</td>\n",
       "      <td>0.546580</td>\n",
       "    </tr>\n",
       "    <tr>\n",
       "      <th>16</th>\n",
       "      <td>0.489796</td>\n",
       "      <td>0.510204</td>\n",
       "      <td>0.064093</td>\n",
       "      <td>0.061828</td>\n",
       "      <td>0.551416</td>\n",
       "    </tr>\n",
       "    <tr>\n",
       "      <th>17</th>\n",
       "      <td>0.520408</td>\n",
       "      <td>0.479592</td>\n",
       "      <td>0.064905</td>\n",
       "      <td>0.062804</td>\n",
       "      <td>0.555766</td>\n",
       "    </tr>\n",
       "    <tr>\n",
       "      <th>18</th>\n",
       "      <td>0.551020</td>\n",
       "      <td>0.448980</td>\n",
       "      <td>0.065716</td>\n",
       "      <td>0.063817</td>\n",
       "      <td>0.559660</td>\n",
       "    </tr>\n",
       "    <tr>\n",
       "      <th>19</th>\n",
       "      <td>0.581633</td>\n",
       "      <td>0.418367</td>\n",
       "      <td>0.066527</td>\n",
       "      <td>0.064865</td>\n",
       "      <td>0.563128</td>\n",
       "    </tr>\n",
       "    <tr>\n",
       "      <th>20</th>\n",
       "      <td>0.612245</td>\n",
       "      <td>0.387755</td>\n",
       "      <td>0.067339</td>\n",
       "      <td>0.065946</td>\n",
       "      <td>0.566198</td>\n",
       "    </tr>\n",
       "    <tr>\n",
       "      <th>21</th>\n",
       "      <td>0.642857</td>\n",
       "      <td>0.357143</td>\n",
       "      <td>0.068150</td>\n",
       "      <td>0.067059</td>\n",
       "      <td>0.568899</td>\n",
       "    </tr>\n",
       "    <tr>\n",
       "      <th>22</th>\n",
       "      <td>0.673469</td>\n",
       "      <td>0.326531</td>\n",
       "      <td>0.068961</td>\n",
       "      <td>0.068203</td>\n",
       "      <td>0.571258</td>\n",
       "    </tr>\n",
       "    <tr>\n",
       "      <th>23</th>\n",
       "      <td>0.704082</td>\n",
       "      <td>0.295918</td>\n",
       "      <td>0.069773</td>\n",
       "      <td>0.069375</td>\n",
       "      <td>0.573302</td>\n",
       "    </tr>\n",
       "    <tr>\n",
       "      <th>24</th>\n",
       "      <td>0.734694</td>\n",
       "      <td>0.265306</td>\n",
       "      <td>0.070584</td>\n",
       "      <td>0.070574</td>\n",
       "      <td>0.575056</td>\n",
       "    </tr>\n",
       "    <tr>\n",
       "      <th>25</th>\n",
       "      <td>0.765306</td>\n",
       "      <td>0.234694</td>\n",
       "      <td>0.071396</td>\n",
       "      <td>0.071800</td>\n",
       "      <td>0.576542</td>\n",
       "    </tr>\n",
       "    <tr>\n",
       "      <th>26</th>\n",
       "      <td>0.795918</td>\n",
       "      <td>0.204082</td>\n",
       "      <td>0.072207</td>\n",
       "      <td>0.073050</td>\n",
       "      <td>0.577783</td>\n",
       "    </tr>\n",
       "    <tr>\n",
       "      <th>27</th>\n",
       "      <td>0.826531</td>\n",
       "      <td>0.173469</td>\n",
       "      <td>0.073018</td>\n",
       "      <td>0.074323</td>\n",
       "      <td>0.578801</td>\n",
       "    </tr>\n",
       "    <tr>\n",
       "      <th>28</th>\n",
       "      <td>0.857143</td>\n",
       "      <td>0.142857</td>\n",
       "      <td>0.073830</td>\n",
       "      <td>0.075619</td>\n",
       "      <td>0.579614</td>\n",
       "    </tr>\n",
       "    <tr>\n",
       "      <th>29</th>\n",
       "      <td>0.887755</td>\n",
       "      <td>0.112245</td>\n",
       "      <td>0.074641</td>\n",
       "      <td>0.076935</td>\n",
       "      <td>0.580240</td>\n",
       "    </tr>\n",
       "    <tr>\n",
       "      <th>30</th>\n",
       "      <td>0.918367</td>\n",
       "      <td>0.081633</td>\n",
       "      <td>0.075452</td>\n",
       "      <td>0.078272</td>\n",
       "      <td>0.580696</td>\n",
       "    </tr>\n",
       "    <tr>\n",
       "      <th>31</th>\n",
       "      <td>0.948980</td>\n",
       "      <td>0.051020</td>\n",
       "      <td>0.076264</td>\n",
       "      <td>0.079628</td>\n",
       "      <td>0.580999</td>\n",
       "    </tr>\n",
       "    <tr>\n",
       "      <th>32</th>\n",
       "      <td>0.979592</td>\n",
       "      <td>0.020408</td>\n",
       "      <td>0.077075</td>\n",
       "      <td>0.081002</td>\n",
       "      <td>0.581161</td>\n",
       "    </tr>\n",
       "    <tr>\n",
       "      <th>33</th>\n",
       "      <td>1.010204</td>\n",
       "      <td>-0.010204</td>\n",
       "      <td>0.077887</td>\n",
       "      <td>0.082393</td>\n",
       "      <td>0.581197</td>\n",
       "    </tr>\n",
       "    <tr>\n",
       "      <th>34</th>\n",
       "      <td>1.040816</td>\n",
       "      <td>-0.040816</td>\n",
       "      <td>0.078698</td>\n",
       "      <td>0.083800</td>\n",
       "      <td>0.581119</td>\n",
       "    </tr>\n",
       "    <tr>\n",
       "      <th>35</th>\n",
       "      <td>1.071429</td>\n",
       "      <td>-0.071429</td>\n",
       "      <td>0.079509</td>\n",
       "      <td>0.085223</td>\n",
       "      <td>0.580938</td>\n",
       "    </tr>\n",
       "    <tr>\n",
       "      <th>36</th>\n",
       "      <td>1.102041</td>\n",
       "      <td>-0.102041</td>\n",
       "      <td>0.080321</td>\n",
       "      <td>0.086661</td>\n",
       "      <td>0.580664</td>\n",
       "    </tr>\n",
       "    <tr>\n",
       "      <th>37</th>\n",
       "      <td>1.132653</td>\n",
       "      <td>-0.132653</td>\n",
       "      <td>0.081132</td>\n",
       "      <td>0.088112</td>\n",
       "      <td>0.580306</td>\n",
       "    </tr>\n",
       "    <tr>\n",
       "      <th>38</th>\n",
       "      <td>1.163265</td>\n",
       "      <td>-0.163265</td>\n",
       "      <td>0.081943</td>\n",
       "      <td>0.089577</td>\n",
       "      <td>0.579874</td>\n",
       "    </tr>\n",
       "    <tr>\n",
       "      <th>39</th>\n",
       "      <td>1.193878</td>\n",
       "      <td>-0.193878</td>\n",
       "      <td>0.082755</td>\n",
       "      <td>0.091055</td>\n",
       "      <td>0.579375</td>\n",
       "    </tr>\n",
       "    <tr>\n",
       "      <th>40</th>\n",
       "      <td>1.224490</td>\n",
       "      <td>-0.224490</td>\n",
       "      <td>0.083566</td>\n",
       "      <td>0.092544</td>\n",
       "      <td>0.578816</td>\n",
       "    </tr>\n",
       "    <tr>\n",
       "      <th>41</th>\n",
       "      <td>1.255102</td>\n",
       "      <td>-0.255102</td>\n",
       "      <td>0.084378</td>\n",
       "      <td>0.094046</td>\n",
       "      <td>0.578204</td>\n",
       "    </tr>\n",
       "    <tr>\n",
       "      <th>42</th>\n",
       "      <td>1.285714</td>\n",
       "      <td>-0.285714</td>\n",
       "      <td>0.085189</td>\n",
       "      <td>0.095558</td>\n",
       "      <td>0.577545</td>\n",
       "    </tr>\n",
       "    <tr>\n",
       "      <th>43</th>\n",
       "      <td>1.316327</td>\n",
       "      <td>-0.316327</td>\n",
       "      <td>0.086000</td>\n",
       "      <td>0.097080</td>\n",
       "      <td>0.576845</td>\n",
       "    </tr>\n",
       "    <tr>\n",
       "      <th>44</th>\n",
       "      <td>1.346939</td>\n",
       "      <td>-0.346939</td>\n",
       "      <td>0.086812</td>\n",
       "      <td>0.098613</td>\n",
       "      <td>0.576108</td>\n",
       "    </tr>\n",
       "    <tr>\n",
       "      <th>45</th>\n",
       "      <td>1.377551</td>\n",
       "      <td>-0.377551</td>\n",
       "      <td>0.087623</td>\n",
       "      <td>0.100155</td>\n",
       "      <td>0.575339</td>\n",
       "    </tr>\n",
       "    <tr>\n",
       "      <th>46</th>\n",
       "      <td>1.408163</td>\n",
       "      <td>-0.408163</td>\n",
       "      <td>0.088434</td>\n",
       "      <td>0.101706</td>\n",
       "      <td>0.574542</td>\n",
       "    </tr>\n",
       "    <tr>\n",
       "      <th>47</th>\n",
       "      <td>1.438776</td>\n",
       "      <td>-0.438776</td>\n",
       "      <td>0.089246</td>\n",
       "      <td>0.103266</td>\n",
       "      <td>0.573720</td>\n",
       "    </tr>\n",
       "    <tr>\n",
       "      <th>48</th>\n",
       "      <td>1.469388</td>\n",
       "      <td>-0.469388</td>\n",
       "      <td>0.090057</td>\n",
       "      <td>0.104834</td>\n",
       "      <td>0.572878</td>\n",
       "    </tr>\n",
       "    <tr>\n",
       "      <th>49</th>\n",
       "      <td>1.500000</td>\n",
       "      <td>-0.500000</td>\n",
       "      <td>0.090869</td>\n",
       "      <td>0.106410</td>\n",
       "      <td>0.572018</td>\n",
       "    </tr>\n",
       "  </tbody>\n",
       "</table>\n",
       "</div>"
      ],
      "text/plain": [
       "       w_EMV  w_minvar     Media       Vol        RS\n",
       "0   0.000000  1.000000  0.051111  0.052674  0.400793\n",
       "1   0.030612  0.969388  0.051923  0.052825  0.415002\n",
       "2   0.061224  0.938776  0.052734  0.053039  0.428630\n",
       "3   0.091837  0.908163  0.053545  0.053313  0.441641\n",
       "4   0.122449  0.877551  0.054357  0.053648  0.454010\n",
       "5   0.153061  0.846939  0.055168  0.054042  0.465716\n",
       "6   0.183673  0.816327  0.055979  0.054493  0.476746\n",
       "7   0.214286  0.785714  0.056791  0.055001  0.487096\n",
       "8   0.244898  0.755102  0.057602  0.055564  0.496765\n",
       "9   0.275510  0.724490  0.058414  0.056180  0.505762\n",
       "10  0.306122  0.693878  0.059225  0.056847  0.514099\n",
       "11  0.336735  0.663265  0.060036  0.057564  0.521791\n",
       "12  0.367347  0.632653  0.060848  0.058329  0.528861\n",
       "13  0.397959  0.602041  0.061659  0.059139  0.535331\n",
       "14  0.428571  0.571429  0.062470  0.059994  0.541228\n",
       "15  0.459184  0.540816  0.063282  0.060891  0.546580\n",
       "16  0.489796  0.510204  0.064093  0.061828  0.551416\n",
       "17  0.520408  0.479592  0.064905  0.062804  0.555766\n",
       "18  0.551020  0.448980  0.065716  0.063817  0.559660\n",
       "19  0.581633  0.418367  0.066527  0.064865  0.563128\n",
       "20  0.612245  0.387755  0.067339  0.065946  0.566198\n",
       "21  0.642857  0.357143  0.068150  0.067059  0.568899\n",
       "22  0.673469  0.326531  0.068961  0.068203  0.571258\n",
       "23  0.704082  0.295918  0.069773  0.069375  0.573302\n",
       "24  0.734694  0.265306  0.070584  0.070574  0.575056\n",
       "25  0.765306  0.234694  0.071396  0.071800  0.576542\n",
       "26  0.795918  0.204082  0.072207  0.073050  0.577783\n",
       "27  0.826531  0.173469  0.073018  0.074323  0.578801\n",
       "28  0.857143  0.142857  0.073830  0.075619  0.579614\n",
       "29  0.887755  0.112245  0.074641  0.076935  0.580240\n",
       "30  0.918367  0.081633  0.075452  0.078272  0.580696\n",
       "31  0.948980  0.051020  0.076264  0.079628  0.580999\n",
       "32  0.979592  0.020408  0.077075  0.081002  0.581161\n",
       "33  1.010204 -0.010204  0.077887  0.082393  0.581197\n",
       "34  1.040816 -0.040816  0.078698  0.083800  0.581119\n",
       "35  1.071429 -0.071429  0.079509  0.085223  0.580938\n",
       "36  1.102041 -0.102041  0.080321  0.086661  0.580664\n",
       "37  1.132653 -0.132653  0.081132  0.088112  0.580306\n",
       "38  1.163265 -0.163265  0.081943  0.089577  0.579874\n",
       "39  1.193878 -0.193878  0.082755  0.091055  0.579375\n",
       "40  1.224490 -0.224490  0.083566  0.092544  0.578816\n",
       "41  1.255102 -0.255102  0.084378  0.094046  0.578204\n",
       "42  1.285714 -0.285714  0.085189  0.095558  0.577545\n",
       "43  1.316327 -0.316327  0.086000  0.097080  0.576845\n",
       "44  1.346939 -0.346939  0.086812  0.098613  0.576108\n",
       "45  1.377551 -0.377551  0.087623  0.100155  0.575339\n",
       "46  1.408163 -0.408163  0.088434  0.101706  0.574542\n",
       "47  1.438776 -0.438776  0.089246  0.103266  0.573720\n",
       "48  1.469388 -0.469388  0.090057  0.104834  0.572878\n",
       "49  1.500000 -0.500000  0.090869  0.106410  0.572018"
      ]
     },
     "execution_count": 23,
     "metadata": {},
     "output_type": "execute_result"
    }
   ],
   "source": [
    "LAC = pd.DataFrame(index=range(len(wp)),\n",
    "                   data = {'w_EMV':wp,\n",
    "                           'w_minvar':1-wp,\n",
    "                           'Media':wp*E_EMV+(1-wp)*E_minvar,\n",
    "                           'Vol':np.sqrt((wp*s_EMV)**2+2*wp*(1-wp)*r_MV_EMV*s_EMV*s_minvar+((1-wp)*s_minvar)**2)})\n",
    "LAC['RS'] = (LAC['Media']-rf)/LAC['Vol']\n",
    "LAC"
   ]
  },
  {
   "cell_type": "code",
   "execution_count": 24,
   "metadata": {},
   "outputs": [
    {
     "data": {
      "image/png": "[encoded data removed]",
      "text/plain": [
       "<Figure size 432x288 with 2 Axes>"
      ]
     },
     "metadata": {
      "needs_background": "light"
     },
     "output_type": "display_data"
    }
   ],
   "source": [
    "plt.figure(figsize=(6,4))\n",
    "plt.scatter(front_minvar['Vol'],front_minvar['Media'],c=front_minvar['RS'],cmap='magma')\n",
    "plt.plot(LAC['Vol'],LAC['Media'],'-b')\n",
    "plt.xlabel('Volatilidad $\\sigma$')\n",
    "plt.ylabel('Rendimiento Esperado $E[r]$')\n",
    "plt.colorbar()\n",
    "plt.grid()"
   ]
  },
  {
   "cell_type": "code",
   "execution_count": null,
   "metadata": {},
   "outputs": [],
   "source": []
  },
  {
   "cell_type": "markdown",
   "metadata": {},
   "source": [
    "## 4. Gráficos y conclusiones (25 puntos)\n",
    "\n",
    "1. Usando todos los datos obtenidos, grafique:\n",
    " - los activos individuales,\n",
    " - portafolio de mínima varianza,\n",
    " - portafolio eficiente en media-varianza (EMV),\n",
    " - frontera de mínima varianza, y\n",
    " - línea de asignación de capital,\n",
    "en el espacio de rendimiento (eje $y$) vs. volatilidad (eje $x$). Asegúrese de etiquetar todo y poner distintos colores para diferenciar los distintos elementos en su gráfico (15 puntos).\n",
    "2. Suponga que usted está aconsejando a un cliente cuyo coeficiente de aversión al riesgo resultó ser 4. ¿Qué asignación de capital le sugeriría?, ¿qué significa su resultado?(10 puntos)"
   ]
  },
  {
   "cell_type": "code",
   "execution_count": 26,
   "metadata": {},
   "outputs": [
    {
     "data": {
      "image/png": "[encoded data removed]",
      "text/plain": [
       "<Figure size 1440x1440 with 2 Axes>"
      ]
     },
     "metadata": {
      "needs_background": "light"
     },
     "output_type": "display_data"
    }
   ],
   "source": [
    "x_points =  annual_ret_summ.loc['Volatilidad']\n",
    "y_points = annual_ret_summ.loc['Media']\n",
    "plt.figure(figsize=(20,20))\n",
    "plt.plot(x_points, y_points, '*')\n",
    "plt.xlabel('Volatilidad')\n",
    "plt.ylabel('Rendimiento_Esperado')\n",
    "plt.text(annual_ret_summ.loc['Volatilidad','Bonos'],\n",
    "         annual_ret_summ.loc['Media','Bonos'], 'Bonos')\n",
    "plt.text(annual_ret_summ.loc['Volatilidad','Acciones'],\n",
    "         annual_ret_summ.loc['Media','Acciones'], 'Acciones')\n",
    "plt.text(annual_ret_summ.loc['Volatilidad','Desarrollado'],\n",
    "         annual_ret_summ.loc['Media','Desarrollado'], 'Desarrollado')\n",
    "plt.text(annual_ret_summ.loc['Volatilidad','Emergente'],\n",
    "         annual_ret_summ.loc['Media','Emergente'], 'Emergente')\n",
    "plt.text(annual_ret_summ.loc['Volatilidad','Privados'],\n",
    "         annual_ret_summ.loc['Media','Privados'], 'Privados')\n",
    "plt.text(annual_ret_summ.loc['Volatilidad','Real'],\n",
    "         annual_ret_summ.loc['Media','Real'], 'Real')\n",
    "plt.plot(LAC['Vol'],LAC['Media'],'--b', label='LAC')\n",
    "plt.plot(front_minvar['Vol'],front_minvar['Media'],lw=2,color='black',label='Frontera de minima varianza')\n",
    "plt.plot(s_EMV,E_EMV,'oy',ms=8,label='Port. EMV')\n",
    "plt.plot(s_minvar,E_minvar,'og',ms=8,label='Port. Min. Var.')\n",
    "plt.xlabel('Volatilidad $\\sigma$')\n",
    "plt.ylabel('Rendimiento Esperado $E[r]$')\n",
    "plt.scatter(front_minvar['Vol'],front_minvar['Media'],lw=8,c=front_minvar['RS'],cmap='magma')\n",
    "plt.plot(LAC['Vol'],LAC['Media'],'-b')\n",
    "plt.xlabel('Volatilidad $\\sigma$')\n",
    "plt.ylabel('Rendimiento Esperado $E[r]$')\n",
    "plt.colorbar()\n",
    "plt.legend()\n",
    "plt.grid()"
   ]
  },
  {
   "cell_type": "code",
   "execution_count": 28,
   "metadata": {},
   "outputs": [
    {
     "data": {
      "text/plain": [
       "1.0134389348275532"
      ]
     },
     "execution_count": 28,
     "metadata": {},
     "output_type": "execute_result"
    }
   ],
   "source": [
    "gamma=7\n",
    "w_opt = (E_EMV-rf)/(gamma*s_EMV**2)\n",
    "w_opt"
   ]
  },
  {
   "cell_type": "code",
   "execution_count": 29,
   "metadata": {},
   "outputs": [
    {
     "data": {
      "text/plain": [
       "array([ 0.  ,  0.  ,  0.  ,  8.3 , 16.81, 76.23])"
      ]
     },
     "execution_count": 29,
     "metadata": {},
     "output_type": "execute_result"
    }
   ],
   "source": [
    "w_EMVp= (w_opt*w_EMV)*100\n",
    "w_EMVp = np.round(w_EMVp,2)\n",
    "w_EMVp"
   ]
  },
  {
   "cell_type": "markdown",
   "metadata": {},
   "source": [
    "Lo que nos indica la asignación es que tenemos que tomar una posición corta en el activo libre de riesgo (1.34%), invertir 8.3% en mercados emergentes, 16.81% fondos privados y 76.23% en activos reales."
   ]
  },
  {
   "cell_type": "code",
   "execution_count": null,
   "metadata": {},
   "outputs": [],
   "source": []
  }
 ],
 "metadata": {
  "kernelspec": {
   "display_name": "Python 3",
   "language": "python",
   "name": "python3"
  },
  "language_info": {
   "codemirror_mode": {
    "name": "ipython",
    "version": 3
   },
   "file_extension": ".py",
   "mimetype": "text/x-python",
   "name": "python",
   "nbconvert_exporter": "python",
   "pygments_lexer": "ipython3",
   "version": "3.7.3"
  }
 },
 "nbformat": 4,
 "nbformat_minor": 2
}
