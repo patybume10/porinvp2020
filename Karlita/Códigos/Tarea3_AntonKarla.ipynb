{
 "cells": [
  {
   "cell_type": "markdown",
   "metadata": {},
   "source": [
    "# Tarea 3. Midiendo rendimiento y riesgo.\n",
    "\n",
    "<img style=\"float: right; margin: 0px 0px 15px 15px;\" src=\"https://www.maxpixel.net/static/photo/1x/Wall-Street-Dices-Over-Newspaper-Profit-Loss-Risk-2656028.jpg\" width=\"600px\" height=\"400px\" />\n",
    "\n",
    "**Resumen.**\n",
    "> En esta tarea descargarás datos históricos de precios y, con base en ellos, calcularás rendimientos. Luego se te pedirá resumir la distribución de rendimientos para cada instrumento calculando el rendimiento medio y volatilidad. De igual manera, se te pedirá presentar dicho resumen en una base anual.\n",
    "\n",
    "**Criterio de revisión.**\n",
    "> Se te calificará de acuerdo a los resultados finales que reportes, basados en tu análisis.\n",
    "\n",
    "**Antes de comenzar.**\n",
    "> Por favor, copiar y pegar este archivo en otra ubicación. Antes de comenzar, nombrarlo *Tarea3_ApellidoNombre*, sin acentos y sin espacios; por ejemplo, en mi caso el archivo se llamaría *Tarea3_JimenezEsteban*. Resolver todos los puntos en dicho archivo y subir en este espacio."
   ]
  },
  {
   "cell_type": "markdown",
   "metadata": {},
   "source": [
    "## 1. Descarga de datos (20 puntos)\n",
    "\n",
    "Descargar los precios diarios ajustados en el cierre para el índice S&P 500 (^GSPC), Microsoft (MSFT), Walgreens (WBA), y Tesla Motors (TSLA) durante el periodo comprendido del primero de enero del 2011 hasta el 31 de diciembre del 2015.\n",
    "\n",
    "1. Mostrar el DataFrame de los precios diarios (10 puntos).\n",
    "2. Graficar los precios (10 puntos)."
   ]
  },
  {
   "cell_type": "code",
   "execution_count": 68,
   "metadata": {},
   "outputs": [],
   "source": [
    "import pandas as pd\n",
    "import numpy as np\n",
    "import matplotlib.pyplot as plt\n",
    "%matplotlib inline\n",
    "import pandas_datareader.data as web"
   ]
  },
  {
   "cell_type": "code",
   "execution_count": 69,
   "metadata": {},
   "outputs": [],
   "source": [
    "def get_adj_closes(tickers, start_date=None, end_date=None):\n",
    "    closes = web.DataReader(name=tickers, data_source='yahoo', start='2011-01-01', end='2015-12-31')\n",
    "    closes = closes['Adj Close']\n",
    "    closes.sort_index(inplace=True)\n",
    "    return closes"
   ]
  },
  {
   "cell_type": "code",
   "execution_count": 70,
   "metadata": {},
   "outputs": [],
   "source": [
    "names = ['^GSPC','MSFT','WBA','TSLA']\n",
    "start = '2011-01-01'\n",
    "end = '2015-12-31'"
   ]
  },
  {
   "cell_type": "code",
   "execution_count": 71,
   "metadata": {},
   "outputs": [
    {
     "data": {
      "text/html": [
       "<div>\n",
       "<style scoped>\n",
       "    .dataframe tbody tr th:only-of-type {\n",
       "        vertical-align: middle;\n",
       "    }\n",
       "\n",
       "    .dataframe tbody tr th {\n",
       "        vertical-align: top;\n",
       "    }\n",
       "\n",
       "    .dataframe thead th {\n",
       "        text-align: right;\n",
       "    }\n",
       "</style>\n",
       "<table border=\"1\" class=\"dataframe\">\n",
       "  <thead>\n",
       "    <tr style=\"text-align: right;\">\n",
       "      <th>Symbols</th>\n",
       "      <th>MSFT</th>\n",
       "      <th>TSLA</th>\n",
       "      <th>WBA</th>\n",
       "      <th>^GSPC</th>\n",
       "    </tr>\n",
       "    <tr>\n",
       "      <th>Date</th>\n",
       "      <th></th>\n",
       "      <th></th>\n",
       "      <th></th>\n",
       "      <th></th>\n",
       "    </tr>\n",
       "  </thead>\n",
       "  <tbody>\n",
       "    <tr>\n",
       "      <th>2011-01-03</th>\n",
       "      <td>22.558224</td>\n",
       "      <td>26.620001</td>\n",
       "      <td>32.173080</td>\n",
       "      <td>1271.869995</td>\n",
       "    </tr>\n",
       "    <tr>\n",
       "      <th>2011-01-04</th>\n",
       "      <td>22.646908</td>\n",
       "      <td>26.670000</td>\n",
       "      <td>32.443100</td>\n",
       "      <td>1270.199951</td>\n",
       "    </tr>\n",
       "    <tr>\n",
       "      <th>2011-01-05</th>\n",
       "      <td>22.574345</td>\n",
       "      <td>26.830000</td>\n",
       "      <td>32.893124</td>\n",
       "      <td>1276.560059</td>\n",
       "    </tr>\n",
       "    <tr>\n",
       "      <th>2011-01-06</th>\n",
       "      <td>23.235449</td>\n",
       "      <td>27.879999</td>\n",
       "      <td>32.991314</td>\n",
       "      <td>1273.849976</td>\n",
       "    </tr>\n",
       "    <tr>\n",
       "      <th>2011-01-07</th>\n",
       "      <td>23.058081</td>\n",
       "      <td>28.240000</td>\n",
       "      <td>32.794937</td>\n",
       "      <td>1271.500000</td>\n",
       "    </tr>\n",
       "  </tbody>\n",
       "</table>\n",
       "</div>"
      ],
      "text/plain": [
       "Symbols          MSFT       TSLA        WBA        ^GSPC\n",
       "Date                                                    \n",
       "2011-01-03  22.558224  26.620001  32.173080  1271.869995\n",
       "2011-01-04  22.646908  26.670000  32.443100  1270.199951\n",
       "2011-01-05  22.574345  26.830000  32.893124  1276.560059\n",
       "2011-01-06  23.235449  27.879999  32.991314  1273.849976\n",
       "2011-01-07  23.058081  28.240000  32.794937  1271.500000"
      ]
     },
     "execution_count": 71,
     "metadata": {},
     "output_type": "execute_result"
    }
   ],
   "source": [
    "closes = get_adj_closes(tickers=names,start_date=start)\n",
    "closes.head()"
   ]
  },
  {
   "cell_type": "code",
   "execution_count": 72,
   "metadata": {},
   "outputs": [
    {
     "data": {
      "text/plain": [
       "<matplotlib.axes._subplots.AxesSubplot at 0x10206de9b0>"
      ]
     },
     "execution_count": 72,
     "metadata": {},
     "output_type": "execute_result"
    },
    {
     "data": {
      "image/png": "[encoded data removed]",
      "text/plain": [
       "<Figure size 576x576 with 1 Axes>"
      ]
     },
     "metadata": {
      "needs_background": "light"
     },
     "output_type": "display_data"
    }
   ],
   "source": [
    "closes.plot(figsize=(8,8),grid=True)"
   ]
  },
  {
   "cell_type": "markdown",
   "metadata": {},
   "source": [
    "## 2. Cálculo de rendimientos diarios (20 puntos)\n",
    "\n",
    "A partir de los precios que descargaste en el anterior punto, calcular los rendimientos porcentuales diarios.\n",
    "\n",
    "1. Mostrar el DataFrame de los rendimientos porcentuales diarios (10 puntos).\n",
    "2. Graficar los rendimientos (10 puntos)."
   ]
  },
  {
   "cell_type": "code",
   "execution_count": 73,
   "metadata": {},
   "outputs": [
    {
     "data": {
      "text/html": [
       "<div>\n",
       "<style scoped>\n",
       "    .dataframe tbody tr th:only-of-type {\n",
       "        vertical-align: middle;\n",
       "    }\n",
       "\n",
       "    .dataframe tbody tr th {\n",
       "        vertical-align: top;\n",
       "    }\n",
       "\n",
       "    .dataframe thead th {\n",
       "        text-align: right;\n",
       "    }\n",
       "</style>\n",
       "<table border=\"1\" class=\"dataframe\">\n",
       "  <thead>\n",
       "    <tr style=\"text-align: right;\">\n",
       "      <th>Symbols</th>\n",
       "      <th>MSFT</th>\n",
       "      <th>TSLA</th>\n",
       "      <th>WBA</th>\n",
       "      <th>^GSPC</th>\n",
       "    </tr>\n",
       "    <tr>\n",
       "      <th>Date</th>\n",
       "      <th></th>\n",
       "      <th></th>\n",
       "      <th></th>\n",
       "      <th></th>\n",
       "    </tr>\n",
       "  </thead>\n",
       "  <tbody>\n",
       "    <tr>\n",
       "      <th>2011-01-04</th>\n",
       "      <td>0.003931</td>\n",
       "      <td>0.001878</td>\n",
       "      <td>0.008393</td>\n",
       "      <td>-0.001313</td>\n",
       "    </tr>\n",
       "    <tr>\n",
       "      <th>2011-01-05</th>\n",
       "      <td>-0.003204</td>\n",
       "      <td>0.005999</td>\n",
       "      <td>0.013871</td>\n",
       "      <td>0.005007</td>\n",
       "    </tr>\n",
       "    <tr>\n",
       "      <th>2011-01-06</th>\n",
       "      <td>0.029286</td>\n",
       "      <td>0.039135</td>\n",
       "      <td>0.002985</td>\n",
       "      <td>-0.002123</td>\n",
       "    </tr>\n",
       "    <tr>\n",
       "      <th>2011-01-07</th>\n",
       "      <td>-0.007634</td>\n",
       "      <td>0.012913</td>\n",
       "      <td>-0.005952</td>\n",
       "      <td>-0.001845</td>\n",
       "    </tr>\n",
       "    <tr>\n",
       "      <th>2011-01-10</th>\n",
       "      <td>-0.013287</td>\n",
       "      <td>0.007436</td>\n",
       "      <td>0.021707</td>\n",
       "      <td>-0.001376</td>\n",
       "    </tr>\n",
       "    <tr>\n",
       "      <th>2011-01-11</th>\n",
       "      <td>-0.003898</td>\n",
       "      <td>-0.052373</td>\n",
       "      <td>-0.002930</td>\n",
       "      <td>0.003725</td>\n",
       "    </tr>\n",
       "    <tr>\n",
       "      <th>2011-01-12</th>\n",
       "      <td>0.015653</td>\n",
       "      <td>0.000000</td>\n",
       "      <td>0.009062</td>\n",
       "      <td>0.009008</td>\n",
       "    </tr>\n",
       "    <tr>\n",
       "      <th>2011-01-13</th>\n",
       "      <td>-0.012610</td>\n",
       "      <td>-0.027448</td>\n",
       "      <td>0.010679</td>\n",
       "      <td>-0.001711</td>\n",
       "    </tr>\n",
       "    <tr>\n",
       "      <th>2011-01-14</th>\n",
       "      <td>0.003902</td>\n",
       "      <td>-0.017925</td>\n",
       "      <td>-0.004803</td>\n",
       "      <td>0.007385</td>\n",
       "    </tr>\n",
       "    <tr>\n",
       "      <th>2011-01-18</th>\n",
       "      <td>0.012721</td>\n",
       "      <td>-0.004272</td>\n",
       "      <td>0.012790</td>\n",
       "      <td>0.001376</td>\n",
       "    </tr>\n",
       "    <tr>\n",
       "      <th>2011-01-19</th>\n",
       "      <td>-0.006629</td>\n",
       "      <td>-0.062792</td>\n",
       "      <td>-0.016441</td>\n",
       "      <td>-0.010116</td>\n",
       "    </tr>\n",
       "    <tr>\n",
       "      <th>2011-01-20</th>\n",
       "      <td>-0.004215</td>\n",
       "      <td>-0.058677</td>\n",
       "      <td>0.007994</td>\n",
       "      <td>-0.001295</td>\n",
       "    </tr>\n",
       "    <tr>\n",
       "      <th>2011-01-21</th>\n",
       "      <td>-0.011640</td>\n",
       "      <td>0.018568</td>\n",
       "      <td>0.001923</td>\n",
       "      <td>0.002414</td>\n",
       "    </tr>\n",
       "    <tr>\n",
       "      <th>2011-01-24</th>\n",
       "      <td>0.012848</td>\n",
       "      <td>0.062934</td>\n",
       "      <td>-0.004798</td>\n",
       "      <td>0.005836</td>\n",
       "    </tr>\n",
       "    <tr>\n",
       "      <th>2011-01-25</th>\n",
       "      <td>0.002466</td>\n",
       "      <td>0.007758</td>\n",
       "      <td>-0.006025</td>\n",
       "      <td>0.000263</td>\n",
       "    </tr>\n",
       "    <tr>\n",
       "      <th>2011-01-26</th>\n",
       "      <td>0.011600</td>\n",
       "      <td>0.002836</td>\n",
       "      <td>0.001212</td>\n",
       "      <td>0.004221</td>\n",
       "    </tr>\n",
       "    <tr>\n",
       "      <th>2011-01-27</th>\n",
       "      <td>0.003127</td>\n",
       "      <td>0.006869</td>\n",
       "      <td>-0.005328</td>\n",
       "      <td>0.002244</td>\n",
       "    </tr>\n",
       "    <tr>\n",
       "      <th>2011-01-28</th>\n",
       "      <td>-0.038795</td>\n",
       "      <td>-0.036517</td>\n",
       "      <td>-0.017288</td>\n",
       "      <td>-0.017853</td>\n",
       "    </tr>\n",
       "    <tr>\n",
       "      <th>2011-01-31</th>\n",
       "      <td>-0.000720</td>\n",
       "      <td>0.003748</td>\n",
       "      <td>0.001982</td>\n",
       "      <td>0.007663</td>\n",
       "    </tr>\n",
       "    <tr>\n",
       "      <th>2011-02-01</th>\n",
       "      <td>0.009376</td>\n",
       "      <td>-0.007884</td>\n",
       "      <td>0.044263</td>\n",
       "      <td>0.016694</td>\n",
       "    </tr>\n",
       "    <tr>\n",
       "      <th>2011-02-02</th>\n",
       "      <td>-0.001786</td>\n",
       "      <td>0.001255</td>\n",
       "      <td>-0.006156</td>\n",
       "      <td>-0.002723</td>\n",
       "    </tr>\n",
       "    <tr>\n",
       "      <th>2011-02-03</th>\n",
       "      <td>-0.010379</td>\n",
       "      <td>-0.012949</td>\n",
       "      <td>0.008101</td>\n",
       "      <td>0.002354</td>\n",
       "    </tr>\n",
       "    <tr>\n",
       "      <th>2011-02-04</th>\n",
       "      <td>0.004340</td>\n",
       "      <td>-0.007194</td>\n",
       "      <td>0.001418</td>\n",
       "      <td>0.002884</td>\n",
       "    </tr>\n",
       "    <tr>\n",
       "      <th>2011-02-07</th>\n",
       "      <td>0.015484</td>\n",
       "      <td>-0.016624</td>\n",
       "      <td>-0.001416</td>\n",
       "      <td>0.006240</td>\n",
       "    </tr>\n",
       "    <tr>\n",
       "      <th>2011-02-08</th>\n",
       "      <td>0.002837</td>\n",
       "      <td>0.061552</td>\n",
       "      <td>0.011109</td>\n",
       "      <td>0.004185</td>\n",
       "    </tr>\n",
       "    <tr>\n",
       "      <th>2011-02-09</th>\n",
       "      <td>-0.010962</td>\n",
       "      <td>-0.052266</td>\n",
       "      <td>-0.002805</td>\n",
       "      <td>-0.002786</td>\n",
       "    </tr>\n",
       "    <tr>\n",
       "      <th>2011-02-10</th>\n",
       "      <td>-0.016803</td>\n",
       "      <td>0.000431</td>\n",
       "      <td>-0.001875</td>\n",
       "      <td>0.000749</td>\n",
       "    </tr>\n",
       "    <tr>\n",
       "      <th>2011-02-11</th>\n",
       "      <td>-0.009091</td>\n",
       "      <td>0.001292</td>\n",
       "      <td>0.000000</td>\n",
       "      <td>0.005507</td>\n",
       "    </tr>\n",
       "    <tr>\n",
       "      <th>2011-02-14</th>\n",
       "      <td>-0.000734</td>\n",
       "      <td>-0.007312</td>\n",
       "      <td>-0.009629</td>\n",
       "      <td>0.002385</td>\n",
       "    </tr>\n",
       "    <tr>\n",
       "      <th>2011-02-15</th>\n",
       "      <td>-0.004064</td>\n",
       "      <td>-0.010399</td>\n",
       "      <td>0.004031</td>\n",
       "      <td>-0.003235</td>\n",
       "    </tr>\n",
       "    <tr>\n",
       "      <th>...</th>\n",
       "      <td>...</td>\n",
       "      <td>...</td>\n",
       "      <td>...</td>\n",
       "      <td>...</td>\n",
       "    </tr>\n",
       "    <tr>\n",
       "      <th>2015-11-18</th>\n",
       "      <td>0.016613</td>\n",
       "      <td>0.033037</td>\n",
       "      <td>0.019404</td>\n",
       "      <td>0.016162</td>\n",
       "    </tr>\n",
       "    <tr>\n",
       "      <th>2015-11-19</th>\n",
       "      <td>0.001672</td>\n",
       "      <td>0.003302</td>\n",
       "      <td>-0.020690</td>\n",
       "      <td>-0.001123</td>\n",
       "    </tr>\n",
       "    <tr>\n",
       "      <th>2015-11-20</th>\n",
       "      <td>0.004635</td>\n",
       "      <td>-0.008070</td>\n",
       "      <td>-0.012073</td>\n",
       "      <td>0.003810</td>\n",
       "    </tr>\n",
       "    <tr>\n",
       "      <th>2015-11-23</th>\n",
       "      <td>0.000000</td>\n",
       "      <td>-0.010272</td>\n",
       "      <td>0.000978</td>\n",
       "      <td>-0.001235</td>\n",
       "    </tr>\n",
       "    <tr>\n",
       "      <th>2015-11-24</th>\n",
       "      <td>0.001107</td>\n",
       "      <td>0.002296</td>\n",
       "      <td>0.012453</td>\n",
       "      <td>0.001222</td>\n",
       "    </tr>\n",
       "    <tr>\n",
       "      <th>2015-11-25</th>\n",
       "      <td>-0.010323</td>\n",
       "      <td>0.052188</td>\n",
       "      <td>0.005667</td>\n",
       "      <td>-0.000129</td>\n",
       "    </tr>\n",
       "    <tr>\n",
       "      <th>2015-11-27</th>\n",
       "      <td>0.004470</td>\n",
       "      <td>0.008579</td>\n",
       "      <td>0.009352</td>\n",
       "      <td>0.000594</td>\n",
       "    </tr>\n",
       "    <tr>\n",
       "      <th>2015-11-30</th>\n",
       "      <td>0.007788</td>\n",
       "      <td>-0.005829</td>\n",
       "      <td>-0.001782</td>\n",
       "      <td>-0.004641</td>\n",
       "    </tr>\n",
       "    <tr>\n",
       "      <th>2015-12-01</th>\n",
       "      <td>0.016008</td>\n",
       "      <td>0.030096</td>\n",
       "      <td>-0.000476</td>\n",
       "      <td>0.010681</td>\n",
       "    </tr>\n",
       "    <tr>\n",
       "      <th>2015-12-02</th>\n",
       "      <td>-0.000181</td>\n",
       "      <td>-0.021923</td>\n",
       "      <td>-0.008097</td>\n",
       "      <td>-0.010996</td>\n",
       "    </tr>\n",
       "    <tr>\n",
       "      <th>2015-12-03</th>\n",
       "      <td>-0.018294</td>\n",
       "      <td>0.003104</td>\n",
       "      <td>-0.016444</td>\n",
       "      <td>-0.014374</td>\n",
       "    </tr>\n",
       "    <tr>\n",
       "      <th>2015-12-04</th>\n",
       "      <td>0.031550</td>\n",
       "      <td>-0.010012</td>\n",
       "      <td>0.032707</td>\n",
       "      <td>0.020526</td>\n",
       "    </tr>\n",
       "    <tr>\n",
       "      <th>2015-12-07</th>\n",
       "      <td>-0.001789</td>\n",
       "      <td>0.003255</td>\n",
       "      <td>0.002954</td>\n",
       "      <td>-0.006990</td>\n",
       "    </tr>\n",
       "    <tr>\n",
       "      <th>2015-12-08</th>\n",
       "      <td>-0.000358</td>\n",
       "      <td>-0.019080</td>\n",
       "      <td>-0.014257</td>\n",
       "      <td>-0.006490</td>\n",
       "    </tr>\n",
       "    <tr>\n",
       "      <th>2015-12-09</th>\n",
       "      <td>-0.014519</td>\n",
       "      <td>-0.009704</td>\n",
       "      <td>-0.003825</td>\n",
       "      <td>-0.007739</td>\n",
       "    </tr>\n",
       "    <tr>\n",
       "      <th>2015-12-10</th>\n",
       "      <td>0.005275</td>\n",
       "      <td>0.011358</td>\n",
       "      <td>0.000960</td>\n",
       "      <td>0.002251</td>\n",
       "    </tr>\n",
       "    <tr>\n",
       "      <th>2015-12-11</th>\n",
       "      <td>-0.021892</td>\n",
       "      <td>-0.044259</td>\n",
       "      <td>-0.020499</td>\n",
       "      <td>-0.019423</td>\n",
       "    </tr>\n",
       "    <tr>\n",
       "      <th>2015-12-14</th>\n",
       "      <td>0.019978</td>\n",
       "      <td>0.007188</td>\n",
       "      <td>0.010402</td>\n",
       "      <td>0.004756</td>\n",
       "    </tr>\n",
       "    <tr>\n",
       "      <th>2015-12-15</th>\n",
       "      <td>0.001088</td>\n",
       "      <td>0.011483</td>\n",
       "      <td>-0.005450</td>\n",
       "      <td>0.010619</td>\n",
       "    </tr>\n",
       "    <tr>\n",
       "      <th>2015-12-16</th>\n",
       "      <td>0.016848</td>\n",
       "      <td>0.060699</td>\n",
       "      <td>0.031665</td>\n",
       "      <td>0.014515</td>\n",
       "    </tr>\n",
       "    <tr>\n",
       "      <th>2015-12-17</th>\n",
       "      <td>-0.007661</td>\n",
       "      <td>-0.004776</td>\n",
       "      <td>-0.016173</td>\n",
       "      <td>-0.015041</td>\n",
       "    </tr>\n",
       "    <tr>\n",
       "      <th>2015-12-18</th>\n",
       "      <td>-0.028187</td>\n",
       "      <td>-0.012554</td>\n",
       "      <td>-0.009959</td>\n",
       "      <td>-0.017797</td>\n",
       "    </tr>\n",
       "    <tr>\n",
       "      <th>2015-12-21</th>\n",
       "      <td>0.012932</td>\n",
       "      <td>0.009112</td>\n",
       "      <td>0.028845</td>\n",
       "      <td>0.007778</td>\n",
       "    </tr>\n",
       "    <tr>\n",
       "      <th>2015-12-22</th>\n",
       "      <td>0.009484</td>\n",
       "      <td>-0.011223</td>\n",
       "      <td>0.013194</td>\n",
       "      <td>0.008817</td>\n",
       "    </tr>\n",
       "    <tr>\n",
       "      <th>2015-12-23</th>\n",
       "      <td>0.008492</td>\n",
       "      <td>-0.001087</td>\n",
       "      <td>0.000465</td>\n",
       "      <td>0.012418</td>\n",
       "    </tr>\n",
       "    <tr>\n",
       "      <th>2015-12-24</th>\n",
       "      <td>-0.002687</td>\n",
       "      <td>0.003788</td>\n",
       "      <td>0.004765</td>\n",
       "      <td>-0.001599</td>\n",
       "    </tr>\n",
       "    <tr>\n",
       "      <th>2015-12-28</th>\n",
       "      <td>0.005030</td>\n",
       "      <td>-0.007026</td>\n",
       "      <td>-0.007171</td>\n",
       "      <td>-0.002179</td>\n",
       "    </tr>\n",
       "    <tr>\n",
       "      <th>2015-12-29</th>\n",
       "      <td>0.010724</td>\n",
       "      <td>0.035990</td>\n",
       "      <td>0.011416</td>\n",
       "      <td>0.010630</td>\n",
       "    </tr>\n",
       "    <tr>\n",
       "      <th>2015-12-30</th>\n",
       "      <td>-0.004244</td>\n",
       "      <td>0.003794</td>\n",
       "      <td>-0.004953</td>\n",
       "      <td>-0.007217</td>\n",
       "    </tr>\n",
       "    <tr>\n",
       "      <th>2015-12-31</th>\n",
       "      <td>-0.014740</td>\n",
       "      <td>0.008064</td>\n",
       "      <td>-0.014238</td>\n",
       "      <td>-0.009412</td>\n",
       "    </tr>\n",
       "  </tbody>\n",
       "</table>\n",
       "<p>1257 rows × 4 columns</p>\n",
       "</div>"
      ],
      "text/plain": [
       "Symbols         MSFT      TSLA       WBA     ^GSPC\n",
       "Date                                              \n",
       "2011-01-04  0.003931  0.001878  0.008393 -0.001313\n",
       "2011-01-05 -0.003204  0.005999  0.013871  0.005007\n",
       "2011-01-06  0.029286  0.039135  0.002985 -0.002123\n",
       "2011-01-07 -0.007634  0.012913 -0.005952 -0.001845\n",
       "2011-01-10 -0.013287  0.007436  0.021707 -0.001376\n",
       "2011-01-11 -0.003898 -0.052373 -0.002930  0.003725\n",
       "2011-01-12  0.015653  0.000000  0.009062  0.009008\n",
       "2011-01-13 -0.012610 -0.027448  0.010679 -0.001711\n",
       "2011-01-14  0.003902 -0.017925 -0.004803  0.007385\n",
       "2011-01-18  0.012721 -0.004272  0.012790  0.001376\n",
       "2011-01-19 -0.006629 -0.062792 -0.016441 -0.010116\n",
       "2011-01-20 -0.004215 -0.058677  0.007994 -0.001295\n",
       "2011-01-21 -0.011640  0.018568  0.001923  0.002414\n",
       "2011-01-24  0.012848  0.062934 -0.004798  0.005836\n",
       "2011-01-25  0.002466  0.007758 -0.006025  0.000263\n",
       "2011-01-26  0.011600  0.002836  0.001212  0.004221\n",
       "2011-01-27  0.003127  0.006869 -0.005328  0.002244\n",
       "2011-01-28 -0.038795 -0.036517 -0.017288 -0.017853\n",
       "2011-01-31 -0.000720  0.003748  0.001982  0.007663\n",
       "2011-02-01  0.009376 -0.007884  0.044263  0.016694\n",
       "2011-02-02 -0.001786  0.001255 -0.006156 -0.002723\n",
       "2011-02-03 -0.010379 -0.012949  0.008101  0.002354\n",
       "2011-02-04  0.004340 -0.007194  0.001418  0.002884\n",
       "2011-02-07  0.015484 -0.016624 -0.001416  0.006240\n",
       "2011-02-08  0.002837  0.061552  0.011109  0.004185\n",
       "2011-02-09 -0.010962 -0.052266 -0.002805 -0.002786\n",
       "2011-02-10 -0.016803  0.000431 -0.001875  0.000749\n",
       "2011-02-11 -0.009091  0.001292  0.000000  0.005507\n",
       "2011-02-14 -0.000734 -0.007312 -0.009629  0.002385\n",
       "2011-02-15 -0.004064 -0.010399  0.004031 -0.003235\n",
       "...              ...       ...       ...       ...\n",
       "2015-11-18  0.016613  0.033037  0.019404  0.016162\n",
       "2015-11-19  0.001672  0.003302 -0.020690 -0.001123\n",
       "2015-11-20  0.004635 -0.008070 -0.012073  0.003810\n",
       "2015-11-23  0.000000 -0.010272  0.000978 -0.001235\n",
       "2015-11-24  0.001107  0.002296  0.012453  0.001222\n",
       "2015-11-25 -0.010323  0.052188  0.005667 -0.000129\n",
       "2015-11-27  0.004470  0.008579  0.009352  0.000594\n",
       "2015-11-30  0.007788 -0.005829 -0.001782 -0.004641\n",
       "2015-12-01  0.016008  0.030096 -0.000476  0.010681\n",
       "2015-12-02 -0.000181 -0.021923 -0.008097 -0.010996\n",
       "2015-12-03 -0.018294  0.003104 -0.016444 -0.014374\n",
       "2015-12-04  0.031550 -0.010012  0.032707  0.020526\n",
       "2015-12-07 -0.001789  0.003255  0.002954 -0.006990\n",
       "2015-12-08 -0.000358 -0.019080 -0.014257 -0.006490\n",
       "2015-12-09 -0.014519 -0.009704 -0.003825 -0.007739\n",
       "2015-12-10  0.005275  0.011358  0.000960  0.002251\n",
       "2015-12-11 -0.021892 -0.044259 -0.020499 -0.019423\n",
       "2015-12-14  0.019978  0.007188  0.010402  0.004756\n",
       "2015-12-15  0.001088  0.011483 -0.005450  0.010619\n",
       "2015-12-16  0.016848  0.060699  0.031665  0.014515\n",
       "2015-12-17 -0.007661 -0.004776 -0.016173 -0.015041\n",
       "2015-12-18 -0.028187 -0.012554 -0.009959 -0.017797\n",
       "2015-12-21  0.012932  0.009112  0.028845  0.007778\n",
       "2015-12-22  0.009484 -0.011223  0.013194  0.008817\n",
       "2015-12-23  0.008492 -0.001087  0.000465  0.012418\n",
       "2015-12-24 -0.002687  0.003788  0.004765 -0.001599\n",
       "2015-12-28  0.005030 -0.007026 -0.007171 -0.002179\n",
       "2015-12-29  0.010724  0.035990  0.011416  0.010630\n",
       "2015-12-30 -0.004244  0.003794 -0.004953 -0.007217\n",
       "2015-12-31 -0.014740  0.008064 -0.014238 -0.009412\n",
       "\n",
       "[1257 rows x 4 columns]"
      ]
     },
     "execution_count": 73,
     "metadata": {},
     "output_type": "execute_result"
    }
   ],
   "source": [
    "ret = closes.pct_change().dropna()\n",
    "ret"
   ]
  },
  {
   "cell_type": "code",
   "execution_count": 74,
   "metadata": {},
   "outputs": [
    {
     "data": {
      "text/plain": [
       "<matplotlib.axes._subplots.AxesSubplot at 0x11e84c518>"
      ]
     },
     "execution_count": 74,
     "metadata": {},
     "output_type": "execute_result"
    },
    {
     "data": {
      "image/png": "[encoded data removed]",
      "text/plain": [
       "<Figure size 720x720 with 1 Axes>"
      ]
     },
     "metadata": {
      "needs_background": "light"
     },
     "output_type": "display_data"
    }
   ],
   "source": [
    "ret.plot(figsize=(10,10),grid=True)"
   ]
  },
  {
   "cell_type": "markdown",
   "metadata": {},
   "source": [
    "## 3. Resumen de distribución de rendimientos (30 puntos)\n",
    "\n",
    "Con base en los rendimientos que calculaste en el punto anterior:\n",
    "\n",
    "1. Calcular el rendimiento medio diario para el índice S&P 500 y para los demás activos. Anualizar los rendimientos (15 puntos). \n",
    "\n",
    "2. Calcular la volatilidad diaria para el índice S&P 500 y para los demás activos. Anualizar (15 puntos).\n",
    "\n",
    "Por favor, reportar los resultados en DataFrames tal y como lo vimos en clase."
   ]
  },
  {
   "cell_type": "code",
   "execution_count": 75,
   "metadata": {},
   "outputs": [
    {
     "data": {
      "text/html": [
       "<div>\n",
       "<style scoped>\n",
       "    .dataframe tbody tr th:only-of-type {\n",
       "        vertical-align: middle;\n",
       "    }\n",
       "\n",
       "    .dataframe tbody tr th {\n",
       "        vertical-align: top;\n",
       "    }\n",
       "\n",
       "    .dataframe thead th {\n",
       "        text-align: right;\n",
       "    }\n",
       "</style>\n",
       "<table border=\"1\" class=\"dataframe\">\n",
       "  <thead>\n",
       "    <tr style=\"text-align: right;\">\n",
       "      <th></th>\n",
       "      <th>R Medio Diario</th>\n",
       "    </tr>\n",
       "    <tr>\n",
       "      <th>Symbols</th>\n",
       "      <th></th>\n",
       "    </tr>\n",
       "  </thead>\n",
       "  <tbody>\n",
       "    <tr>\n",
       "      <th>MSFT</th>\n",
       "      <td>0.000764</td>\n",
       "    </tr>\n",
       "    <tr>\n",
       "      <th>TSLA</th>\n",
       "      <td>0.002296</td>\n",
       "    </tr>\n",
       "    <tr>\n",
       "      <th>WBA</th>\n",
       "      <td>0.000839</td>\n",
       "    </tr>\n",
       "    <tr>\n",
       "      <th>^GSPC</th>\n",
       "      <td>0.000425</td>\n",
       "    </tr>\n",
       "  </tbody>\n",
       "</table>\n",
       "</div>"
      ],
      "text/plain": [
       "         R Medio Diario\n",
       "Symbols                \n",
       "MSFT           0.000764\n",
       "TSLA           0.002296\n",
       "WBA            0.000839\n",
       "^GSPC          0.000425"
      ]
     },
     "execution_count": 75,
     "metadata": {},
     "output_type": "execute_result"
    }
   ],
   "source": [
    "r_medio_diario = pd.DataFrame(data={'R Medio Diario':ret.mean()},index=ret.columns)\n",
    "r_medio_diario"
   ]
  },
  {
   "cell_type": "code",
   "execution_count": 76,
   "metadata": {},
   "outputs": [
    {
     "data": {
      "text/html": [
       "<div>\n",
       "<style scoped>\n",
       "    .dataframe tbody tr th:only-of-type {\n",
       "        vertical-align: middle;\n",
       "    }\n",
       "\n",
       "    .dataframe tbody tr th {\n",
       "        vertical-align: top;\n",
       "    }\n",
       "\n",
       "    .dataframe thead th {\n",
       "        text-align: right;\n",
       "    }\n",
       "</style>\n",
       "<table border=\"1\" class=\"dataframe\">\n",
       "  <thead>\n",
       "    <tr style=\"text-align: right;\">\n",
       "      <th></th>\n",
       "      <th>Vol Diaria</th>\n",
       "    </tr>\n",
       "    <tr>\n",
       "      <th>Symbols</th>\n",
       "      <th></th>\n",
       "    </tr>\n",
       "  </thead>\n",
       "  <tbody>\n",
       "    <tr>\n",
       "      <th>MSFT</th>\n",
       "      <td>0.014799</td>\n",
       "    </tr>\n",
       "    <tr>\n",
       "      <th>TSLA</th>\n",
       "      <td>0.033246</td>\n",
       "    </tr>\n",
       "    <tr>\n",
       "      <th>WBA</th>\n",
       "      <td>0.016246</td>\n",
       "    </tr>\n",
       "    <tr>\n",
       "      <th>^GSPC</th>\n",
       "      <td>0.009738</td>\n",
       "    </tr>\n",
       "  </tbody>\n",
       "</table>\n",
       "</div>"
      ],
      "text/plain": [
       "         Vol Diaria\n",
       "Symbols            \n",
       "MSFT       0.014799\n",
       "TSLA       0.033246\n",
       "WBA        0.016246\n",
       "^GSPC      0.009738"
      ]
     },
     "execution_count": 76,
     "metadata": {},
     "output_type": "execute_result"
    }
   ],
   "source": [
    "vol_diaria = pd.DataFrame(data={'Vol Diaria':ret.std()},index=ret.columns)\n",
    "vol_diaria"
   ]
  },
  {
   "cell_type": "code",
   "execution_count": 77,
   "metadata": {},
   "outputs": [
    {
     "data": {
      "text/html": [
       "<div>\n",
       "<style scoped>\n",
       "    .dataframe tbody tr th:only-of-type {\n",
       "        vertical-align: middle;\n",
       "    }\n",
       "\n",
       "    .dataframe tbody tr th {\n",
       "        vertical-align: top;\n",
       "    }\n",
       "\n",
       "    .dataframe thead th {\n",
       "        text-align: right;\n",
       "    }\n",
       "</style>\n",
       "<table border=\"1\" class=\"dataframe\">\n",
       "  <thead>\n",
       "    <tr style=\"text-align: right;\">\n",
       "      <th></th>\n",
       "      <th>Media</th>\n",
       "      <th>Volatilidad</th>\n",
       "    </tr>\n",
       "    <tr>\n",
       "      <th>Symbols</th>\n",
       "      <th></th>\n",
       "      <th></th>\n",
       "    </tr>\n",
       "  </thead>\n",
       "  <tbody>\n",
       "    <tr>\n",
       "      <th>MSFT</th>\n",
       "      <td>0.192464</td>\n",
       "      <td>0.234922</td>\n",
       "    </tr>\n",
       "    <tr>\n",
       "      <th>TSLA</th>\n",
       "      <td>0.578548</td>\n",
       "      <td>0.527757</td>\n",
       "    </tr>\n",
       "    <tr>\n",
       "      <th>WBA</th>\n",
       "      <td>0.211496</td>\n",
       "      <td>0.257905</td>\n",
       "    </tr>\n",
       "    <tr>\n",
       "      <th>^GSPC</th>\n",
       "      <td>0.107092</td>\n",
       "      <td>0.154583</td>\n",
       "    </tr>\n",
       "  </tbody>\n",
       "</table>\n",
       "</div>"
      ],
      "text/plain": [
       "            Media  Volatilidad\n",
       "Symbols                       \n",
       "MSFT     0.192464     0.234922\n",
       "TSLA     0.578548     0.527757\n",
       "WBA      0.211496     0.257905\n",
       "^GSPC    0.107092     0.154583"
      ]
     },
     "execution_count": 77,
     "metadata": {},
     "output_type": "execute_result"
    }
   ],
   "source": [
    "resumen_anual = pd.DataFrame(data={'Media':252*ret.mean(),'Volatilidad':np.sqrt(252)*ret.std()},index=ret.columns)\n",
    "resumen_anual"
   ]
  },
  {
   "cell_type": "markdown",
   "metadata": {},
   "source": [
    "## 4. Gráfico rendimientos esperados vs. volatilidad (30 puntos)\n",
    "\n",
    "Graficar los rendimientos medios anuales contra las desviaciones estándar del índice S&P 500 y de los demás activos. Como vimos en clase, la volatilidad debe ir en el eje $x$ y el rendimiento esperado en el eje $y$. Se deben etiquetar los ejes y dar detalles para un completo entendimiento de la gráfica.\n",
    "\n",
    "1. Gráfico (10 puntos).\n",
    "2. Ajuste una línea recta a los puntos obtenidos. Dar la ecuación (10 puntos).\n",
    "3. A partir del gráfico y de la línea recta ajustada, concluya acerca de la relación rendimiento/riesgo (10 puntos).\n",
    "\n",
    "*Nota:* el ajuste de la línea recta corresponde a una regresión lineal. Si no saben como hacerlo, por favor preguntar en asesoría."
   ]
  },
  {
   "cell_type": "code",
   "execution_count": 78,
   "metadata": {},
   "outputs": [
    {
     "data": {
      "text/plain": [
       "Text(0.23492240844613382, 0.19246350011174246, 'MSFT')"
      ]
     },
     "execution_count": 78,
     "metadata": {},
     "output_type": "execute_result"
    },
    {
     "data": {
      "image/png": "[encoded data removed]",
      "text/plain": [
       "<Figure size 432x288 with 1 Axes>"
      ]
     },
     "metadata": {
      "needs_background": "light"
     },
     "output_type": "display_data"
    }
   ],
   "source": [
    "x_points =  resumen_anual['Volatilidad']\n",
    "y_points = resumen_anual['Media']\n",
    "plt.figure()\n",
    "plt.plot(x_points, y_points, '*')\n",
    "plt.xlabel('Volatilidad')\n",
    "plt.ylabel('Rendimiento_Esperado')\n",
    "plt.text(resumen_anual.loc['^GSPC','Volatilidad'],resumen_anual.loc['^GSPC','Media'], '^GSPC')\n",
    "plt.text(resumen_anual.loc['WBA','Volatilidad'],resumen_anual.loc['WBA','Media'], 'WBA')\n",
    "plt.text(resumen_anual.loc['TSLA','Volatilidad'],resumen_anual.loc['TSLA','Media'], 'TSLA')\n",
    "plt.text(resumen_anual.loc['MSFT','Volatilidad'],resumen_anual.loc['MSFT','Media'], 'MSFT')"
   ]
  },
  {
   "cell_type": "code",
   "execution_count": 80,
   "metadata": {},
   "outputs": [
    {
     "data": {
      "text/plain": [
       "Symbols\n",
       "MSFT     0.234922\n",
       "TSLA     0.527757\n",
       "WBA      0.257905\n",
       "^GSPC    0.154583\n",
       "Name: Volatilidad, dtype: float64"
      ]
     },
     "execution_count": 80,
     "metadata": {},
     "output_type": "execute_result"
    }
   ],
   "source": []
  },
  {
   "cell_type": "code",
   "execution_count": 84,
   "metadata": {},
   "outputs": [],
   "source": [
    "import scipy.optimize as opt"
   ]
  },
  {
   "cell_type": "code",
   "execution_count": 85,
   "metadata": {},
   "outputs": [],
   "source": [
    "def obj_fun(beta, Er, sigma):\n",
    "    return ((Er - (beta[0] + beta[1] * sigma))**2).sum()\n",
    "\n",
    "beta_0 = [0, 1]"
   ]
  },
  {
   "cell_type": "code",
   "execution_count": 86,
   "metadata": {},
   "outputs": [
    {
     "data": {
      "text/plain": [
       "      fun: 0.0\n",
       " hess_inv: array([[1, 0],\n",
       "       [0, 1]])\n",
       "      jac: array([0., 0.])\n",
       "  message: 'Optimization terminated successfully.'\n",
       "     nfev: 4\n",
       "      nit: 0\n",
       "     njev: 1\n",
       "   status: 0\n",
       "  success: True\n",
       "        x: array([0., 1.])"
      ]
     },
     "execution_count": 86,
     "metadata": {},
     "output_type": "execute_result"
    }
   ],
   "source": [
    "solution = opt.minimize(obj_fun, beta_0, args=(y_points, x_points))\n",
    "solution"
   ]
  },
  {
   "cell_type": "code",
   "execution_count": 87,
   "metadata": {},
   "outputs": [
    {
     "data": {
      "text/plain": [
       "array([0., 1.])"
      ]
     },
     "execution_count": 87,
     "metadata": {},
     "output_type": "execute_result"
    }
   ],
   "source": [
    "beta = solution.x\n",
    "beta"
   ]
  },
  {
   "cell_type": "code",
   "execution_count": 88,
   "metadata": {},
   "outputs": [
    {
     "data": {
      "text/plain": [
       "array([0.15458307, 0.23492241, 0.25790504, 0.52775734])"
      ]
     },
     "execution_count": 88,
     "metadata": {},
     "output_type": "execute_result"
    }
   ],
   "source": [
    "x_points"
   ]
  },
  {
   "cell_type": "code",
   "execution_count": 89,
   "metadata": {},
   "outputs": [
    {
     "data": {
      "text/plain": [
       "Symbols\n",
       "0.154583   NaN\n",
       "0.234922   NaN\n",
       "0.257905   NaN\n",
       "0.527757   NaN\n",
       "Name: Media, dtype: float64"
      ]
     },
     "execution_count": 89,
     "metadata": {},
     "output_type": "execute_result"
    }
   ],
   "source": [
    "y_points"
   ]
  },
  {
   "cell_type": "code",
   "execution_count": 81,
   "metadata": {},
   "outputs": [],
   "source": [
    "y_points = y_points[np.sort(x_points)]\n",
    "x_points = np.sort(x_points)"
   ]
  },
  {
   "cell_type": "code",
   "execution_count": 90,
   "metadata": {},
   "outputs": [
    {
     "data": {
      "text/plain": [
       "[<matplotlib.lines.Line2D at 0x11eba6550>]"
      ]
     },
     "execution_count": 90,
     "metadata": {},
     "output_type": "execute_result"
    },
    {
     "data": {
      "image/png": "[encoded data removed]",
      "text/plain": [
       "<Figure size 432x288 with 1 Axes>"
      ]
     },
     "metadata": {
      "needs_background": "light"
     },
     "output_type": "display_data"
    }
   ],
   "source": [
    "x_points =  resumen_anual['Volatilidad']\n",
    "y_points = resumen_anual['Media']\n",
    "plt.figure()\n",
    "plt.plot(x_points, y_points, '*')\n",
    "plt.xlabel('Volatilidad')\n",
    "plt.ylabel('Rendimiento_Esperado')\n",
    "plt.text(resumen_anual.loc['^GSPC','Volatilidad'],resumen_anual.loc['^GSPC','Media'], '^GSPC')\n",
    "plt.text(resumen_anual.loc['WBA','Volatilidad'],resumen_anual.loc['WBA','Media'], 'WBA')\n",
    "plt.text(resumen_anual.loc['TSLA','Volatilidad'],resumen_anual.loc['TSLA','Media'], 'TSLA')\n",
    "plt.text(resumen_anual.loc['MSFT','Volatilidad'],resumen_anual.loc['MSFT','Media'], 'MSFT')\n",
    "plt.plot(x_points, beta[0] + beta[1] * x_points)"
   ]
  },
  {
   "cell_type": "markdown",
   "metadata": {},
   "source": [
    "Como lo podemos ver en las gráficas, cuando esperamos mayores rendimientos, la volatilidad tambien aumenta, por lo que asumimos un riesgo mayor. Por el contrario, cuando esperamos rendimientos pequeños tambien asumimos riesgos más pequeños. \n",
    "La pendiente de la recta es positiva debido a la relación que hay entre el rendimiento esperado y el riesgo."
   ]
  },
  {
   "cell_type": "markdown",
   "metadata": {},
   "source": [
    "<script>\n",
    "  $(document).ready(function(){\n",
    "    $('div.prompt').hide();\n",
    "    $('div.back-to-top').hide();\n",
    "    $('nav#menubar').hide();\n",
    "    $('.breadcrumb').hide();\n",
    "    $('.hidden-print').hide();\n",
    "  });\n",
    "</script>\n",
    "\n",
    "<footer id=\"attribution\" style=\"float:right; color:#808080; background:#fff;\">\n",
    "Created with Jupyter by Esteban Jiménez Rodríguez.\n",
    "</footer>"
   ]
  }
 ],
 "metadata": {
  "kernelspec": {
   "display_name": "Python 3",
   "language": "python",
   "name": "python3"
  },
  "language_info": {
   "codemirror_mode": {
    "name": "ipython",
    "version": 3
   },
   "file_extension": ".py",
   "mimetype": "text/x-python",
   "name": "python",
   "nbconvert_exporter": "python",
   "pygments_lexer": "ipython3",
   "version": "3.6.5"
  }
 },
 "nbformat": 4,
 "nbformat_minor": 2
}
