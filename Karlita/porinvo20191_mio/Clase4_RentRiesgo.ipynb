{
 "cells": [
  {
   "cell_type": "markdown",
   "metadata": {},
   "source": [
    "# Rendimiento vs. Riesgo. ¿Cómo medirlos?\n",
    "\n",
    "<img style=\"float: left; margin: 15px 15px 15px 15px;\" src=\"http://www.creative-commons-images.com/clipboard/images/return-on-investment.jpg\" width=\"300\" height=\"100\" />\n",
    "<img style=\"float: right; margin: 15px 15px 15px 15px;\" src=\"https://upload.wikimedia.org/wikipedia/commons/5/5a/Risk-dice-example.jpg\" title=\"github\" width=\"300\" height=\"100\" />"
   ]
  },
  {
   "cell_type": "markdown",
   "metadata": {},
   "source": [
    "# Necesito definir con ustedes un horario para reposición de clases."
   ]
  },
  {
   "cell_type": "markdown",
   "metadata": {},
   "source": [
    "> En mercados competitivos, **rendimientos esperados** más altos solo se dan a un precio: necesitas asumir un **riesgo** mayor.\n",
    "\n",
    "*Objetivos:*\n",
    "- Recordar elementos básicos de probabilidad.\n",
    "- Entender el equilibrio entre rendimiento y riesgo.\n",
    "- Entender el concepto de riesgo.\n",
    "- Desarrollar medidas cuantitativas de rendimiento y riesgo para activos.\n",
    "\n",
    "Referencia general:\n",
    "Notas del curso \"Portfolio Selection and Risk Management\", Rice University, disponible en Coursera.\n",
    "___"
   ]
  },
  {
   "cell_type": "markdown",
   "metadata": {},
   "source": [
    "## 0. Antes de empezar... recorderis de probabilidad\n",
    "\n",
    "### 0.1. Variables aleatorias\n",
    "En teoría de probabilidad, una variable aleatoria (cantidad aleatoria o variable estocástica) es una variable cuyos posibles valores dependen del resultado de un fenómeno aleatorio.\n",
    "\n",
    "Es común que dichos resultados dependan de ciertas variables físicas (o económicas) que no están del todo entendidas o conocidas. Por ejemplo, cuando se tira una moneda justa, el resultado final de cara o sello depende de ciertas cantidades físicas con incertidumbre.\n",
    "\n",
    "Referencia: https://en.wikipedia.org/wiki/Probability_theory"
   ]
  },
  {
   "cell_type": "markdown",
   "metadata": {},
   "source": [
    "En mercados financieros, los precios de las acciones responden a como el mercado agrega información (ese proceso depende de la calidad del mercado). Incluso, aunque ese proceso sea conocido, hay eventos que no podemos anticipar. De modo que los precios y rendimientos de los instrumentos los tratamos como variables aleatorias."
   ]
  },
  {
   "cell_type": "markdown",
   "metadata": {},
   "source": [
    "### 0.2. Función discreta de probabilidad\n",
    "Consideramos un conjunto finito (o contable) $\\Omega$ de todos los posibles resultados (o realizaciones) de una variable aleatoria $X$. Entonces a cada elemento en $x\\in\\Omega$ se le asocia una probabilidad intrínseca $P(X=x)$ que satisface:\n",
    "\n",
    "1. $0\\leq P(X=x)\\leq1$ para cada $x\\in\\Omega$,\n",
    "2. $\\sum_{x\\in\\Omega} P(X=x)=1$.\n",
    "\n",
    "Referencia: https://en.wikipedia.org/wiki/Probability_theory"
   ]
  },
  {
   "cell_type": "markdown",
   "metadata": {},
   "source": [
    "Para nuestros fines, el conjunto $\\Omega$ lo estimaremos con un conjunto finito de la forma $\\Omega=\\left\\lbrace x_j\\,:\\,j=1,\\dots,m\\right\\rbrace$. Entonces, la segunda condición se puede escribir como\n",
    "\n",
    "$$\\sum_{j=1}^m P(X=x_j)=1.$$\n",
    "\n",
    "Equivalentemente, si definimos $p_j=P(X=x_j)$\n",
    "\n",
    "$$\\sum_{j=1}^m p_j=1.$$"
   ]
  },
  {
   "cell_type": "markdown",
   "metadata": {},
   "source": [
    "### 0.3. Valor esperado\n",
    "\n",
    "<img style=\"float: left; margin: 0px 15px 15px 15px;\" src=\"https://upload.wikimedia.org/wikipedia/commons/f/f9/Largenumbers.svg\" width=\"400\" height=\"200\" />\n",
    "\n",
    "El valor esperado de una variable aleatoria es, intuitivamente, el valor promedio a largo plazo de las repeticiones del experimento que representa. Informalmente, la ley de los grandes números afirma que la media aritmética de los resultados de un experimento aleatorio converge al valor esperado cuando el número de repeticiones tiende a infinito. *Ver ejemplo del dado*.\n",
    "\n",
    "Para una variable aleatoria discreta $X$\n",
    "\n",
    "$$E[X]=\\sum_{x\\in\\Omega} xP(X=x).$$"
   ]
  },
  {
   "cell_type": "markdown",
   "metadata": {},
   "source": [
    "En el caso finito\n",
    "\n",
    "$$E[X]=\\sum_{j=1}^{m} p_jx_j.$$"
   ]
  },
  {
   "cell_type": "markdown",
   "metadata": {},
   "source": [
    "### 0.4. Varianza\n",
    "\n",
    "<img style=\"float: right; margin: 0px 15px 15px 15px;\" src=\"https://upload.wikimedia.org/wikipedia/commons/f/f9/Comparison_standard_deviations.svg\" width=\"400\" height=\"200\" />\n",
    "\n",
    "La varianza es el valor esperado de la desviación al cuadrado de una variable aleatoria de su media. Informalmente, mide que tan dispersos (lejos) están los datos de su valor esperado. La desviación estándar es la raiz cuadrada de la varianza.\n",
    "\n",
    "Para una variable aleatoria discreta $X$\n",
    "\n",
    "$$Var(X)=\\sigma_X^2=E[(X-E[X])^2]=\\sum_{x\\in\\Omega} P(X=x)(x-E[X])^2.$$"
   ]
  },
  {
   "cell_type": "markdown",
   "metadata": {},
   "source": [
    "En el caso finito\n",
    "\n",
    "$$\\sigma_X^2=\\sum_{j=1}^{m} p_j(x_j-E[X])^2.$$\n",
    "___"
   ]
  },
  {
   "cell_type": "markdown",
   "metadata": {},
   "source": [
    "## 1. Introducción"
   ]
  },
  {
   "cell_type": "markdown",
   "metadata": {},
   "source": [
    "### 1.1. Compensación rendimiento/riesgo\n",
    "- Cuando se realiza una inversión, pobablemente se anticipan ciertos rendimientos (esperados) futuros. \n",
    "- Sin embargo, dichos rendimientos futuros no pueden ser predichos con precisión.\n",
    "- Siempre hay cierto riesgo asociado.\n",
    "- El rendimiento real casi siempre se desviará de lo que inicialmente se esperaba al inicio del periodo de inversión."
   ]
  },
  {
   "cell_type": "markdown",
   "metadata": {},
   "source": [
    "**Ejemplo:** \n",
    "<img style=\"float: right; margin: 15px 15px 15px 15px;\" src=\"https://upload.wikimedia.org/wikipedia/commons/7/7e/S_and_P_500_chart_1950_to_2016_with_averages.png\" title=\"github\" width=\"300\" height=\"100\" />\n",
    "- ¿Qué es el índice S&P500?\n",
    "- En su peor año, el índice S&P500 cayó un 46% (1926).\n",
    "- En el 2010, el índice subió un 55%.\n",
    "\n",
    "Los inversionistas nunca anticiparon estos resultados extremos cuando realizaron sus inversiones en estos periodos."
   ]
  },
  {
   "cell_type": "markdown",
   "metadata": {},
   "source": [
    "- Obviamente, todos nosotros preferimos los rendimientos esperados de inversión más altos posibles."
   ]
  },
  {
   "cell_type": "markdown",
   "metadata": {},
   "source": [
    "- En economía no hay torta gratis. Si deseamos renimientos esperados más altos, nos sometemos a un nivel de riesgo más alto. ¿Porqué? Intuitivamente:\n",
    " - Si pudiéramos obtener más rendimiento sin riesgo extra en un activo: todo el mundo compraría este activo, el precio aumentaría y el rendimiento caería.\n",
    " - Si los rendimientos no estuvieran correlacionados con el riesgo,todo el mundo vendería activos con riesgo: ¿para qué tener activos riesgosos si los rendimientos no están relacionados con el riesgo? mejor tener activos con el mismo rendimiento y sin riesgo."
   ]
  },
  {
   "cell_type": "markdown",
   "metadata": {},
   "source": [
    "**Conclusión: hay una compensación de equilibrio entre rendimiento y riesgo.**"
   ]
  },
  {
   "cell_type": "markdown",
   "metadata": {},
   "source": [
    "### 1.2. Concepto de riesgo\n",
    "\n",
    "<img style=\"float: left; margin: 0px 15px 15px 15px;\" src=\"https://upload.wikimedia.org/wikipedia/commons/0/09/Playing-risk-venezuela.JPG\" title=\"github\" width=\"300\" height=\"100\" />\n",
    "\n",
    "Hasta acá todo bien, pero, ¿qué es **riesgo**?, ¿cómo se mide?\n",
    "\n",
    "- Riesgo significa que en realidad no sabemos qué es lo que va a pasar (incertidumbre).\n",
    "- \"Más cosas pueden pasar de las que pasarán en realidad\".\n",
    "- Existen varias posibilidades pero no sabemos cuál será el resultado."
   ]
  },
  {
   "cell_type": "markdown",
   "metadata": {},
   "source": [
    "Instintivamente, asociamos riesgo con peligro. Sin embargo, solo porque más cosas pueden pasar de las que pasarán, no significa que cosas malas pasarán: el resultado puede ser mejor de lo que inicialmente esperamos.\n",
    "\n",
    "- Piensen en la expresión \"me arriesgué\"."
   ]
  },
  {
   "cell_type": "markdown",
   "metadata": {},
   "source": [
    "- Ahora, de acuerdo a lo anterior, ¿cómo podríamos cuantificar el riesgo?\n",
    "- Debe tener relación con la *dispersión* de los rendimientos de un activo (fluctuación).\n",
    "- Esta es una parte de la historia; cuando combinamos activos en un portafolio, también debemos pensar cómo los rendimientos de los activos se mueven en relación a los demás.\n",
    "___"
   ]
  },
  {
   "cell_type": "markdown",
   "metadata": {},
   "source": [
    "## 2. Midiendo el rendimiento"
   ]
  },
  {
   "cell_type": "markdown",
   "metadata": {},
   "source": [
    "### 2.1. Rendimiento medio geométrico\n",
    "\n",
    "El **rendimiento** que se obtiene al invertir en un activo sobre un periodo se puede calcular directamente."
   ]
  },
  {
   "cell_type": "markdown",
   "metadata": {},
   "source": [
    "**Ejemplo:** \n",
    "- Suponga que usted invierte en un fondo de acciones. Cada acción se vende actualmente en $\\$100$. \n",
    "- Suponga que su horizonte de inversión es de un año. Si el precio de la acciónal final del año es $\\$110$ y los dividendos en el año son $\\$5$, ¿cuál es su rendimiento en el periodo de tenencia?"
   ]
  },
  {
   "cell_type": "markdown",
   "metadata": {},
   "source": [
    "**Ejemplo:** suponga que tiene una serie de rendimientos anuales para el índice S&P500"
   ]
  },
  {
   "cell_type": "code",
   "execution_count": 1,
   "metadata": {},
   "outputs": [],
   "source": [
    "# Importamos la librería pandas\n",
    "import pandas as pd"
   ]
  },
  {
   "cell_type": "code",
   "execution_count": 10,
   "metadata": {},
   "outputs": [
    {
     "data": {
      "text/html": [
       "<div>\n",
       "<style scoped>\n",
       "    .dataframe tbody tr th:only-of-type {\n",
       "        vertical-align: middle;\n",
       "    }\n",
       "\n",
       "    .dataframe tbody tr th {\n",
       "        vertical-align: top;\n",
       "    }\n",
       "\n",
       "    .dataframe thead th {\n",
       "        text-align: right;\n",
       "    }\n",
       "</style>\n",
       "<table border=\"1\" class=\"dataframe\">\n",
       "  <thead>\n",
       "    <tr style=\"text-align: right;\">\n",
       "      <th></th>\n",
       "      <th>ret</th>\n",
       "      <th>1+ret</th>\n",
       "      <th>cumm</th>\n",
       "    </tr>\n",
       "    <tr>\n",
       "      <th>year</th>\n",
       "      <th></th>\n",
       "      <th></th>\n",
       "      <th></th>\n",
       "    </tr>\n",
       "  </thead>\n",
       "  <tbody>\n",
       "    <tr>\n",
       "      <th>1</th>\n",
       "      <td>-0.15</td>\n",
       "      <td>0.85</td>\n",
       "      <td>0.85000</td>\n",
       "    </tr>\n",
       "    <tr>\n",
       "      <th>2</th>\n",
       "      <td>-0.20</td>\n",
       "      <td>0.80</td>\n",
       "      <td>0.68000</td>\n",
       "    </tr>\n",
       "    <tr>\n",
       "      <th>3</th>\n",
       "      <td>0.30</td>\n",
       "      <td>1.30</td>\n",
       "      <td>0.88400</td>\n",
       "    </tr>\n",
       "    <tr>\n",
       "      <th>4</th>\n",
       "      <td>0.20</td>\n",
       "      <td>1.20</td>\n",
       "      <td>1.06080</td>\n",
       "    </tr>\n",
       "    <tr>\n",
       "      <th>5</th>\n",
       "      <td>0.10</td>\n",
       "      <td>1.10</td>\n",
       "      <td>1.16688</td>\n",
       "    </tr>\n",
       "  </tbody>\n",
       "</table>\n",
       "</div>"
      ],
      "text/plain": [
       "       ret  1+ret     cumm\n",
       "year                      \n",
       "1    -0.15   0.85  0.85000\n",
       "2    -0.20   0.80  0.68000\n",
       "3     0.30   1.30  0.88400\n",
       "4     0.20   1.20  1.06080\n",
       "5     0.10   1.10  1.16688"
      ]
     },
     "execution_count": 10,
     "metadata": {},
     "output_type": "execute_result"
    }
   ],
   "source": [
    "# Creamos tabla\n",
    "tabla = pd.DataFrame(columns=['ret', '1+ret', 'cumm'], index=range(1,6))\n",
    "tabla.index.name = 'year'\n",
    "tabla['ret']=[-0.15,-0.2,0.3,0.2,0.1]\n",
    "\n",
    "# Llenar celdas faltantes\n",
    "tabla['1+ret']=tabla['ret']+1\n",
    "tabla['cumm']=tabla['1+ret'].cumprod()\n",
    "tabla"
   ]
  },
  {
   "cell_type": "code",
   "execution_count": 11,
   "metadata": {},
   "outputs": [
    {
     "data": {
      "text/plain": [
       "<bound method Series.std of year\n",
       "1    0.85000\n",
       "2    0.68000\n",
       "3    0.88400\n",
       "4    1.06080\n",
       "5    1.16688\n",
       "Name: cumm, dtype: float64>"
      ]
     },
     "execution_count": 11,
     "metadata": {},
     "output_type": "execute_result"
    }
   ],
   "source": [
    "tabla['cumm'].std"
   ]
  },
  {
   "cell_type": "markdown",
   "metadata": {},
   "source": [
    "1. ¿Cuál es el rendimiento en el periodo de tenencia de los cinco años?\n",
    "\n",
    "2. ¿Cuál es el rendimiento promedio anual a través de los cinco años?"
   ]
  },
  {
   "cell_type": "code",
   "execution_count": 12,
   "metadata": {},
   "outputs": [
    {
     "data": {
      "text/plain": [
       "<bound method Series.std of year\n",
       "1   -0.15\n",
       "2   -0.20\n",
       "3    0.30\n",
       "4    0.20\n",
       "5    0.10\n",
       "Name: ret, dtype: float64>"
      ]
     },
     "execution_count": 12,
     "metadata": {},
     "output_type": "execute_result"
    }
   ],
   "source": [
    "tabla['ret'].std"
   ]
  },
  {
   "cell_type": "code",
   "execution_count": 13,
   "metadata": {},
   "outputs": [
    {
     "ename": "NameError",
     "evalue": "name 'ret' is not defined",
     "output_type": "error",
     "traceback": [
      "\u001b[0;31m---------------------------------------------------------------------------\u001b[0m",
      "\u001b[0;31mNameError\u001b[0m                                 Traceback (most recent call last)",
      "\u001b[0;32m<ipython-input-13-b0665a354625>\u001b[0m in \u001b[0;36m<module>\u001b[0;34m()\u001b[0m\n\u001b[0;32m----> 1\u001b[0;31m ret_summary = pd.DataFrame(tabla={'Mean':ret.mean(),\n\u001b[0m\u001b[1;32m      2\u001b[0m                                  'Volatility':ret.std()},index=ret.columns)\n\u001b[1;32m      3\u001b[0m \u001b[0mret_summary\u001b[0m\u001b[0;34m\u001b[0m\u001b[0m\n",
      "\u001b[0;31mNameError\u001b[0m: name 'ret' is not defined"
     ]
    }
   ],
   "source": [
    "ret_summary = pd.DataFrame(tabla={'Mean':ret.mean(),\n",
    "                                 'Volatility':ret.std()},index=ret.columns)\n",
    "ret_summary"
   ]
  },
  {
   "cell_type": "code",
   "execution_count": 50,
   "metadata": {},
   "outputs": [
    {
     "data": {
      "text/plain": [
       "0.16688000000000036"
      ]
     },
     "execution_count": 50,
     "metadata": {},
     "output_type": "execute_result"
    }
   ],
   "source": [
    "# Respuesta a la pregunta 1\n",
    "r05 = tabla.iloc[-1,-1]-1\n",
    "r05"
   ]
  },
  {
   "cell_type": "code",
   "execution_count": 51,
   "metadata": {},
   "outputs": [
    {
     "data": {
      "text/plain": [
       "0.0313480202103642"
      ]
     },
     "execution_count": 51,
     "metadata": {},
     "output_type": "execute_result"
    }
   ],
   "source": [
    "# Respuesta a la pregunta 2\n",
    "rg = tabla.iloc[-1,-1]**(1/5)-1\n",
    "rg"
   ]
  },
  {
   "cell_type": "markdown",
   "metadata": {},
   "source": [
    "En general, el **rendimiento medio geométrico** $\\bar{r}_g$ satisface\n",
    "\n",
    "$$(1+\\bar{r}_g)^T=\\prod_{i=1}^{T}(1+r_i),$$\n",
    "\n",
    "o equivalentemente\n",
    "\n",
    "$$\\bar{r}_g=\\left[\\prod_{i=1}^{T}(1+r_i)\\right]^{1/T}-1.$$"
   ]
  },
  {
   "cell_type": "markdown",
   "metadata": {},
   "source": [
    "### 2.2. Rendimiento medio aritmético\n",
    "\n",
    "Si pudiéramos obtener escenarios probables para la economía, asociados con ciertas probabilidades, podríamos calcular el **rendimiento esperado** como el promedio ponderado (valor esperado) por probabilidad de los posibles resultados.\n",
    "\n",
    "Esto es\n",
    "\n",
    "$$E[r]=\\sum_{j=1}^{m}p_jr_j,$$\n",
    "\n",
    "donde $r_j$ para $j=1,2,\\dots,m$ son los posibles rendimientos y $p_j$ es la probabilidad asociada a que ocurra el rendimiento $r_j$."
   ]
  },
  {
   "cell_type": "markdown",
   "metadata": {},
   "source": [
    "**Ejemplo:**\n",
    "- Suponga que usted invierte en un fondo de acciones. Cada acción se vende actualmente en \\$100.\n",
    "- Suponga que hay cuatro posibles estados futuros de la economía, los cuales se resumen en la siguiente tabla"
   ]
  },
  {
   "cell_type": "code",
   "execution_count": 17,
   "metadata": {},
   "outputs": [
    {
     "data": {
      "text/html": [
       "<div>\n",
       "<style scoped>\n",
       "    .dataframe tbody tr th:only-of-type {\n",
       "        vertical-align: middle;\n",
       "    }\n",
       "\n",
       "    .dataframe tbody tr th {\n",
       "        vertical-align: top;\n",
       "    }\n",
       "\n",
       "    .dataframe thead th {\n",
       "        text-align: right;\n",
       "    }\n",
       "</style>\n",
       "<table border=\"1\" class=\"dataframe\">\n",
       "  <thead>\n",
       "    <tr style=\"text-align: right;\">\n",
       "      <th></th>\n",
       "      <th>prob</th>\n",
       "      <th>price</th>\n",
       "      <th>div</th>\n",
       "      <th>ret</th>\n",
       "    </tr>\n",
       "    <tr>\n",
       "      <th>state</th>\n",
       "      <th></th>\n",
       "      <th></th>\n",
       "      <th></th>\n",
       "      <th></th>\n",
       "    </tr>\n",
       "  </thead>\n",
       "  <tbody>\n",
       "    <tr>\n",
       "      <th>excellent</th>\n",
       "      <td>0.25</td>\n",
       "      <td>126.50</td>\n",
       "      <td>4.5</td>\n",
       "      <td>0.3100</td>\n",
       "    </tr>\n",
       "    <tr>\n",
       "      <th>good</th>\n",
       "      <td>0.45</td>\n",
       "      <td>110.00</td>\n",
       "      <td>4.0</td>\n",
       "      <td>0.1400</td>\n",
       "    </tr>\n",
       "    <tr>\n",
       "      <th>poor</th>\n",
       "      <td>0.25</td>\n",
       "      <td>89.75</td>\n",
       "      <td>3.5</td>\n",
       "      <td>-0.0675</td>\n",
       "    </tr>\n",
       "    <tr>\n",
       "      <th>crash</th>\n",
       "      <td>0.05</td>\n",
       "      <td>46.00</td>\n",
       "      <td>2.0</td>\n",
       "      <td>-0.5200</td>\n",
       "    </tr>\n",
       "  </tbody>\n",
       "</table>\n",
       "</div>"
      ],
      "text/plain": [
       "           prob   price  div     ret\n",
       "state                               \n",
       "excellent  0.25  126.50  4.5  0.3100\n",
       "good       0.45  110.00  4.0  0.1400\n",
       "poor       0.25   89.75  3.5 -0.0675\n",
       "crash      0.05   46.00  2.0 -0.5200"
      ]
     },
     "execution_count": 17,
     "metadata": {},
     "output_type": "execute_result"
    }
   ],
   "source": [
    "# Creamos tabla\n",
    "tabla2 = pd.DataFrame(columns=['prob', 'price', 'div', 'ret'], index=['excellent', 'good', 'poor', 'crash'])\n",
    "tabla2.index.name = 'state'\n",
    "tabla2['prob']=[0.25,0.45,0.25,0.05]\n",
    "tabla2['price']=[126.50,110.00,89.75,46.00]\n",
    "tabla2['div']=[4.50,4.00,3.50,2.00]\n",
    "# Llenar celdas faltantes\n",
    "tabla2['ret']=(tabla2['price']+tabla2['div']-100)/100\n",
    "tabla2"
   ]
  },
  {
   "cell_type": "markdown",
   "metadata": {},
   "source": [
    "Calcular el rendimiento esperado"
   ]
  },
  {
   "cell_type": "code",
   "execution_count": 18,
   "metadata": {},
   "outputs": [
    {
     "data": {
      "text/plain": [
       "0.09762500000000002"
      ]
     },
     "execution_count": 18,
     "metadata": {},
     "output_type": "execute_result"
    }
   ],
   "source": [
    "(tabla2['prob']*tabla2['ret']).sum()"
   ]
  },
  {
   "cell_type": "markdown",
   "metadata": {},
   "source": [
    "**Ejemplo:** para la serie de rendimientos anuales para el índice S&P500, podríamos considerar cada uno de los rendimientos observados como posibles resultados igualmente probables..."
   ]
  },
  {
   "cell_type": "code",
   "execution_count": 35,
   "metadata": {},
   "outputs": [
    {
     "data": {
      "text/html": [
       "<div>\n",
       "<style scoped>\n",
       "    .dataframe tbody tr th:only-of-type {\n",
       "        vertical-align: middle;\n",
       "    }\n",
       "\n",
       "    .dataframe tbody tr th {\n",
       "        vertical-align: top;\n",
       "    }\n",
       "\n",
       "    .dataframe thead th {\n",
       "        text-align: right;\n",
       "    }\n",
       "</style>\n",
       "<table border=\"1\" class=\"dataframe\">\n",
       "  <thead>\n",
       "    <tr style=\"text-align: right;\">\n",
       "      <th></th>\n",
       "      <th>ret</th>\n",
       "      <th>1+ret</th>\n",
       "      <th>cumm</th>\n",
       "    </tr>\n",
       "    <tr>\n",
       "      <th>year</th>\n",
       "      <th></th>\n",
       "      <th></th>\n",
       "      <th></th>\n",
       "    </tr>\n",
       "  </thead>\n",
       "  <tbody>\n",
       "    <tr>\n",
       "      <th>1</th>\n",
       "      <td>-0.1</td>\n",
       "      <td>0.9</td>\n",
       "      <td>0.900</td>\n",
       "    </tr>\n",
       "    <tr>\n",
       "      <th>2</th>\n",
       "      <td>0.2</td>\n",
       "      <td>1.2</td>\n",
       "      <td>1.080</td>\n",
       "    </tr>\n",
       "    <tr>\n",
       "      <th>3</th>\n",
       "      <td>0.3</td>\n",
       "      <td>1.3</td>\n",
       "      <td>1.404</td>\n",
       "    </tr>\n",
       "  </tbody>\n",
       "</table>\n",
       "</div>"
      ],
      "text/plain": [
       "      ret  1+ret   cumm\n",
       "year                   \n",
       "1    -0.1    0.9  0.900\n",
       "2     0.2    1.2  1.080\n",
       "3     0.3    1.3  1.404"
      ]
     },
     "execution_count": 35,
     "metadata": {},
     "output_type": "execute_result"
    }
   ],
   "source": [
    "tabla"
   ]
  },
  {
   "cell_type": "markdown",
   "metadata": {},
   "source": [
    "Entonces el rendimiento esperado se obtiene simplemente como el promedio aritmético de los rendimientos"
   ]
  },
  {
   "cell_type": "code",
   "execution_count": 36,
   "metadata": {},
   "outputs": [
    {
     "data": {
      "text/plain": [
       "0.13333333333333333"
      ]
     },
     "execution_count": 36,
     "metadata": {},
     "output_type": "execute_result"
    }
   ],
   "source": [
    "Er=tabla['ret'].sum()/len(tabla)\n",
    "Er"
   ]
  },
  {
   "cell_type": "code",
   "execution_count": 40,
   "metadata": {},
   "outputs": [
    {
     "data": {
      "text/plain": [
       "0.13333333333333333"
      ]
     },
     "execution_count": 40,
     "metadata": {},
     "output_type": "execute_result"
    }
   ],
   "source": [
    "Er=tabla['ret'].mean()\n",
    "Er"
   ]
  },
  {
   "cell_type": "markdown",
   "metadata": {},
   "source": [
    "Primer momento alrededor del cero es la media o valor esperado de la variable aleatoria. La media de una variable aleatoria se considera como una cantidad numérica alrededor de la cual los valores de la variable aleatoria tienden a agruparse. Por lo tanto, la media es una medida de tendencia central.\n",
    "\n",
    "**Conclusión: los rendimientos esperados están relacionados con la media (valor esperado) o primer momento alrededor del cero. **"
   ]
  },
  {
   "cell_type": "markdown",
   "metadata": {},
   "source": [
    "### 2.3. Ejercicios\n",
    "\n",
    "En esta sección se dejarán algunos ejercicios para ustedes. Si alcanza el tiempo, se harán en clase."
   ]
  },
  {
   "cell_type": "markdown",
   "metadata": {},
   "source": [
    "**Ejercicio.** Considere el siguiente reporte de rendimientos de cierta acción en los últimos tres años"
   ]
  },
  {
   "cell_type": "markdown",
   "metadata": {},
   "source": [
    "| Año | Rendimiento |\n",
    "| --- | ----------- |\n",
    "| 1   | -0.10       |\n",
    "| 2   | 0.20        |\n",
    "| 3   | 0.30        |"
   ]
  },
  {
   "cell_type": "markdown",
   "metadata": {},
   "source": [
    "- Calcular el rendimiento medio geométrico. ¿Cuál es su significado?\n",
    "- Calcular el rendimiento medio aritmético. ¿Cuál es su significado?"
   ]
  },
  {
   "cell_type": "code",
   "execution_count": 7,
   "metadata": {},
   "outputs": [],
   "source": [
    "# importamos pandas\n",
    "import pandas as pd"
   ]
  },
  {
   "cell_type": "code",
   "execution_count": 8,
   "metadata": {},
   "outputs": [],
   "source": [
    "# Creamos data frame\n"
   ]
  },
  {
   "cell_type": "code",
   "execution_count": 9,
   "metadata": {},
   "outputs": [],
   "source": [
    "# rendimiento medio geometrico\n"
   ]
  },
  {
   "cell_type": "code",
   "execution_count": 10,
   "metadata": {},
   "outputs": [],
   "source": [
    "# rendimiento medio aritmetico\n"
   ]
  },
  {
   "cell_type": "markdown",
   "metadata": {},
   "source": [
    "## 3. Midiendo el riesgo"
   ]
  },
  {
   "cell_type": "markdown",
   "metadata": {},
   "source": [
    "### 3.1. La volatilidad como medida de riesgo\n",
    "Dado que el riesgo está estrechamente relacionado con *cuánto no sabemos* acerca de lo que va a pasar, lo podemos cantificar con alguna medida de dispersión de la variable aleatoria de rendimientos."
   ]
  },
  {
   "cell_type": "markdown",
   "metadata": {},
   "source": [
    "**Ejemplo:** \n",
    "- Tiramos una moneda que no está cargada. \n",
    "- Definimos la variable aleatoria $X$, la cual toma el valor de $+1$ cuando la moneda cae cara y el valor de $-1$ cuando cae sello. \n",
    "- Como la moneda no está cargada, los eventos tienen igual probabilidad $P(X=1)=P(X=-1)=0.5$.\n",
    "\n",
    "El valor esperado de la variable aleatoria $X$ es:\n",
    "\n",
    "$$E[X]=0.5\\times(+1)+0.5\\times(-1)=0.$$\n",
    "\n",
    "Aunque el resultado real nunca va a ser cero, el resultado esperado es cero. *Necesitamos otra medida adicional para describir la distribución*."
   ]
  },
  {
   "cell_type": "markdown",
   "metadata": {},
   "source": [
    "**Ejemplo:**\n",
    "- Suponga que cada acción de la compañía XYZ en $t=0$ cuestan \\$100.\n",
    "- Existen tres posibilidades para el precio de una acción de XYZ en $t=1$:\n",
    " - El precio subirá a \\$140 (probabilidad del 25%)\n",
    " - El precio subirá a \\$110 (probabilidad del 50%)\n",
    " - El precio bajará a \\$80 (probabilidad del 25%)"
   ]
  },
  {
   "cell_type": "markdown",
   "metadata": {},
   "source": [
    "Entonces, ¿cómo describimos una distribución de rendimiento?\n",
    "1. Tendencia central:\n",
    " - Usaremos el valor esperado de los rendimientos como su tendencia central (ya vimos porqué).\n",
    "2. Medida de dispersión:\n",
    " - Usaremos la desviación estándar (volatilidad) o varianza como medida de dispersión para las distribuciones de rendimiento..."
   ]
  },
  {
   "cell_type": "markdown",
   "metadata": {},
   "source": [
    "En el ejemplo anterior"
   ]
  },
  {
   "cell_type": "code",
   "execution_count": 22,
   "metadata": {},
   "outputs": [
    {
     "data": {
      "text/html": [
       "<div>\n",
       "<style scoped>\n",
       "    .dataframe tbody tr th:only-of-type {\n",
       "        vertical-align: middle;\n",
       "    }\n",
       "\n",
       "    .dataframe tbody tr th {\n",
       "        vertical-align: top;\n",
       "    }\n",
       "\n",
       "    .dataframe thead th {\n",
       "        text-align: right;\n",
       "    }\n",
       "</style>\n",
       "<table border=\"1\" class=\"dataframe\">\n",
       "  <thead>\n",
       "    <tr style=\"text-align: right;\">\n",
       "      <th></th>\n",
       "      <th>Prob</th>\n",
       "      <th>Precio</th>\n",
       "      <th>Rend</th>\n",
       "    </tr>\n",
       "  </thead>\n",
       "  <tbody>\n",
       "    <tr>\n",
       "      <th>1</th>\n",
       "      <td>0.25</td>\n",
       "      <td>140</td>\n",
       "      <td>0.4</td>\n",
       "    </tr>\n",
       "    <tr>\n",
       "      <th>2</th>\n",
       "      <td>0.50</td>\n",
       "      <td>110</td>\n",
       "      <td>0.1</td>\n",
       "    </tr>\n",
       "    <tr>\n",
       "      <th>3</th>\n",
       "      <td>0.25</td>\n",
       "      <td>80</td>\n",
       "      <td>-0.2</td>\n",
       "    </tr>\n",
       "  </tbody>\n",
       "</table>\n",
       "</div>"
      ],
      "text/plain": [
       "   Prob  Precio  Rend\n",
       "1  0.25     140   0.4\n",
       "2  0.50     110   0.1\n",
       "3  0.25      80  -0.2"
      ]
     },
     "execution_count": 22,
     "metadata": {},
     "output_type": "execute_result"
    }
   ],
   "source": [
    "# Creamos tabla\n",
    "tabla_A=pd.DataFrame(columns=['Prob','Precio','Rend'],index=range(1,4))\n",
    "tabla_A['Prob']=[0.25,0.5,0.25]\n",
    "tabla_A['Precio']=[140,110,80]\n",
    "tabla_A['Rend']=(tabla_A['Precio']-100)/100\n",
    "tabla_A"
   ]
  },
  {
   "cell_type": "code",
   "execution_count": 52,
   "metadata": {},
   "outputs": [],
   "source": [
    "# Importamos librería numpy\n",
    "import numpy as np"
   ]
  },
  {
   "cell_type": "code",
   "execution_count": 30,
   "metadata": {},
   "outputs": [
    {
     "data": {
      "text/plain": [
       "0.10000000000000002"
      ]
     },
     "execution_count": 30,
     "metadata": {},
     "output_type": "execute_result"
    }
   ],
   "source": [
    "# Calculamos rendimiento esperado\n",
    "Er=(tabla_A['Prob']*tabla_A['Rend']).sum()\n",
    "Er"
   ]
  },
  {
   "cell_type": "code",
   "execution_count": 1,
   "metadata": {},
   "outputs": [
    {
     "ename": "NameError",
     "evalue": "name 'tabla' is not defined",
     "output_type": "error",
     "traceback": [
      "\u001b[0;31m---------------------------------------------------------------------------\u001b[0m",
      "\u001b[0;31mNameError\u001b[0m                                 Traceback (most recent call last)",
      "\u001b[0;32m<ipython-input-1-d29cc4813421>\u001b[0m in \u001b[0;36m<module>\u001b[0;34m()\u001b[0m\n\u001b[1;32m      1\u001b[0m \u001b[0;31m# Calculamos varianza\u001b[0m\u001b[0;34m\u001b[0m\u001b[0;34m\u001b[0m\u001b[0m\n\u001b[0;32m----> 2\u001b[0;31m \u001b[0msr2\u001b[0m\u001b[0;34m=\u001b[0m\u001b[0;34m(\u001b[0m\u001b[0;34m(\u001b[0m\u001b[0;34m(\u001b[0m\u001b[0mtabla\u001b[0m\u001b[0;34m[\u001b[0m\u001b[0;34m'ret'\u001b[0m\u001b[0;34m]\u001b[0m\u001b[0;34m-\u001b[0m\u001b[0mEr\u001b[0m\u001b[0;34m)\u001b[0m\u001b[0;34m**\u001b[0m\u001b[0;36m2\u001b[0m\u001b[0;34m)\u001b[0m\u001b[0;34m.\u001b[0m\u001b[0msum\u001b[0m\u001b[0;34m(\u001b[0m\u001b[0;34m)\u001b[0m\u001b[0;34m)\u001b[0m\u001b[0;34m**\u001b[0m\u001b[0;36m0.5\u001b[0m\u001b[0;34m\u001b[0m\u001b[0m\n\u001b[0m\u001b[1;32m      3\u001b[0m \u001b[0msr2\u001b[0m\u001b[0;34m\u001b[0m\u001b[0m\n",
      "\u001b[0;31mNameError\u001b[0m: name 'tabla' is not defined"
     ]
    }
   ],
   "source": [
    "# Calculamos varianza\n",
    "sr2=(((tabla['ret']-Er)**2).sum())**0.5\n",
    "sr2"
   ]
  },
  {
   "cell_type": "code",
   "execution_count": 54,
   "metadata": {},
   "outputs": [
    {
     "data": {
      "text/plain": [
       "0.47404875511092975"
      ]
     },
     "execution_count": 54,
     "metadata": {},
     "output_type": "execute_result"
    }
   ],
   "source": [
    "# Calculamos volatilidad\n",
    "sr=np.sqrt(sr2)\n",
    "sr"
   ]
  },
  {
   "cell_type": "markdown",
   "metadata": {},
   "source": [
    "**Conclusión: la varianza y la desviación estándar nos brindad una medida de riesgo (incertidumbre, dispersión, volatilidad) en las realizaciones.**"
   ]
  },
  {
   "cell_type": "markdown",
   "metadata": {},
   "source": [
    "### 3.2. Ejercicios\n",
    "\n",
    "En esta sección se dejarán algunos ejercicios para ustedes. Si alcanza el tiempo, se harán en clase."
   ]
  },
  {
   "cell_type": "markdown",
   "metadata": {},
   "source": [
    "**Ejercicio 1.** A partir del análisis de un asesor financiero, se obtuvieron los siguientes datos de rendimientos de activos de cómputo y de telecomunicaciones, relativos a posibles situaciones económicas futuras"
   ]
  },
  {
   "cell_type": "markdown",
   "metadata": {},
   "source": [
    "| Condición  económica | Rendimiento activo de cómputo | Rendimiento activo telecomunicaciones | Probabilidad |\n",
    "| -------------------- | ----------------------------- | ------------------------------------- | ------------ |\n",
    "| Declive              | -0.04                         | 0.07                                  | 0.2          |\n",
    "| Estable              | 0.02                          | 0.04                                  | 0.5          |\n",
    "| Mejora               | 0.10                          | 0.03                                  | 0.3          |"
   ]
  },
  {
   "cell_type": "markdown",
   "metadata": {},
   "source": [
    "Calcular, para cada activo, su rendimiento esperado y volatilidad."
   ]
  },
  {
   "cell_type": "code",
   "execution_count": null,
   "metadata": {
    "collapsed": true
   },
   "outputs": [],
   "source": []
  },
  {
   "cell_type": "code",
   "execution_count": null,
   "metadata": {
    "collapsed": true
   },
   "outputs": [],
   "source": []
  },
  {
   "cell_type": "code",
   "execution_count": null,
   "metadata": {
    "collapsed": true
   },
   "outputs": [],
   "source": []
  },
  {
   "cell_type": "code",
   "execution_count": null,
   "metadata": {
    "collapsed": true
   },
   "outputs": [],
   "source": []
  },
  {
   "cell_type": "code",
   "execution_count": null,
   "metadata": {
    "collapsed": true
   },
   "outputs": [],
   "source": []
  },
  {
   "cell_type": "markdown",
   "metadata": {},
   "source": [
    "**Ejercicio 2.** Con base en la siguiente distribución de rendimientos para el activo A, calcular la desviación estándar."
   ]
  },
  {
   "cell_type": "markdown",
   "metadata": {},
   "source": [
    "| Probabilidad | Rendimiento |\n",
    "| ------------ | ----------- |\n",
    "| 0.3          | 0.10        |\n",
    "| 0.4          | 0.05        |\n",
    "| 0.3          | 0.30        |"
   ]
  },
  {
   "cell_type": "code",
   "execution_count": 16,
   "metadata": {},
   "outputs": [],
   "source": [
    "# Creamos tabla\n"
   ]
  },
  {
   "cell_type": "code",
   "execution_count": null,
   "metadata": {},
   "outputs": [],
   "source": []
  },
  {
   "cell_type": "code",
   "execution_count": null,
   "metadata": {},
   "outputs": [],
   "source": []
  },
  {
   "cell_type": "markdown",
   "metadata": {},
   "source": [
    "### 3.3. Más acerca de medición de riesgo\n",
    "\n",
    "- Entonces, con lo que hemos visto hasta ahora, la distribución de rendimientos de un activo se puede describir simplemente con el rendimiento esperado y la desviación estándar.\n",
    "- Esto es porque todos los análisis en finanzas se simplifican increiblemente si podemos aproximar los rendimientos con una distribución nomal.\n",
    "\n",
    "Pero, ¿qué pasa si la distribución de rendimientos difiere significativamente de una distribución normal?"
   ]
  },
  {
   "cell_type": "markdown",
   "metadata": {},
   "source": [
    "**Ejemplo.**\n",
    "\n",
    "Referencia: Asset Management: A Systematic Approach to Factor Investing. Andrew Ang, 2014. ISBN: 9780199959327.\n",
    "\n",
    "Las siguientes gráficas presentan la riqueza acumulada de una inversión de \\$1 en el índice S&P500, y en una estrategia de volatilidad sobre el mismo índice."
   ]
  },
  {
   "cell_type": "markdown",
   "metadata": {},
   "source": [
    "![image1](figures/VolStrat_S&P500_1)"
   ]
  },
  {
   "cell_type": "markdown",
   "metadata": {},
   "source": [
    "- Una *estrategia de volatilidad* es una estrategia de inversión que recibe primas durante periodos estables, pero tiene amplias pérdidas en periodos volátiles.\n",
    "- Veamos histogramas de los rendimientos de las diferentes estrategias"
   ]
  },
  {
   "cell_type": "markdown",
   "metadata": {},
   "source": [
    "<img style=\"float: left; margin: 15px 15px 15px 15px;\" src=\"figures/VolStrat_S&P500_2\" width=\"450\" height=\"100\" />\n",
    "<img style=\"float: right; margin: 15px 15px 15px 15px;\" src=\"figures/VolStrat_S&P500_3\" width=\"450\" height=\"100\" />"
   ]
  },
  {
   "cell_type": "markdown",
   "metadata": {},
   "source": [
    "¿Diferencias notables?\n",
    "\n",
    "Se resumen los cuatro momentos para cada uno de los rendimientos en las siguientes tablas."
   ]
  },
  {
   "cell_type": "markdown",
   "metadata": {},
   "source": [
    "| Medida         | Estrategia Vol. | Índice S&P500 |\n",
    "| -------------- | ----------------| ------------- |\n",
    "| Media          | 0.099           | 0.097         |\n",
    "| Desv. Estándar | 0.152           | 0.151         |\n",
    "| Asimetría      | -8.3            | -0.6          |\n",
    "| Curtosis       | 104.4           | 4.0           |"
   ]
  },
  {
   "cell_type": "markdown",
   "metadata": {},
   "source": [
    "**Asimetría (Skewness):**\n",
    "- Una distribución normal tiene medida de asimetría de cero.\n",
    "- Cuando una distribución es asimétrica hacia la izquierda, los valores negativos extremos (lejos de la media a la izquierda) dominan y la medida es negativa.\n",
    "- Cuando una distribución es asimétrica hacia la derecha, los valores positivos extremos (lejos de la media a la derecha) dominan y la medida es positiva.\n",
    "- La volatilidad subestima el riesgo cuando hay asimetría significativa.\n",
    "\n",
    "¿Es siempre inconveniente tener asimetría?, ¿cuando sí?, ¿cuando no?"
   ]
  },
  {
   "cell_type": "markdown",
   "metadata": {},
   "source": [
    "**Curtosis (Kurtosis):**\n",
    "- Es una medida de cuán pesadas son las colas.\n",
    "- Una distribución normal tiene medida de curtosis de 3.\n",
    "- Colas pesadas implican que hay mayor probabilidad de ocurrencia de eventos extremos (lejos de la media).\n",
    "- De nuevo, la desviación estándar subestima el riesgo cuando hay curtosis significativa."
   ]
  },
  {
   "cell_type": "markdown",
   "metadata": {},
   "source": [
    "### Recapitulando...\n",
    "\n",
    "No es que la desviación estándar sólo aplique para distribuciones normales. Más bien, la volatilidad no captura bien la probabilidad de eventos extremos para distribuciones no normales.\n",
    "\n",
    "- Para rendimientos normalmente distribuidos, un rendimiento alejado $2\\sigma$ del rendimiento esperado es muy poco probable. Un rendimiento alejado $5\\sigma$ del rendimiento esperado es casi imposible que suceda.\n",
    "- Sin embargo, para ciertas estrategias de cobertura, $E[r]\\pm 2\\sigma$ es común y $E[r]\\pm 5\\sigma$ podría llegar a pasar.\n",
    "\n",
    "Entonces, la volatilidad es una buena medida de riesgo, siempre y cuando tengamos distribuciones simétricas y sin mucho riesgo de eventos extremos. En otro caso, no es una medida apropiada."
   ]
  },
  {
   "cell_type": "markdown",
   "metadata": {},
   "source": [
    "Otras medidas de riesgo que intentan capturar estos fenómenos son:\n",
    "- VaR (valor en riesgo)\n",
    "- CVaR (valor en riesgo condicional)"
   ]
  },
  {
   "cell_type": "markdown",
   "metadata": {},
   "source": [
    "# Anuncios parroquiales\n",
    "\n",
    "## 1. Recordar tarea de Markdown para hoy.\n",
    "\n",
    "## 2. Quiz la siguiente clase... ¡llegar temprano!"
   ]
  },
  {
   "cell_type": "markdown",
   "metadata": {},
   "source": [
    "<script>\n",
    "  $(document).ready(function(){\n",
    "    $('div.prompt').hide();\n",
    "    $('div.back-to-top').hide();\n",
    "    $('nav#menubar').hide();\n",
    "    $('.breadcrumb').hide();\n",
    "    $('.hidden-print').hide();\n",
    "  });\n",
    "</script>\n",
    "\n",
    "<footer id=\"attribution\" style=\"float:right; color:#808080; background:#fff;\">\n",
    "Created with Jupyter by Esteban Jiménez Rodríguez.\n",
    "</footer>"
   ]
  }
 ],
 "metadata": {
  "kernelspec": {
   "display_name": "Python 3",
   "language": "python",
   "name": "python3"
  },
  "language_info": {
   "codemirror_mode": {
    "name": "ipython",
    "version": 3
   },
   "file_extension": ".py",
   "mimetype": "text/x-python",
   "name": "python",
   "nbconvert_exporter": "python",
   "pygments_lexer": "ipython3",
   "version": "3.7.3"
  }
 },
 "nbformat": 4,
 "nbformat_minor": 2
}
